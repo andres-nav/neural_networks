{
  "nbformat": 4,
  "nbformat_minor": 0,
  "metadata": {
    "colab": {
      "provenance": []
    },
    "kernelspec": {
      "name": "python3",
      "display_name": "Python 3"
    },
    "language_info": {
      "name": "python"
    }
  },
  "cells": [
    {
      "cell_type": "markdown",
      "source": [
        "#Project 1 Neuronal networks"
      ],
      "metadata": {
        "id": "nl9pkl9szvF5"
      }
    },
    {
      "cell_type": "code",
      "source": [],
      "metadata": {
        "id": "UQntwL9Qz41o"
      },
      "execution_count": null,
      "outputs": []
    }
  ]
}