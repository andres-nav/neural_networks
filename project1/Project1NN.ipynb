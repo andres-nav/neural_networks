{
  "cells": [
    {
      "cell_type": "markdown",
      "metadata": {
        "id": "nl9pkl9szvF5"
      },
      "source": [
        "# Project 1 Neuronal networks"
      ]
    },
    {
      "cell_type": "markdown",
      "metadata": {
        "id": "cB0l6trB3cjg"
      },
      "source": [
        "## 1.- MNIST and FMINST datasets"
      ]
    },
    {
      "cell_type": "code",
      "execution_count": 2,
      "metadata": {
        "id": "60-EeB_t3aBI"
      },
      "outputs": [],
      "source": [
        "%matplotlib inline\n",
        "%config InlineBackend.figure_format = 'retina'  #To get figures with high quality!\n",
        "\n",
        "import numpy as np\n",
        "import torch\n",
        "from torch import nn\n",
        "from torch import optim\n",
        "import matplotlib.pyplot as plt"
      ]
    },
    {
      "cell_type": "code",
      "execution_count": null,
      "metadata": {},
      "outputs": [],
      "source": [
        "!pip install wandb\n",
        "import wandb # Weight & Biases library to monitor training and compare models\n",
        "wandb.login() # API key: 569de9861dbe18fe8888f13ca66e39d2b12934ff"
      ]
    },
    {
      "cell_type": "markdown",
      "metadata": {
        "id": "7N9jUVLu33o2"
      },
      "source": [
        "To obtain the MNIST dataset:"
      ]
    },
    {
      "cell_type": "code",
      "execution_count": 6,
      "metadata": {
        "id": "UQntwL9Qz41o"
      },
      "outputs": [],
      "source": [
        "### Run this cell\n",
        "\n",
        "from torchvision import datasets, transforms\n",
        "\n",
        "# Define a transform to normalize the data\n",
        "transform = transforms.Compose([transforms.ToTensor(),\n",
        "                              transforms.Normalize((0.5,), (0.5,)),\n",
        "                              ])\n",
        "\n",
        "# Download and load the training  data\n",
        "trainsetMNIST = datasets.MNIST('~/.pytorch/MNIST_data/', download=True, train=True, transform=transform)\n",
        "train_MNIST = torch.utils.data.DataLoader(trainsetMNIST, batch_size=64, shuffle=True)\n",
        "\n",
        "# Download and load the test data\n",
        "testsetMNIST = datasets.MNIST('~/.pytorch/MNIST_data/', download=True, train=False, transform=transform)\n",
        "test_MNIST = torch.utils.data.DataLoader(testsetMNIST, batch_size=64, shuffle=True)"
      ]
    },
    {
      "cell_type": "markdown",
      "metadata": {
        "id": "-veIn4g74DcK"
      },
      "source": [
        "To obtain the FMINST dataset:"
      ]
    },
    {
      "cell_type": "code",
      "execution_count": 5,
      "metadata": {
        "colab": {
          "base_uri": "https://localhost:8080/"
        },
        "id": "HAKDZ32K4uGl",
        "outputId": "97b23590-e2d5-4e26-b809-e159fcd07d9c"
      },
      "outputs": [
        {
          "name": "stdout",
          "output_type": "stream",
          "text": [
            "Downloading http://fashion-mnist.s3-website.eu-central-1.amazonaws.com/train-images-idx3-ubyte.gz\n",
            "Downloading http://fashion-mnist.s3-website.eu-central-1.amazonaws.com/train-images-idx3-ubyte.gz to /root/.pytorch/F_MNIST_data/FashionMNIST/raw/train-images-idx3-ubyte.gz\n"
          ]
        },
        {
          "name": "stderr",
          "output_type": "stream",
          "text": [
            "100%|██████████| 26421880/26421880 [00:01<00:00, 13299193.76it/s]\n"
          ]
        },
        {
          "name": "stdout",
          "output_type": "stream",
          "text": [
            "Extracting /root/.pytorch/F_MNIST_data/FashionMNIST/raw/train-images-idx3-ubyte.gz to /root/.pytorch/F_MNIST_data/FashionMNIST/raw\n",
            "\n",
            "Downloading http://fashion-mnist.s3-website.eu-central-1.amazonaws.com/train-labels-idx1-ubyte.gz\n",
            "Downloading http://fashion-mnist.s3-website.eu-central-1.amazonaws.com/train-labels-idx1-ubyte.gz to /root/.pytorch/F_MNIST_data/FashionMNIST/raw/train-labels-idx1-ubyte.gz\n"
          ]
        },
        {
          "name": "stderr",
          "output_type": "stream",
          "text": [
            "100%|██████████| 29515/29515 [00:00<00:00, 228995.77it/s]\n"
          ]
        },
        {
          "name": "stdout",
          "output_type": "stream",
          "text": [
            "Extracting /root/.pytorch/F_MNIST_data/FashionMNIST/raw/train-labels-idx1-ubyte.gz to /root/.pytorch/F_MNIST_data/FashionMNIST/raw\n",
            "\n",
            "Downloading http://fashion-mnist.s3-website.eu-central-1.amazonaws.com/t10k-images-idx3-ubyte.gz\n",
            "Downloading http://fashion-mnist.s3-website.eu-central-1.amazonaws.com/t10k-images-idx3-ubyte.gz to /root/.pytorch/F_MNIST_data/FashionMNIST/raw/t10k-images-idx3-ubyte.gz\n"
          ]
        },
        {
          "name": "stderr",
          "output_type": "stream",
          "text": [
            "100%|██████████| 4422102/4422102 [00:01<00:00, 4251159.79it/s]\n"
          ]
        },
        {
          "name": "stdout",
          "output_type": "stream",
          "text": [
            "Extracting /root/.pytorch/F_MNIST_data/FashionMNIST/raw/t10k-images-idx3-ubyte.gz to /root/.pytorch/F_MNIST_data/FashionMNIST/raw\n",
            "\n",
            "Downloading http://fashion-mnist.s3-website.eu-central-1.amazonaws.com/t10k-labels-idx1-ubyte.gz\n",
            "Downloading http://fashion-mnist.s3-website.eu-central-1.amazonaws.com/t10k-labels-idx1-ubyte.gz to /root/.pytorch/F_MNIST_data/FashionMNIST/raw/t10k-labels-idx1-ubyte.gz\n"
          ]
        },
        {
          "name": "stderr",
          "output_type": "stream",
          "text": [
            "100%|██████████| 5148/5148 [00:00<00:00, 4859841.77it/s]"
          ]
        },
        {
          "name": "stdout",
          "output_type": "stream",
          "text": [
            "Extracting /root/.pytorch/F_MNIST_data/FashionMNIST/raw/t10k-labels-idx1-ubyte.gz to /root/.pytorch/F_MNIST_data/FashionMNIST/raw\n",
            "\n"
          ]
        },
        {
          "name": "stderr",
          "output_type": "stream",
          "text": [
            "\n"
          ]
        }
      ],
      "source": [
        "\n",
        "# Download and load the training data\n",
        "trainsetFMNIST = datasets.FashionMNIST('~/.pytorch/F_MNIST_data/', download=True, train=True, transform=transform)\n",
        "train_FMNIST = torch.utils.data.DataLoader(trainsetFMNIST, batch_size=64, shuffle=True)\n",
        "\n",
        "# Download and load the test data\n",
        "testsetFMNIST = datasets.FashionMNIST('~/.pytorch/F_MNIST_data/', download=True, train=False, transform=transform)\n",
        "test_FMNIST = torch.utils.data.DataLoader(testsetFMNIST, batch_size=64, shuffle=True)"
      ]
    },
    {
      "cell_type": "code",
      "execution_count": null,
      "metadata": {},
      "outputs": [],
      "source": [
        "dataiter = iter(train_MNIST)   #To iterate through the dataset\n",
        "\n",
        "images, labels = next(dataiter)\n",
        "print(type(images))\n",
        "print(images.shape)\n",
        "print(labels.shape)\n",
        "print(torch.min(images), torch.max(images))"
      ]
    },
    {
      "cell_type": "code",
      "execution_count": null,
      "metadata": {},
      "outputs": [],
      "source": [
        "dataiter = iter(train_FMNIST)   #To iterate through the dataset\n",
        "\n",
        "images, labels = next(dataiter)\n",
        "print(type(images))\n",
        "print(images.shape)\n",
        "print(labels.shape)\n",
        "print(torch.min(images), torch.max(images))"
      ]
    },
    {
      "cell_type": "markdown",
      "metadata": {},
      "source": [
        "We can see that our images are of size 28 x 28 = 784, so the input layer is of size 784. It is important to see that the range of the values are -1,1 so for the output layer we will use the tanh."
      ]
    },
    {
      "cell_type": "markdown",
      "metadata": {},
      "source": [
        "## 3 layers at both encoder/decoder:\n"
      ]
    },
    {
      "cell_type": "code",
      "execution_count": null,
      "metadata": {},
      "outputs": [],
      "source": [
        "class autoencoder3(nn.Module):\n",
        "    def __init__(self,projected_dimension):\n",
        "        super().__init__()\n",
        "\n",
        "        # Building an linear encoder with Linear\n",
        "        # layer followed by Relu activation function\n",
        "        # 784 -> projected dimension\n",
        "        self.encoder = nn.Sequential(\n",
        "            nn.Linear(784, 300), # preguntar al profesor de que tamaño es cada layer\n",
        "            nn.ReLU(),\n",
        "            nn.Linear(300, 150),\n",
        "            nn.ReLU(),\n",
        "            nn.Linear(150, projected_dimension),\n",
        "        )\n",
        "         \n",
        "        # Building an linear decoder with Linear\n",
        "        # layer followed by Relu activation function\n",
        "        # The Sigmoid activation function\n",
        "        # outputs the value between 0 and 1\n",
        "        # projected dimension -> 784\n",
        "        self.decoder = nn.Sequential(\n",
        "            nn.Linear(projected_dimension, 150),\n",
        "            nn.ReLU(),\n",
        "            nn.Linear(150, 300),\n",
        "            nn.ReLU(),\n",
        "            nn.Linear(300, 784),\n",
        "            nn.Tanh()\n",
        "        )\n",
        " \n",
        "    def forward(self, image):\n",
        "        encoded = self.encoder(image)\n",
        "        decoded = self.decoder(encoded)\n",
        "        return decoded"
      ]
    },
    {
      "cell_type": "markdown",
      "metadata": {},
      "source": [
        "Definition of parameters of the model and Peak signal-to-noise ratio (PSNR)"
      ]
    },
    {
      "cell_type": "code",
      "execution_count": null,
      "metadata": {},
      "outputs": [],
      "source": [
        "projected_dimensions = [15,30,50,100]\n",
        "def psnr(img1, img2): #  Peak signal-to-noise ratio (PSNR)\n",
        "    mse_criterio = nn.MSELoss()\n",
        "    mse = mse_criterio(img1, img2)\n",
        "    max_pixel = 1.0  \n",
        "    psnr = 20 * torch.log10(max_pixel / torch.sqrt(mse))\n",
        "    return psnr "
      ]
    },
    {
      "cell_type": "markdown",
      "metadata": {},
      "source": [
        "Training the model"
      ]
    },
    {
      "cell_type": "code",
      "execution_count": null,
      "metadata": {},
      "outputs": [],
      "source": [
        "total_runs = 4 # To test each of the projected dimensions\n",
        "for run in range(total_runs):\n",
        "  model = autoencoder3(projected_dimensions[run]) # To initialize the model with the projected dimension\n",
        "  optimizer = optim.SGD(model.parameters(), lr = 0.01)\n",
        "  wandb.init( # Esto es para que se guarde en la plataforma de wandb y nos evitamos tener que hacerlo manualmente\n",
        "      # Set the project where this run will be logged\n",
        "      project=\"project_1\",\n",
        "      # We pass a run name (otherwise it’ll be randomly assigned, like sunshine-lollypop-10)\n",
        "      name=f\"3_layer_with_PSNR{run}\",\n",
        "      # Track hyperparameters and run metadata\n",
        "      config={\n",
        "      \"learning_rate\": 0.01,\n",
        "      \"architecture\": \"linear_autoencoder\",\n",
        "      \"dataset\": \"MNIST\",\n",
        "      \"epochs\": 10,\n",
        "      })\n",
        "\n",
        "    # Aqui es donde empieza realmente el entrenamiento\n",
        "  epochs = 10\n",
        "  outputs = []\n",
        "  for epoch in range(epochs):\n",
        "    for (img,_) in train_MNIST:\n",
        "      img = img.reshape(-1,784)\n",
        "      reconstructed = model.forward(img)\n",
        "      loss = psnr(reconstructed,img)\n",
        "\n",
        "      optimizer.zero_grad()\n",
        "      loss.backward()\n",
        "      optimizer.step()\n",
        "\n",
        "    print(\"Epoch: \", epoch + 1, \"PSNR: \", loss.item())\n",
        "    wandb.log({\"projected dimension\":projected_dimensions[run], \"PSNR\": psnr})\n",
        "    outputs.append((projected_dimensions[run],epoch,img,reconstructed))\n",
        "\n",
        "  wandb.finish()"
      ]
    },
    {
      "cell_type": "markdown",
      "metadata": {},
      "source": [
        "Visualization of reconstructed images"
      ]
    },
    {
      "cell_type": "code",
      "execution_count": null,
      "metadata": {},
      "outputs": [],
      "source": [
        "for k in range(0,epochs,4):\n",
        "  plt.figure(figsize=(9,2))\n",
        "  plt.gray()\n",
        "  imgs = outputs[k][2].detach().numpy()\n",
        "  recon = outputs[k][3].detach().numpy()\n",
        "  for i, item in enumerate(imgs):\n",
        "    if i >=9: break\n",
        "    plt.subplot(2,9,i+1)\n",
        "    item = item.reshape(-1,28,28)\n",
        "\n",
        "    plt.imshow(item[0])\n",
        "  for i, item in enumerate(recon):\n",
        "    if i >=9: break\n",
        "    plt.subplot(2,9,i+1+9)\n",
        "    item = item.reshape(-1,28,28)\n",
        "\n",
        "    plt.imshow(item[0])\n",
        "\n"
      ]
    },
    {
      "cell_type": "markdown",
      "metadata": {},
      "source": [
        "# 5 layers at both encoder/decoder:"
      ]
    },
    {
      "cell_type": "code",
      "execution_count": null,
      "metadata": {},
      "outputs": [],
      "source": [
        "class autoencoder5(nn.Module):\n",
        "    def __init__(self,projected_dimension):\n",
        "        super().__init__()\n",
        "\n",
        "        # Building an linear encoder with Linear\n",
        "        # layer followed by Relu activation function\n",
        "        # 784 -> projected dimension\n",
        "        self.encoder = nn.Sequential(\n",
        "            nn.Linear(784, 550),\n",
        "            nn.ReLU(),\n",
        "            nn.Linear(550, 400),\n",
        "            nn.ReLU(),\n",
        "            nn.Linear(400, 300),\n",
        "            nn.ReLU(),\n",
        "            nn.Linear(300,200),\n",
        "            nn.ReLU(),\n",
        "            nn.Linear(200,projected_dimension)\n",
        "        )\n",
        "         \n",
        "        # Building an linear decoder with Linear\n",
        "        # layer followed by Relu activation function\n",
        "        # The Sigmoid activation function\n",
        "        # outputs the value between 0 and 1\n",
        "        # projected dimension -> 784\n",
        "        self.decoder = nn.Sequential(\n",
        "            nn.Linear(projected_dimension, 200),\n",
        "            nn.ReLU(),\n",
        "            nn.Linear(200, 300),\n",
        "            nn.ReLU(),\n",
        "            nn.Linear(300, 400),\n",
        "            nn.ReLU(),\n",
        "            nn.Linear(400,550),\n",
        "            nn.ReLU(),\n",
        "            nn.Linear(550,784),\n",
        "            nn.Tanh()\n",
        "        )\n",
        "\n",
        " \n",
        "    def forward(self, image):\n",
        "        encoded = self.encoder(image)\n",
        "        decoded = self.decoder(encoded)\n",
        "        return decoded"
      ]
    },
    {
      "cell_type": "code",
      "execution_count": null,
      "metadata": {},
      "outputs": [],
      "source": [
        "total_runs = 4 # To test each of the projected dimensions\n",
        "for run in range(total_runs):\n",
        "  model = autoencoder5(projected_dimensions[run]) # To initialize the model with the projected dimension\n",
        "  optimizer = optim.SGD(model.parameters(), lr = 0.01)\n",
        "  wandb.init( # Esto es para que se guarde en la plataforma de wandb y nos evitamos tener que hacerlo manualmente\n",
        "      # Set the project where this run will be logged\n",
        "      project=\"project_1\", \n",
        "      # We pass a run name (otherwise it’ll be randomly assigned, like sunshine-lollypop-10)\n",
        "      name=f\"5_layer_{run}\", \n",
        "      # Track hyperparameters and run metadata\n",
        "      config={\n",
        "      \"learning_rate\": 0.01,\n",
        "      \"architecture\": \"linear_autoencoder\",\n",
        "      \"dataset\": \"MNIST\",\n",
        "      \"epochs\": 10,\n",
        "      })\n",
        "\n",
        "    # Aqui es donde empieza realmente el entrenamiento\n",
        "  epochs = 10\n",
        "  outputs = []\n",
        "  for epoch in range(epochs):\n",
        "    for (img,_) in train_MNIST:\n",
        "      img = img.reshape(-1,784) \n",
        "      reconstructed = model.forward(img)\n",
        "      loss = criterion(reconstructed,img)\n",
        "\n",
        "      optimizer.zero_grad()\n",
        "      loss.backward()\n",
        "      optimizer.step()\n",
        "\n",
        "    print(\"Epoch: \", epoch + 1, \"Loss: \", loss.item())\n",
        "    wandb.log({\"projected dimension\" :projected_dimensions[run], \"loss\": loss})\n",
        "    outputs.append((projected_dimensions[run],epoch,img,reconstructed))\n",
        "\n",
        "  wandb.finish()"
      ]
    },
    {
      "cell_type": "markdown",
      "metadata": {},
      "source": [
        "## Regularization:\n",
        "\n",
        "We will use early stop and drop out. To tune the drop out probability see: https://www.youtube.com/watch?v=9zrmUIlScdY Preguntar en clase si hay q hacer tuning del lr???"
      ]
    }
  ],
  "metadata": {
    "colab": {
      "provenance": []
    },
    "kernelspec": {
      "display_name": "Python 3",
      "name": "python3"
    },
    "language_info": {
      "name": "python"
    }
  },
  "nbformat": 4,
  "nbformat_minor": 0
}
