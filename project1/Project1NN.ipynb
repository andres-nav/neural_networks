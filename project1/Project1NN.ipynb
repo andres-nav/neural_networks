{
  "cells": [
    {
      "cell_type": "markdown",
      "metadata": {
        "id": "nl9pkl9szvF5"
      },
      "source": [
        "# Project 1 Neuronal networks"
      ]
    },
    {
      "cell_type": "markdown",
      "metadata": {
        "id": "cB0l6trB3cjg"
      },
      "source": [
        "## 1.- MNIST and FMINST datasets"
      ]
    },
    {
      "cell_type": "code",
      "execution_count": null,
      "metadata": {
        "id": "60-EeB_t3aBI"
      },
      "outputs": [],
      "source": [
        "%matplotlib inline\n",
        "%config InlineBackend.figure_format = 'retina'  #To get figures with high quality!\n",
        "\n",
        "import numpy as np\n",
        "import torch\n",
        "from torch import nn\n",
        "from torch import optim\n",
        "import matplotlib.pyplot as plt"
      ]
    },
    {
      "cell_type": "code",
      "execution_count": null,
      "metadata": {
        "colab": {
          "base_uri": "https://localhost:8080/"
        },
        "id": "TRfdBm-9yenT",
        "outputId": "b11a78df-b6bb-4fd7-8cb9-b4ce205d220f"
      },
      "outputs": [
        {
          "output_type": "stream",
          "name": "stdout",
          "text": [
            "Requirement already satisfied: wandb in /usr/local/lib/python3.10/dist-packages (0.16.4)\n",
            "Requirement already satisfied: Click!=8.0.0,>=7.1 in /usr/local/lib/python3.10/dist-packages (from wandb) (8.1.7)\n",
            "Requirement already satisfied: GitPython!=3.1.29,>=1.0.0 in /usr/local/lib/python3.10/dist-packages (from wandb) (3.1.42)\n",
            "Requirement already satisfied: requests<3,>=2.0.0 in /usr/local/lib/python3.10/dist-packages (from wandb) (2.31.0)\n",
            "Requirement already satisfied: psutil>=5.0.0 in /usr/local/lib/python3.10/dist-packages (from wandb) (5.9.5)\n",
            "Requirement already satisfied: sentry-sdk>=1.0.0 in /usr/local/lib/python3.10/dist-packages (from wandb) (1.40.6)\n",
            "Requirement already satisfied: docker-pycreds>=0.4.0 in /usr/local/lib/python3.10/dist-packages (from wandb) (0.4.0)\n",
            "Requirement already satisfied: PyYAML in /usr/local/lib/python3.10/dist-packages (from wandb) (6.0.1)\n",
            "Requirement already satisfied: setproctitle in /usr/local/lib/python3.10/dist-packages (from wandb) (1.3.3)\n",
            "Requirement already satisfied: setuptools in /usr/local/lib/python3.10/dist-packages (from wandb) (67.7.2)\n",
            "Requirement already satisfied: appdirs>=1.4.3 in /usr/local/lib/python3.10/dist-packages (from wandb) (1.4.4)\n",
            "Requirement already satisfied: protobuf!=4.21.0,<5,>=3.19.0 in /usr/local/lib/python3.10/dist-packages (from wandb) (3.20.3)\n",
            "Requirement already satisfied: six>=1.4.0 in /usr/local/lib/python3.10/dist-packages (from docker-pycreds>=0.4.0->wandb) (1.16.0)\n",
            "Requirement already satisfied: gitdb<5,>=4.0.1 in /usr/local/lib/python3.10/dist-packages (from GitPython!=3.1.29,>=1.0.0->wandb) (4.0.11)\n",
            "Requirement already satisfied: charset-normalizer<4,>=2 in /usr/local/lib/python3.10/dist-packages (from requests<3,>=2.0.0->wandb) (3.3.2)\n",
            "Requirement already satisfied: idna<4,>=2.5 in /usr/local/lib/python3.10/dist-packages (from requests<3,>=2.0.0->wandb) (3.6)\n",
            "Requirement already satisfied: urllib3<3,>=1.21.1 in /usr/local/lib/python3.10/dist-packages (from requests<3,>=2.0.0->wandb) (2.0.7)\n",
            "Requirement already satisfied: certifi>=2017.4.17 in /usr/local/lib/python3.10/dist-packages (from requests<3,>=2.0.0->wandb) (2024.2.2)\n",
            "Requirement already satisfied: smmap<6,>=3.0.1 in /usr/local/lib/python3.10/dist-packages (from gitdb<5,>=4.0.1->GitPython!=3.1.29,>=1.0.0->wandb) (5.0.1)\n"
          ]
        },
        {
          "output_type": "stream",
          "name": "stderr",
          "text": [
            "\u001b[34m\u001b[1mwandb\u001b[0m: \u001b[33mWARNING\u001b[0m Calling wandb.login() after wandb.init() has no effect.\n"
          ]
        },
        {
          "output_type": "execute_result",
          "data": {
            "text/plain": [
              "True"
            ]
          },
          "metadata": {},
          "execution_count": 49
        }
      ],
      "source": [
        "!pip install wandb\n",
        "import wandb # Weight & Biases library to monitor training and compare models\n",
        "wandb.login() # API key: 569de9861dbe18fe8888f13ca66e39d2b12934ff"
      ]
    },
    {
      "cell_type": "markdown",
      "metadata": {
        "id": "7N9jUVLu33o2"
      },
      "source": [
        "To obtain the MNIST dataset:"
      ]
    },
    {
      "cell_type": "code",
      "execution_count": null,
      "metadata": {
        "id": "UQntwL9Qz41o"
      },
      "outputs": [],
      "source": [
        "### Run this cell\n",
        "\n",
        "from torchvision import datasets, transforms\n",
        "\n",
        "# Define a transform to normalize the data\n",
        "transform = transforms.Compose([transforms.ToTensor(),\n",
        "                              transforms.Normalize((0.5,), (0.5,)),\n",
        "                              ])\n",
        "\n",
        "# Download and load the training  data\n",
        "trainsetMNIST = datasets.MNIST('~/.pytorch/MNIST_data/', download=True, train=True, transform=transform)\n",
        "train_MNIST = torch.utils.data.DataLoader(trainsetMNIST, batch_size=64, shuffle=True)\n",
        "\n",
        "# Download and load the test data\n",
        "testsetMNIST = datasets.MNIST('~/.pytorch/MNIST_data/', download=True, train=False, transform=transform)\n",
        "test_MNIST = torch.utils.data.DataLoader(testsetMNIST, batch_size=64, shuffle=True)"
      ]
    },
    {
      "cell_type": "markdown",
      "metadata": {
        "id": "-veIn4g74DcK"
      },
      "source": [
        "To obtain the FMINST dataset:"
      ]
    },
    {
      "cell_type": "code",
      "execution_count": null,
      "metadata": {
        "id": "HAKDZ32K4uGl"
      },
      "outputs": [],
      "source": [
        "\n",
        "# Download and load the training data\n",
        "trainsetFMNIST = datasets.FashionMNIST('~/.pytorch/F_MNIST_data/', download=True, train=True, transform=transform)\n",
        "train_FMNIST = torch.utils.data.DataLoader(trainsetFMNIST, batch_size=64, shuffle=True)\n",
        "\n",
        "# Download and load the test data\n",
        "testsetFMNIST = datasets.FashionMNIST('~/.pytorch/F_MNIST_data/', download=True, train=False, transform=transform)\n",
        "test_FMNIST = torch.utils.data.DataLoader(testsetFMNIST, batch_size=64, shuffle=True)"
      ]
    },
    {
      "cell_type": "code",
      "execution_count": null,
      "metadata": {
        "colab": {
          "base_uri": "https://localhost:8080/"
        },
        "id": "SkG8UcIcyenX",
        "outputId": "c94aa188-c07a-4e32-bd8a-553c5fa72d53"
      },
      "outputs": [
        {
          "output_type": "stream",
          "name": "stdout",
          "text": [
            "<class 'torch.Tensor'>\n",
            "torch.Size([64, 1, 28, 28])\n",
            "torch.Size([64])\n",
            "tensor(-1.) tensor(1.)\n"
          ]
        }
      ],
      "source": [
        "dataiter = iter(train_MNIST)   #To iterate through the dataset\n",
        "\n",
        "images, labels = next(dataiter)\n",
        "print(type(images))\n",
        "print(images.shape)\n",
        "print(labels.shape)\n",
        "print(torch.min(images), torch.max(images))"
      ]
    },
    {
      "cell_type": "code",
      "execution_count": null,
      "metadata": {
        "colab": {
          "base_uri": "https://localhost:8080/"
        },
        "id": "8A_ixSC0yenX",
        "outputId": "9b4b99cf-f6c5-493d-923a-40a158b2d36b"
      },
      "outputs": [
        {
          "output_type": "stream",
          "name": "stdout",
          "text": [
            "<class 'torch.Tensor'>\n",
            "torch.Size([64, 1, 28, 28])\n",
            "torch.Size([64])\n",
            "tensor(-1.) tensor(1.)\n"
          ]
        }
      ],
      "source": [
        "dataiter = iter(train_FMNIST)   #To iterate through the dataset\n",
        "\n",
        "images, labels = next(dataiter)\n",
        "print(type(images))\n",
        "print(images.shape)\n",
        "print(labels.shape)\n",
        "print(torch.min(images), torch.max(images))"
      ]
    },
    {
      "cell_type": "markdown",
      "metadata": {
        "id": "MLJw4fAPyenY"
      },
      "source": [
        "We can see that our images are of size 28 x 28 = 784, so the input layer is of size 784. It is important to see that the range of the values are -1,1 so for the output layer we will use the tanh.\n",
        "\n",
        "We also need to split the training data into training and validation sets."
      ]
    },
    {
      "cell_type": "code",
      "execution_count": null,
      "metadata": {
        "id": "3G3fUJkZcJuS"
      },
      "outputs": [],
      "source": [
        "import copy\n",
        "\n",
        "\n",
        "valid_MNIST = copy.deepcopy(train_MNIST)  # Creates a copy of the object\n",
        "\n",
        "#We take the first 45k images for training\n",
        "train_MNIST.dataset.data = train_MNIST.dataset.data[:45000,:,:]\n",
        "\n",
        "#And the rest for validation\n",
        "valid_MNIST.dataset.data = valid_MNIST.dataset.data[45000:,:,:]\n"
      ]
    },
    {
      "cell_type": "code",
      "execution_count": null,
      "metadata": {
        "id": "Lsq22g3rhUNB"
      },
      "outputs": [],
      "source": [
        "import copy\n",
        "\n",
        "valid_FMNIST = copy.deepcopy(train_FMNIST)  # Creates a copy of the object\n",
        "\n",
        "#We take the first 45k images for training\n",
        "train_FMNIST.dataset.data = train_FMNIST.dataset.data[:45000,:,:]\n",
        "\n",
        "#And the rest for validation\n",
        "valid_FMNIST.dataset.data = valid_FMNIST.dataset.data[45000:,:,:]"
      ]
    },
    {
      "cell_type": "code",
      "source": [
        "def add_noise(img, variance):\n",
        "    noise = np.random.normal(loc=0, scale=np.sqrt(variance), size=img.shape)\n",
        "    noisy_img = img + noise\n",
        "    return noisy_img\n",
        "\n",
        "\n",
        "img = train_MNIST.dataset.data[1,:,:]\n",
        "plt.figure(figsize=(10, 5))\n",
        "\n",
        "plt.subplot(1, 2, 1)\n",
        "plt.imshow(img.numpy().reshape([28,28]), cmap='Greys_r')\n",
        "\n",
        "plt.subplot(1, 2, 2)\n",
        "plt.imshow(add_noise(img,100).numpy().reshape([28,28]), cmap='Greys_r')\n",
        "\n"
      ],
      "metadata": {
        "colab": {
          "base_uri": "https://localhost:8080/",
          "height": 429
        },
        "id": "PzRg3BH8S3L1",
        "outputId": "d4e01f20-f8b0-4503-92b1-f3567fc874e9"
      },
      "execution_count": null,
      "outputs": [
        {
          "output_type": "execute_result",
          "data": {
            "text/plain": [
              "<matplotlib.image.AxesImage at 0x7d4a1ac42f50>"
            ]
          },
          "metadata": {},
          "execution_count": 117
        },
        {
          "output_type": "display_data",
          "data": {
            "text/plain": [
              "<Figure size 1000x500 with 2 Axes>"
            ],
            "image/png": "[encoded data removed]"
          },
          "metadata": {
            "image/png": {
              "width": 822,
              "height": 395
            }
          }
        }
      ]
    },
    {
      "cell_type": "markdown",
      "metadata": {
        "id": "sOC5VQ_UhUNB"
      },
      "source": [
        "Select Data Set To Be Trained:"
      ]
    },
    {
      "cell_type": "code",
      "execution_count": null,
      "metadata": {
        "id": "c4jKEwtbhUNC"
      },
      "outputs": [],
      "source": [
        "INDEX = 0 # INDEX = 0 for MNIST and 1 for FMNIST!\n",
        "\n",
        "train_set = [train_MNIST, train_FMNIST]\n",
        "valid_set = [valid_MNIST, valid_FMNIST]"
      ]
    },
    {
      "cell_type": "markdown",
      "metadata": {
        "id": "QvJ5xmovyenY"
      },
      "source": [
        "## 3 layers at both encoder/decoder:\n"
      ]
    },
    {
      "cell_type": "code",
      "execution_count": null,
      "metadata": {
        "id": "jB8JSqIAyenY"
      },
      "outputs": [],
      "source": [
        "\n",
        "class autoencoder3(nn.Module):\n",
        "    def __init__(self, projected_dimension):\n",
        "        super().__init__()\n",
        "        self.projected_dimension = projected_dimension\n",
        "        self.criterion = nn.MSELoss()\n",
        "        self.learning_rate = 0.001\n",
        "\n",
        "\n",
        "        if INDEX == 0:  # MNIST\n",
        "            self.name_train = f\"3_layer_with_PSNR_train_MNIST_{self.projected_dimension}\"\n",
        "            self.name_test = f\"3_layer_with_PSNR_test_MNIST_{self.projected_dimension}\"\n",
        "            self.dataset = \"MNIST\"\n",
        "\n",
        "        elif INDEX == 1:  # FMNIST\n",
        "            self.name_train = f\"3_layer_with_PSNR_train_FMNIST_{self.projected_dimension}\"\n",
        "            self.name_test = f\"3_layer_with_PSNR_test_FMNIST_{self.projected_dimension}\"\n",
        "            self.dataset = \"FMNIST\"\n",
        "\n",
        "        else:\n",
        "            raise ValueError(\"Inside autoencoder3, INDEX should be either 0 or 1.\")\n",
        "\n",
        "        self.project = \"project_1\"\n",
        "        self.architecture = \"linear_autoencoder\"\n",
        "        self.input_image_size = 784\n",
        "        self.outputs = []\n",
        "        self.loss_during_training = []\n",
        "        self.valid_loss_during_training = []\n",
        "\n",
        "\n",
        "\n",
        "        # Building an linear encoder with Linear\n",
        "        # layer followed by Relu activation function\n",
        "        # 784 -> projected dimension\n",
        "        self.encoder = nn.Sequential(\n",
        "            nn.Linear(self.input_image_size, 300),\n",
        "            nn.ReLU(),\n",
        "            #nn.Dropout(p=0.2), # Dropout with a probability of 0.2\n",
        "            nn.Linear(300, 150),\n",
        "            nn.ReLU(),\n",
        "            #nn.Dropout(p=0.2),\n",
        "            nn.Linear(150, self.projected_dimension),\n",
        "            nn.ReLU(),\n",
        "        )\n",
        "\n",
        "        # Building an linear decoder with Linear\n",
        "        # layer followed by Relu activation function\n",
        "        # The Sigmoid activation function\n",
        "        # outputs the value between 0 and 1\n",
        "        # projected dimension -> 784\n",
        "        self.decoder = nn.Sequential(\n",
        "            nn.Linear(self.projected_dimension, 150),\n",
        "            nn.ReLU(),\n",
        "            #nn.Dropout(p=0.2),\n",
        "            nn.Linear(150, 300),\n",
        "            nn.ReLU(),\n",
        "            #nn.Dropout(p=0.2),\n",
        "            nn.Linear(300, self.input_image_size),\n",
        "            nn.Tanh(),\n",
        "        )\n",
        "        self.optimizer = optim.Adam(self.parameters(), self.learning_rate)\n",
        "\n",
        "    def forward(self, image):\n",
        "        encoded = self.encoder(image)\n",
        "        decoded = self.decoder(encoded)\n",
        "        return encoded, decoded\n",
        "\n",
        "    def psnr(self, img1, img2):  #  Peak signal-to-noise ratio (PSNR)\n",
        "        mse_criterio = nn.MSELoss()\n",
        "        mse = mse_criterio(img1, img2)\n",
        "        max_pixel = 1.0\n",
        "        psnr = 20 * torch.log10(max_pixel / torch.sqrt(mse))\n",
        "        return psnr\n",
        "\n",
        "    def do_training(self, epochs, train_data, valid_data):\n",
        "        self.train()\n",
        "\n",
        "\n",
        "\n",
        "\n",
        "        wandb.init(  # Esto es para que se guarde en la plataforma de wandb y nos evitamos tener que hacerlo manualmente\n",
        "            # Set the project where this run will be logged\n",
        "            project=self.project,\n",
        "            # We pass a run name (otherwise it’ll be randomly assigned, like sunshine-lollypop-10)\n",
        "            name=self.name_train,\n",
        "            # Track hyperparameters and run metadata\n",
        "            config={\n",
        "                \"learning_rate\": self.learning_rate,\n",
        "                \"architecture\": self.architecture,\n",
        "                \"dataset\": self.dataset,\n",
        "                \"epochs\": epochs,\n",
        "            },\n",
        "        )\n",
        "\n",
        "        # Aqui es donde empieza realmente el entrenamiento\n",
        "        for epoch in range(epochs):\n",
        "            running_loss = 0.\n",
        "            for img, _ in train_data:\n",
        "                self.optimizer.zero_grad()\n",
        "                img_noised = add_noise(img,4)\n",
        "                img = img.reshape(-1, self.input_image_size)\n",
        "                img_noised = img_noised.reshape(-1, self.input_image_size)\n",
        "                enco,reconstructed = self.forward(img_noised.float())\n",
        "\n",
        "                loss_train = self.criterion(reconstructed, img)\n",
        "\n",
        "                running_loss += loss_train.item()\n",
        "                loss_train.backward()\n",
        "                self.optimizer.step()\n",
        "\n",
        "            self.loss_during_training.append(running_loss/len(train_data))\n",
        "\n",
        "            with torch.no_grad():\n",
        "\n",
        "                # set model to evaluation mode\n",
        "                self.eval()\n",
        "\n",
        "                running_loss = 0.\n",
        "\n",
        "                for images,_ in valid_data:\n",
        "\n",
        "                    img_noised = add_noise(images,4)\n",
        "                    img_noised = img_noised.reshape(-1, self.input_image_size)\n",
        "                    images = images.reshape(-1, self.input_image_size)\n",
        "                    encod,reconstruct = self.forward(img_noised.float())\n",
        "\n",
        "                    loss_valid = self.criterion(reconstruct,images)\n",
        "\n",
        "                    running_loss += loss_valid.item()\n",
        "                self.valid_loss_during_training.append(running_loss/len(valid_data))\n",
        "\n",
        "            # set model back to train mode\n",
        "            self.train()\n",
        "\n",
        "            print(\"Epoch: \", epoch + 1, \"Loss train: \", self.loss_during_training[-1], \", Loss valid: \", self.valid_loss_during_training[-1])\n",
        "            wandb.log({\"projected dimension\": projected_dimensions[run], \"Loss train\": self.loss_during_training[-1], \"Loss valid\": self.valid_loss_during_training[-1]})\n",
        "            self.outputs.append((projected_dimensions[run], epoch, img, reconstructed))\n",
        "\n",
        "        wandb.finish()\n",
        "\n",
        "    def eval_performance(self,data_test):\n",
        "\n",
        "      performance = 0\n",
        "\n",
        "      # Turn off gradients for validation, saves memory and computations\n",
        "      with torch.no_grad():\n",
        "\n",
        "          # set model to evaluation mode\n",
        "          self.eval()\n",
        "\n",
        "          for images,_ in data_test:\n",
        "\n",
        "              img = images.view(-1, self.input_image_size)\n",
        "              reconstructed = self.forward(img)\n",
        "              performance = self.psnr(reconstructed, img)\n",
        "\n",
        "\n",
        "          return performance"
      ]
    },
    {
      "cell_type": "markdown",
      "metadata": {
        "id": "-XikycahyenZ"
      },
      "source": [
        "Definition of parameters of the model and Peak signal-to-noise ratio (PSNR)"
      ]
    },
    {
      "cell_type": "markdown",
      "metadata": {
        "id": "uanbXKp1yenZ"
      },
      "source": [
        "Training the model"
      ]
    },
    {
      "cell_type": "code",
      "execution_count": null,
      "metadata": {
        "colab": {
          "base_uri": "https://localhost:8080/",
          "height": 1000,
          "referenced_widgets": [
            "f8f32041bbbd44228851e3e0be105c54",
            "89b858f50b344799a0b019c6bed8ce03",
            "bcc4cfc8950848de84804479d929220f",
            "9336cb11fdec4b6b8fee34ea84be9736",
            "05f6b3511dfa45098cc9cfc11a92471f",
            "cdbd593a3f6d4a2889446abaf9864320",
            "fc72e810ad4d48c1ad3d2f6e9908ebd8",
            "762a6041745f467bbcd1990edc113534"
          ]
        },
        "id": "RyClfxVSyena",
        "outputId": "cd0bee21-962a-470b-e1b1-a84d9217f1af"
      },
      "outputs": [
        {
          "output_type": "display_data",
          "data": {
            "text/plain": [
              "<IPython.core.display.HTML object>"
            ],
            "text/html": [
              "Finishing last run (ID:d1tfl4yv) before initializing another..."
            ]
          },
          "metadata": {}
        },
        {
          "output_type": "display_data",
          "data": {
            "text/plain": [
              "VBox(children=(Label(value='0.001 MB of 0.001 MB uploaded\\r'), FloatProgress(value=1.0, max=1.0)))"
            ],
            "application/vnd.jupyter.widget-view+json": {
              "version_major": 2,
              "version_minor": 0,
              "model_id": "f8f32041bbbd44228851e3e0be105c54"
            }
          },
          "metadata": {}
        },
        {
          "output_type": "display_data",
          "data": {
            "text/plain": [
              "<IPython.core.display.HTML object>"
            ],
            "text/html": [
              "<style>\n",
              "    table.wandb td:nth-child(1) { padding: 0 10px; text-align: left ; width: auto;} td:nth-child(2) {text-align: left ; width: 100%}\n",
              "    .wandb-row { display: flex; flex-direction: row; flex-wrap: wrap; justify-content: flex-start; width: 100% }\n",
              "    .wandb-col { display: flex; flex-direction: column; flex-basis: 100%; flex: 1; padding: 10px; }\n",
              "    </style>\n",
              "<div class=\"wandb-row\"><div class=\"wandb-col\"><h3>Run history:</h3><br/><table class=\"wandb\"><tr><td>Loss train</td><td>█▂▁</td></tr><tr><td>Loss valid</td><td>█▃▁</td></tr><tr><td>projected dimension</td><td>▁▁▁</td></tr></table><br/></div><div class=\"wandb-col\"><h3>Run summary:</h3><br/><table class=\"wandb\"><tr><td>Loss train</td><td>0.1525</td></tr><tr><td>Loss valid</td><td>0.14927</td></tr><tr><td>projected dimension</td><td>15</td></tr></table><br/></div></div>"
            ]
          },
          "metadata": {}
        },
        {
          "output_type": "display_data",
          "data": {
            "text/plain": [
              "<IPython.core.display.HTML object>"
            ],
            "text/html": [
              " View run <strong style=\"color:#cdcd00\">3_layer_with_PSNR_train_MNIST_15</strong> at: <a href='https://wandb.ai/carlos3/project_1/runs/d1tfl4yv' target=\"_blank\">https://wandb.ai/carlos3/project_1/runs/d1tfl4yv</a><br/>Synced 5 W&B file(s), 0 media file(s), 0 artifact file(s) and 0 other file(s)"
            ]
          },
          "metadata": {}
        },
        {
          "output_type": "display_data",
          "data": {
            "text/plain": [
              "<IPython.core.display.HTML object>"
            ],
            "text/html": [
              "Find logs at: <code>./wandb/run-20240306_203444-d1tfl4yv/logs</code>"
            ]
          },
          "metadata": {}
        },
        {
          "output_type": "display_data",
          "data": {
            "text/plain": [
              "<IPython.core.display.HTML object>"
            ],
            "text/html": [
              "Successfully finished last run (ID:d1tfl4yv). Initializing new run:<br/>"
            ]
          },
          "metadata": {}
        },
        {
          "output_type": "display_data",
          "data": {
            "text/plain": [
              "<IPython.core.display.HTML object>"
            ],
            "text/html": [
              "Tracking run with wandb version 0.16.4"
            ]
          },
          "metadata": {}
        },
        {
          "output_type": "display_data",
          "data": {
            "text/plain": [
              "<IPython.core.display.HTML object>"
            ],
            "text/html": [
              "Run data is saved locally in <code>/content/wandb/run-20240306_203731-skyd0t14</code>"
            ]
          },
          "metadata": {}
        },
        {
          "output_type": "display_data",
          "data": {
            "text/plain": [
              "<IPython.core.display.HTML object>"
            ],
            "text/html": [
              "Syncing run <strong><a href='https://wandb.ai/carlos3/project_1/runs/skyd0t14' target=\"_blank\">3_layer_with_PSNR_train_MNIST_15</a></strong> to <a href='https://wandb.ai/carlos3/project_1' target=\"_blank\">Weights & Biases</a> (<a href='https://wandb.me/run' target=\"_blank\">docs</a>)<br/>"
            ]
          },
          "metadata": {}
        },
        {
          "output_type": "display_data",
          "data": {
            "text/plain": [
              "<IPython.core.display.HTML object>"
            ],
            "text/html": [
              " View project at <a href='https://wandb.ai/carlos3/project_1' target=\"_blank\">https://wandb.ai/carlos3/project_1</a>"
            ]
          },
          "metadata": {}
        },
        {
          "output_type": "display_data",
          "data": {
            "text/plain": [
              "<IPython.core.display.HTML object>"
            ],
            "text/html": [
              " View run at <a href='https://wandb.ai/carlos3/project_1/runs/skyd0t14' target=\"_blank\">https://wandb.ai/carlos3/project_1/runs/skyd0t14</a>"
            ]
          },
          "metadata": {}
        },
        {
          "output_type": "stream",
          "name": "stdout",
          "text": [
            "Epoch:  1 Loss train:  0.19829971523193474 , Loss valid:  0.15963333718320158\n",
            "Epoch:  2 Loss train:  0.14906021014956589 , Loss valid:  0.14448831056026704\n",
            "Epoch:  3 Loss train:  0.13886073360812257 , Loss valid:  0.1360246424028214\n",
            "Epoch:  4 Loss train:  0.1333114145725796 , Loss valid:  0.1327905753825573\n",
            "Epoch:  5 Loss train:  0.12965562198819083 , Loss valid:  0.1295517786703211\n",
            "Epoch:  6 Loss train:  0.12721187144052237 , Loss valid:  0.12701536664303312\n",
            "Epoch:  7 Loss train:  0.1254952151264826 , Loss valid:  0.12742734557770669\n",
            "Epoch:  8 Loss train:  0.12409791280515492 , Loss valid:  0.12445256307404091\n",
            "Epoch:  9 Loss train:  0.1229489652799781 , Loss valid:  0.1231211875347381\n",
            "Epoch:  10 Loss train:  0.12208090214566751 , Loss valid:  0.12340830377441772\n",
            "Epoch:  11 Loss train:  0.12117214238440449 , Loss valid:  0.1226332128364989\n",
            "Epoch:  12 Loss train:  0.1205405541272326 , Loss valid:  0.1218632530658803\n",
            "Epoch:  13 Loss train:  0.11967393251093612 , Loss valid:  0.12135402639495566\n",
            "Epoch:  14 Loss train:  0.11952835940544239 , Loss valid:  0.12145875334105594\n",
            "Epoch:  15 Loss train:  0.11864990610840985 , Loss valid:  0.12065904273631725\n",
            "Epoch:  16 Loss train:  0.11856280475727875 , Loss valid:  0.11992779662634465\n",
            "Epoch:  17 Loss train:  0.11771216108040376 , Loss valid:  0.11985972460280074\n",
            "Epoch:  18 Loss train:  0.1178613739003512 , Loss valid:  0.11860843944422741\n",
            "Epoch:  19 Loss train:  0.11728053682864728 , Loss valid:  0.11914546660920407\n"
          ]
        },
        {
          "output_type": "error",
          "ename": "KeyboardInterrupt",
          "evalue": "",
          "traceback": [
            "\u001b[0;31m---------------------------------------------------------------------------\u001b[0m",
            "\u001b[0;31mKeyboardInterrupt\u001b[0m                         Traceback (most recent call last)",
            "\u001b[0;32m<ipython-input-125-fbfc545fa094>\u001b[0m in \u001b[0;36m<cell line: 4>\u001b[0;34m()\u001b[0m\n\u001b[1;32m      4\u001b[0m \u001b[0;32mfor\u001b[0m \u001b[0mrun\u001b[0m \u001b[0;32min\u001b[0m \u001b[0mrange\u001b[0m\u001b[0;34m(\u001b[0m\u001b[0mlen\u001b[0m\u001b[0;34m(\u001b[0m\u001b[0mprojected_dimensions\u001b[0m\u001b[0;34m)\u001b[0m\u001b[0;34m)\u001b[0m\u001b[0;34m:\u001b[0m\u001b[0;34m\u001b[0m\u001b[0;34m\u001b[0m\u001b[0m\n\u001b[1;32m      5\u001b[0m     \u001b[0mmodel\u001b[0m \u001b[0;34m=\u001b[0m \u001b[0mautoencoder3\u001b[0m\u001b[0;34m(\u001b[0m\u001b[0mprojected_dimensions\u001b[0m\u001b[0;34m[\u001b[0m\u001b[0mrun\u001b[0m\u001b[0;34m]\u001b[0m\u001b[0;34m)\u001b[0m  \u001b[0;31m# To initialize the model with the projected dimension\u001b[0m\u001b[0;34m\u001b[0m\u001b[0;34m\u001b[0m\u001b[0m\n\u001b[0;32m----> 6\u001b[0;31m     \u001b[0mmodel\u001b[0m\u001b[0;34m.\u001b[0m\u001b[0mdo_training\u001b[0m\u001b[0;34m(\u001b[0m\u001b[0mepochs\u001b[0m\u001b[0;34m,\u001b[0m\u001b[0mtrain_set\u001b[0m\u001b[0;34m[\u001b[0m\u001b[0mINDEX\u001b[0m\u001b[0;34m]\u001b[0m\u001b[0;34m,\u001b[0m\u001b[0mvalid_set\u001b[0m\u001b[0;34m[\u001b[0m\u001b[0mINDEX\u001b[0m\u001b[0;34m]\u001b[0m\u001b[0;34m)\u001b[0m\u001b[0;34m\u001b[0m\u001b[0;34m\u001b[0m\u001b[0m\n\u001b[0m\u001b[1;32m      7\u001b[0m     \u001b[0mmodels_autoencoder3\u001b[0m\u001b[0;34m.\u001b[0m\u001b[0mappend\u001b[0m\u001b[0;34m(\u001b[0m\u001b[0mmodel\u001b[0m\u001b[0;34m)\u001b[0m\u001b[0;34m\u001b[0m\u001b[0;34m\u001b[0m\u001b[0m\n",
            "\u001b[0;32m<ipython-input-124-1a76672489db>\u001b[0m in \u001b[0;36mdo_training\u001b[0;34m(self, epochs, train_data, valid_data)\u001b[0m\n\u001b[1;32m     95\u001b[0m         \u001b[0;32mfor\u001b[0m \u001b[0mepoch\u001b[0m \u001b[0;32min\u001b[0m \u001b[0mrange\u001b[0m\u001b[0;34m(\u001b[0m\u001b[0mepochs\u001b[0m\u001b[0;34m)\u001b[0m\u001b[0;34m:\u001b[0m\u001b[0;34m\u001b[0m\u001b[0;34m\u001b[0m\u001b[0m\n\u001b[1;32m     96\u001b[0m             \u001b[0mrunning_loss\u001b[0m \u001b[0;34m=\u001b[0m \u001b[0;36m0.\u001b[0m\u001b[0;34m\u001b[0m\u001b[0;34m\u001b[0m\u001b[0m\n\u001b[0;32m---> 97\u001b[0;31m             \u001b[0;32mfor\u001b[0m \u001b[0mimg\u001b[0m\u001b[0;34m,\u001b[0m \u001b[0m_\u001b[0m \u001b[0;32min\u001b[0m \u001b[0mtrain_data\u001b[0m\u001b[0;34m:\u001b[0m\u001b[0;34m\u001b[0m\u001b[0;34m\u001b[0m\u001b[0m\n\u001b[0m\u001b[1;32m     98\u001b[0m                 \u001b[0mself\u001b[0m\u001b[0;34m.\u001b[0m\u001b[0moptimizer\u001b[0m\u001b[0;34m.\u001b[0m\u001b[0mzero_grad\u001b[0m\u001b[0;34m(\u001b[0m\u001b[0;34m)\u001b[0m\u001b[0;34m\u001b[0m\u001b[0;34m\u001b[0m\u001b[0m\n\u001b[1;32m     99\u001b[0m                 \u001b[0mimg_noised\u001b[0m \u001b[0;34m=\u001b[0m \u001b[0madd_noise\u001b[0m\u001b[0;34m(\u001b[0m\u001b[0mimg\u001b[0m\u001b[0;34m,\u001b[0m\u001b[0;36m4\u001b[0m\u001b[0;34m)\u001b[0m\u001b[0;34m\u001b[0m\u001b[0;34m\u001b[0m\u001b[0m\n",
            "\u001b[0;32m/usr/local/lib/python3.10/dist-packages/torch/utils/data/dataloader.py\u001b[0m in \u001b[0;36m__next__\u001b[0;34m(self)\u001b[0m\n\u001b[1;32m    628\u001b[0m                 \u001b[0;31m# TODO(https://github.com/pytorch/pytorch/issues/76750)\u001b[0m\u001b[0;34m\u001b[0m\u001b[0;34m\u001b[0m\u001b[0m\n\u001b[1;32m    629\u001b[0m                 \u001b[0mself\u001b[0m\u001b[0;34m.\u001b[0m\u001b[0m_reset\u001b[0m\u001b[0;34m(\u001b[0m\u001b[0;34m)\u001b[0m  \u001b[0;31m# type: ignore[call-arg]\u001b[0m\u001b[0;34m\u001b[0m\u001b[0;34m\u001b[0m\u001b[0m\n\u001b[0;32m--> 630\u001b[0;31m             \u001b[0mdata\u001b[0m \u001b[0;34m=\u001b[0m \u001b[0mself\u001b[0m\u001b[0;34m.\u001b[0m\u001b[0m_next_data\u001b[0m\u001b[0;34m(\u001b[0m\u001b[0;34m)\u001b[0m\u001b[0;34m\u001b[0m\u001b[0;34m\u001b[0m\u001b[0m\n\u001b[0m\u001b[1;32m    631\u001b[0m             \u001b[0mself\u001b[0m\u001b[0;34m.\u001b[0m\u001b[0m_num_yielded\u001b[0m \u001b[0;34m+=\u001b[0m \u001b[0;36m1\u001b[0m\u001b[0;34m\u001b[0m\u001b[0;34m\u001b[0m\u001b[0m\n\u001b[1;32m    632\u001b[0m             \u001b[0;32mif\u001b[0m \u001b[0mself\u001b[0m\u001b[0;34m.\u001b[0m\u001b[0m_dataset_kind\u001b[0m \u001b[0;34m==\u001b[0m \u001b[0m_DatasetKind\u001b[0m\u001b[0;34m.\u001b[0m\u001b[0mIterable\u001b[0m \u001b[0;32mand\u001b[0m\u001b[0;31m \u001b[0m\u001b[0;31m\\\u001b[0m\u001b[0;34m\u001b[0m\u001b[0;34m\u001b[0m\u001b[0m\n",
            "\u001b[0;32m/usr/local/lib/python3.10/dist-packages/torch/utils/data/dataloader.py\u001b[0m in \u001b[0;36m_next_data\u001b[0;34m(self)\u001b[0m\n\u001b[1;32m    672\u001b[0m     \u001b[0;32mdef\u001b[0m \u001b[0m_next_data\u001b[0m\u001b[0;34m(\u001b[0m\u001b[0mself\u001b[0m\u001b[0;34m)\u001b[0m\u001b[0;34m:\u001b[0m\u001b[0;34m\u001b[0m\u001b[0;34m\u001b[0m\u001b[0m\n\u001b[1;32m    673\u001b[0m         \u001b[0mindex\u001b[0m \u001b[0;34m=\u001b[0m \u001b[0mself\u001b[0m\u001b[0;34m.\u001b[0m\u001b[0m_next_index\u001b[0m\u001b[0;34m(\u001b[0m\u001b[0;34m)\u001b[0m  \u001b[0;31m# may raise StopIteration\u001b[0m\u001b[0;34m\u001b[0m\u001b[0;34m\u001b[0m\u001b[0m\n\u001b[0;32m--> 674\u001b[0;31m         \u001b[0mdata\u001b[0m \u001b[0;34m=\u001b[0m \u001b[0mself\u001b[0m\u001b[0;34m.\u001b[0m\u001b[0m_dataset_fetcher\u001b[0m\u001b[0;34m.\u001b[0m\u001b[0mfetch\u001b[0m\u001b[0;34m(\u001b[0m\u001b[0mindex\u001b[0m\u001b[0;34m)\u001b[0m  \u001b[0;31m# may raise StopIteration\u001b[0m\u001b[0;34m\u001b[0m\u001b[0;34m\u001b[0m\u001b[0m\n\u001b[0m\u001b[1;32m    675\u001b[0m         \u001b[0;32mif\u001b[0m \u001b[0mself\u001b[0m\u001b[0;34m.\u001b[0m\u001b[0m_pin_memory\u001b[0m\u001b[0;34m:\u001b[0m\u001b[0;34m\u001b[0m\u001b[0;34m\u001b[0m\u001b[0m\n\u001b[1;32m    676\u001b[0m             \u001b[0mdata\u001b[0m \u001b[0;34m=\u001b[0m \u001b[0m_utils\u001b[0m\u001b[0;34m.\u001b[0m\u001b[0mpin_memory\u001b[0m\u001b[0;34m.\u001b[0m\u001b[0mpin_memory\u001b[0m\u001b[0;34m(\u001b[0m\u001b[0mdata\u001b[0m\u001b[0;34m,\u001b[0m \u001b[0mself\u001b[0m\u001b[0;34m.\u001b[0m\u001b[0m_pin_memory_device\u001b[0m\u001b[0;34m)\u001b[0m\u001b[0;34m\u001b[0m\u001b[0;34m\u001b[0m\u001b[0m\n",
            "\u001b[0;32m/usr/local/lib/python3.10/dist-packages/torch/utils/data/_utils/fetch.py\u001b[0m in \u001b[0;36mfetch\u001b[0;34m(self, possibly_batched_index)\u001b[0m\n\u001b[1;32m     49\u001b[0m                 \u001b[0mdata\u001b[0m \u001b[0;34m=\u001b[0m \u001b[0mself\u001b[0m\u001b[0;34m.\u001b[0m\u001b[0mdataset\u001b[0m\u001b[0;34m.\u001b[0m\u001b[0m__getitems__\u001b[0m\u001b[0;34m(\u001b[0m\u001b[0mpossibly_batched_index\u001b[0m\u001b[0;34m)\u001b[0m\u001b[0;34m\u001b[0m\u001b[0;34m\u001b[0m\u001b[0m\n\u001b[1;32m     50\u001b[0m             \u001b[0;32melse\u001b[0m\u001b[0;34m:\u001b[0m\u001b[0;34m\u001b[0m\u001b[0;34m\u001b[0m\u001b[0m\n\u001b[0;32m---> 51\u001b[0;31m                 \u001b[0mdata\u001b[0m \u001b[0;34m=\u001b[0m \u001b[0;34m[\u001b[0m\u001b[0mself\u001b[0m\u001b[0;34m.\u001b[0m\u001b[0mdataset\u001b[0m\u001b[0;34m[\u001b[0m\u001b[0midx\u001b[0m\u001b[0;34m]\u001b[0m \u001b[0;32mfor\u001b[0m \u001b[0midx\u001b[0m \u001b[0;32min\u001b[0m \u001b[0mpossibly_batched_index\u001b[0m\u001b[0;34m]\u001b[0m\u001b[0;34m\u001b[0m\u001b[0;34m\u001b[0m\u001b[0m\n\u001b[0m\u001b[1;32m     52\u001b[0m         \u001b[0;32melse\u001b[0m\u001b[0;34m:\u001b[0m\u001b[0;34m\u001b[0m\u001b[0;34m\u001b[0m\u001b[0m\n\u001b[1;32m     53\u001b[0m             \u001b[0mdata\u001b[0m \u001b[0;34m=\u001b[0m \u001b[0mself\u001b[0m\u001b[0;34m.\u001b[0m\u001b[0mdataset\u001b[0m\u001b[0;34m[\u001b[0m\u001b[0mpossibly_batched_index\u001b[0m\u001b[0;34m]\u001b[0m\u001b[0;34m\u001b[0m\u001b[0;34m\u001b[0m\u001b[0m\n",
            "\u001b[0;32m/usr/local/lib/python3.10/dist-packages/torch/utils/data/_utils/fetch.py\u001b[0m in \u001b[0;36m<listcomp>\u001b[0;34m(.0)\u001b[0m\n\u001b[1;32m     49\u001b[0m                 \u001b[0mdata\u001b[0m \u001b[0;34m=\u001b[0m \u001b[0mself\u001b[0m\u001b[0;34m.\u001b[0m\u001b[0mdataset\u001b[0m\u001b[0;34m.\u001b[0m\u001b[0m__getitems__\u001b[0m\u001b[0;34m(\u001b[0m\u001b[0mpossibly_batched_index\u001b[0m\u001b[0;34m)\u001b[0m\u001b[0;34m\u001b[0m\u001b[0;34m\u001b[0m\u001b[0m\n\u001b[1;32m     50\u001b[0m             \u001b[0;32melse\u001b[0m\u001b[0;34m:\u001b[0m\u001b[0;34m\u001b[0m\u001b[0;34m\u001b[0m\u001b[0m\n\u001b[0;32m---> 51\u001b[0;31m                 \u001b[0mdata\u001b[0m \u001b[0;34m=\u001b[0m \u001b[0;34m[\u001b[0m\u001b[0mself\u001b[0m\u001b[0;34m.\u001b[0m\u001b[0mdataset\u001b[0m\u001b[0;34m[\u001b[0m\u001b[0midx\u001b[0m\u001b[0;34m]\u001b[0m \u001b[0;32mfor\u001b[0m \u001b[0midx\u001b[0m \u001b[0;32min\u001b[0m \u001b[0mpossibly_batched_index\u001b[0m\u001b[0;34m]\u001b[0m\u001b[0;34m\u001b[0m\u001b[0;34m\u001b[0m\u001b[0m\n\u001b[0m\u001b[1;32m     52\u001b[0m         \u001b[0;32melse\u001b[0m\u001b[0;34m:\u001b[0m\u001b[0;34m\u001b[0m\u001b[0;34m\u001b[0m\u001b[0m\n\u001b[1;32m     53\u001b[0m             \u001b[0mdata\u001b[0m \u001b[0;34m=\u001b[0m \u001b[0mself\u001b[0m\u001b[0;34m.\u001b[0m\u001b[0mdataset\u001b[0m\u001b[0;34m[\u001b[0m\u001b[0mpossibly_batched_index\u001b[0m\u001b[0;34m]\u001b[0m\u001b[0;34m\u001b[0m\u001b[0;34m\u001b[0m\u001b[0m\n",
            "\u001b[0;32m/usr/local/lib/python3.10/dist-packages/torchvision/datasets/mnist.py\u001b[0m in \u001b[0;36m__getitem__\u001b[0;34m(self, index)\u001b[0m\n\u001b[1;32m    143\u001b[0m \u001b[0;34m\u001b[0m\u001b[0m\n\u001b[1;32m    144\u001b[0m         \u001b[0;32mif\u001b[0m \u001b[0mself\u001b[0m\u001b[0;34m.\u001b[0m\u001b[0mtransform\u001b[0m \u001b[0;32mis\u001b[0m \u001b[0;32mnot\u001b[0m \u001b[0;32mNone\u001b[0m\u001b[0;34m:\u001b[0m\u001b[0;34m\u001b[0m\u001b[0;34m\u001b[0m\u001b[0m\n\u001b[0;32m--> 145\u001b[0;31m             \u001b[0mimg\u001b[0m \u001b[0;34m=\u001b[0m \u001b[0mself\u001b[0m\u001b[0;34m.\u001b[0m\u001b[0mtransform\u001b[0m\u001b[0;34m(\u001b[0m\u001b[0mimg\u001b[0m\u001b[0;34m)\u001b[0m\u001b[0;34m\u001b[0m\u001b[0;34m\u001b[0m\u001b[0m\n\u001b[0m\u001b[1;32m    146\u001b[0m \u001b[0;34m\u001b[0m\u001b[0m\n\u001b[1;32m    147\u001b[0m         \u001b[0;32mif\u001b[0m \u001b[0mself\u001b[0m\u001b[0;34m.\u001b[0m\u001b[0mtarget_transform\u001b[0m \u001b[0;32mis\u001b[0m \u001b[0;32mnot\u001b[0m \u001b[0;32mNone\u001b[0m\u001b[0;34m:\u001b[0m\u001b[0;34m\u001b[0m\u001b[0;34m\u001b[0m\u001b[0m\n",
            "\u001b[0;32m/usr/local/lib/python3.10/dist-packages/torchvision/transforms/transforms.py\u001b[0m in \u001b[0;36m__call__\u001b[0;34m(self, img)\u001b[0m\n\u001b[1;32m     93\u001b[0m     \u001b[0;32mdef\u001b[0m \u001b[0m__call__\u001b[0m\u001b[0;34m(\u001b[0m\u001b[0mself\u001b[0m\u001b[0;34m,\u001b[0m \u001b[0mimg\u001b[0m\u001b[0;34m)\u001b[0m\u001b[0;34m:\u001b[0m\u001b[0;34m\u001b[0m\u001b[0;34m\u001b[0m\u001b[0m\n\u001b[1;32m     94\u001b[0m         \u001b[0;32mfor\u001b[0m \u001b[0mt\u001b[0m \u001b[0;32min\u001b[0m \u001b[0mself\u001b[0m\u001b[0;34m.\u001b[0m\u001b[0mtransforms\u001b[0m\u001b[0;34m:\u001b[0m\u001b[0;34m\u001b[0m\u001b[0;34m\u001b[0m\u001b[0m\n\u001b[0;32m---> 95\u001b[0;31m             \u001b[0mimg\u001b[0m \u001b[0;34m=\u001b[0m \u001b[0mt\u001b[0m\u001b[0;34m(\u001b[0m\u001b[0mimg\u001b[0m\u001b[0;34m)\u001b[0m\u001b[0;34m\u001b[0m\u001b[0;34m\u001b[0m\u001b[0m\n\u001b[0m\u001b[1;32m     96\u001b[0m         \u001b[0;32mreturn\u001b[0m \u001b[0mimg\u001b[0m\u001b[0;34m\u001b[0m\u001b[0;34m\u001b[0m\u001b[0m\n\u001b[1;32m     97\u001b[0m \u001b[0;34m\u001b[0m\u001b[0m\n",
            "\u001b[0;32m/usr/local/lib/python3.10/dist-packages/torch/nn/modules/module.py\u001b[0m in \u001b[0;36m_wrapped_call_impl\u001b[0;34m(self, *args, **kwargs)\u001b[0m\n\u001b[1;32m   1516\u001b[0m             \u001b[0;32mreturn\u001b[0m \u001b[0mself\u001b[0m\u001b[0;34m.\u001b[0m\u001b[0m_compiled_call_impl\u001b[0m\u001b[0;34m(\u001b[0m\u001b[0;34m*\u001b[0m\u001b[0margs\u001b[0m\u001b[0;34m,\u001b[0m \u001b[0;34m**\u001b[0m\u001b[0mkwargs\u001b[0m\u001b[0;34m)\u001b[0m  \u001b[0;31m# type: ignore[misc]\u001b[0m\u001b[0;34m\u001b[0m\u001b[0;34m\u001b[0m\u001b[0m\n\u001b[1;32m   1517\u001b[0m         \u001b[0;32melse\u001b[0m\u001b[0;34m:\u001b[0m\u001b[0;34m\u001b[0m\u001b[0;34m\u001b[0m\u001b[0m\n\u001b[0;32m-> 1518\u001b[0;31m             \u001b[0;32mreturn\u001b[0m \u001b[0mself\u001b[0m\u001b[0;34m.\u001b[0m\u001b[0m_call_impl\u001b[0m\u001b[0;34m(\u001b[0m\u001b[0;34m*\u001b[0m\u001b[0margs\u001b[0m\u001b[0;34m,\u001b[0m \u001b[0;34m**\u001b[0m\u001b[0mkwargs\u001b[0m\u001b[0;34m)\u001b[0m\u001b[0;34m\u001b[0m\u001b[0;34m\u001b[0m\u001b[0m\n\u001b[0m\u001b[1;32m   1519\u001b[0m \u001b[0;34m\u001b[0m\u001b[0m\n\u001b[1;32m   1520\u001b[0m     \u001b[0;32mdef\u001b[0m \u001b[0m_call_impl\u001b[0m\u001b[0;34m(\u001b[0m\u001b[0mself\u001b[0m\u001b[0;34m,\u001b[0m \u001b[0;34m*\u001b[0m\u001b[0margs\u001b[0m\u001b[0;34m,\u001b[0m \u001b[0;34m**\u001b[0m\u001b[0mkwargs\u001b[0m\u001b[0;34m)\u001b[0m\u001b[0;34m:\u001b[0m\u001b[0;34m\u001b[0m\u001b[0;34m\u001b[0m\u001b[0m\n",
            "\u001b[0;32m/usr/local/lib/python3.10/dist-packages/torch/nn/modules/module.py\u001b[0m in \u001b[0;36m_call_impl\u001b[0;34m(self, *args, **kwargs)\u001b[0m\n\u001b[1;32m   1525\u001b[0m                 \u001b[0;32mor\u001b[0m \u001b[0m_global_backward_pre_hooks\u001b[0m \u001b[0;32mor\u001b[0m \u001b[0m_global_backward_hooks\u001b[0m\u001b[0;34m\u001b[0m\u001b[0;34m\u001b[0m\u001b[0m\n\u001b[1;32m   1526\u001b[0m                 or _global_forward_hooks or _global_forward_pre_hooks):\n\u001b[0;32m-> 1527\u001b[0;31m             \u001b[0;32mreturn\u001b[0m \u001b[0mforward_call\u001b[0m\u001b[0;34m(\u001b[0m\u001b[0;34m*\u001b[0m\u001b[0margs\u001b[0m\u001b[0;34m,\u001b[0m \u001b[0;34m**\u001b[0m\u001b[0mkwargs\u001b[0m\u001b[0;34m)\u001b[0m\u001b[0;34m\u001b[0m\u001b[0;34m\u001b[0m\u001b[0m\n\u001b[0m\u001b[1;32m   1528\u001b[0m \u001b[0;34m\u001b[0m\u001b[0m\n\u001b[1;32m   1529\u001b[0m         \u001b[0;32mtry\u001b[0m\u001b[0;34m:\u001b[0m\u001b[0;34m\u001b[0m\u001b[0;34m\u001b[0m\u001b[0m\n",
            "\u001b[0;32m/usr/local/lib/python3.10/dist-packages/torchvision/transforms/transforms.py\u001b[0m in \u001b[0;36mforward\u001b[0;34m(self, tensor)\u001b[0m\n\u001b[1;32m    275\u001b[0m             \u001b[0mTensor\u001b[0m\u001b[0;34m:\u001b[0m \u001b[0mNormalized\u001b[0m \u001b[0mTensor\u001b[0m \u001b[0mimage\u001b[0m\u001b[0;34m.\u001b[0m\u001b[0;34m\u001b[0m\u001b[0;34m\u001b[0m\u001b[0m\n\u001b[1;32m    276\u001b[0m         \"\"\"\n\u001b[0;32m--> 277\u001b[0;31m         \u001b[0;32mreturn\u001b[0m \u001b[0mF\u001b[0m\u001b[0;34m.\u001b[0m\u001b[0mnormalize\u001b[0m\u001b[0;34m(\u001b[0m\u001b[0mtensor\u001b[0m\u001b[0;34m,\u001b[0m \u001b[0mself\u001b[0m\u001b[0;34m.\u001b[0m\u001b[0mmean\u001b[0m\u001b[0;34m,\u001b[0m \u001b[0mself\u001b[0m\u001b[0;34m.\u001b[0m\u001b[0mstd\u001b[0m\u001b[0;34m,\u001b[0m \u001b[0mself\u001b[0m\u001b[0;34m.\u001b[0m\u001b[0minplace\u001b[0m\u001b[0;34m)\u001b[0m\u001b[0;34m\u001b[0m\u001b[0;34m\u001b[0m\u001b[0m\n\u001b[0m\u001b[1;32m    278\u001b[0m \u001b[0;34m\u001b[0m\u001b[0m\n\u001b[1;32m    279\u001b[0m     \u001b[0;32mdef\u001b[0m \u001b[0m__repr__\u001b[0m\u001b[0;34m(\u001b[0m\u001b[0mself\u001b[0m\u001b[0;34m)\u001b[0m \u001b[0;34m->\u001b[0m \u001b[0mstr\u001b[0m\u001b[0;34m:\u001b[0m\u001b[0;34m\u001b[0m\u001b[0;34m\u001b[0m\u001b[0m\n",
            "\u001b[0;32m/usr/local/lib/python3.10/dist-packages/torchvision/transforms/functional.py\u001b[0m in \u001b[0;36mnormalize\u001b[0;34m(tensor, mean, std, inplace)\u001b[0m\n\u001b[1;32m    361\u001b[0m         \u001b[0;32mraise\u001b[0m \u001b[0mTypeError\u001b[0m\u001b[0;34m(\u001b[0m\u001b[0;34mf\"img should be Tensor Image. Got {type(tensor)}\"\u001b[0m\u001b[0;34m)\u001b[0m\u001b[0;34m\u001b[0m\u001b[0;34m\u001b[0m\u001b[0m\n\u001b[1;32m    362\u001b[0m \u001b[0;34m\u001b[0m\u001b[0m\n\u001b[0;32m--> 363\u001b[0;31m     \u001b[0;32mreturn\u001b[0m \u001b[0mF_t\u001b[0m\u001b[0;34m.\u001b[0m\u001b[0mnormalize\u001b[0m\u001b[0;34m(\u001b[0m\u001b[0mtensor\u001b[0m\u001b[0;34m,\u001b[0m \u001b[0mmean\u001b[0m\u001b[0;34m=\u001b[0m\u001b[0mmean\u001b[0m\u001b[0;34m,\u001b[0m \u001b[0mstd\u001b[0m\u001b[0;34m=\u001b[0m\u001b[0mstd\u001b[0m\u001b[0;34m,\u001b[0m \u001b[0minplace\u001b[0m\u001b[0;34m=\u001b[0m\u001b[0minplace\u001b[0m\u001b[0;34m)\u001b[0m\u001b[0;34m\u001b[0m\u001b[0;34m\u001b[0m\u001b[0m\n\u001b[0m\u001b[1;32m    364\u001b[0m \u001b[0;34m\u001b[0m\u001b[0m\n\u001b[1;32m    365\u001b[0m \u001b[0;34m\u001b[0m\u001b[0m\n",
            "\u001b[0;32m/usr/local/lib/python3.10/dist-packages/torchvision/transforms/_functional_tensor.py\u001b[0m in \u001b[0;36mnormalize\u001b[0;34m(tensor, mean, std, inplace)\u001b[0m\n\u001b[1;32m    915\u001b[0m \u001b[0;34m\u001b[0m\u001b[0m\n\u001b[1;32m    916\u001b[0m     \u001b[0;32mif\u001b[0m \u001b[0;32mnot\u001b[0m \u001b[0minplace\u001b[0m\u001b[0;34m:\u001b[0m\u001b[0;34m\u001b[0m\u001b[0;34m\u001b[0m\u001b[0m\n\u001b[0;32m--> 917\u001b[0;31m         \u001b[0mtensor\u001b[0m \u001b[0;34m=\u001b[0m \u001b[0mtensor\u001b[0m\u001b[0;34m.\u001b[0m\u001b[0mclone\u001b[0m\u001b[0;34m(\u001b[0m\u001b[0;34m)\u001b[0m\u001b[0;34m\u001b[0m\u001b[0;34m\u001b[0m\u001b[0m\n\u001b[0m\u001b[1;32m    918\u001b[0m \u001b[0;34m\u001b[0m\u001b[0m\n\u001b[1;32m    919\u001b[0m     \u001b[0mdtype\u001b[0m \u001b[0;34m=\u001b[0m \u001b[0mtensor\u001b[0m\u001b[0;34m.\u001b[0m\u001b[0mdtype\u001b[0m\u001b[0;34m\u001b[0m\u001b[0;34m\u001b[0m\u001b[0m\n",
            "\u001b[0;31mKeyboardInterrupt\u001b[0m: "
          ]
        }
      ],
      "source": [
        "projected_dimensions = [15, 30, 50, 100] # This are the dimensions we are going to project the data into\n",
        "epochs = 30\n",
        "models_autoencoder3 = []\n",
        "for run in range(len(projected_dimensions)):\n",
        "    model = autoencoder3(projected_dimensions[run])  # To initialize the model with the projected dimension\n",
        "    model.do_training(epochs,train_set[INDEX],valid_set[INDEX])\n",
        "    models_autoencoder3.append(model)"
      ]
    },
    {
      "cell_type": "markdown",
      "metadata": {
        "id": "8Cv1gKgZyena"
      },
      "source": [
        "Visualization of reconstructed images"
      ]
    },
    {
      "cell_type": "code",
      "execution_count": null,
      "metadata": {
        "colab": {
          "base_uri": "https://localhost:8080/",
          "height": 447
        },
        "id": "-C2_w-bg87bw",
        "outputId": "61f01e40-467b-403e-9139-e0a7ae4bf112"
      },
      "outputs": [
        {
          "output_type": "execute_result",
          "data": {
            "text/plain": [
              "<matplotlib.image.AxesImage at 0x7d4a1ba10b80>"
            ]
          },
          "metadata": {},
          "execution_count": 99
        },
        {
          "output_type": "display_data",
          "data": {
            "text/plain": [
              "<Figure size 640x480 with 1 Axes>"
            ],
            "image/png": "[encoded data removed]"
          },
          "metadata": {
            "image/png": {
              "width": 417,
              "height": 413
            }
          }
        }
      ],
      "source": [
        "img = train_set[INDEX].dataset.data[1,:,:]\n",
        "noised_img = add_noise(img, 100)\n",
        "plt.imshow(img.numpy().reshape([28,28]), cmap='Greys_r')"
      ]
    },
    {
      "cell_type": "code",
      "execution_count": null,
      "metadata": {
        "colab": {
          "base_uri": "https://localhost:8080/",
          "height": 447
        },
        "id": "amomyRpG-yUb",
        "outputId": "64a1e342-95f1-4882-85c3-fe366419dcbd"
      },
      "outputs": [
        {
          "output_type": "execute_result",
          "data": {
            "text/plain": [
              "<matplotlib.image.AxesImage at 0x7d4a1ba16800>"
            ]
          },
          "metadata": {},
          "execution_count": 100
        },
        {
          "output_type": "display_data",
          "data": {
            "text/plain": [
              "<Figure size 640x480 with 1 Axes>"
            ],
            "image/png": "[encoded data removed]"
          },
          "metadata": {
            "image/png": {
              "width": 417,
              "height": 413
            }
          }
        }
      ],
      "source": [
        "plt.imshow(noised_img.numpy().reshape([28,28]), cmap='Greys_r')"
      ]
    },
    {
      "cell_type": "code",
      "execution_count": null,
      "metadata": {
        "colab": {
          "base_uri": "https://localhost:8080/",
          "height": 447
        },
        "id": "foBVOGbKLr6A",
        "outputId": "bc367ddc-cd71-4c47-8040-634589c52690"
      },
      "outputs": [
        {
          "data": {
            "text/plain": [
              "<matplotlib.image.AxesImage at 0x7fbc47565710>"
            ]
          },
          "execution_count": 24,
          "metadata": {},
          "output_type": "execute_result"
        },
        {
          "data": {
            "image/png": "[encoded data removed]",
            "text/plain": [
              "<Figure size 640x480 with 1 Axes>"
            ]
          },
          "metadata": {
            "image/png": {
              "height": 413,
              "width": 416
            }
          },
          "output_type": "display_data"
        }
      ],
      "source": [
        "noised_img = noised_img.reshape(-1, 784)\n",
        "reconstructed = models_autoencoder3[-1].forward(noised_img.float())\n",
        "plt.imshow(reconstructed.detach().numpy().reshape([28,28]))"
      ]
    },
    {
      "cell_type": "markdown",
      "metadata": {
        "id": "G4R72KGfyena"
      },
      "source": [
        "# 5 layers at both encoder/decoder:"
      ]
    },
    {
      "cell_type": "code",
      "execution_count": null,
      "metadata": {
        "id": "NdVjO0MAyena"
      },
      "outputs": [],
      "source": [
        "class autoencoder5(nn.Module):\n",
        "    def __init__(self,projected_dimension):\n",
        "        super().__init__()\n",
        "        self.projected_dimension = projected_dimension\n",
        "        self.criterion = nn.MSELoss()\n",
        "        self.learning_rate = 0.001\n",
        "\n",
        "        if INDEX == 0:  # MNIST\n",
        "            self.name_train = f\"5_layer_with_PSNR_train_MNIST_{self.projected_dimension}\"\n",
        "            self.name_test = f\"5_layer_with_PSNR_test_MNIST_{self.projected_dimension}\"\n",
        "            self.dataset = \"MNIST\"\n",
        "\n",
        "        elif INDEX == 1:  # FMNIST\n",
        "            self.name_train = f\"5_layer_with_PSNR_train_FMNIST_{self.projected_dimension}\"\n",
        "            self.name_test = f\"5_layer_with_PSNR_test_FMNIST_{self.projected_dimension}\"\n",
        "            self.dataset = \"FMNIST\"\n",
        "\n",
        "        else:\n",
        "            raise ValueError(\"Inside autoencoder5, INDEX should be either 0 or 1.\")\n",
        "\n",
        "\n",
        "        self.project = \"project_1\"\n",
        "        self.architecture = \"linear_autoencoder\"\n",
        "        self.input_image_size = 784\n",
        "        self.outputs = []\n",
        "        self.loss_during_training = []\n",
        "        self.valid_loss_during_training = []\n",
        "\n",
        "        # Building an linear encoder with Linear\n",
        "        # layer followed by Relu activation function\n",
        "        # 784 -> projected dimension\n",
        "        self.encoder = nn.Sequential(\n",
        "            nn.Linear(784, 550),\n",
        "            nn.ReLU(),\n",
        "            #nn.Dropout(p=0.2),\n",
        "            nn.Linear(550, 400),\n",
        "            nn.ReLU(),\n",
        "            #nn.Dropout(p=0.2),\n",
        "            nn.Linear(400, 300),\n",
        "            nn.ReLU(),\n",
        "            #nn.Dropout(p=0.2),\n",
        "            nn.Linear(300,200),\n",
        "            nn.ReLU(),\n",
        "            #nn.Dropout(p=0.2),\n",
        "            nn.Linear(200,projected_dimension),\n",
        "            nn.ReLU()\n",
        "        )\n",
        "\n",
        "        # Building an linear decoder with Linear\n",
        "        # layer followed by Relu activation function\n",
        "        # The Sigmoid activation function\n",
        "        # outputs the value between 0 and 1\n",
        "        # projected dimension -> 784\n",
        "        self.decoder = nn.Sequential(\n",
        "            nn.Linear(projected_dimension, 200),\n",
        "            nn.ReLU(),\n",
        "            #nn.Dropout(p=0.2),\n",
        "            nn.Linear(200, 300),\n",
        "            nn.ReLU(),\n",
        "            #nn.Dropout(p=0.2),\n",
        "            nn.Linear(300, 400),\n",
        "            nn.ReLU(),\n",
        "            #nn.Dropout(p=0.2),\n",
        "            nn.Linear(400,550),\n",
        "            nn.ReLU(),\n",
        "            #nn.Dropout(p=0.2),\n",
        "            nn.Linear(550,784),\n",
        "            nn.Tanh()\n",
        "        )\n",
        "\n",
        "        self.optimizer = optim.Adam(self.parameters(), self.learning_rate)\n",
        "\n",
        "    def forward(self, image):\n",
        "        encoded = self.encoder(image)\n",
        "        decoded = self.decoder(encoded)\n",
        "        return decoded\n",
        "\n",
        "    def psnr(self, img1, img2):  #  Peak signal-to-noise ratio (PSNR)\n",
        "        mse_criterio = nn.MSELoss()\n",
        "        mse = mse_criterio(img1, img2)\n",
        "        max_pixel = 1.0\n",
        "        psnr = 20 * torch.log10(max_pixel / torch.sqrt(mse))\n",
        "        return psnr\n",
        "\n",
        "    def do_training(self, epochs, train_data, valid_data):\n",
        "        self.train()\n",
        "\n",
        "\n",
        "        wandb.init(  # Esto es para que se guarde en la plataforma de wandb y nos evitamos tener que hacerlo manualmente\n",
        "            # Set the project where this run will be logged\n",
        "            project=self.project,\n",
        "            # We pass a run name (otherwise it’ll be randomly assigned, like sunshine-lollypop-10)\n",
        "            name=self.name_train,\n",
        "            # Track hyperparameters and run metadata\n",
        "            config={\n",
        "                \"learning_rate\": self.learning_rate,\n",
        "                \"architecture\": self.architecture,\n",
        "                \"dataset\": self.dataset,\n",
        "                \"epochs\": epochs,\n",
        "            },\n",
        "        )\n",
        "\n",
        "        # Aqui es donde empieza realmente el entrenamiento\n",
        "        for epoch in range(epochs):\n",
        "            running_loss = 0.\n",
        "            for img, _ in train_data:\n",
        "                self.optimizer.zero_grad()\n",
        "                img = img.reshape(-1, self.input_image_size)\n",
        "                reconstructed = self.forward(img)\n",
        "                loss_train = self.criterion(reconstructed, img)\n",
        "\n",
        "                running_loss += loss_train.item()\n",
        "                loss_train.backward()\n",
        "                self.optimizer.step()\n",
        "\n",
        "            self.loss_during_training.append(running_loss/len(train_data))\n",
        "\n",
        "            with torch.no_grad():\n",
        "\n",
        "                # set model to evaluation mode\n",
        "                self.eval()\n",
        "\n",
        "                running_loss = 0.\n",
        "\n",
        "                for images,_ in valid_data:\n",
        "\n",
        "                    images = images.reshape(-1, self.input_image_size)\n",
        "\n",
        "                    out = self.forward(images)\n",
        "\n",
        "                    loss_valid = self.criterion(out,images)\n",
        "\n",
        "                    running_loss += loss_valid.item()\n",
        "                self.valid_loss_during_training.append(running_loss/len(valid_data))\n",
        "\n",
        "            # set model back to train mode\n",
        "            self.train()\n",
        "\n",
        "            print(\"Epoch: \", epoch + 1, \"Loss train: \", self.loss_during_training[-1], \", Loss valid: \", self.valid_loss_during_training[-1])\n",
        "            wandb.log({\"projected dimension\": projected_dimensions[run], \"Loss train\": self.loss_during_training[-1], \"Loss valid\": self.valid_loss_during_training[-1]})\n",
        "            self.outputs.append((projected_dimensions[run], epoch, img, reconstructed))\n",
        "\n",
        "        wandb.finish()\n",
        "\n",
        "    def eval_performance(self,data_test):\n",
        "\n",
        "      performance = 0\n",
        "\n",
        "      # Turn off gradients for validation, saves memory and computations\n",
        "      with torch.no_grad():\n",
        "\n",
        "          # set model to evaluation mode\n",
        "          self.eval()\n",
        "\n",
        "          for images,_ in data_test:\n",
        "\n",
        "              img = images.view(-1, self.input_image_size)\n",
        "              reconstructed = self.forward(img)\n",
        "              performance = self.psnr(reconstructed, img)\n",
        "\n",
        "\n",
        "          return performance"
      ]
    },
    {
      "cell_type": "code",
      "execution_count": null,
      "metadata": {
        "colab": {
          "base_uri": "https://localhost:8080/",
          "height": 1000,
          "referenced_widgets": [
            "c0675d719fb84554b04bd667845efe2a",
            "7fcd38cd126542e1902590e154e93a9f",
            "db039397a93d4d03954ec23a9c3e7a24",
            "f04f8c6d84fe4b39a01dcedc80d49cc4",
            "cd3f8439f93047b0a7e282defd0a2ca8",
            "feac8b1d35814684903b47b29374f7f9",
            "0867f6034298400fa3cda277701fa8db",
            "dfe658f5381b4b88ae4b08211d21b174",
            "4879c235bad748beaea7ff0c4ad61c0c",
            "f5f0b34829f94f6cb3b7c819757dd34a",
            "b74581d0213f449f8aabb8f5ab0a6a82",
            "bb661c949d234ee698e9e98a4809bc15",
            "7f88c8ca709340aea64128208b24dd52",
            "d07bf95520bb46429f005a1b877a1d3a",
            "cb054ef2d6dc477b8fa62a17fd80352d",
            "9cb84cfa49a8470f9e138b90ad7dbfc7",
            "08c2b1ae4f9a431b850ab8b7432500f2",
            "7717f2ead0854516bfb58f1c76b09880",
            "f56211e5c5eb45ab906b0b21c769c20b",
            "12be198da58e4fc0a0fa61970622c663",
            "8a4538354594444c8ffe7342ff817a1e",
            "ef61f7c066e3479190df422f1ddc1c50",
            "1e1bcb8660bc40feb0f732cf702aa1c3",
            "76cbb83644e348c0b91d3cc0b9a8fb9d",
            "6721da9bafb14c03b4c09ab46c63a4d9",
            "d2871d6abd1a49a694cb03715477cc07",
            "1ea31b7d429d4d8d99efbfc8f303fa40",
            "e16ff2dbf285487aa9d3c073143779e2",
            "e6e73e6dfacd46eb864fc7e96367491a",
            "9eb201ffc49f47a2b551462820c856d8",
            "9b54ed4682fd47deb1bfde2890bc53c8",
            "8cdd6b61ba084166adac74ac1bc6d2b0",
            "952ede4afd1e43a69b78b415d0c30ac5",
            "03110499a1fd4eee84f0c2f88cc7a44e",
            "4e0c3782555843499dde238bead11e1d",
            "f8e63957847e414685f3168303d8d9c9",
            "7843f09f409f4e8fbee343e2c80bb247",
            "2d8cc64089ba472ebd78bdfdc0d84f0e",
            "dc93c8da3001437986e1201c75841b21",
            "b48b6c3b2e834f80b7afc74de5531621",
            "e3713ee12d074dd1b6eb969c4e217bb2",
            "9a5d5c81cb7a41c6a5cc3697a50f4313",
            "56952da47d344dd69f8c34830c7fb0df",
            "9ec37724ee284677818ceb9ac960a063",
            "96db207f470c40918f5285ede7c4c5a4",
            "2c83ce4b3f8a4bd4b80555bcf4e0ef37",
            "04f666feb1944d5fae455d98c58d67ef"
          ]
        },
        "id": "UVnJTKGkelzf",
        "outputId": "a6a987e3-3531-4ff3-c291-4edc40930f2c"
      },
      "outputs": [
        {
          "data": {
            "text/html": [
              "Tracking run with wandb version 0.16.4"
            ],
            "text/plain": [
              "<IPython.core.display.HTML object>"
            ]
          },
          "metadata": {},
          "output_type": "display_data"
        },
        {
          "data": {
            "text/html": [
              "Run data is saved locally in <code>/mnt/c/Users/alejo/OneDrive - Universidad Carlos III de Madrid/UC3M/Year 4/Segundo Cuatri/Neural Networks/projects/wandb/run-20240306_103432-oa4fcd8x</code>"
            ],
            "text/plain": [
              "<IPython.core.display.HTML object>"
            ]
          },
          "metadata": {},
          "output_type": "display_data"
        },
        {
          "data": {
            "text/html": [
              "Syncing run <strong><a href='https://wandb.ai/zurdito/project_1/runs/oa4fcd8x' target=\"_blank\">5_layer_with_PSNR_train15</a></strong> to <a href='https://wandb.ai/zurdito/project_1' target=\"_blank\">Weights & Biases</a> (<a href='https://wandb.me/run' target=\"_blank\">docs</a>)<br/>"
            ],
            "text/plain": [
              "<IPython.core.display.HTML object>"
            ]
          },
          "metadata": {},
          "output_type": "display_data"
        },
        {
          "data": {
            "text/html": [
              " View project at <a href='https://wandb.ai/zurdito/project_1' target=\"_blank\">https://wandb.ai/zurdito/project_1</a>"
            ],
            "text/plain": [
              "<IPython.core.display.HTML object>"
            ]
          },
          "metadata": {},
          "output_type": "display_data"
        },
        {
          "data": {
            "text/html": [
              " View run at <a href='https://wandb.ai/zurdito/project_1/runs/oa4fcd8x' target=\"_blank\">https://wandb.ai/zurdito/project_1/runs/oa4fcd8x</a>"
            ],
            "text/plain": [
              "<IPython.core.display.HTML object>"
            ]
          },
          "metadata": {},
          "output_type": "display_data"
        },
        {
          "name": "stdout",
          "output_type": "stream",
          "text": [
            "Epoch:  1 Loss train:  0.20077844192697245 , Loss valid:  0.1356616902858653\n",
            "Epoch:  2 Loss train:  0.1157607698220421 , Loss valid:  0.1080688124641459\n",
            "Epoch:  3 Loss train:  0.09600080065005882 , Loss valid:  0.09233898647288058\n",
            "Epoch:  4 Loss train:  0.08391867596021091 , Loss valid:  0.08282232848887748\n",
            "Epoch:  5 Loss train:  0.07606320489536632 , Loss valid:  0.07562803278895135\n",
            "Epoch:  6 Loss train:  0.07089229322842915 , Loss valid:  0.07257152074512015\n",
            "Epoch:  7 Loss train:  0.06700879758202725 , Loss valid:  0.06939082621259893\n",
            "Epoch:  8 Loss train:  0.06354055282215333 , Loss valid:  0.06636984101001253\n",
            "Epoch:  9 Loss train:  0.06118786719691178 , Loss valid:  0.06494162865775696\n",
            "Epoch:  10 Loss train:  0.05900059616066177 , Loss valid:  0.06250537735350589\n",
            "Epoch:  11 Loss train:  0.057015409529082135 , Loss valid:  0.061052669600603425\n",
            "Epoch:  12 Loss train:  0.05568939947459677 , Loss valid:  0.0606036828236377\n",
            "Epoch:  13 Loss train:  0.0543986147491854 , Loss valid:  0.05906974787407733\n",
            "Epoch:  14 Loss train:  0.05303719271482392 , Loss valid:  0.05779226129042341\n",
            "Epoch:  15 Loss train:  0.05194871013306759 , Loss valid:  0.05896306859051927\n",
            "Epoch:  16 Loss train:  0.05082438616822897 , Loss valid:  0.05679145571082196\n",
            "Epoch:  17 Loss train:  0.049779051512649115 , Loss valid:  0.0556076743184252\n",
            "Epoch:  18 Loss train:  0.04885797988919711 , Loss valid:  0.055705857102541216\n",
            "Epoch:  19 Loss train:  0.0481092275374315 , Loss valid:  0.05369565578851294\n",
            "Epoch:  20 Loss train:  0.047303888449360704 , Loss valid:  0.054648942262568376\n",
            "Epoch:  21 Loss train:  0.04652728846254335 , Loss valid:  0.052972036615965216\n",
            "Epoch:  22 Loss train:  0.046044666769872 , Loss valid:  0.05319293119171833\n",
            "Epoch:  23 Loss train:  0.045083808194083926 , Loss valid:  0.051657927844752656\n",
            "Epoch:  24 Loss train:  0.04445325003788722 , Loss valid:  0.051722239623678494\n",
            "Epoch:  25 Loss train:  0.04357558355497366 , Loss valid:  0.05111069684015944\n",
            "Epoch:  26 Loss train:  0.04305768691648899 , Loss valid:  0.05048319267782759\n",
            "Epoch:  27 Loss train:  0.04241322955666957 , Loss valid:  0.04955251304076073\n",
            "Epoch:  28 Loss train:  0.04162084458088926 , Loss valid:  0.049325898622578766\n",
            "Epoch:  29 Loss train:  0.041240181715693325 , Loss valid:  0.04913846831372444\n",
            "Epoch:  30 Loss train:  0.040556787947108125 , Loss valid:  0.048008772936907224\n"
          ]
        },
        {
          "data": {
            "application/vnd.jupyter.widget-view+json": {
              "model_id": "e3713ee12d074dd1b6eb969c4e217bb2",
              "version_major": 2,
              "version_minor": 0
            },
            "text/plain": [
              "VBox(children=(Label(value='0.002 MB of 0.002 MB uploaded\\r'), FloatProgress(value=1.0, max=1.0)))"
            ]
          },
          "metadata": {},
          "output_type": "display_data"
        },
        {
          "data": {
            "text/html": [
              "<style>\n",
              "    table.wandb td:nth-child(1) { padding: 0 10px; text-align: left ; width: auto;} td:nth-child(2) {text-align: left ; width: 100%}\n",
              "    .wandb-row { display: flex; flex-direction: row; flex-wrap: wrap; justify-content: flex-start; width: 100% }\n",
              "    .wandb-col { display: flex; flex-direction: column; flex-basis: 100%; flex: 1; padding: 10px; }\n",
              "    </style>\n",
              "<div class=\"wandb-row\"><div class=\"wandb-col\"><h3>Run history:</h3><br/><table class=\"wandb\"><tr><td>Loss train</td><td>█▄▃▃▃▂▂▂▂▂▂▂▂▂▁▁▁▁▁▁▁▁▁▁▁▁▁▁▁▁</td></tr><tr><td>Loss valid</td><td>█▆▅▄▃▃▃▂▂▂▂▂▂▂▂▂▂▂▁▂▁▁▁▁▁▁▁▁▁▁</td></tr><tr><td>projected dimension</td><td>▁▁▁▁▁▁▁▁▁▁▁▁▁▁▁▁▁▁▁▁▁▁▁▁▁▁▁▁▁▁</td></tr></table><br/></div><div class=\"wandb-col\"><h3>Run summary:</h3><br/><table class=\"wandb\"><tr><td>Loss train</td><td>0.04056</td></tr><tr><td>Loss valid</td><td>0.04801</td></tr><tr><td>projected dimension</td><td>15</td></tr></table><br/></div></div>"
            ],
            "text/plain": [
              "<IPython.core.display.HTML object>"
            ]
          },
          "metadata": {},
          "output_type": "display_data"
        },
        {
          "data": {
            "text/html": [
              " View run <strong style=\"color:#cdcd00\">5_layer_with_PSNR_train15</strong> at: <a href='https://wandb.ai/zurdito/project_1/runs/oa4fcd8x' target=\"_blank\">https://wandb.ai/zurdito/project_1/runs/oa4fcd8x</a><br/>Synced 6 W&B file(s), 0 media file(s), 0 artifact file(s) and 0 other file(s)"
            ],
            "text/plain": [
              "<IPython.core.display.HTML object>"
            ]
          },
          "metadata": {},
          "output_type": "display_data"
        },
        {
          "data": {
            "text/html": [
              "Find logs at: <code>./wandb/run-20240306_103432-oa4fcd8x/logs</code>"
            ],
            "text/plain": [
              "<IPython.core.display.HTML object>"
            ]
          },
          "metadata": {},
          "output_type": "display_data"
        },
        {
          "data": {
            "application/vnd.jupyter.widget-view+json": {
              "model_id": "9a5d5c81cb7a41c6a5cc3697a50f4313",
              "version_major": 2,
              "version_minor": 0
            },
            "text/plain": [
              "VBox(children=(Label(value='Waiting for wandb.init()...\\r'), FloatProgress(value=0.011112663055554448, max=1.0…"
            ]
          },
          "metadata": {},
          "output_type": "display_data"
        },
        {
          "data": {
            "text/html": [
              "Tracking run with wandb version 0.16.4"
            ],
            "text/plain": [
              "<IPython.core.display.HTML object>"
            ]
          },
          "metadata": {},
          "output_type": "display_data"
        },
        {
          "data": {
            "text/html": [
              "Run data is saved locally in <code>/mnt/c/Users/alejo/OneDrive - Universidad Carlos III de Madrid/UC3M/Year 4/Segundo Cuatri/Neural Networks/projects/wandb/run-20240306_104418-hvw28s3t</code>"
            ],
            "text/plain": [
              "<IPython.core.display.HTML object>"
            ]
          },
          "metadata": {},
          "output_type": "display_data"
        },
        {
          "data": {
            "text/html": [
              "Syncing run <strong><a href='https://wandb.ai/zurdito/project_1/runs/hvw28s3t' target=\"_blank\">5_layer_with_PSNR_train30</a></strong> to <a href='https://wandb.ai/zurdito/project_1' target=\"_blank\">Weights & Biases</a> (<a href='https://wandb.me/run' target=\"_blank\">docs</a>)<br/>"
            ],
            "text/plain": [
              "<IPython.core.display.HTML object>"
            ]
          },
          "metadata": {},
          "output_type": "display_data"
        },
        {
          "data": {
            "text/html": [
              " View project at <a href='https://wandb.ai/zurdito/project_1' target=\"_blank\">https://wandb.ai/zurdito/project_1</a>"
            ],
            "text/plain": [
              "<IPython.core.display.HTML object>"
            ]
          },
          "metadata": {},
          "output_type": "display_data"
        },
        {
          "data": {
            "text/html": [
              " View run at <a href='https://wandb.ai/zurdito/project_1/runs/hvw28s3t' target=\"_blank\">https://wandb.ai/zurdito/project_1/runs/hvw28s3t</a>"
            ],
            "text/plain": [
              "<IPython.core.display.HTML object>"
            ]
          },
          "metadata": {},
          "output_type": "display_data"
        },
        {
          "name": "stdout",
          "output_type": "stream",
          "text": [
            "Epoch:  1 Loss train:  0.19922852268527177 , Loss valid:  0.13369552705516208\n",
            "Epoch:  2 Loss train:  0.12055318511556834 , Loss valid:  0.11718746357141657\n",
            "Epoch:  3 Loss train:  0.10608258336486126 , Loss valid:  0.10046215634396735\n",
            "Epoch:  4 Loss train:  0.09368769745130769 , Loss valid:  0.09404523046092784\n",
            "Epoch:  5 Loss train:  0.08608981446278366 , Loss valid:  0.08715246072474947\n",
            "Epoch:  6 Loss train:  0.08090042814993384 , Loss valid:  0.08268086456872047\n",
            "Epoch:  7 Loss train:  0.07597024341389029 , Loss valid:  0.07805770337581634\n",
            "Epoch:  8 Loss train:  0.07159080520399254 , Loss valid:  0.07399376505549918\n",
            "Epoch:  9 Loss train:  0.06714461791456085 , Loss valid:  0.07006471077812479\n",
            "Epoch:  10 Loss train:  0.06345001743069258 , Loss valid:  0.06616939602697149\n",
            "Epoch:  11 Loss train:  0.060877952269617126 , Loss valid:  0.06278120577335358\n",
            "Epoch:  12 Loss train:  0.05824704375118017 , Loss valid:  0.06264892489986217\n",
            "Epoch:  13 Loss train:  0.05651078119461255 , Loss valid:  0.06089964887880264\n",
            "Epoch:  14 Loss train:  0.05479756458027458 , Loss valid:  0.05911008523816758\n",
            "Epoch:  15 Loss train:  0.053500623759728944 , Loss valid:  0.06012185575797203\n",
            "Epoch:  16 Loss train:  0.05212820908160542 , Loss valid:  0.0582324540519968\n",
            "Epoch:  17 Loss train:  0.05084829667942937 , Loss valid:  0.05643111638566281\n",
            "Epoch:  18 Loss train:  0.049542976045896386 , Loss valid:  0.05530546634121144\n",
            "Epoch:  19 Loss train:  0.048405619539235806 , Loss valid:  0.05507782789620947\n",
            "Epoch:  20 Loss train:  0.047403417196950286 , Loss valid:  0.054069341624036746\n",
            "Epoch:  21 Loss train:  0.04636286646233533 , Loss valid:  0.05165533130156233\n",
            "Epoch:  22 Loss train:  0.04559942515863275 , Loss valid:  0.05313178291346164\n",
            "Epoch:  23 Loss train:  0.044443139478310266 , Loss valid:  0.0519319216780206\n",
            "Epoch:  24 Loss train:  0.043844019004609436 , Loss valid:  0.05039168455182238\n",
            "Epoch:  25 Loss train:  0.04301369131479243 , Loss valid:  0.05000199707264596\n",
            "Epoch:  26 Loss train:  0.04236692423000932 , Loss valid:  0.04967764457489582\n",
            "Epoch:  27 Loss train:  0.04186180665221235 , Loss valid:  0.050638540247653394\n",
            "Epoch:  28 Loss train:  0.04104075049028986 , Loss valid:  0.04787139014360753\n",
            "Epoch:  29 Loss train:  0.040381935287520966 , Loss valid:  0.04924702366932909\n",
            "Epoch:  30 Loss train:  0.0401604471844621 , Loss valid:  0.04810452538918942\n"
          ]
        },
        {
          "data": {
            "application/vnd.jupyter.widget-view+json": {
              "model_id": "56952da47d344dd69f8c34830c7fb0df",
              "version_major": 2,
              "version_minor": 0
            },
            "text/plain": [
              "VBox(children=(Label(value='0.002 MB of 0.029 MB uploaded\\r'), FloatProgress(value=0.05978117585025046, max=1.…"
            ]
          },
          "metadata": {},
          "output_type": "display_data"
        },
        {
          "data": {
            "text/html": [
              "<style>\n",
              "    table.wandb td:nth-child(1) { padding: 0 10px; text-align: left ; width: auto;} td:nth-child(2) {text-align: left ; width: 100%}\n",
              "    .wandb-row { display: flex; flex-direction: row; flex-wrap: wrap; justify-content: flex-start; width: 100% }\n",
              "    .wandb-col { display: flex; flex-direction: column; flex-basis: 100%; flex: 1; padding: 10px; }\n",
              "    </style>\n",
              "<div class=\"wandb-row\"><div class=\"wandb-col\"><h3>Run history:</h3><br/><table class=\"wandb\"><tr><td>Loss train</td><td>█▅▄▃▃▃▃▂▂▂▂▂▂▂▂▂▁▁▁▁▁▁▁▁▁▁▁▁▁▁</td></tr><tr><td>Loss valid</td><td>█▇▅▅▄▄▃▃▃▂▂▂▂▂▂▂▂▂▂▂▁▁▁▁▁▁▁▁▁▁</td></tr><tr><td>projected dimension</td><td>▁▁▁▁▁▁▁▁▁▁▁▁▁▁▁▁▁▁▁▁▁▁▁▁▁▁▁▁▁▁</td></tr></table><br/></div><div class=\"wandb-col\"><h3>Run summary:</h3><br/><table class=\"wandb\"><tr><td>Loss train</td><td>0.04016</td></tr><tr><td>Loss valid</td><td>0.0481</td></tr><tr><td>projected dimension</td><td>30</td></tr></table><br/></div></div>"
            ],
            "text/plain": [
              "<IPython.core.display.HTML object>"
            ]
          },
          "metadata": {},
          "output_type": "display_data"
        },
        {
          "data": {
            "text/html": [
              " View run <strong style=\"color:#cdcd00\">5_layer_with_PSNR_train30</strong> at: <a href='https://wandb.ai/zurdito/project_1/runs/hvw28s3t' target=\"_blank\">https://wandb.ai/zurdito/project_1/runs/hvw28s3t</a><br/>Synced 6 W&B file(s), 0 media file(s), 0 artifact file(s) and 0 other file(s)"
            ],
            "text/plain": [
              "<IPython.core.display.HTML object>"
            ]
          },
          "metadata": {},
          "output_type": "display_data"
        },
        {
          "data": {
            "text/html": [
              "Find logs at: <code>./wandb/run-20240306_104418-hvw28s3t/logs</code>"
            ],
            "text/plain": [
              "<IPython.core.display.HTML object>"
            ]
          },
          "metadata": {},
          "output_type": "display_data"
        },
        {
          "data": {
            "application/vnd.jupyter.widget-view+json": {
              "model_id": "9ec37724ee284677818ceb9ac960a063",
              "version_major": 2,
              "version_minor": 0
            },
            "text/plain": [
              "VBox(children=(Label(value='Waiting for wandb.init()...\\r'), FloatProgress(value=0.01111258251111293, max=1.0)…"
            ]
          },
          "metadata": {},
          "output_type": "display_data"
        },
        {
          "data": {
            "text/html": [
              "Tracking run with wandb version 0.16.4"
            ],
            "text/plain": [
              "<IPython.core.display.HTML object>"
            ]
          },
          "metadata": {},
          "output_type": "display_data"
        },
        {
          "data": {
            "text/html": [
              "Run data is saved locally in <code>/mnt/c/Users/alejo/OneDrive - Universidad Carlos III de Madrid/UC3M/Year 4/Segundo Cuatri/Neural Networks/projects/wandb/run-20240306_105402-bb8hnd4u</code>"
            ],
            "text/plain": [
              "<IPython.core.display.HTML object>"
            ]
          },
          "metadata": {},
          "output_type": "display_data"
        },
        {
          "data": {
            "text/html": [
              "Syncing run <strong><a href='https://wandb.ai/zurdito/project_1/runs/bb8hnd4u' target=\"_blank\">5_layer_with_PSNR_train50</a></strong> to <a href='https://wandb.ai/zurdito/project_1' target=\"_blank\">Weights & Biases</a> (<a href='https://wandb.me/run' target=\"_blank\">docs</a>)<br/>"
            ],
            "text/plain": [
              "<IPython.core.display.HTML object>"
            ]
          },
          "metadata": {},
          "output_type": "display_data"
        },
        {
          "data": {
            "text/html": [
              " View project at <a href='https://wandb.ai/zurdito/project_1' target=\"_blank\">https://wandb.ai/zurdito/project_1</a>"
            ],
            "text/plain": [
              "<IPython.core.display.HTML object>"
            ]
          },
          "metadata": {},
          "output_type": "display_data"
        },
        {
          "data": {
            "text/html": [
              " View run at <a href='https://wandb.ai/zurdito/project_1/runs/bb8hnd4u' target=\"_blank\">https://wandb.ai/zurdito/project_1/runs/bb8hnd4u</a>"
            ],
            "text/plain": [
              "<IPython.core.display.HTML object>"
            ]
          },
          "metadata": {},
          "output_type": "display_data"
        },
        {
          "name": "stdout",
          "output_type": "stream",
          "text": [
            "Epoch:  1 Loss train:  0.19839657706589522 , Loss valid:  0.14230850874743564\n",
            "Epoch:  2 Loss train:  0.11739652228160677 , Loss valid:  0.10555442197525755\n",
            "Epoch:  3 Loss train:  0.09688997444358062 , Loss valid:  0.09422711783901173\n",
            "Epoch:  4 Loss train:  0.08791299931577999 , Loss valid:  0.0875931127908382\n",
            "Epoch:  5 Loss train:  0.0825973098822446 , Loss valid:  0.08333970793384186\n",
            "Epoch:  6 Loss train:  0.07873110357798975 , Loss valid:  0.08025642119823619\n",
            "Epoch:  7 Loss train:  0.07448138066948476 , Loss valid:  0.07709320650455799\n",
            "Epoch:  8 Loss train:  0.07066606568299573 , Loss valid:  0.07298197506907138\n",
            "Epoch:  9 Loss train:  0.06770726017632776 , Loss valid:  0.07227062221537245\n",
            "Epoch:  10 Loss train:  0.0656058314806697 , Loss valid:  0.071539533978447\n",
            "Epoch:  11 Loss train:  0.06342142094349996 , Loss valid:  0.06850719347279123\n",
            "Epoch:  12 Loss train:  0.061679556135045874 , Loss valid:  0.06564865787612631\n",
            "Epoch:  13 Loss train:  0.060005911631213334 , Loss valid:  0.06431528318752634\n",
            "Epoch:  14 Loss train:  0.05849743173034354 , Loss valid:  0.06431721428290327\n",
            "Epoch:  15 Loss train:  0.057135629139586606 , Loss valid:  0.06173961674596401\n",
            "Epoch:  16 Loss train:  0.055464680184906516 , Loss valid:  0.060017359320153583\n",
            "Epoch:  17 Loss train:  0.0538991869437847 , Loss valid:  0.05903473583624718\n",
            "Epoch:  18 Loss train:  0.05263549398990686 , Loss valid:  0.057856282750342755\n",
            "Epoch:  19 Loss train:  0.05137874590846794 , Loss valid:  0.05662850506128149\n",
            "Epoch:  20 Loss train:  0.050107516848418694 , Loss valid:  0.05709316240663224\n",
            "Epoch:  21 Loss train:  0.04907081264536828 , Loss valid:  0.055268766952955975\n",
            "Epoch:  22 Loss train:  0.04800407155099409 , Loss valid:  0.054344269744259245\n",
            "Epoch:  23 Loss train:  0.047450306761840526 , Loss valid:  0.05532287522516352\n",
            "Epoch:  24 Loss train:  0.04630540485430339 , Loss valid:  0.053377124889099854\n",
            "Epoch:  25 Loss train:  0.04544232986253602 , Loss valid:  0.05253442490988589\n",
            "Epoch:  26 Loss train:  0.044880844234615906 , Loss valid:  0.05233869975868692\n",
            "Epoch:  27 Loss train:  0.04416431959146972 , Loss valid:  0.05167200435349282\n",
            "Epoch:  28 Loss train:  0.04345702722308819 , Loss valid:  0.05083770791583873\n",
            "Epoch:  29 Loss train:  0.04274043649308045 , Loss valid:  0.05160010617147101\n",
            "Epoch:  30 Loss train:  0.04225847954777154 , Loss valid:  0.04953741039684478\n"
          ]
        },
        {
          "data": {
            "application/vnd.jupyter.widget-view+json": {
              "model_id": "96db207f470c40918f5285ede7c4c5a4",
              "version_major": 2,
              "version_minor": 0
            },
            "text/plain": [
              "VBox(children=(Label(value='0.002 MB of 0.002 MB uploaded\\r'), FloatProgress(value=1.0, max=1.0)))"
            ]
          },
          "metadata": {},
          "output_type": "display_data"
        },
        {
          "data": {
            "text/html": [
              "<style>\n",
              "    table.wandb td:nth-child(1) { padding: 0 10px; text-align: left ; width: auto;} td:nth-child(2) {text-align: left ; width: 100%}\n",
              "    .wandb-row { display: flex; flex-direction: row; flex-wrap: wrap; justify-content: flex-start; width: 100% }\n",
              "    .wandb-col { display: flex; flex-direction: column; flex-basis: 100%; flex: 1; padding: 10px; }\n",
              "    </style>\n",
              "<div class=\"wandb-row\"><div class=\"wandb-col\"><h3>Run history:</h3><br/><table class=\"wandb\"><tr><td>Loss train</td><td>█▄▃▃▃▃▂▂▂▂▂▂▂▂▂▂▂▁▁▁▁▁▁▁▁▁▁▁▁▁</td></tr><tr><td>Loss valid</td><td>█▅▄▄▄▃▃▃▃▃▂▂▂▂▂▂▂▂▂▂▁▁▁▁▁▁▁▁▁▁</td></tr><tr><td>projected dimension</td><td>▁▁▁▁▁▁▁▁▁▁▁▁▁▁▁▁▁▁▁▁▁▁▁▁▁▁▁▁▁▁</td></tr></table><br/></div><div class=\"wandb-col\"><h3>Run summary:</h3><br/><table class=\"wandb\"><tr><td>Loss train</td><td>0.04226</td></tr><tr><td>Loss valid</td><td>0.04954</td></tr><tr><td>projected dimension</td><td>50</td></tr></table><br/></div></div>"
            ],
            "text/plain": [
              "<IPython.core.display.HTML object>"
            ]
          },
          "metadata": {},
          "output_type": "display_data"
        },
        {
          "data": {
            "text/html": [
              " View run <strong style=\"color:#cdcd00\">5_layer_with_PSNR_train50</strong> at: <a href='https://wandb.ai/zurdito/project_1/runs/bb8hnd4u' target=\"_blank\">https://wandb.ai/zurdito/project_1/runs/bb8hnd4u</a><br/>Synced 6 W&B file(s), 0 media file(s), 0 artifact file(s) and 0 other file(s)"
            ],
            "text/plain": [
              "<IPython.core.display.HTML object>"
            ]
          },
          "metadata": {},
          "output_type": "display_data"
        },
        {
          "data": {
            "text/html": [
              "Find logs at: <code>./wandb/run-20240306_105402-bb8hnd4u/logs</code>"
            ],
            "text/plain": [
              "<IPython.core.display.HTML object>"
            ]
          },
          "metadata": {},
          "output_type": "display_data"
        },
        {
          "data": {
            "application/vnd.jupyter.widget-view+json": {
              "model_id": "2c83ce4b3f8a4bd4b80555bcf4e0ef37",
              "version_major": 2,
              "version_minor": 0
            },
            "text/plain": [
              "VBox(children=(Label(value='Waiting for wandb.init()...\\r'), FloatProgress(value=0.01111272986666639, max=1.0)…"
            ]
          },
          "metadata": {},
          "output_type": "display_data"
        },
        {
          "data": {
            "text/html": [
              "Tracking run with wandb version 0.16.4"
            ],
            "text/plain": [
              "<IPython.core.display.HTML object>"
            ]
          },
          "metadata": {},
          "output_type": "display_data"
        },
        {
          "data": {
            "text/html": [
              "Run data is saved locally in <code>/mnt/c/Users/alejo/OneDrive - Universidad Carlos III de Madrid/UC3M/Year 4/Segundo Cuatri/Neural Networks/projects/wandb/run-20240306_110333-pdua82ja</code>"
            ],
            "text/plain": [
              "<IPython.core.display.HTML object>"
            ]
          },
          "metadata": {},
          "output_type": "display_data"
        },
        {
          "data": {
            "text/html": [
              "Syncing run <strong><a href='https://wandb.ai/zurdito/project_1/runs/pdua82ja' target=\"_blank\">5_layer_with_PSNR_train100</a></strong> to <a href='https://wandb.ai/zurdito/project_1' target=\"_blank\">Weights & Biases</a> (<a href='https://wandb.me/run' target=\"_blank\">docs</a>)<br/>"
            ],
            "text/plain": [
              "<IPython.core.display.HTML object>"
            ]
          },
          "metadata": {},
          "output_type": "display_data"
        },
        {
          "data": {
            "text/html": [
              " View project at <a href='https://wandb.ai/zurdito/project_1' target=\"_blank\">https://wandb.ai/zurdito/project_1</a>"
            ],
            "text/plain": [
              "<IPython.core.display.HTML object>"
            ]
          },
          "metadata": {},
          "output_type": "display_data"
        },
        {
          "data": {
            "text/html": [
              " View run at <a href='https://wandb.ai/zurdito/project_1/runs/pdua82ja' target=\"_blank\">https://wandb.ai/zurdito/project_1/runs/pdua82ja</a>"
            ],
            "text/plain": [
              "<IPython.core.display.HTML object>"
            ]
          },
          "metadata": {},
          "output_type": "display_data"
        },
        {
          "name": "stdout",
          "output_type": "stream",
          "text": [
            "Epoch:  1 Loss train:  0.19779753862795504 , Loss valid:  0.13620411839256896\n",
            "Epoch:  2 Loss train:  0.11310057162137871 , Loss valid:  0.10450149371902993\n",
            "Epoch:  3 Loss train:  0.09490237774496729 , Loss valid:  0.09156296246863425\n",
            "Epoch:  4 Loss train:  0.08635214165869085 , Loss valid:  0.08632210692826738\n",
            "Epoch:  5 Loss train:  0.08191924073352394 , Loss valid:  0.0822024996927444\n",
            "Epoch:  6 Loss train:  0.07818649153606119 , Loss valid:  0.0813122403748492\n",
            "Epoch:  7 Loss train:  0.07611859231044284 , Loss valid:  0.07836050096344441\n",
            "Epoch:  8 Loss train:  0.07372488873608579 , Loss valid:  0.07678172710411092\n",
            "Epoch:  9 Loss train:  0.07119166299658404 , Loss valid:  0.07356274898381944\n",
            "Epoch:  10 Loss train:  0.06807761462087827 , Loss valid:  0.07052806734721712\n",
            "Epoch:  11 Loss train:  0.06443495191210373 , Loss valid:  0.06741605884534248\n",
            "Epoch:  12 Loss train:  0.0615486670920456 , Loss valid:  0.0676705056841069\n",
            "Epoch:  13 Loss train:  0.05943756963824853 , Loss valid:  0.06257696020159316\n",
            "Epoch:  14 Loss train:  0.05741627552461895 , Loss valid:  0.06175466087904382\n",
            "Epoch:  15 Loss train:  0.05565592090980234 , Loss valid:  0.06080481132611315\n",
            "Epoch:  16 Loss train:  0.05431755721590228 , Loss valid:  0.05890704176210342\n",
            "Epoch:  17 Loss train:  0.0528641043770635 , Loss valid:  0.059682853694291826\n",
            "Epoch:  18 Loss train:  0.05196234383831986 , Loss valid:  0.05834610035761874\n",
            "Epoch:  19 Loss train:  0.05054132414410229 , Loss valid:  0.05768063697726169\n",
            "Epoch:  20 Loss train:  0.04962580147813159 , Loss valid:  0.05475834614418922\n",
            "Epoch:  21 Loss train:  0.048494944856925445 , Loss valid:  0.05600289653273339\n",
            "Epoch:  22 Loss train:  0.047428342238576573 , Loss valid:  0.053606903014030864\n",
            "Epoch:  23 Loss train:  0.04677718053360216 , Loss valid:  0.055584625566893434\n",
            "Epoch:  24 Loss train:  0.04549758204004981 , Loss valid:  0.05309700068641216\n",
            "Epoch:  25 Loss train:  0.044728578639809384 , Loss valid:  0.052970549480078066\n",
            "Epoch:  26 Loss train:  0.04405035747384483 , Loss valid:  0.05055891248456975\n",
            "Epoch:  27 Loss train:  0.04337489114947279 , Loss valid:  0.049973275797798276\n",
            "Epoch:  28 Loss train:  0.042688779495868155 , Loss valid:  0.04903310083962501\n",
            "Epoch:  29 Loss train:  0.041998477837875144 , Loss valid:  0.04919379699103376\n",
            "Epoch:  30 Loss train:  0.04142290960193019 , Loss valid:  0.04831289083082625\n"
          ]
        },
        {
          "data": {
            "application/vnd.jupyter.widget-view+json": {
              "model_id": "04f666feb1944d5fae455d98c58d67ef",
              "version_major": 2,
              "version_minor": 0
            },
            "text/plain": [
              "VBox(children=(Label(value='0.002 MB of 0.002 MB uploaded\\r'), FloatProgress(value=1.0, max=1.0)))"
            ]
          },
          "metadata": {},
          "output_type": "display_data"
        },
        {
          "data": {
            "text/html": [
              "<style>\n",
              "    table.wandb td:nth-child(1) { padding: 0 10px; text-align: left ; width: auto;} td:nth-child(2) {text-align: left ; width: 100%}\n",
              "    .wandb-row { display: flex; flex-direction: row; flex-wrap: wrap; justify-content: flex-start; width: 100% }\n",
              "    .wandb-col { display: flex; flex-direction: column; flex-basis: 100%; flex: 1; padding: 10px; }\n",
              "    </style>\n",
              "<div class=\"wandb-row\"><div class=\"wandb-col\"><h3>Run history:</h3><br/><table class=\"wandb\"><tr><td>Loss train</td><td>█▄▃▃▃▃▃▂▂▂▂▂▂▂▂▂▂▁▁▁▁▁▁▁▁▁▁▁▁▁</td></tr><tr><td>Loss valid</td><td>█▅▄▄▄▄▃▃▃▃▃▃▂▂▂▂▂▂▂▂▂▁▂▁▁▁▁▁▁▁</td></tr><tr><td>projected dimension</td><td>▁▁▁▁▁▁▁▁▁▁▁▁▁▁▁▁▁▁▁▁▁▁▁▁▁▁▁▁▁▁</td></tr></table><br/></div><div class=\"wandb-col\"><h3>Run summary:</h3><br/><table class=\"wandb\"><tr><td>Loss train</td><td>0.04142</td></tr><tr><td>Loss valid</td><td>0.04831</td></tr><tr><td>projected dimension</td><td>100</td></tr></table><br/></div></div>"
            ],
            "text/plain": [
              "<IPython.core.display.HTML object>"
            ]
          },
          "metadata": {},
          "output_type": "display_data"
        },
        {
          "data": {
            "text/html": [
              " View run <strong style=\"color:#cdcd00\">5_layer_with_PSNR_train100</strong> at: <a href='https://wandb.ai/zurdito/project_1/runs/pdua82ja' target=\"_blank\">https://wandb.ai/zurdito/project_1/runs/pdua82ja</a><br/>Synced 6 W&B file(s), 0 media file(s), 0 artifact file(s) and 0 other file(s)"
            ],
            "text/plain": [
              "<IPython.core.display.HTML object>"
            ]
          },
          "metadata": {},
          "output_type": "display_data"
        },
        {
          "data": {
            "text/html": [
              "Find logs at: <code>./wandb/run-20240306_110333-pdua82ja/logs</code>"
            ],
            "text/plain": [
              "<IPython.core.display.HTML object>"
            ]
          },
          "metadata": {},
          "output_type": "display_data"
        }
      ],
      "source": [
        "projected_dimensions = [15, 30, 50, 100]\n",
        "epochs = 30\n",
        "models_autoencoder5 = []\n",
        "for run in range(len(projected_dimensions)):\n",
        "    model = autoencoder5(projected_dimensions[run])  # To initialize the model with the projected dimension\n",
        "    model.do_training(epochs,train_MNIST,valid_MNIST)\n",
        "    models_autoencoder5.append(model)"
      ]
    },
    {
      "cell_type": "markdown",
      "metadata": {
        "id": "nrESsVANyenc"
      },
      "source": [
        "# Save the models"
      ]
    },
    {
      "cell_type": "code",
      "execution_count": null,
      "metadata": {
        "id": "jnaB6rdAyenc"
      },
      "outputs": [],
      "source": [
        "if INDEX == 0:  # MNIST\n",
        "  for i in range(len(models_autoencoder3)):\n",
        "    torch.save(models_autoencoder3[i].state_dict(), f'model_autoencoder3_MNIST_{projected_dimensions[i]}.pth')\n",
        "    torch.save(models_autoencoder5[i].state_dict(), f'model_autoencoder5_MNIST_{projected_dimensions[i]}.pth')\n",
        "elif INDEX == 1:  # FMNIST\n",
        "  for i in range(len(models_autoencoder3)):\n",
        "    torch.save(models_autoencoder3[i].state_dict(), f'model_autoencoder3_FMNIST_{projected_dimensions[i]}.pth')\n",
        "    torch.save(models_autoencoder5[i].state_dict(), f'model_autoencoder5_FMNIST_{projected_dimensions[i]}.pth')\n",
        "\n",
        "else:\n",
        "        raise ValueError(\"While saving the models, INDEX should be either 0 or 1.\")"
      ]
    },
    {
      "cell_type": "markdown",
      "source": [
        "Load the models"
      ],
      "metadata": {
        "id": "GBQ_VcpVSnXv"
      }
    },
    {
      "cell_type": "code",
      "source": [
        "projected_dimensions = [15, 30, 50, 100] # This are the dimensions we are going to project the data into\n",
        "models_autoencoder3 = []\n",
        "models_autoencoder5 = []\n",
        "\n",
        "if INDEX == 0:  # MNIST\n",
        "  dataset0 = \"MNIST\"\n",
        "else:\n",
        "  dataset0 = \"FMNIST\"\n",
        "\n",
        "for i in range(4):\n",
        "    state_dict = torch.load(f'model_autoencoder3_{dataset0}_{projected_dimensions[i]}.pth')\n",
        "    model_3 = autoencoder3(projected_dimensions[i])\n",
        "    model_3.load_state_dict(state_dict)\n",
        "    models_autoencoder3.append(model_3)\n",
        "\n",
        "    state_dict = torch.load(f'model_autoencoder5_{dataset0}_{projected_dimensions[i]}.pth')\n",
        "    model_5 = autoencoder5(projected_dimensions[i])\n",
        "    model_5.load_state_dict(state_dict)\n",
        "    models_autoencoder5.append(model_5)"
      ],
      "metadata": {
        "id": "GuDeqdRdSmDr"
      },
      "execution_count": null,
      "outputs": []
    },
    {
      "cell_type": "markdown",
      "source": [
        "Evaluation of the performance of the models without regularization"
      ],
      "metadata": {
        "id": "YhHn3DCBoyHm"
      }
    },
    {
      "cell_type": "code",
      "source": [
        "def evaluate_model(models, train, valid, test):\n",
        "    for n_layers in range(len(models)):\n",
        "        for i, model in enumerate(models[n_layers]):\n",
        "            n_lay = 3 if n_layers == 0 else 5\n",
        "            print(f\"Autoenc{n_lay}, train-{projected_dimensions[i]}. Projections:\", model.eval_performance(train))\n",
        "            print(f\"Autoenc{n_lay}, val-{projected_dimensions[i]}. Projections:\", model.eval_performance(valid))\n",
        "            print(f\"Autoenc{n_lay}, test-{projected_dimensions[i]}. Projections:\", model.eval_performance(test), \"\\n\")"
      ],
      "metadata": {
        "id": "r1iPozd9oxl3"
      },
      "execution_count": null,
      "outputs": []
    },
    {
      "cell_type": "code",
      "source": [
        "models = [models_autoencoder3, models_autoencoder5]\n",
        "evaluate_model(models, train_MNIST, valid_MNIST, test_MNIST)"
      ],
      "metadata": {
        "id": "a1KP4OMzo9MD"
      },
      "execution_count": null,
      "outputs": []
    },
    {
      "cell_type": "markdown",
      "source": [
        "After analysing the losses of the train and validation sets we can see that we can apply early stopping in 15 epochs because the validation loss is getting small slowly after that point."
      ],
      "metadata": {
        "id": "3y4v1hBEs1vI"
      }
    },
    {
      "cell_type": "markdown",
      "metadata": {
        "id": "ULaBdnR4ovFP"
      },
      "source": [
        "## Training the models with early stopping, dropout and Lasso regularization"
      ]
    },
    {
      "cell_type": "code",
      "execution_count": null,
      "metadata": {
        "id": "aCU80C3routB"
      },
      "outputs": [],
      "source": [
        "\n",
        "class autoencoder3_regularized(nn.Module):\n",
        "    def __init__(self, projected_dimension):\n",
        "        super().__init__()\n",
        "        self.projected_dimension = projected_dimension\n",
        "        self.criterion = nn.MSELoss()\n",
        "        self.learning_rate = 0.001\n",
        "        self.lambd = 1e-5\n",
        "\n",
        "        if INDEX == 0:  # MNIST\n",
        "            self.name_train = f\"3_layer_train_dropout_MNIST_{self.projected_dimension}\"\n",
        "            self.name_test = f\"3_layer_test_dropout_MNIST_{self.projected_dimension}\"\n",
        "            self.dataset = \"MNIST\"\n",
        "\n",
        "        elif INDEX == 1:  # FMNIST\n",
        "            self.name_train = f\"3_layer_train_dropout_FMNIST_{self.projected_dimension}\"\n",
        "            self.name_test = f\"3_layer_test_dropout_FMNIST_{self.projected_dimension}\"\n",
        "            self.dataset = \"FMNIST\"\n",
        "\n",
        "        else:\n",
        "            raise ValueError(\"Inside autoencoder3, INDEX should be either 0 or 1.\")\n",
        "\n",
        "        self.project = \"project_1\"\n",
        "        self.architecture = \"linear_autoencoder\"\n",
        "        self.input_image_size = 784\n",
        "        self.outputs = []\n",
        "        self.loss_during_training = []\n",
        "        self.valid_loss_during_training = []\n",
        "\n",
        "\n",
        "\n",
        "        # Building an linear encoder with Linear\n",
        "        # layer followed by Relu activation function\n",
        "        # 784 -> projected dimension\n",
        "        self.encoder = nn.Sequential(\n",
        "            nn.Linear(self.input_image_size, 300),\n",
        "            nn.ReLU(),\n",
        "            nn.Dropout(p=0.2), # Dropout with a probability of 0.2\n",
        "            nn.Linear(300, 150),\n",
        "            nn.ReLU(),\n",
        "            nn.Dropout(p=0.2),\n",
        "            nn.Linear(150, self.projected_dimension),\n",
        "            nn.ReLU(),\n",
        "        )\n",
        "\n",
        "        # Building an linear decoder with Linear\n",
        "        # layer followed by Relu activation function\n",
        "        # The Sigmoid activation function\n",
        "        # outputs the value between 0 and 1\n",
        "        # projected dimension -> 784\n",
        "        self.decoder = nn.Sequential(\n",
        "            nn.Linear(self.projected_dimension, 150),\n",
        "            nn.ReLU(),\n",
        "            nn.Dropout(p=0.2),\n",
        "            nn.Linear(150, 300),\n",
        "            nn.ReLU(),\n",
        "            nn.Dropout(p=0.2),\n",
        "            nn.Linear(300, self.input_image_size),\n",
        "            nn.Tanh(),\n",
        "        )\n",
        "        self.optimizer = optim.Adam(self.parameters(), self.learning_rate)\n",
        "\n",
        "    def forward(self, image):\n",
        "        encoded = self.encoder(image)\n",
        "        decoded = self.decoder(encoded)\n",
        "        return encoded, decoded\n",
        "\n",
        "    def psnr(self, img1, img2):  #  Peak signal-to-noise ratio (PSNR)\n",
        "        mse_criterio = nn.MSELoss()\n",
        "        mse = mse_criterio(img1, img2)\n",
        "        max_pixel = 1.0\n",
        "        psnr = 20 * torch.log10(max_pixel / torch.sqrt(mse))\n",
        "        return psnr\n",
        "\n",
        "    def do_training(self, epochs, train_data, valid_data):\n",
        "        self.train()\n",
        "\n",
        "\n",
        "\n",
        "\n",
        "        wandb.init(  # Esto es para que se guarde en la plataforma de wandb y nos evitamos tener que hacerlo manualmente\n",
        "            # Set the project where this run will be logged\n",
        "            project=self.project,\n",
        "            # We pass a run name (otherwise it’ll be randomly assigned, like sunshine-lollypop-10)\n",
        "            name=self.name_train,\n",
        "            # Track hyperparameters and run metadata\n",
        "            config={\n",
        "                \"learning_rate\": self.learning_rate,\n",
        "                \"architecture\": self.architecture,\n",
        "                \"dataset\": self.dataset,\n",
        "                \"epochs\": epochs,\n",
        "            },\n",
        "        )\n",
        "\n",
        "        # Aqui es donde empieza realmente el entrenamiento\n",
        "        for epoch in range(epochs):\n",
        "            running_loss = 0.\n",
        "            for img, _ in train_data:\n",
        "                self.optimizer.zero_grad()\n",
        "                img = img.reshape(-1, self.input_image_size)\n",
        "                enco,reconstructed = self.forward(img)\n",
        "                l1_reg = torch.abs(enco).sum()\n",
        "                loss_train = self.criterion(reconstructed, img) + self.lambd*l1_reg\n",
        "\n",
        "                running_loss += loss_train.item()\n",
        "                loss_train.backward()\n",
        "                self.optimizer.step()\n",
        "\n",
        "            self.loss_during_training.append(running_loss/len(train_data))\n",
        "\n",
        "            with torch.no_grad():\n",
        "\n",
        "                # set model to evaluation mode\n",
        "                self.eval()\n",
        "\n",
        "                running_loss = 0.\n",
        "\n",
        "                for images,_ in valid_data:\n",
        "\n",
        "                    images = images.reshape(-1, self.input_image_size)\n",
        "\n",
        "                    enco,out = self.forward(images)\n",
        "                    l1_reg = torch.abs(enco).sum()\n",
        "                    loss_valid = self.criterion(out,images) + self.lambd*l1_reg\n",
        "\n",
        "                    running_loss += loss_valid.item()\n",
        "                self.valid_loss_during_training.append(running_loss/len(valid_data))\n",
        "\n",
        "            # set model back to train mode\n",
        "            self.train()\n",
        "\n",
        "            print(\"Epoch: \", epoch + 1, \"Loss train: \", self.loss_during_training[-1], \", Loss valid: \", self.valid_loss_during_training[-1])\n",
        "            wandb.log({\"projected dimension\": projected_dimensions[run], \"Loss train\": self.loss_during_training[-1], \"Loss valid\": self.valid_loss_during_training[-1]})\n",
        "            self.outputs.append((projected_dimensions[run], epoch, img, reconstructed))\n",
        "\n",
        "        wandb.finish()\n",
        "\n",
        "    def eval_performance(self,data_test):\n",
        "\n",
        "      performance = 0\n",
        "\n",
        "      # Turn off gradients for validation, saves memory and computations\n",
        "      with torch.no_grad():\n",
        "\n",
        "          # set model to evaluation mode\n",
        "          self.eval()\n",
        "\n",
        "          for images,_ in data_test:\n",
        "\n",
        "              img = images.view(-1, self.input_image_size)\n",
        "              reconstructed = self.forward(img)\n",
        "              performance = self.psnr(reconstructed, img)\n",
        "\n",
        "\n",
        "          return performance\n"
      ]
    },
    {
      "cell_type": "code",
      "source": [
        "projected_dimensions = [15, 30, 50, 100]\n",
        "epochs = 15\n",
        "models_autoencoder3_regularized = []\n",
        "for run in range(len(projected_dimensions)):\n",
        "    model = autoencoder3_regularized(projected_dimensions[run])  # To initialize the model with the projected dimension\n",
        "    model.do_training(epochs,train_set[INDEX],valid_set[INDEX])\n",
        "    models_autoencoder3_regularized.append(model)"
      ],
      "metadata": {
        "colab": {
          "base_uri": "https://localhost:8080/",
          "height": 1000,
          "referenced_widgets": [
            "0278f66cabcd4772a1f1c6e1d56d420b",
            "b501a54758294422854ff7b9df4c859f",
            "a757677bb5434dcaba97bace109aca42",
            "5ac34b297b484a72a43e5d6251d71cdc",
            "a7b37bb92faa4b4d8d18009dc7a16b69",
            "4e9870bd297e484c8c2ae3b66addb795",
            "35a4f8a829294cb89931ce4ba226746f",
            "1eb265e1c0274e87b3716c67966504b7",
            "dee857457ff940cfab07813a2b2d6e78",
            "d21b8ea6c54f484f813cff668e554a67",
            "4f53c24789aa484fbc218005b4ab261e",
            "27809b64f2d440c3836780f3ddec336d",
            "7d0faa15009e4774b6e113ae8495be98",
            "d3122b1546ab4b7ba6e4296efb20772a",
            "b65ada38917343afbb5ba04b04c3bc87",
            "6698c99e42be422f86a990c9796d66a2",
            "2a797e6329e44c0fad4f5489ea721b11",
            "f1ba801262094339859ba5035b6006f4",
            "fddd0c50c4e84ab9bec5c6caf4a0d378",
            "a346acddef54452a8d00a1a13ab75423",
            "0f8b64e06286495ab279ae7adcb1a260",
            "42da99a37b1e43bead73c030fbd9e14c",
            "b0aae56919f840da91dd37b17ca6f9a3",
            "c1bafb6eaba2432eb0d9ef16a8e42c35",
            "8e25fcbb989442a9902632991b9a0e5f",
            "c5ff4853cfcf490e9f0516aaaa83bbb2",
            "80fbbf6486d3415fb127d095bad3e03c",
            "10e92d6043be4ca4b173a469e7d533fa",
            "2df0a499b64740308102a8ac6e3d249e",
            "e01469570a994acbb14df84997972b7d",
            "c107ced0ebc64899baf36401afe18f58",
            "b7dfcd0b7d8c4ac6abe8b1500e6aa7a7",
            "fea23e15c1b14bc5b2641c483588dfc9",
            "9ce97f9de99543f38bf6e1925cfcd450",
            "3066450583824be588187a4dc10e7bc6",
            "60136765daec4e97b877a8a0be640d4a",
            "79132a938ef442d298e52eb902404097",
            "04ca5ef8fc4f41d196199eef87eed60c",
            "1e175ebb097845c1b12f70aca2cd1ba1",
            "5c7cddffd45244d58e3ceb9a201c2ebf"
          ]
        },
        "id": "BcQKkpLJOXSY",
        "outputId": "7017ddaf-87fb-4992-bed0-7dfcf9353934"
      },
      "execution_count": null,
      "outputs": [
        {
          "output_type": "display_data",
          "data": {
            "text/plain": [
              "<IPython.core.display.HTML object>"
            ],
            "text/html": [
              "Finishing last run (ID:48sze1qz) before initializing another..."
            ]
          },
          "metadata": {}
        },
        {
          "output_type": "display_data",
          "data": {
            "text/plain": [
              "VBox(children=(Label(value='0.010 MB of 0.010 MB uploaded\\r'), FloatProgress(value=1.0, max=1.0)))"
            ],
            "application/vnd.jupyter.widget-view+json": {
              "version_major": 2,
              "version_minor": 0,
              "model_id": "0278f66cabcd4772a1f1c6e1d56d420b"
            }
          },
          "metadata": {}
        },
        {
          "output_type": "display_data",
          "data": {
            "text/plain": [
              "<IPython.core.display.HTML object>"
            ],
            "text/html": [
              " View run <strong style=\"color:#cdcd00\">3_layer_train_dropout_MNIST_15</strong> at: <a href='https://wandb.ai/carlos3/project_1/runs/48sze1qz' target=\"_blank\">https://wandb.ai/carlos3/project_1/runs/48sze1qz</a><br/>Synced 4 W&B file(s), 0 media file(s), 0 artifact file(s) and 0 other file(s)"
            ]
          },
          "metadata": {}
        },
        {
          "output_type": "display_data",
          "data": {
            "text/plain": [
              "<IPython.core.display.HTML object>"
            ],
            "text/html": [
              "Find logs at: <code>./wandb/run-20240306_204943-48sze1qz/logs</code>"
            ]
          },
          "metadata": {}
        },
        {
          "output_type": "display_data",
          "data": {
            "text/plain": [
              "<IPython.core.display.HTML object>"
            ],
            "text/html": [
              "Successfully finished last run (ID:48sze1qz). Initializing new run:<br/>"
            ]
          },
          "metadata": {}
        },
        {
          "output_type": "display_data",
          "data": {
            "text/plain": [
              "<IPython.core.display.HTML object>"
            ],
            "text/html": [
              "Tracking run with wandb version 0.16.4"
            ]
          },
          "metadata": {}
        },
        {
          "output_type": "display_data",
          "data": {
            "text/plain": [
              "<IPython.core.display.HTML object>"
            ],
            "text/html": [
              "Run data is saved locally in <code>/content/wandb/run-20240306_205036-h0o2c74q</code>"
            ]
          },
          "metadata": {}
        },
        {
          "output_type": "display_data",
          "data": {
            "text/plain": [
              "<IPython.core.display.HTML object>"
            ],
            "text/html": [
              "Syncing run <strong><a href='https://wandb.ai/carlos3/project_1/runs/h0o2c74q' target=\"_blank\">3_layer_train_dropout_MNIST_15</a></strong> to <a href='https://wandb.ai/carlos3/project_1' target=\"_blank\">Weights & Biases</a> (<a href='https://wandb.me/run' target=\"_blank\">docs</a>)<br/>"
            ]
          },
          "metadata": {}
        },
        {
          "output_type": "display_data",
          "data": {
            "text/plain": [
              "<IPython.core.display.HTML object>"
            ],
            "text/html": [
              " View project at <a href='https://wandb.ai/carlos3/project_1' target=\"_blank\">https://wandb.ai/carlos3/project_1</a>"
            ]
          },
          "metadata": {}
        },
        {
          "output_type": "display_data",
          "data": {
            "text/plain": [
              "<IPython.core.display.HTML object>"
            ],
            "text/html": [
              " View run at <a href='https://wandb.ai/carlos3/project_1/runs/h0o2c74q' target=\"_blank\">https://wandb.ai/carlos3/project_1/runs/h0o2c74q</a>"
            ]
          },
          "metadata": {}
        },
        {
          "output_type": "stream",
          "name": "stdout",
          "text": [
            "Epoch:  1 Loss train:  0.22782868925820698 , Loss valid:  0.15837436128169932\n",
            "Epoch:  2 Loss train:  0.15201256942765956 , Loss valid:  0.125970503339108\n",
            "Epoch:  3 Loss train:  0.13685291483786635 , Loss valid:  0.11563253916324454\n",
            "Epoch:  4 Loss train:  0.1303542666666379 , Loss valid:  0.11153586706582536\n",
            "Epoch:  5 Loss train:  0.12659378260882062 , Loss valid:  0.1071957529542294\n",
            "Epoch:  6 Loss train:  0.12384715944062918 , Loss valid:  0.10340829203103451\n",
            "Epoch:  7 Loss train:  0.12150243038988927 , Loss valid:  0.10232620867008858\n",
            "Epoch:  8 Loss train:  0.11975220236292278 , Loss valid:  0.09861256251943873\n",
            "Epoch:  9 Loss train:  0.11797261773608625 , Loss valid:  0.09740339165672343\n",
            "Epoch:  10 Loss train:  0.11682387021243233 , Loss valid:  0.09592733341962734\n",
            "Epoch:  11 Loss train:  0.11550909002438527 , Loss valid:  0.09749492923630045\n",
            "Epoch:  12 Loss train:  0.11470087728759443 , Loss valid:  0.09427071644904765\n",
            "Epoch:  13 Loss train:  0.11394568003544753 , Loss valid:  0.09251231817488975\n",
            "Epoch:  14 Loss train:  0.11314184321302244 , Loss valid:  0.09233772450305046\n",
            "Epoch:  15 Loss train:  0.11246526797979393 , Loss valid:  0.09228135480525645\n"
          ]
        },
        {
          "output_type": "display_data",
          "data": {
            "text/plain": [
              "VBox(children=(Label(value='0.001 MB of 0.012 MB uploaded\\r'), FloatProgress(value=0.08749691332619969, max=1.…"
            ],
            "application/vnd.jupyter.widget-view+json": {
              "version_major": 2,
              "version_minor": 0,
              "model_id": "dee857457ff940cfab07813a2b2d6e78"
            }
          },
          "metadata": {}
        },
        {
          "output_type": "display_data",
          "data": {
            "text/plain": [
              "<IPython.core.display.HTML object>"
            ],
            "text/html": [
              "<style>\n",
              "    table.wandb td:nth-child(1) { padding: 0 10px; text-align: left ; width: auto;} td:nth-child(2) {text-align: left ; width: 100%}\n",
              "    .wandb-row { display: flex; flex-direction: row; flex-wrap: wrap; justify-content: flex-start; width: 100% }\n",
              "    .wandb-col { display: flex; flex-direction: column; flex-basis: 100%; flex: 1; padding: 10px; }\n",
              "    </style>\n",
              "<div class=\"wandb-row\"><div class=\"wandb-col\"><h3>Run history:</h3><br/><table class=\"wandb\"><tr><td>Loss train</td><td>█▃▂▂▂▂▂▁▁▁▁▁▁▁▁</td></tr><tr><td>Loss valid</td><td>█▅▃▃▃▂▂▂▂▁▂▁▁▁▁</td></tr><tr><td>projected dimension</td><td>▁▁▁▁▁▁▁▁▁▁▁▁▁▁▁</td></tr></table><br/></div><div class=\"wandb-col\"><h3>Run summary:</h3><br/><table class=\"wandb\"><tr><td>Loss train</td><td>0.11247</td></tr><tr><td>Loss valid</td><td>0.09228</td></tr><tr><td>projected dimension</td><td>15</td></tr></table><br/></div></div>"
            ]
          },
          "metadata": {}
        },
        {
          "output_type": "display_data",
          "data": {
            "text/plain": [
              "<IPython.core.display.HTML object>"
            ],
            "text/html": [
              " View run <strong style=\"color:#cdcd00\">3_layer_train_dropout_MNIST_15</strong> at: <a href='https://wandb.ai/carlos3/project_1/runs/h0o2c74q' target=\"_blank\">https://wandb.ai/carlos3/project_1/runs/h0o2c74q</a><br/>Synced 5 W&B file(s), 0 media file(s), 0 artifact file(s) and 0 other file(s)"
            ]
          },
          "metadata": {}
        },
        {
          "output_type": "display_data",
          "data": {
            "text/plain": [
              "<IPython.core.display.HTML object>"
            ],
            "text/html": [
              "Find logs at: <code>./wandb/run-20240306_205036-h0o2c74q/logs</code>"
            ]
          },
          "metadata": {}
        },
        {
          "output_type": "display_data",
          "data": {
            "text/plain": [
              "<IPython.core.display.HTML object>"
            ],
            "text/html": [
              "Tracking run with wandb version 0.16.4"
            ]
          },
          "metadata": {}
        },
        {
          "output_type": "display_data",
          "data": {
            "text/plain": [
              "<IPython.core.display.HTML object>"
            ],
            "text/html": [
              "Run data is saved locally in <code>/content/wandb/run-20240306_205823-zx3vpnjv</code>"
            ]
          },
          "metadata": {}
        },
        {
          "output_type": "display_data",
          "data": {
            "text/plain": [
              "<IPython.core.display.HTML object>"
            ],
            "text/html": [
              "Syncing run <strong><a href='https://wandb.ai/carlos3/project_1/runs/zx3vpnjv' target=\"_blank\">3_layer_train_dropout_MNIST_30</a></strong> to <a href='https://wandb.ai/carlos3/project_1' target=\"_blank\">Weights & Biases</a> (<a href='https://wandb.me/run' target=\"_blank\">docs</a>)<br/>"
            ]
          },
          "metadata": {}
        },
        {
          "output_type": "display_data",
          "data": {
            "text/plain": [
              "<IPython.core.display.HTML object>"
            ],
            "text/html": [
              " View project at <a href='https://wandb.ai/carlos3/project_1' target=\"_blank\">https://wandb.ai/carlos3/project_1</a>"
            ]
          },
          "metadata": {}
        },
        {
          "output_type": "display_data",
          "data": {
            "text/plain": [
              "<IPython.core.display.HTML object>"
            ],
            "text/html": [
              " View run at <a href='https://wandb.ai/carlos3/project_1/runs/zx3vpnjv' target=\"_blank\">https://wandb.ai/carlos3/project_1/runs/zx3vpnjv</a>"
            ]
          },
          "metadata": {}
        },
        {
          "output_type": "stream",
          "name": "stdout",
          "text": [
            "Epoch:  1 Loss train:  0.2045550347644497 , Loss valid:  0.13762912461732296\n",
            "Epoch:  2 Loss train:  0.14252104188992895 , Loss valid:  0.1203300175514627\n",
            "Epoch:  3 Loss train:  0.13230725664603102 , Loss valid:  0.11244389208707403\n",
            "Epoch:  4 Loss train:  0.12667689367663115 , Loss valid:  0.10643104593804542\n",
            "Epoch:  5 Loss train:  0.12306483285713264 , Loss valid:  0.10265027141951501\n",
            "Epoch:  6 Loss train:  0.12012193486390804 , Loss valid:  0.10063265324273007\n",
            "Epoch:  7 Loss train:  0.11832008203914897 , Loss valid:  0.09838333567406268\n",
            "Epoch:  8 Loss train:  0.1167009014276449 , Loss valid:  0.09603991562381704\n",
            "Epoch:  9 Loss train:  0.11582288476215168 , Loss valid:  0.09629885643086535\n",
            "Epoch:  10 Loss train:  0.11438742510720411 , Loss valid:  0.09386948943138122\n",
            "Epoch:  11 Loss train:  0.11344247261612592 , Loss valid:  0.09245604416157337\n",
            "Epoch:  12 Loss train:  0.11268736535302279 , Loss valid:  0.09213812367079106\n",
            "Epoch:  13 Loss train:  0.1120130894493989 , Loss valid:  0.0909684733507481\n",
            "Epoch:  14 Loss train:  0.1113786461064592 , Loss valid:  0.0903318742805339\n",
            "Epoch:  15 Loss train:  0.11073580691167577 , Loss valid:  0.08954207672083632\n"
          ]
        },
        {
          "output_type": "display_data",
          "data": {
            "text/plain": [
              "VBox(children=(Label(value='0.001 MB of 0.001 MB uploaded\\r'), FloatProgress(value=1.0, max=1.0)))"
            ],
            "application/vnd.jupyter.widget-view+json": {
              "version_major": 2,
              "version_minor": 0,
              "model_id": "2a797e6329e44c0fad4f5489ea721b11"
            }
          },
          "metadata": {}
        },
        {
          "output_type": "display_data",
          "data": {
            "text/plain": [
              "<IPython.core.display.HTML object>"
            ],
            "text/html": [
              "<style>\n",
              "    table.wandb td:nth-child(1) { padding: 0 10px; text-align: left ; width: auto;} td:nth-child(2) {text-align: left ; width: 100%}\n",
              "    .wandb-row { display: flex; flex-direction: row; flex-wrap: wrap; justify-content: flex-start; width: 100% }\n",
              "    .wandb-col { display: flex; flex-direction: column; flex-basis: 100%; flex: 1; padding: 10px; }\n",
              "    </style>\n",
              "<div class=\"wandb-row\"><div class=\"wandb-col\"><h3>Run history:</h3><br/><table class=\"wandb\"><tr><td>Loss train</td><td>█▃▃▂▂▂▂▁▁▁▁▁▁▁▁</td></tr><tr><td>Loss valid</td><td>█▅▄▃▃▃▂▂▂▂▁▁▁▁▁</td></tr><tr><td>projected dimension</td><td>▁▁▁▁▁▁▁▁▁▁▁▁▁▁▁</td></tr></table><br/></div><div class=\"wandb-col\"><h3>Run summary:</h3><br/><table class=\"wandb\"><tr><td>Loss train</td><td>0.11074</td></tr><tr><td>Loss valid</td><td>0.08954</td></tr><tr><td>projected dimension</td><td>30</td></tr></table><br/></div></div>"
            ]
          },
          "metadata": {}
        },
        {
          "output_type": "display_data",
          "data": {
            "text/plain": [
              "<IPython.core.display.HTML object>"
            ],
            "text/html": [
              " View run <strong style=\"color:#cdcd00\">3_layer_train_dropout_MNIST_30</strong> at: <a href='https://wandb.ai/carlos3/project_1/runs/zx3vpnjv' target=\"_blank\">https://wandb.ai/carlos3/project_1/runs/zx3vpnjv</a><br/>Synced 5 W&B file(s), 0 media file(s), 0 artifact file(s) and 0 other file(s)"
            ]
          },
          "metadata": {}
        },
        {
          "output_type": "display_data",
          "data": {
            "text/plain": [
              "<IPython.core.display.HTML object>"
            ],
            "text/html": [
              "Find logs at: <code>./wandb/run-20240306_205823-zx3vpnjv/logs</code>"
            ]
          },
          "metadata": {}
        },
        {
          "output_type": "display_data",
          "data": {
            "text/plain": [
              "<IPython.core.display.HTML object>"
            ],
            "text/html": [
              "Tracking run with wandb version 0.16.4"
            ]
          },
          "metadata": {}
        },
        {
          "output_type": "display_data",
          "data": {
            "text/plain": [
              "<IPython.core.display.HTML object>"
            ],
            "text/html": [
              "Run data is saved locally in <code>/content/wandb/run-20240306_210548-wbktm5ts</code>"
            ]
          },
          "metadata": {}
        },
        {
          "output_type": "display_data",
          "data": {
            "text/plain": [
              "<IPython.core.display.HTML object>"
            ],
            "text/html": [
              "Syncing run <strong><a href='https://wandb.ai/carlos3/project_1/runs/wbktm5ts' target=\"_blank\">3_layer_train_dropout_MNIST_50</a></strong> to <a href='https://wandb.ai/carlos3/project_1' target=\"_blank\">Weights & Biases</a> (<a href='https://wandb.me/run' target=\"_blank\">docs</a>)<br/>"
            ]
          },
          "metadata": {}
        },
        {
          "output_type": "display_data",
          "data": {
            "text/plain": [
              "<IPython.core.display.HTML object>"
            ],
            "text/html": [
              " View project at <a href='https://wandb.ai/carlos3/project_1' target=\"_blank\">https://wandb.ai/carlos3/project_1</a>"
            ]
          },
          "metadata": {}
        },
        {
          "output_type": "display_data",
          "data": {
            "text/plain": [
              "<IPython.core.display.HTML object>"
            ],
            "text/html": [
              " View run at <a href='https://wandb.ai/carlos3/project_1/runs/wbktm5ts' target=\"_blank\">https://wandb.ai/carlos3/project_1/runs/wbktm5ts</a>"
            ]
          },
          "metadata": {}
        },
        {
          "output_type": "stream",
          "name": "stdout",
          "text": [
            "Epoch:  1 Loss train:  0.21269710110077125 , Loss valid:  0.1445105050472503\n",
            "Epoch:  2 Loss train:  0.14445962407626212 , Loss valid:  0.11977625650928375\n",
            "Epoch:  3 Loss train:  0.13175157526380976 , Loss valid:  0.11205998741565866\n",
            "Epoch:  4 Loss train:  0.1260522570122372 , Loss valid:  0.10567382155580723\n",
            "Epoch:  5 Loss train:  0.12201848131900822 , Loss valid:  0.10258489729876213\n",
            "Epoch:  6 Loss train:  0.11886995402164757 , Loss valid:  0.09749285515318526\n",
            "Epoch:  7 Loss train:  0.11616308393422514 , Loss valid:  0.09488396508262513\n",
            "Epoch:  8 Loss train:  0.1137643140656027 , Loss valid:  0.09261166538963926\n",
            "Epoch:  9 Loss train:  0.11212442623747682 , Loss valid:  0.09156868479987408\n",
            "Epoch:  10 Loss train:  0.11078596217769453 , Loss valid:  0.08964921020446939\n",
            "Epoch:  11 Loss train:  0.10947506326589394 , Loss valid:  0.08791859879138622\n",
            "Epoch:  12 Loss train:  0.10860589303245599 , Loss valid:  0.08783839237182699\n",
            "Epoch:  13 Loss train:  0.10792757104023952 , Loss valid:  0.08612200269039641\n",
            "Epoch:  14 Loss train:  0.10727275265592405 , Loss valid:  0.08478030667025992\n",
            "Epoch:  15 Loss train:  0.1066319837065583 , Loss valid:  0.08427099382623714\n"
          ]
        },
        {
          "output_type": "display_data",
          "data": {
            "text/plain": [
              "VBox(children=(Label(value='0.001 MB of 0.001 MB uploaded\\r'), FloatProgress(value=1.0, max=1.0)))"
            ],
            "application/vnd.jupyter.widget-view+json": {
              "version_major": 2,
              "version_minor": 0,
              "model_id": "8e25fcbb989442a9902632991b9a0e5f"
            }
          },
          "metadata": {}
        },
        {
          "output_type": "display_data",
          "data": {
            "text/plain": [
              "<IPython.core.display.HTML object>"
            ],
            "text/html": [
              "<style>\n",
              "    table.wandb td:nth-child(1) { padding: 0 10px; text-align: left ; width: auto;} td:nth-child(2) {text-align: left ; width: 100%}\n",
              "    .wandb-row { display: flex; flex-direction: row; flex-wrap: wrap; justify-content: flex-start; width: 100% }\n",
              "    .wandb-col { display: flex; flex-direction: column; flex-basis: 100%; flex: 1; padding: 10px; }\n",
              "    </style>\n",
              "<div class=\"wandb-row\"><div class=\"wandb-col\"><h3>Run history:</h3><br/><table class=\"wandb\"><tr><td>Loss train</td><td>█▃▃▂▂▂▂▁▁▁▁▁▁▁▁</td></tr><tr><td>Loss valid</td><td>█▅▄▃▃▃▂▂▂▂▁▁▁▁▁</td></tr><tr><td>projected dimension</td><td>▁▁▁▁▁▁▁▁▁▁▁▁▁▁▁</td></tr></table><br/></div><div class=\"wandb-col\"><h3>Run summary:</h3><br/><table class=\"wandb\"><tr><td>Loss train</td><td>0.10663</td></tr><tr><td>Loss valid</td><td>0.08427</td></tr><tr><td>projected dimension</td><td>50</td></tr></table><br/></div></div>"
            ]
          },
          "metadata": {}
        },
        {
          "output_type": "display_data",
          "data": {
            "text/plain": [
              "<IPython.core.display.HTML object>"
            ],
            "text/html": [
              " View run <strong style=\"color:#cdcd00\">3_layer_train_dropout_MNIST_50</strong> at: <a href='https://wandb.ai/carlos3/project_1/runs/wbktm5ts' target=\"_blank\">https://wandb.ai/carlos3/project_1/runs/wbktm5ts</a><br/>Synced 5 W&B file(s), 0 media file(s), 0 artifact file(s) and 0 other file(s)"
            ]
          },
          "metadata": {}
        },
        {
          "output_type": "display_data",
          "data": {
            "text/plain": [
              "<IPython.core.display.HTML object>"
            ],
            "text/html": [
              "Find logs at: <code>./wandb/run-20240306_210548-wbktm5ts/logs</code>"
            ]
          },
          "metadata": {}
        },
        {
          "output_type": "display_data",
          "data": {
            "text/plain": [
              "<IPython.core.display.HTML object>"
            ],
            "text/html": [
              "Tracking run with wandb version 0.16.4"
            ]
          },
          "metadata": {}
        },
        {
          "output_type": "display_data",
          "data": {
            "text/plain": [
              "<IPython.core.display.HTML object>"
            ],
            "text/html": [
              "Run data is saved locally in <code>/content/wandb/run-20240306_211305-m9s2jpu3</code>"
            ]
          },
          "metadata": {}
        },
        {
          "output_type": "display_data",
          "data": {
            "text/plain": [
              "<IPython.core.display.HTML object>"
            ],
            "text/html": [
              "Syncing run <strong><a href='https://wandb.ai/carlos3/project_1/runs/m9s2jpu3' target=\"_blank\">3_layer_train_dropout_MNIST_100</a></strong> to <a href='https://wandb.ai/carlos3/project_1' target=\"_blank\">Weights & Biases</a> (<a href='https://wandb.me/run' target=\"_blank\">docs</a>)<br/>"
            ]
          },
          "metadata": {}
        },
        {
          "output_type": "display_data",
          "data": {
            "text/plain": [
              "<IPython.core.display.HTML object>"
            ],
            "text/html": [
              " View project at <a href='https://wandb.ai/carlos3/project_1' target=\"_blank\">https://wandb.ai/carlos3/project_1</a>"
            ]
          },
          "metadata": {}
        },
        {
          "output_type": "display_data",
          "data": {
            "text/plain": [
              "<IPython.core.display.HTML object>"
            ],
            "text/html": [
              " View run at <a href='https://wandb.ai/carlos3/project_1/runs/m9s2jpu3' target=\"_blank\">https://wandb.ai/carlos3/project_1/runs/m9s2jpu3</a>"
            ]
          },
          "metadata": {}
        },
        {
          "output_type": "stream",
          "name": "stdout",
          "text": [
            "Epoch:  1 Loss train:  0.21593732357194478 , Loss valid:  0.14748767424137035\n",
            "Epoch:  2 Loss train:  0.1473130741770464 , Loss valid:  0.12315397611323824\n",
            "Epoch:  3 Loss train:  0.13494708470534533 , Loss valid:  0.11418680954486765\n",
            "Epoch:  4 Loss train:  0.12877259157936682 , Loss valid:  0.10832215221004284\n",
            "Epoch:  5 Loss train:  0.12371902685316111 , Loss valid:  0.10198395363193877\n",
            "Epoch:  6 Loss train:  0.11982256143396212 , Loss valid:  0.09789036499693039\n",
            "Epoch:  7 Loss train:  0.11688328593630683 , Loss valid:  0.09501549839339357\n",
            "Epoch:  8 Loss train:  0.11472883971873671 , Loss valid:  0.09311594585789011\n",
            "Epoch:  9 Loss train:  0.11296087135137482 , Loss valid:  0.08981770159716301\n",
            "Epoch:  10 Loss train:  0.11126374481880869 , Loss valid:  0.08945085476053521\n",
            "Epoch:  11 Loss train:  0.11025044801433316 , Loss valid:  0.08720949802626955\n",
            "Epoch:  12 Loss train:  0.10925794611896643 , Loss valid:  0.08682766011420717\n",
            "Epoch:  13 Loss train:  0.10809589937244626 , Loss valid:  0.0863640290308506\n",
            "Epoch:  14 Loss train:  0.10742830817418342 , Loss valid:  0.08514855481842731\n",
            "Epoch:  15 Loss train:  0.10686696475287052 , Loss valid:  0.08417526090398748\n"
          ]
        },
        {
          "output_type": "display_data",
          "data": {
            "text/plain": [
              "VBox(children=(Label(value='0.001 MB of 0.001 MB uploaded\\r'), FloatProgress(value=1.0, max=1.0)))"
            ],
            "application/vnd.jupyter.widget-view+json": {
              "version_major": 2,
              "version_minor": 0,
              "model_id": "fea23e15c1b14bc5b2641c483588dfc9"
            }
          },
          "metadata": {}
        },
        {
          "output_type": "display_data",
          "data": {
            "text/plain": [
              "<IPython.core.display.HTML object>"
            ],
            "text/html": [
              "<style>\n",
              "    table.wandb td:nth-child(1) { padding: 0 10px; text-align: left ; width: auto;} td:nth-child(2) {text-align: left ; width: 100%}\n",
              "    .wandb-row { display: flex; flex-direction: row; flex-wrap: wrap; justify-content: flex-start; width: 100% }\n",
              "    .wandb-col { display: flex; flex-direction: column; flex-basis: 100%; flex: 1; padding: 10px; }\n",
              "    </style>\n",
              "<div class=\"wandb-row\"><div class=\"wandb-col\"><h3>Run history:</h3><br/><table class=\"wandb\"><tr><td>Loss train</td><td>█▄▃▂▂▂▂▂▁▁▁▁▁▁▁</td></tr><tr><td>Loss valid</td><td>█▅▄▄▃▃▂▂▂▂▁▁▁▁▁</td></tr><tr><td>projected dimension</td><td>▁▁▁▁▁▁▁▁▁▁▁▁▁▁▁</td></tr></table><br/></div><div class=\"wandb-col\"><h3>Run summary:</h3><br/><table class=\"wandb\"><tr><td>Loss train</td><td>0.10687</td></tr><tr><td>Loss valid</td><td>0.08418</td></tr><tr><td>projected dimension</td><td>100</td></tr></table><br/></div></div>"
            ]
          },
          "metadata": {}
        },
        {
          "output_type": "display_data",
          "data": {
            "text/plain": [
              "<IPython.core.display.HTML object>"
            ],
            "text/html": [
              " View run <strong style=\"color:#cdcd00\">3_layer_train_dropout_MNIST_100</strong> at: <a href='https://wandb.ai/carlos3/project_1/runs/m9s2jpu3' target=\"_blank\">https://wandb.ai/carlos3/project_1/runs/m9s2jpu3</a><br/>Synced 5 W&B file(s), 0 media file(s), 0 artifact file(s) and 0 other file(s)"
            ]
          },
          "metadata": {}
        },
        {
          "output_type": "display_data",
          "data": {
            "text/plain": [
              "<IPython.core.display.HTML object>"
            ],
            "text/html": [
              "Find logs at: <code>./wandb/run-20240306_211305-m9s2jpu3/logs</code>"
            ]
          },
          "metadata": {}
        }
      ]
    },
    {
      "cell_type": "code",
      "source": [
        "class autoencoder5_regularized(nn.Module):\n",
        "    def __init__(self, projected_dimension):\n",
        "        super().__init__()\n",
        "        self.projected_dimension = projected_dimension\n",
        "        self.criterion = nn.MSELoss()\n",
        "        self.learning_rate = 0.001\n",
        "        self.lambd = 1e-5\n",
        "\n",
        "        if INDEX == 0:  # MNIST\n",
        "            self.name_train = f\"5_layer_train_dropout_MNIST_{self.projected_dimension}\"\n",
        "            self.name_test = f\"5_layer_test_dropout_MNIST_{self.projected_dimension}\"\n",
        "            self.dataset = \"MNIST\"\n",
        "\n",
        "        elif INDEX == 1:  # FMNIST\n",
        "            self.name_train = f\"5_layer_train_dropout_FMNIST_{self.projected_dimension}\"\n",
        "            self.name_test = f\"5_layer_test_dropout_FMNIST_{self.projected_dimension}\"\n",
        "            self.dataset = \"FMNIST\"\n",
        "\n",
        "        else:\n",
        "            raise ValueError(\"Inside autoencoder5, INDEX should be either 0 or 1.\")\n",
        "\n",
        "        self.project = \"project_1\"\n",
        "        self.architecture = \"linear_autoencoder\"\n",
        "        self.input_image_size = 784\n",
        "        self.outputs = []\n",
        "        self.loss_during_training = []\n",
        "        self.valid_loss_during_training = []\n",
        "\n",
        "\n",
        "\n",
        "        # Building an linear encoder with Linear\n",
        "        # layer followed by Relu activation function\n",
        "        # 784 -> projected dimension\n",
        "        self.encoder = nn.Sequential(\n",
        "            nn.Linear(784, 550),\n",
        "            nn.ReLU(),\n",
        "            nn.Dropout(p=0.2),\n",
        "            nn.Linear(550, 400),\n",
        "            nn.ReLU(),\n",
        "            nn.Dropout(p=0.2),\n",
        "            nn.Linear(400, 300),\n",
        "            nn.ReLU(),\n",
        "            nn.Dropout(p=0.2),\n",
        "            nn.Linear(300,200),\n",
        "            nn.ReLU(),\n",
        "            nn.Dropout(p=0.2),\n",
        "            nn.Linear(200,projected_dimension),\n",
        "            nn.ReLU(),\n",
        "        )\n",
        "\n",
        "        # Building an linear decoder with Linear\n",
        "        # layer followed by Relu activation function\n",
        "        # The Sigmoid activation function\n",
        "        # outputs the value between 0 and 1\n",
        "        # projected dimension -> 784\n",
        "        self.decoder = nn.Sequential(\n",
        "            nn.Linear(projected_dimension, 200),\n",
        "            nn.ReLU(),\n",
        "            nn.Dropout(p=0.2),\n",
        "            nn.Linear(200, 300),\n",
        "            nn.ReLU(),\n",
        "            nn.Dropout(p=0.2),\n",
        "            nn.Linear(300, 400),\n",
        "            nn.ReLU(),\n",
        "            nn.Dropout(p=0.2),\n",
        "            nn.Linear(400,550),\n",
        "            nn.ReLU(),\n",
        "            nn.Dropout(p=0.2),\n",
        "            nn.Linear(550,784),\n",
        "            nn.Tanh()\n",
        "        )\n",
        "        self.optimizer = optim.Adam(self.parameters(), self.learning_rate)\n",
        "\n",
        "    def forward(self, image):\n",
        "        encoded = self.encoder(image)\n",
        "        decoded = self.decoder(encoded)\n",
        "        return encoded, decoded\n",
        "\n",
        "    def psnr(self, img1, img2):  #  Peak signal-to-noise ratio (PSNR)\n",
        "        mse_criterio = nn.MSELoss()\n",
        "        mse = mse_criterio(img1, img2)\n",
        "        max_pixel = 1.0\n",
        "        psnr = 20 * torch.log10(max_pixel / torch.sqrt(mse))\n",
        "        return psnr\n",
        "\n",
        "    def do_training(self, epochs, train_data, valid_data):\n",
        "        self.train()\n",
        "\n",
        "\n",
        "\n",
        "\n",
        "        wandb.init(  # Esto es para que se guarde en la plataforma de wandb y nos evitamos tener que hacerlo manualmente\n",
        "            # Set the project where this run will be logged\n",
        "            project=self.project,\n",
        "            # We pass a run name (otherwise it’ll be randomly assigned, like sunshine-lollypop-10)\n",
        "            name=self.name_train,\n",
        "            # Track hyperparameters and run metadata\n",
        "            config={\n",
        "                \"learning_rate\": self.learning_rate,\n",
        "                \"architecture\": self.architecture,\n",
        "                \"dataset\": self.dataset,\n",
        "                \"epochs\": epochs,\n",
        "            },\n",
        "        )\n",
        "\n",
        "        # Aqui es donde empieza realmente el entrenamiento\n",
        "        for epoch in range(epochs):\n",
        "            running_loss = 0.\n",
        "            for img, _ in train_data:\n",
        "                self.optimizer.zero_grad()\n",
        "                img = img.reshape(-1, self.input_image_size)\n",
        "                enco,reconstructed = self.forward(img)\n",
        "                l1_reg = torch.abs(enco).sum()\n",
        "                loss_train = self.criterion(reconstructed, img) + self.lambd*l1_reg\n",
        "\n",
        "                running_loss += loss_train.item()\n",
        "                loss_train.backward()\n",
        "                self.optimizer.step()\n",
        "\n",
        "            self.loss_during_training.append(running_loss/len(train_data))\n",
        "\n",
        "            with torch.no_grad():\n",
        "\n",
        "                # set model to evaluation mode\n",
        "                self.eval()\n",
        "\n",
        "                running_loss = 0.\n",
        "\n",
        "                for images,_ in valid_data:\n",
        "\n",
        "                    images = images.reshape(-1, self.input_image_size)\n",
        "\n",
        "                    enco,out = self.forward(images)\n",
        "                    l1_reg = torch.abs(enco).sum()\n",
        "                    loss_valid = self.criterion(out,images) + self.lambd*l1_reg\n",
        "\n",
        "                    running_loss += loss_valid.item()\n",
        "                self.valid_loss_during_training.append(running_loss/len(valid_data))\n",
        "\n",
        "            # set model back to train mode\n",
        "            self.train()\n",
        "\n",
        "            print(\"Epoch: \", epoch + 1, \"Loss train: \", self.loss_during_training[-1], \", Loss valid: \", self.valid_loss_during_training[-1])\n",
        "            wandb.log({\"projected dimension\": projected_dimensions[run], \"Loss train\": self.loss_during_training[-1], \"Loss valid\": self.valid_loss_during_training[-1]})\n",
        "            self.outputs.append((projected_dimensions[run], epoch, img, reconstructed))\n",
        "\n",
        "        wandb.finish()\n",
        "\n",
        "    def eval_performance(self,data_test):\n",
        "\n",
        "      performance = 0\n",
        "\n",
        "      # Turn off gradients for validation, saves memory and computations\n",
        "      with torch.no_grad():\n",
        "\n",
        "          # set model to evaluation mode\n",
        "          self.eval()\n",
        "\n",
        "          for images,_ in data_test:\n",
        "\n",
        "              img = images.view(-1, self.input_image_size)\n",
        "              reconstructed = self.forward(img)\n",
        "              performance = self.psnr(reconstructed, img)\n",
        "\n",
        "\n",
        "          return performance\n"
      ],
      "metadata": {
        "id": "p56RDLyzn5rn"
      },
      "execution_count": null,
      "outputs": []
    },
    {
      "cell_type": "code",
      "source": [
        "projected_dimensions = [15, 30, 50, 100]\n",
        "epochs = 15\n",
        "models_autoencoder5_regularized = []\n",
        "for run in range(len(projected_dimensions)):\n",
        "    model = autoencoder5_regularized(projected_dimensions[run])  # To initialize the model with the projected dimension\n",
        "    model.do_training(epochs,train_set[INDEX],valid_set[INDEX])\n",
        "    models_autoencoder5_regularized.append(model)"
      ],
      "metadata": {
        "colab": {
          "base_uri": "https://localhost:8080/",
          "height": 1000,
          "referenced_widgets": [
            "fac3c446c73b49ce90b3ab78b967236a",
            "0368c69f7a194ea09261f10536d32c5e",
            "0658fb5dbf2944558c1ded46b9bb6be4",
            "a1fb3702352349a09a6cdf89c29c8d96",
            "c67ac6d5b7b749b68aa8ce8d64f5fe58",
            "91a558b6efe2477798daee05c0729e74",
            "39f9dc0b2a3a4f06acf7ff47fb33febc",
            "c96fa79ca48240839ab753a9f8878bbc",
            "8afc228eb9c642d3b68c6e423f228fef",
            "c26aa39fbf264eee8ad95326736a4226",
            "d5128a322f3644b7ae1fabd33c9fa13b",
            "e51326b1b8a84030bdd4cf4e0a51858c",
            "fefec4c58a144c8c844998ff08eba38f",
            "a5f4a913b3b64651ad5db3929ae2afca",
            "69769cd78d204cbd94f122148ec4e761",
            "a702034870b741acafeb72f5718b0cde",
            "126eb6f6f7114fca96311f3579964b41",
            "32fb91a0d72b4de693f29b6c73ed7044",
            "7d0c22602c484eeeab68aaeba145b2a4",
            "15e73daa634e47828a503d001a28eeaa",
            "5d79175aa5954a6c81881428810b7244",
            "50f6255a0cd14ff2a0fde9f2da25a432",
            "e34f667231ed4d1cb015720e9d652014",
            "3df98fb3a4aa4ea399537c8cfcd21c66",
            "aa517d130d06497b8ccc6462029e18fe",
            "1f4807038276423ca4050594ec6e9c3f",
            "e5f5833f0d6e40d8892168e54a6c95b2",
            "744b8427cc574114ba6c7d682c1ff636",
            "1b45e87f7343445298d060c7a44bf9c0",
            "aaf96bfc8033421387bcbc7e1533cf77",
            "6af8f0e38d53428aaf6e21455da31f5f",
            "c253454b6fd84ab09fdf0c8f66e8ebd6",
            "8d968ac49ecc47099d53ee4495d6e180",
            "ed37410f168f40cca772101d564d8114",
            "2d10c0d110424d6aa1b95305c2354361",
            "813bb09c3f604a02bf7682661fdbcfab",
            "9637063466504a50b1eb8c0ca70c3cfb",
            "399155d72d8d41c4a87d31d1b6e03488",
            "fbd16ee0a79c4f1593922da9f16a0c5a",
            "a59135cf69ad4fc2bcbea580b4a17e7f",
            "41d2000d9d2f44c6a031a36deab1f60c",
            "1d96b9294ac7463b812e77f635ac9c6e",
            "eee95794d88545a0a65f06aa7ce22f8e",
            "5b724fc807ed48cfa3406ee970101245",
            "522d840572e54f24a8ff481aba22a00f",
            "4cc0997cc5cc43d0aab13c5c1a7d8b09",
            "67470adf423e4c768130877b26d67684",
            "d48082f56b124cd09df516f44eb13435"
          ]
        },
        "id": "3Mky9C40oVK-",
        "outputId": "d88a0ca3-544f-4f7c-c9f0-22ee66a575e5"
      },
      "execution_count": null,
      "outputs": [
        {
          "output_type": "display_data",
          "data": {
            "text/plain": [
              "<IPython.core.display.HTML object>"
            ],
            "text/html": [
              "Finishing last run (ID:4dbs5i5s) before initializing another..."
            ]
          },
          "metadata": {}
        },
        {
          "output_type": "display_data",
          "data": {
            "text/plain": [
              "VBox(children=(Label(value='0.001 MB of 0.011 MB uploaded\\r'), FloatProgress(value=0.0955803090190442, max=1.0…"
            ],
            "application/vnd.jupyter.widget-view+json": {
              "version_major": 2,
              "version_minor": 0,
              "model_id": "fac3c446c73b49ce90b3ab78b967236a"
            }
          },
          "metadata": {}
        },
        {
          "output_type": "display_data",
          "data": {
            "text/plain": [
              "<IPython.core.display.HTML object>"
            ],
            "text/html": [
              "<style>\n",
              "    table.wandb td:nth-child(1) { padding: 0 10px; text-align: left ; width: auto;} td:nth-child(2) {text-align: left ; width: 100%}\n",
              "    .wandb-row { display: flex; flex-direction: row; flex-wrap: wrap; justify-content: flex-start; width: 100% }\n",
              "    .wandb-col { display: flex; flex-direction: column; flex-basis: 100%; flex: 1; padding: 10px; }\n",
              "    </style>\n",
              "<div class=\"wandb-row\"><div class=\"wandb-col\"><h3>Run history:</h3><br/><table class=\"wandb\"><tr><td>Loss train</td><td>█▁</td></tr><tr><td>Loss valid</td><td>█▁</td></tr><tr><td>projected dimension</td><td>▁▁</td></tr></table><br/></div><div class=\"wandb-col\"><h3>Run summary:</h3><br/><table class=\"wandb\"><tr><td>Loss train</td><td>0.27002</td></tr><tr><td>Loss valid</td><td>0.26809</td></tr><tr><td>projected dimension</td><td>15</td></tr></table><br/></div></div>"
            ]
          },
          "metadata": {}
        },
        {
          "output_type": "display_data",
          "data": {
            "text/plain": [
              "<IPython.core.display.HTML object>"
            ],
            "text/html": [
              " View run <strong style=\"color:#cdcd00\">5_layer_train_dropout_MNIST_15</strong> at: <a href='https://wandb.ai/carlos3/project_1/runs/4dbs5i5s' target=\"_blank\">https://wandb.ai/carlos3/project_1/runs/4dbs5i5s</a><br/>Synced 5 W&B file(s), 0 media file(s), 0 artifact file(s) and 0 other file(s)"
            ]
          },
          "metadata": {}
        },
        {
          "output_type": "display_data",
          "data": {
            "text/plain": [
              "<IPython.core.display.HTML object>"
            ],
            "text/html": [
              "Find logs at: <code>./wandb/run-20240306_212200-4dbs5i5s/logs</code>"
            ]
          },
          "metadata": {}
        },
        {
          "output_type": "display_data",
          "data": {
            "text/plain": [
              "<IPython.core.display.HTML object>"
            ],
            "text/html": [
              "Successfully finished last run (ID:4dbs5i5s). Initializing new run:<br/>"
            ]
          },
          "metadata": {}
        },
        {
          "output_type": "display_data",
          "data": {
            "text/plain": [
              "VBox(children=(Label(value='Waiting for wandb.init()...\\r'), FloatProgress(value=0.011113605366659209, max=1.0…"
            ],
            "application/vnd.jupyter.widget-view+json": {
              "version_major": 2,
              "version_minor": 0,
              "model_id": "8afc228eb9c642d3b68c6e423f228fef"
            }
          },
          "metadata": {}
        },
        {
          "output_type": "display_data",
          "data": {
            "text/plain": [
              "<IPython.core.display.HTML object>"
            ],
            "text/html": [
              "Tracking run with wandb version 0.16.4"
            ]
          },
          "metadata": {}
        },
        {
          "output_type": "display_data",
          "data": {
            "text/plain": [
              "<IPython.core.display.HTML object>"
            ],
            "text/html": [
              "Run data is saved locally in <code>/content/wandb/run-20240306_212612-xjpgrd0v</code>"
            ]
          },
          "metadata": {}
        },
        {
          "output_type": "display_data",
          "data": {
            "text/plain": [
              "<IPython.core.display.HTML object>"
            ],
            "text/html": [
              "Syncing run <strong><a href='https://wandb.ai/carlos3/project_1/runs/xjpgrd0v' target=\"_blank\">5_layer_train_dropout_MNIST_15</a></strong> to <a href='https://wandb.ai/carlos3/project_1' target=\"_blank\">Weights & Biases</a> (<a href='https://wandb.me/run' target=\"_blank\">docs</a>)<br/>"
            ]
          },
          "metadata": {}
        },
        {
          "output_type": "display_data",
          "data": {
            "text/plain": [
              "<IPython.core.display.HTML object>"
            ],
            "text/html": [
              " View project at <a href='https://wandb.ai/carlos3/project_1' target=\"_blank\">https://wandb.ai/carlos3/project_1</a>"
            ]
          },
          "metadata": {}
        },
        {
          "output_type": "display_data",
          "data": {
            "text/plain": [
              "<IPython.core.display.HTML object>"
            ],
            "text/html": [
              " View run at <a href='https://wandb.ai/carlos3/project_1/runs/xjpgrd0v' target=\"_blank\">https://wandb.ai/carlos3/project_1/runs/xjpgrd0v</a>"
            ]
          },
          "metadata": {}
        },
        {
          "output_type": "stream",
          "name": "stdout",
          "text": [
            "Epoch:  1 Loss train:  0.23074341904033313 , Loss valid:  0.19307326845666195\n",
            "Epoch:  2 Loss train:  0.18792261651039802 , Loss valid:  0.16815112417048597\n",
            "Epoch:  3 Loss train:  0.16985737619159574 , Loss valid:  0.15195518376979422\n",
            "Epoch:  4 Loss train:  0.1596825847148218 , Loss valid:  0.14436875026910864\n",
            "Epoch:  5 Loss train:  0.15354948164895177 , Loss valid:  0.13786643908378926\n",
            "Epoch:  6 Loss train:  0.14888849026862194 , Loss valid:  0.13342522014962865\n",
            "Epoch:  7 Loss train:  0.14587806613946502 , Loss valid:  0.1298463669229061\n",
            "Epoch:  8 Loss train:  0.14378158768257973 , Loss valid:  0.12733435703718915\n",
            "Epoch:  9 Loss train:  0.14166128642814743 , Loss valid:  0.12555837272963624\n",
            "Epoch:  10 Loss train:  0.14004102790601214 , Loss valid:  0.12504304355763374\n",
            "Epoch:  11 Loss train:  0.13904528491283683 , Loss valid:  0.12186426181108394\n",
            "Epoch:  12 Loss train:  0.13754670643670994 , Loss valid:  0.12047508133852736\n",
            "Epoch:  13 Loss train:  0.13670937688386237 , Loss valid:  0.1199040044812446\n",
            "Epoch:  14 Loss train:  0.13610317482909357 , Loss valid:  0.11939118320637561\n",
            "Epoch:  15 Loss train:  0.13515457188160243 , Loss valid:  0.11726050804904167\n"
          ]
        },
        {
          "output_type": "display_data",
          "data": {
            "text/plain": [
              "VBox(children=(Label(value='0.001 MB of 0.001 MB uploaded\\r'), FloatProgress(value=1.0, max=1.0)))"
            ],
            "application/vnd.jupyter.widget-view+json": {
              "version_major": 2,
              "version_minor": 0,
              "model_id": "126eb6f6f7114fca96311f3579964b41"
            }
          },
          "metadata": {}
        },
        {
          "output_type": "display_data",
          "data": {
            "text/plain": [
              "<IPython.core.display.HTML object>"
            ],
            "text/html": [
              "<style>\n",
              "    table.wandb td:nth-child(1) { padding: 0 10px; text-align: left ; width: auto;} td:nth-child(2) {text-align: left ; width: 100%}\n",
              "    .wandb-row { display: flex; flex-direction: row; flex-wrap: wrap; justify-content: flex-start; width: 100% }\n",
              "    .wandb-col { display: flex; flex-direction: column; flex-basis: 100%; flex: 1; padding: 10px; }\n",
              "    </style>\n",
              "<div class=\"wandb-row\"><div class=\"wandb-col\"><h3>Run history:</h3><br/><table class=\"wandb\"><tr><td>Loss train</td><td>█▅▄▃▂▂▂▂▁▁▁▁▁▁▁</td></tr><tr><td>Loss valid</td><td>█▆▄▄▃▂▂▂▂▂▁▁▁▁▁</td></tr><tr><td>projected dimension</td><td>▁▁▁▁▁▁▁▁▁▁▁▁▁▁▁</td></tr></table><br/></div><div class=\"wandb-col\"><h3>Run summary:</h3><br/><table class=\"wandb\"><tr><td>Loss train</td><td>0.13515</td></tr><tr><td>Loss valid</td><td>0.11726</td></tr><tr><td>projected dimension</td><td>15</td></tr></table><br/></div></div>"
            ]
          },
          "metadata": {}
        },
        {
          "output_type": "display_data",
          "data": {
            "text/plain": [
              "<IPython.core.display.HTML object>"
            ],
            "text/html": [
              " View run <strong style=\"color:#cdcd00\">5_layer_train_dropout_MNIST_15</strong> at: <a href='https://wandb.ai/carlos3/project_1/runs/xjpgrd0v' target=\"_blank\">https://wandb.ai/carlos3/project_1/runs/xjpgrd0v</a><br/>Synced 5 W&B file(s), 0 media file(s), 0 artifact file(s) and 0 other file(s)"
            ]
          },
          "metadata": {}
        },
        {
          "output_type": "display_data",
          "data": {
            "text/plain": [
              "<IPython.core.display.HTML object>"
            ],
            "text/html": [
              "Find logs at: <code>./wandb/run-20240306_212612-xjpgrd0v/logs</code>"
            ]
          },
          "metadata": {}
        },
        {
          "output_type": "display_data",
          "data": {
            "text/plain": [
              "<IPython.core.display.HTML object>"
            ],
            "text/html": [
              "Tracking run with wandb version 0.16.4"
            ]
          },
          "metadata": {}
        },
        {
          "output_type": "display_data",
          "data": {
            "text/plain": [
              "<IPython.core.display.HTML object>"
            ],
            "text/html": [
              "Run data is saved locally in <code>/content/wandb/run-20240306_214134-rufw430p</code>"
            ]
          },
          "metadata": {}
        },
        {
          "output_type": "display_data",
          "data": {
            "text/plain": [
              "<IPython.core.display.HTML object>"
            ],
            "text/html": [
              "Syncing run <strong><a href='https://wandb.ai/carlos3/project_1/runs/rufw430p' target=\"_blank\">5_layer_train_dropout_MNIST_30</a></strong> to <a href='https://wandb.ai/carlos3/project_1' target=\"_blank\">Weights & Biases</a> (<a href='https://wandb.me/run' target=\"_blank\">docs</a>)<br/>"
            ]
          },
          "metadata": {}
        },
        {
          "output_type": "display_data",
          "data": {
            "text/plain": [
              "<IPython.core.display.HTML object>"
            ],
            "text/html": [
              " View project at <a href='https://wandb.ai/carlos3/project_1' target=\"_blank\">https://wandb.ai/carlos3/project_1</a>"
            ]
          },
          "metadata": {}
        },
        {
          "output_type": "display_data",
          "data": {
            "text/plain": [
              "<IPython.core.display.HTML object>"
            ],
            "text/html": [
              " View run at <a href='https://wandb.ai/carlos3/project_1/runs/rufw430p' target=\"_blank\">https://wandb.ai/carlos3/project_1/runs/rufw430p</a>"
            ]
          },
          "metadata": {}
        },
        {
          "output_type": "stream",
          "name": "stdout",
          "text": [
            "Epoch:  1 Loss train:  0.23252248459241606 , Loss valid:  0.19315626431018748\n",
            "Epoch:  2 Loss train:  0.1897460100325671 , Loss valid:  0.16893673234797538\n",
            "Epoch:  3 Loss train:  0.17275827860629017 , Loss valid:  0.1570549061323734\n",
            "Epoch:  4 Loss train:  0.16423684333197094 , Loss valid:  0.1489054263272184\n",
            "Epoch:  5 Loss train:  0.1593531822277741 , Loss valid:  0.14539971164566406\n",
            "Epoch:  6 Loss train:  0.15620334207249637 , Loss valid:  0.14063529365874353\n",
            "Epoch:  7 Loss train:  0.15330921712500806 , Loss valid:  0.1404084362565203\n",
            "Epoch:  8 Loss train:  0.15145223390903662 , Loss valid:  0.1375239687714171\n",
            "Epoch:  9 Loss train:  0.14935290428217163 , Loss valid:  0.1367424579059824\n",
            "Epoch:  10 Loss train:  0.14765998043797232 , Loss valid:  0.13373064883845917\n",
            "Epoch:  11 Loss train:  0.1458543959200721 , Loss valid:  0.13395235066084152\n",
            "Epoch:  12 Loss train:  0.14512481286444448 , Loss valid:  0.13114710836968524\n",
            "Epoch:  13 Loss train:  0.14361575553828682 , Loss valid:  0.12891048684399178\n",
            "Epoch:  14 Loss train:  0.14253071598200637 , Loss valid:  0.12662563809054964\n",
            "Epoch:  15 Loss train:  0.1417613335652277 , Loss valid:  0.12760297808241336\n"
          ]
        },
        {
          "output_type": "display_data",
          "data": {
            "text/plain": [
              "VBox(children=(Label(value='0.001 MB of 0.001 MB uploaded\\r'), FloatProgress(value=1.0, max=1.0)))"
            ],
            "application/vnd.jupyter.widget-view+json": {
              "version_major": 2,
              "version_minor": 0,
              "model_id": "aa517d130d06497b8ccc6462029e18fe"
            }
          },
          "metadata": {}
        },
        {
          "output_type": "display_data",
          "data": {
            "text/plain": [
              "<IPython.core.display.HTML object>"
            ],
            "text/html": [
              "<style>\n",
              "    table.wandb td:nth-child(1) { padding: 0 10px; text-align: left ; width: auto;} td:nth-child(2) {text-align: left ; width: 100%}\n",
              "    .wandb-row { display: flex; flex-direction: row; flex-wrap: wrap; justify-content: flex-start; width: 100% }\n",
              "    .wandb-col { display: flex; flex-direction: column; flex-basis: 100%; flex: 1; padding: 10px; }\n",
              "    </style>\n",
              "<div class=\"wandb-row\"><div class=\"wandb-col\"><h3>Run history:</h3><br/><table class=\"wandb\"><tr><td>Loss train</td><td>█▅▃▃▂▂▂▂▂▁▁▁▁▁▁</td></tr><tr><td>Loss valid</td><td>█▅▄▃▃▂▂▂▂▂▂▁▁▁▁</td></tr><tr><td>projected dimension</td><td>▁▁▁▁▁▁▁▁▁▁▁▁▁▁▁</td></tr></table><br/></div><div class=\"wandb-col\"><h3>Run summary:</h3><br/><table class=\"wandb\"><tr><td>Loss train</td><td>0.14176</td></tr><tr><td>Loss valid</td><td>0.1276</td></tr><tr><td>projected dimension</td><td>30</td></tr></table><br/></div></div>"
            ]
          },
          "metadata": {}
        },
        {
          "output_type": "display_data",
          "data": {
            "text/plain": [
              "<IPython.core.display.HTML object>"
            ],
            "text/html": [
              " View run <strong style=\"color:#cdcd00\">5_layer_train_dropout_MNIST_30</strong> at: <a href='https://wandb.ai/carlos3/project_1/runs/rufw430p' target=\"_blank\">https://wandb.ai/carlos3/project_1/runs/rufw430p</a><br/>Synced 5 W&B file(s), 0 media file(s), 0 artifact file(s) and 0 other file(s)"
            ]
          },
          "metadata": {}
        },
        {
          "output_type": "display_data",
          "data": {
            "text/plain": [
              "<IPython.core.display.HTML object>"
            ],
            "text/html": [
              "Find logs at: <code>./wandb/run-20240306_214134-rufw430p/logs</code>"
            ]
          },
          "metadata": {}
        },
        {
          "output_type": "display_data",
          "data": {
            "text/plain": [
              "<IPython.core.display.HTML object>"
            ],
            "text/html": [
              "Tracking run with wandb version 0.16.4"
            ]
          },
          "metadata": {}
        },
        {
          "output_type": "display_data",
          "data": {
            "text/plain": [
              "<IPython.core.display.HTML object>"
            ],
            "text/html": [
              "Run data is saved locally in <code>/content/wandb/run-20240306_215502-0s42y0mz</code>"
            ]
          },
          "metadata": {}
        },
        {
          "output_type": "display_data",
          "data": {
            "text/plain": [
              "<IPython.core.display.HTML object>"
            ],
            "text/html": [
              "Syncing run <strong><a href='https://wandb.ai/carlos3/project_1/runs/0s42y0mz' target=\"_blank\">5_layer_train_dropout_MNIST_50</a></strong> to <a href='https://wandb.ai/carlos3/project_1' target=\"_blank\">Weights & Biases</a> (<a href='https://wandb.me/run' target=\"_blank\">docs</a>)<br/>"
            ]
          },
          "metadata": {}
        },
        {
          "output_type": "display_data",
          "data": {
            "text/plain": [
              "<IPython.core.display.HTML object>"
            ],
            "text/html": [
              " View project at <a href='https://wandb.ai/carlos3/project_1' target=\"_blank\">https://wandb.ai/carlos3/project_1</a>"
            ]
          },
          "metadata": {}
        },
        {
          "output_type": "display_data",
          "data": {
            "text/plain": [
              "<IPython.core.display.HTML object>"
            ],
            "text/html": [
              " View run at <a href='https://wandb.ai/carlos3/project_1/runs/0s42y0mz' target=\"_blank\">https://wandb.ai/carlos3/project_1/runs/0s42y0mz</a>"
            ]
          },
          "metadata": {}
        },
        {
          "output_type": "stream",
          "name": "stdout",
          "text": [
            "Epoch:  1 Loss train:  0.230389319550754 , Loss valid:  0.18839815816980726\n",
            "Epoch:  2 Loss train:  0.18992079819806598 , Loss valid:  0.1734864519631609\n",
            "Epoch:  3 Loss train:  0.17140006549148398 , Loss valid:  0.15132505881025435\n",
            "Epoch:  4 Loss train:  0.157927543327043 , Loss valid:  0.13974974475642468\n",
            "Epoch:  5 Loss train:  0.15043749660253525 , Loss valid:  0.13389171485571152\n",
            "Epoch:  6 Loss train:  0.14575848477596248 , Loss valid:  0.12858670569480735\n",
            "Epoch:  7 Loss train:  0.14232890812722457 , Loss valid:  0.12507025425104384\n",
            "Epoch:  8 Loss train:  0.1399782185167582 , Loss valid:  0.12230890009631502\n",
            "Epoch:  9 Loss train:  0.13810955665328287 , Loss valid:  0.12070750923866921\n",
            "Epoch:  10 Loss train:  0.13666178056419911 , Loss valid:  0.11960124176867465\n",
            "Epoch:  11 Loss train:  0.135636252139441 , Loss valid:  0.11750909587804308\n",
            "Epoch:  12 Loss train:  0.13439959125720302 , Loss valid:  0.11632999035906284\n",
            "Epoch:  13 Loss train:  0.13313251623714512 , Loss valid:  0.11471648336725032\n",
            "Epoch:  14 Loss train:  0.13244896760972386 , Loss valid:  0.11396342373274743\n",
            "Epoch:  15 Loss train:  0.13192686723248864 , Loss valid:  0.11344534478923107\n"
          ]
        },
        {
          "output_type": "display_data",
          "data": {
            "text/plain": [
              "VBox(children=(Label(value='0.001 MB of 0.001 MB uploaded\\r'), FloatProgress(value=1.0, max=1.0)))"
            ],
            "application/vnd.jupyter.widget-view+json": {
              "version_major": 2,
              "version_minor": 0,
              "model_id": "8d968ac49ecc47099d53ee4495d6e180"
            }
          },
          "metadata": {}
        },
        {
          "output_type": "display_data",
          "data": {
            "text/plain": [
              "<IPython.core.display.HTML object>"
            ],
            "text/html": [
              "<style>\n",
              "    table.wandb td:nth-child(1) { padding: 0 10px; text-align: left ; width: auto;} td:nth-child(2) {text-align: left ; width: 100%}\n",
              "    .wandb-row { display: flex; flex-direction: row; flex-wrap: wrap; justify-content: flex-start; width: 100% }\n",
              "    .wandb-col { display: flex; flex-direction: column; flex-basis: 100%; flex: 1; padding: 10px; }\n",
              "    </style>\n",
              "<div class=\"wandb-row\"><div class=\"wandb-col\"><h3>Run history:</h3><br/><table class=\"wandb\"><tr><td>Loss train</td><td>█▅▄▃▂▂▂▂▁▁▁▁▁▁▁</td></tr><tr><td>Loss valid</td><td>█▇▅▃▃▂▂▂▂▂▁▁▁▁▁</td></tr><tr><td>projected dimension</td><td>▁▁▁▁▁▁▁▁▁▁▁▁▁▁▁</td></tr></table><br/></div><div class=\"wandb-col\"><h3>Run summary:</h3><br/><table class=\"wandb\"><tr><td>Loss train</td><td>0.13193</td></tr><tr><td>Loss valid</td><td>0.11345</td></tr><tr><td>projected dimension</td><td>50</td></tr></table><br/></div></div>"
            ]
          },
          "metadata": {}
        },
        {
          "output_type": "display_data",
          "data": {
            "text/plain": [
              "<IPython.core.display.HTML object>"
            ],
            "text/html": [
              " View run <strong style=\"color:#cdcd00\">5_layer_train_dropout_MNIST_50</strong> at: <a href='https://wandb.ai/carlos3/project_1/runs/0s42y0mz' target=\"_blank\">https://wandb.ai/carlos3/project_1/runs/0s42y0mz</a><br/>Synced 5 W&B file(s), 0 media file(s), 0 artifact file(s) and 0 other file(s)"
            ]
          },
          "metadata": {}
        },
        {
          "output_type": "display_data",
          "data": {
            "text/plain": [
              "<IPython.core.display.HTML object>"
            ],
            "text/html": [
              "Find logs at: <code>./wandb/run-20240306_215502-0s42y0mz/logs</code>"
            ]
          },
          "metadata": {}
        },
        {
          "output_type": "display_data",
          "data": {
            "text/plain": [
              "<IPython.core.display.HTML object>"
            ],
            "text/html": [
              "Tracking run with wandb version 0.16.4"
            ]
          },
          "metadata": {}
        },
        {
          "output_type": "display_data",
          "data": {
            "text/plain": [
              "<IPython.core.display.HTML object>"
            ],
            "text/html": [
              "Run data is saved locally in <code>/content/wandb/run-20240306_220858-uy5ufysu</code>"
            ]
          },
          "metadata": {}
        },
        {
          "output_type": "display_data",
          "data": {
            "text/plain": [
              "<IPython.core.display.HTML object>"
            ],
            "text/html": [
              "Syncing run <strong><a href='https://wandb.ai/carlos3/project_1/runs/uy5ufysu' target=\"_blank\">5_layer_train_dropout_MNIST_100</a></strong> to <a href='https://wandb.ai/carlos3/project_1' target=\"_blank\">Weights & Biases</a> (<a href='https://wandb.me/run' target=\"_blank\">docs</a>)<br/>"
            ]
          },
          "metadata": {}
        },
        {
          "output_type": "display_data",
          "data": {
            "text/plain": [
              "<IPython.core.display.HTML object>"
            ],
            "text/html": [
              " View project at <a href='https://wandb.ai/carlos3/project_1' target=\"_blank\">https://wandb.ai/carlos3/project_1</a>"
            ]
          },
          "metadata": {}
        },
        {
          "output_type": "display_data",
          "data": {
            "text/plain": [
              "<IPython.core.display.HTML object>"
            ],
            "text/html": [
              " View run at <a href='https://wandb.ai/carlos3/project_1/runs/uy5ufysu' target=\"_blank\">https://wandb.ai/carlos3/project_1/runs/uy5ufysu</a>"
            ]
          },
          "metadata": {}
        },
        {
          "output_type": "stream",
          "name": "stdout",
          "text": [
            "Epoch:  1 Loss train:  0.2316049205520275 , Loss valid:  0.19010703614417543\n",
            "Epoch:  2 Loss train:  0.188900798516856 , Loss valid:  0.16676025473056955\n",
            "Epoch:  3 Loss train:  0.16755984969098459 , Loss valid:  0.146912075769394\n",
            "Epoch:  4 Loss train:  0.15416566579898988 , Loss valid:  0.13590319752693175\n",
            "Epoch:  5 Loss train:  0.14728181195360693 , Loss valid:  0.12981798490311236\n",
            "Epoch:  6 Loss train:  0.14306302855468608 , Loss valid:  0.1260206366790102\n",
            "Epoch:  7 Loss train:  0.14029198373794893 , Loss valid:  0.12265504221332835\n",
            "Epoch:  8 Loss train:  0.1380722453203899 , Loss valid:  0.12019189123777634\n",
            "Epoch:  9 Loss train:  0.13647876439658416 , Loss valid:  0.11846645151046996\n",
            "Epoch:  10 Loss train:  0.13512931908057493 , Loss valid:  0.11705676510613015\n",
            "Epoch:  11 Loss train:  0.13405104325449263 , Loss valid:  0.11513249718762458\n",
            "Epoch:  12 Loss train:  0.1329118887661025 , Loss valid:  0.11493890621560685\n",
            "Epoch:  13 Loss train:  0.13181332156951117 , Loss valid:  0.11531712568186699\n",
            "Epoch:  14 Loss train:  0.1310572552558204 , Loss valid:  0.11176666928098557\n",
            "Epoch:  15 Loss train:  0.1299872038229792 , Loss valid:  0.11090288634629959\n"
          ]
        },
        {
          "output_type": "display_data",
          "data": {
            "text/plain": [
              "VBox(children=(Label(value='0.001 MB of 0.012 MB uploaded\\r'), FloatProgress(value=0.08762249855884048, max=1.…"
            ],
            "application/vnd.jupyter.widget-view+json": {
              "version_major": 2,
              "version_minor": 0,
              "model_id": "41d2000d9d2f44c6a031a36deab1f60c"
            }
          },
          "metadata": {}
        },
        {
          "output_type": "display_data",
          "data": {
            "text/plain": [
              "<IPython.core.display.HTML object>"
            ],
            "text/html": [
              "<style>\n",
              "    table.wandb td:nth-child(1) { padding: 0 10px; text-align: left ; width: auto;} td:nth-child(2) {text-align: left ; width: 100%}\n",
              "    .wandb-row { display: flex; flex-direction: row; flex-wrap: wrap; justify-content: flex-start; width: 100% }\n",
              "    .wandb-col { display: flex; flex-direction: column; flex-basis: 100%; flex: 1; padding: 10px; }\n",
              "    </style>\n",
              "<div class=\"wandb-row\"><div class=\"wandb-col\"><h3>Run history:</h3><br/><table class=\"wandb\"><tr><td>Loss train</td><td>█▅▄▃▂▂▂▂▁▁▁▁▁▁▁</td></tr><tr><td>Loss valid</td><td>█▆▄▃▃▂▂▂▂▂▁▁▁▁▁</td></tr><tr><td>projected dimension</td><td>▁▁▁▁▁▁▁▁▁▁▁▁▁▁▁</td></tr></table><br/></div><div class=\"wandb-col\"><h3>Run summary:</h3><br/><table class=\"wandb\"><tr><td>Loss train</td><td>0.12999</td></tr><tr><td>Loss valid</td><td>0.1109</td></tr><tr><td>projected dimension</td><td>100</td></tr></table><br/></div></div>"
            ]
          },
          "metadata": {}
        },
        {
          "output_type": "display_data",
          "data": {
            "text/plain": [
              "<IPython.core.display.HTML object>"
            ],
            "text/html": [
              " View run <strong style=\"color:#cdcd00\">5_layer_train_dropout_MNIST_100</strong> at: <a href='https://wandb.ai/carlos3/project_1/runs/uy5ufysu' target=\"_blank\">https://wandb.ai/carlos3/project_1/runs/uy5ufysu</a><br/>Synced 5 W&B file(s), 0 media file(s), 0 artifact file(s) and 0 other file(s)"
            ]
          },
          "metadata": {}
        },
        {
          "output_type": "display_data",
          "data": {
            "text/plain": [
              "<IPython.core.display.HTML object>"
            ],
            "text/html": [
              "Find logs at: <code>./wandb/run-20240306_220858-uy5ufysu/logs</code>"
            ]
          },
          "metadata": {}
        }
      ]
    },
    {
      "cell_type": "markdown",
      "source": [
        "Save the models"
      ],
      "metadata": {
        "id": "Wxwz10gFzwvA"
      }
    },
    {
      "cell_type": "code",
      "source": [
        "if INDEX == 0:  # MNIST\n",
        "  for i in range(len(models_autoencoder3_regularized)):\n",
        "    torch.save(models_autoencoder3_regularized[i].state_dict(), f'model_autoencoder3_regularized_MNIST_{projected_dimensions[i]}.pth')\n",
        "    torch.save(models_autoencoder5_regularized[i].state_dict(), f'model_autoencoder5_regularized_MNIST_{projected_dimensions[i]}.pth')\n",
        "elif INDEX == 1:  # FMNIST\n",
        "  for i in range(len(models_autoencoder3_regularized)):\n",
        "    torch.save(models_autoencoder3_regularized[i].state_dict(), f'model_autoencoder3_regularized_FMNIST_{projected_dimensions[i]}.pth')\n",
        "    torch.save(models_autoencoder5_regularized[i].state_dict(), f'model_autoencoder5_regularized_FMNIST_{projected_dimensions[i]}.pth')\n",
        "\n",
        "else:\n",
        "        raise ValueError(\"While saving the models, INDEX should be either 0 or 1.\")"
      ],
      "metadata": {
        "id": "10TMijpuzzbP"
      },
      "execution_count": null,
      "outputs": []
    },
    {
      "cell_type": "markdown",
      "source": [
        "Load the models"
      ],
      "metadata": {
        "id": "aadkv49k0H6O"
      }
    },
    {
      "cell_type": "code",
      "source": [
        "projected_dimensions = [15, 30, 50, 100] # This are the dimensions we are going to project the data into\n",
        "models_autoencoder3 = []\n",
        "models_autoencoder5 = []\n",
        "\n",
        "if INDEX == 0:  # MNIST\n",
        "  dataset0 = \"MNIST\"\n",
        "else:\n",
        "  dataset0 = \"FMNIST\"\n",
        "\n",
        "for i in range(4):\n",
        "    state_dict = torch.load(f'model_autoencoder3_regularized_{dataset0}_{projected_dimensions[i]}.pth')\n",
        "    model_3 = autoencoder3_regularized(projected_dimensions[i])\n",
        "    model_3.load_state_dict(state_dict)\n",
        "    models_autoencoder3.append(model_3)\n",
        "\n",
        "    state_dict = torch.load(f'model_autoencoder5_regularized_{dataset0}_{projected_dimensions[i]}.pth')\n",
        "    model_5 = autoencoder5_regularized(projected_dimensions[i])\n",
        "    model_5.load_state_dict(state_dict)\n",
        "    models_autoencoder5.append(model_5)"
      ],
      "metadata": {
        "colab": {
          "base_uri": "https://localhost:8080/",
          "height": 523
        },
        "id": "Gb64qHol0J8G",
        "outputId": "aae3179d-8914-4e83-9b75-636a8d5b1a44"
      },
      "execution_count": null,
      "outputs": [
        {
          "output_type": "error",
          "ename": "RuntimeError",
          "evalue": "Error(s) in loading state_dict for autoencoder5:\n\tMissing key(s) in state_dict: \"encoder.2.weight\", \"encoder.2.bias\", \"encoder.4.weight\", \"encoder.4.bias\", \"encoder.8.weight\", \"encoder.8.bias\", \"decoder.2.weight\", \"decoder.2.bias\", \"decoder.4.weight\", \"decoder.4.bias\", \"decoder.8.weight\", \"decoder.8.bias\". \n\tUnexpected key(s) in state_dict: \"encoder.9.weight\", \"encoder.9.bias\", \"encoder.12.weight\", \"encoder.12.bias\", \"encoder.3.weight\", \"encoder.3.bias\", \"decoder.12.weight\", \"decoder.12.bias\", \"decoder.3.weight\", \"decoder.3.bias\", \"decoder.9.weight\", \"decoder.9.bias\". \n\tsize mismatch for encoder.6.weight: copying a param with shape torch.Size([300, 400]) from checkpoint, the shape in current model is torch.Size([200, 300]).\n\tsize mismatch for encoder.6.bias: copying a param with shape torch.Size([300]) from checkpoint, the shape in current model is torch.Size([200]).\n\tsize mismatch for decoder.6.weight: copying a param with shape torch.Size([400, 300]) from checkpoint, the shape in current model is torch.Size([550, 400]).\n\tsize mismatch for decoder.6.bias: copying a param with shape torch.Size([400]) from checkpoint, the shape in current model is torch.Size([550]).",
          "traceback": [
            "\u001b[0;31m---------------------------------------------------------------------------\u001b[0m",
            "\u001b[0;31mRuntimeError\u001b[0m                              Traceback (most recent call last)",
            "\u001b[0;32m<ipython-input-136-1808adb9502a>\u001b[0m in \u001b[0;36m<cell line: 10>\u001b[0;34m()\u001b[0m\n\u001b[1;32m     16\u001b[0m     \u001b[0mstate_dict\u001b[0m \u001b[0;34m=\u001b[0m \u001b[0mtorch\u001b[0m\u001b[0;34m.\u001b[0m\u001b[0mload\u001b[0m\u001b[0;34m(\u001b[0m\u001b[0;34mf'model_autoencoder5_regularized_{dataset0}_{projected_dimensions[i]}.pth'\u001b[0m\u001b[0;34m)\u001b[0m\u001b[0;34m\u001b[0m\u001b[0;34m\u001b[0m\u001b[0m\n\u001b[1;32m     17\u001b[0m     \u001b[0mmodel_5\u001b[0m \u001b[0;34m=\u001b[0m \u001b[0mautoencoder5\u001b[0m\u001b[0;34m(\u001b[0m\u001b[0mprojected_dimensions\u001b[0m\u001b[0;34m[\u001b[0m\u001b[0mi\u001b[0m\u001b[0;34m]\u001b[0m\u001b[0;34m)\u001b[0m\u001b[0;34m\u001b[0m\u001b[0;34m\u001b[0m\u001b[0m\n\u001b[0;32m---> 18\u001b[0;31m     \u001b[0mmodel_5\u001b[0m\u001b[0;34m.\u001b[0m\u001b[0mload_state_dict\u001b[0m\u001b[0;34m(\u001b[0m\u001b[0mstate_dict\u001b[0m\u001b[0;34m)\u001b[0m\u001b[0;34m\u001b[0m\u001b[0;34m\u001b[0m\u001b[0m\n\u001b[0m\u001b[1;32m     19\u001b[0m     \u001b[0mmodels_autoencoder5\u001b[0m\u001b[0;34m.\u001b[0m\u001b[0mappend\u001b[0m\u001b[0;34m(\u001b[0m\u001b[0mmodel_5\u001b[0m\u001b[0;34m)\u001b[0m\u001b[0;34m\u001b[0m\u001b[0;34m\u001b[0m\u001b[0m\n",
            "\u001b[0;32m/usr/local/lib/python3.10/dist-packages/torch/nn/modules/module.py\u001b[0m in \u001b[0;36mload_state_dict\u001b[0;34m(self, state_dict, strict, assign)\u001b[0m\n\u001b[1;32m   2150\u001b[0m \u001b[0;34m\u001b[0m\u001b[0m\n\u001b[1;32m   2151\u001b[0m         \u001b[0;32mif\u001b[0m \u001b[0mlen\u001b[0m\u001b[0;34m(\u001b[0m\u001b[0merror_msgs\u001b[0m\u001b[0;34m)\u001b[0m \u001b[0;34m>\u001b[0m \u001b[0;36m0\u001b[0m\u001b[0;34m:\u001b[0m\u001b[0;34m\u001b[0m\u001b[0;34m\u001b[0m\u001b[0m\n\u001b[0;32m-> 2152\u001b[0;31m             raise RuntimeError('Error(s) in loading state_dict for {}:\\n\\t{}'.format(\n\u001b[0m\u001b[1;32m   2153\u001b[0m                                self.__class__.__name__, \"\\n\\t\".join(error_msgs)))\n\u001b[1;32m   2154\u001b[0m         \u001b[0;32mreturn\u001b[0m \u001b[0m_IncompatibleKeys\u001b[0m\u001b[0;34m(\u001b[0m\u001b[0mmissing_keys\u001b[0m\u001b[0;34m,\u001b[0m \u001b[0munexpected_keys\u001b[0m\u001b[0;34m)\u001b[0m\u001b[0;34m\u001b[0m\u001b[0;34m\u001b[0m\u001b[0m\n",
            "\u001b[0;31mRuntimeError\u001b[0m: Error(s) in loading state_dict for autoencoder5:\n\tMissing key(s) in state_dict: \"encoder.2.weight\", \"encoder.2.bias\", \"encoder.4.weight\", \"encoder.4.bias\", \"encoder.8.weight\", \"encoder.8.bias\", \"decoder.2.weight\", \"decoder.2.bias\", \"decoder.4.weight\", \"decoder.4.bias\", \"decoder.8.weight\", \"decoder.8.bias\". \n\tUnexpected key(s) in state_dict: \"encoder.9.weight\", \"encoder.9.bias\", \"encoder.12.weight\", \"encoder.12.bias\", \"encoder.3.weight\", \"encoder.3.bias\", \"decoder.12.weight\", \"decoder.12.bias\", \"decoder.3.weight\", \"decoder.3.bias\", \"decoder.9.weight\", \"decoder.9.bias\". \n\tsize mismatch for encoder.6.weight: copying a param with shape torch.Size([300, 400]) from checkpoint, the shape in current model is torch.Size([200, 300]).\n\tsize mismatch for encoder.6.bias: copying a param with shape torch.Size([300]) from checkpoint, the shape in current model is torch.Size([200]).\n\tsize mismatch for decoder.6.weight: copying a param with shape torch.Size([400, 300]) from checkpoint, the shape in current model is torch.Size([550, 400]).\n\tsize mismatch for decoder.6.bias: copying a param with shape torch.Size([400]) from checkpoint, the shape in current model is torch.Size([550])."
          ]
        }
      ]
    },
    {
      "cell_type": "markdown",
      "source": [
        "Evaluation of performance after regularization"
      ],
      "metadata": {
        "id": "7GMLjJKDqY42"
      }
    },
    {
      "cell_type": "code",
      "source": [
        "models = [models_autoencoder3_regularized, models_autoencoder5_regularized]\n",
        "evaluate_model(models, train_MNIST, valid_MNIST, test_MNIST)"
      ],
      "metadata": {
        "colab": {
          "base_uri": "https://localhost:8080/",
          "height": 304
        },
        "id": "wiOaSiRGqof5",
        "outputId": "276324a3-8785-4958-bb15-f413e1a9c10b"
      },
      "execution_count": null,
      "outputs": [
        {
          "output_type": "error",
          "ename": "AttributeError",
          "evalue": "'tuple' object has no attribute 'size'",
          "traceback": [
            "\u001b[0;31m---------------------------------------------------------------------------\u001b[0m",
            "\u001b[0;31mAttributeError\u001b[0m                            Traceback (most recent call last)",
            "\u001b[0;32m<ipython-input-139-8ecf8302d548>\u001b[0m in \u001b[0;36m<cell line: 2>\u001b[0;34m()\u001b[0m\n\u001b[1;32m      1\u001b[0m \u001b[0mmodels\u001b[0m \u001b[0;34m=\u001b[0m \u001b[0;34m[\u001b[0m\u001b[0mmodels_autoencoder3_regularized\u001b[0m\u001b[0;34m,\u001b[0m \u001b[0mmodels_autoencoder5_regularized\u001b[0m\u001b[0;34m]\u001b[0m\u001b[0;34m\u001b[0m\u001b[0;34m\u001b[0m\u001b[0m\n\u001b[0;32m----> 2\u001b[0;31m \u001b[0mevaluate_model\u001b[0m\u001b[0;34m(\u001b[0m\u001b[0mmodels\u001b[0m\u001b[0;34m,\u001b[0m \u001b[0mtrain_MNIST\u001b[0m\u001b[0;34m,\u001b[0m \u001b[0mvalid_MNIST\u001b[0m\u001b[0;34m,\u001b[0m \u001b[0mtest_MNIST\u001b[0m\u001b[0;34m)\u001b[0m\u001b[0;34m\u001b[0m\u001b[0;34m\u001b[0m\u001b[0m\n\u001b[0m",
            "\u001b[0;32m<ipython-input-138-befc5f3d9a56>\u001b[0m in \u001b[0;36mevaluate_model\u001b[0;34m(models, train, valid, test)\u001b[0m\n\u001b[1;32m      3\u001b[0m         \u001b[0;32mfor\u001b[0m \u001b[0mi\u001b[0m\u001b[0;34m,\u001b[0m \u001b[0mmodel\u001b[0m \u001b[0;32min\u001b[0m \u001b[0menumerate\u001b[0m\u001b[0;34m(\u001b[0m\u001b[0mmodels\u001b[0m\u001b[0;34m[\u001b[0m\u001b[0mn_layers\u001b[0m\u001b[0;34m]\u001b[0m\u001b[0;34m)\u001b[0m\u001b[0;34m:\u001b[0m\u001b[0;34m\u001b[0m\u001b[0;34m\u001b[0m\u001b[0m\n\u001b[1;32m      4\u001b[0m             \u001b[0mn_lay\u001b[0m \u001b[0;34m=\u001b[0m \u001b[0;36m3\u001b[0m \u001b[0;32mif\u001b[0m \u001b[0mn_layers\u001b[0m \u001b[0;34m==\u001b[0m \u001b[0;36m0\u001b[0m \u001b[0;32melse\u001b[0m \u001b[0;36m5\u001b[0m\u001b[0;34m\u001b[0m\u001b[0;34m\u001b[0m\u001b[0m\n\u001b[0;32m----> 5\u001b[0;31m             \u001b[0mprint\u001b[0m\u001b[0;34m(\u001b[0m\u001b[0;34mf\"Autoenc{n_lay}, train-{projected_dimensions[i]}. Projections:\"\u001b[0m\u001b[0;34m,\u001b[0m \u001b[0mmodel\u001b[0m\u001b[0;34m.\u001b[0m\u001b[0meval_performance\u001b[0m\u001b[0;34m(\u001b[0m\u001b[0mtrain\u001b[0m\u001b[0;34m)\u001b[0m\u001b[0;34m)\u001b[0m\u001b[0;34m\u001b[0m\u001b[0;34m\u001b[0m\u001b[0m\n\u001b[0m\u001b[1;32m      6\u001b[0m             \u001b[0mprint\u001b[0m\u001b[0;34m(\u001b[0m\u001b[0;34mf\"Autoenc{n_lay}, val-{projected_dimensions[i]}. Projections:\"\u001b[0m\u001b[0;34m,\u001b[0m \u001b[0mmodel\u001b[0m\u001b[0;34m.\u001b[0m\u001b[0meval_performance\u001b[0m\u001b[0;34m(\u001b[0m\u001b[0mvalid\u001b[0m\u001b[0;34m)\u001b[0m\u001b[0;34m)\u001b[0m\u001b[0;34m\u001b[0m\u001b[0;34m\u001b[0m\u001b[0m\n\u001b[1;32m      7\u001b[0m             \u001b[0mprint\u001b[0m\u001b[0;34m(\u001b[0m\u001b[0;34mf\"Autoenc{n_lay}, test-{projected_dimensions[i]}. Projections:\"\u001b[0m\u001b[0;34m,\u001b[0m \u001b[0mmodel\u001b[0m\u001b[0;34m.\u001b[0m\u001b[0meval_performance\u001b[0m\u001b[0;34m(\u001b[0m\u001b[0mtest\u001b[0m\u001b[0;34m)\u001b[0m\u001b[0;34m,\u001b[0m \u001b[0;34m\"\\n\"\u001b[0m\u001b[0;34m)\u001b[0m\u001b[0;34m\u001b[0m\u001b[0;34m\u001b[0m\u001b[0m\n",
            "\u001b[0;32m<ipython-input-128-11f73363845b>\u001b[0m in \u001b[0;36meval_performance\u001b[0;34m(self, data_test)\u001b[0m\n\u001b[1;32m    149\u001b[0m               \u001b[0mimg\u001b[0m \u001b[0;34m=\u001b[0m \u001b[0mimages\u001b[0m\u001b[0;34m.\u001b[0m\u001b[0mview\u001b[0m\u001b[0;34m(\u001b[0m\u001b[0;34m-\u001b[0m\u001b[0;36m1\u001b[0m\u001b[0;34m,\u001b[0m \u001b[0mself\u001b[0m\u001b[0;34m.\u001b[0m\u001b[0minput_image_size\u001b[0m\u001b[0;34m)\u001b[0m\u001b[0;34m\u001b[0m\u001b[0;34m\u001b[0m\u001b[0m\n\u001b[1;32m    150\u001b[0m               \u001b[0mreconstructed\u001b[0m \u001b[0;34m=\u001b[0m \u001b[0mself\u001b[0m\u001b[0;34m.\u001b[0m\u001b[0mforward\u001b[0m\u001b[0;34m(\u001b[0m\u001b[0mimg\u001b[0m\u001b[0;34m)\u001b[0m\u001b[0;34m\u001b[0m\u001b[0;34m\u001b[0m\u001b[0m\n\u001b[0;32m--> 151\u001b[0;31m               \u001b[0mperformance\u001b[0m \u001b[0;34m=\u001b[0m \u001b[0mself\u001b[0m\u001b[0;34m.\u001b[0m\u001b[0mpsnr\u001b[0m\u001b[0;34m(\u001b[0m\u001b[0mreconstructed\u001b[0m\u001b[0;34m,\u001b[0m \u001b[0mimg\u001b[0m\u001b[0;34m)\u001b[0m\u001b[0;34m\u001b[0m\u001b[0;34m\u001b[0m\u001b[0m\n\u001b[0m\u001b[1;32m    152\u001b[0m \u001b[0;34m\u001b[0m\u001b[0m\n\u001b[1;32m    153\u001b[0m \u001b[0;34m\u001b[0m\u001b[0m\n",
            "\u001b[0;32m<ipython-input-128-11f73363845b>\u001b[0m in \u001b[0;36mpsnr\u001b[0;34m(self, img1, img2)\u001b[0m\n\u001b[1;32m     67\u001b[0m     \u001b[0;32mdef\u001b[0m \u001b[0mpsnr\u001b[0m\u001b[0;34m(\u001b[0m\u001b[0mself\u001b[0m\u001b[0;34m,\u001b[0m \u001b[0mimg1\u001b[0m\u001b[0;34m,\u001b[0m \u001b[0mimg2\u001b[0m\u001b[0;34m)\u001b[0m\u001b[0;34m:\u001b[0m  \u001b[0;31m#  Peak signal-to-noise ratio (PSNR)\u001b[0m\u001b[0;34m\u001b[0m\u001b[0;34m\u001b[0m\u001b[0m\n\u001b[1;32m     68\u001b[0m         \u001b[0mmse_criterio\u001b[0m \u001b[0;34m=\u001b[0m \u001b[0mnn\u001b[0m\u001b[0;34m.\u001b[0m\u001b[0mMSELoss\u001b[0m\u001b[0;34m(\u001b[0m\u001b[0;34m)\u001b[0m\u001b[0;34m\u001b[0m\u001b[0;34m\u001b[0m\u001b[0m\n\u001b[0;32m---> 69\u001b[0;31m         \u001b[0mmse\u001b[0m \u001b[0;34m=\u001b[0m \u001b[0mmse_criterio\u001b[0m\u001b[0;34m(\u001b[0m\u001b[0mimg1\u001b[0m\u001b[0;34m,\u001b[0m \u001b[0mimg2\u001b[0m\u001b[0;34m)\u001b[0m\u001b[0;34m\u001b[0m\u001b[0;34m\u001b[0m\u001b[0m\n\u001b[0m\u001b[1;32m     70\u001b[0m         \u001b[0mmax_pixel\u001b[0m \u001b[0;34m=\u001b[0m \u001b[0;36m1.0\u001b[0m\u001b[0;34m\u001b[0m\u001b[0;34m\u001b[0m\u001b[0m\n\u001b[1;32m     71\u001b[0m         \u001b[0mpsnr\u001b[0m \u001b[0;34m=\u001b[0m \u001b[0;36m20\u001b[0m \u001b[0;34m*\u001b[0m \u001b[0mtorch\u001b[0m\u001b[0;34m.\u001b[0m\u001b[0mlog10\u001b[0m\u001b[0;34m(\u001b[0m\u001b[0mmax_pixel\u001b[0m \u001b[0;34m/\u001b[0m \u001b[0mtorch\u001b[0m\u001b[0;34m.\u001b[0m\u001b[0msqrt\u001b[0m\u001b[0;34m(\u001b[0m\u001b[0mmse\u001b[0m\u001b[0;34m)\u001b[0m\u001b[0;34m)\u001b[0m\u001b[0;34m\u001b[0m\u001b[0;34m\u001b[0m\u001b[0m\n",
            "\u001b[0;32m/usr/local/lib/python3.10/dist-packages/torch/nn/modules/module.py\u001b[0m in \u001b[0;36m_wrapped_call_impl\u001b[0;34m(self, *args, **kwargs)\u001b[0m\n\u001b[1;32m   1516\u001b[0m             \u001b[0;32mreturn\u001b[0m \u001b[0mself\u001b[0m\u001b[0;34m.\u001b[0m\u001b[0m_compiled_call_impl\u001b[0m\u001b[0;34m(\u001b[0m\u001b[0;34m*\u001b[0m\u001b[0margs\u001b[0m\u001b[0;34m,\u001b[0m \u001b[0;34m**\u001b[0m\u001b[0mkwargs\u001b[0m\u001b[0;34m)\u001b[0m  \u001b[0;31m# type: ignore[misc]\u001b[0m\u001b[0;34m\u001b[0m\u001b[0;34m\u001b[0m\u001b[0m\n\u001b[1;32m   1517\u001b[0m         \u001b[0;32melse\u001b[0m\u001b[0;34m:\u001b[0m\u001b[0;34m\u001b[0m\u001b[0;34m\u001b[0m\u001b[0m\n\u001b[0;32m-> 1518\u001b[0;31m             \u001b[0;32mreturn\u001b[0m \u001b[0mself\u001b[0m\u001b[0;34m.\u001b[0m\u001b[0m_call_impl\u001b[0m\u001b[0;34m(\u001b[0m\u001b[0;34m*\u001b[0m\u001b[0margs\u001b[0m\u001b[0;34m,\u001b[0m \u001b[0;34m**\u001b[0m\u001b[0mkwargs\u001b[0m\u001b[0;34m)\u001b[0m\u001b[0;34m\u001b[0m\u001b[0;34m\u001b[0m\u001b[0m\n\u001b[0m\u001b[1;32m   1519\u001b[0m \u001b[0;34m\u001b[0m\u001b[0m\n\u001b[1;32m   1520\u001b[0m     \u001b[0;32mdef\u001b[0m \u001b[0m_call_impl\u001b[0m\u001b[0;34m(\u001b[0m\u001b[0mself\u001b[0m\u001b[0;34m,\u001b[0m \u001b[0;34m*\u001b[0m\u001b[0margs\u001b[0m\u001b[0;34m,\u001b[0m \u001b[0;34m**\u001b[0m\u001b[0mkwargs\u001b[0m\u001b[0;34m)\u001b[0m\u001b[0;34m:\u001b[0m\u001b[0;34m\u001b[0m\u001b[0;34m\u001b[0m\u001b[0m\n",
            "\u001b[0;32m/usr/local/lib/python3.10/dist-packages/torch/nn/modules/module.py\u001b[0m in \u001b[0;36m_call_impl\u001b[0;34m(self, *args, **kwargs)\u001b[0m\n\u001b[1;32m   1525\u001b[0m                 \u001b[0;32mor\u001b[0m \u001b[0m_global_backward_pre_hooks\u001b[0m \u001b[0;32mor\u001b[0m \u001b[0m_global_backward_hooks\u001b[0m\u001b[0;34m\u001b[0m\u001b[0;34m\u001b[0m\u001b[0m\n\u001b[1;32m   1526\u001b[0m                 or _global_forward_hooks or _global_forward_pre_hooks):\n\u001b[0;32m-> 1527\u001b[0;31m             \u001b[0;32mreturn\u001b[0m \u001b[0mforward_call\u001b[0m\u001b[0;34m(\u001b[0m\u001b[0;34m*\u001b[0m\u001b[0margs\u001b[0m\u001b[0;34m,\u001b[0m \u001b[0;34m**\u001b[0m\u001b[0mkwargs\u001b[0m\u001b[0;34m)\u001b[0m\u001b[0;34m\u001b[0m\u001b[0;34m\u001b[0m\u001b[0m\n\u001b[0m\u001b[1;32m   1528\u001b[0m \u001b[0;34m\u001b[0m\u001b[0m\n\u001b[1;32m   1529\u001b[0m         \u001b[0;32mtry\u001b[0m\u001b[0;34m:\u001b[0m\u001b[0;34m\u001b[0m\u001b[0;34m\u001b[0m\u001b[0m\n",
            "\u001b[0;32m/usr/local/lib/python3.10/dist-packages/torch/nn/modules/loss.py\u001b[0m in \u001b[0;36mforward\u001b[0;34m(self, input, target)\u001b[0m\n\u001b[1;32m    533\u001b[0m \u001b[0;34m\u001b[0m\u001b[0m\n\u001b[1;32m    534\u001b[0m     \u001b[0;32mdef\u001b[0m \u001b[0mforward\u001b[0m\u001b[0;34m(\u001b[0m\u001b[0mself\u001b[0m\u001b[0;34m,\u001b[0m \u001b[0minput\u001b[0m\u001b[0;34m:\u001b[0m \u001b[0mTensor\u001b[0m\u001b[0;34m,\u001b[0m \u001b[0mtarget\u001b[0m\u001b[0;34m:\u001b[0m \u001b[0mTensor\u001b[0m\u001b[0;34m)\u001b[0m \u001b[0;34m->\u001b[0m \u001b[0mTensor\u001b[0m\u001b[0;34m:\u001b[0m\u001b[0;34m\u001b[0m\u001b[0;34m\u001b[0m\u001b[0m\n\u001b[0;32m--> 535\u001b[0;31m         \u001b[0;32mreturn\u001b[0m \u001b[0mF\u001b[0m\u001b[0;34m.\u001b[0m\u001b[0mmse_loss\u001b[0m\u001b[0;34m(\u001b[0m\u001b[0minput\u001b[0m\u001b[0;34m,\u001b[0m \u001b[0mtarget\u001b[0m\u001b[0;34m,\u001b[0m \u001b[0mreduction\u001b[0m\u001b[0;34m=\u001b[0m\u001b[0mself\u001b[0m\u001b[0;34m.\u001b[0m\u001b[0mreduction\u001b[0m\u001b[0;34m)\u001b[0m\u001b[0;34m\u001b[0m\u001b[0;34m\u001b[0m\u001b[0m\n\u001b[0m\u001b[1;32m    536\u001b[0m \u001b[0;34m\u001b[0m\u001b[0m\n\u001b[1;32m    537\u001b[0m \u001b[0;34m\u001b[0m\u001b[0m\n",
            "\u001b[0;32m/usr/local/lib/python3.10/dist-packages/torch/nn/functional.py\u001b[0m in \u001b[0;36mmse_loss\u001b[0;34m(input, target, size_average, reduce, reduction)\u001b[0m\n\u001b[1;32m   3316\u001b[0m             \u001b[0mmse_loss\u001b[0m\u001b[0;34m,\u001b[0m \u001b[0;34m(\u001b[0m\u001b[0minput\u001b[0m\u001b[0;34m,\u001b[0m \u001b[0mtarget\u001b[0m\u001b[0;34m)\u001b[0m\u001b[0;34m,\u001b[0m \u001b[0minput\u001b[0m\u001b[0;34m,\u001b[0m \u001b[0mtarget\u001b[0m\u001b[0;34m,\u001b[0m \u001b[0msize_average\u001b[0m\u001b[0;34m=\u001b[0m\u001b[0msize_average\u001b[0m\u001b[0;34m,\u001b[0m \u001b[0mreduce\u001b[0m\u001b[0;34m=\u001b[0m\u001b[0mreduce\u001b[0m\u001b[0;34m,\u001b[0m \u001b[0mreduction\u001b[0m\u001b[0;34m=\u001b[0m\u001b[0mreduction\u001b[0m\u001b[0;34m\u001b[0m\u001b[0;34m\u001b[0m\u001b[0m\n\u001b[1;32m   3317\u001b[0m         )\n\u001b[0;32m-> 3318\u001b[0;31m     \u001b[0;32mif\u001b[0m \u001b[0;32mnot\u001b[0m \u001b[0;34m(\u001b[0m\u001b[0mtarget\u001b[0m\u001b[0;34m.\u001b[0m\u001b[0msize\u001b[0m\u001b[0;34m(\u001b[0m\u001b[0;34m)\u001b[0m \u001b[0;34m==\u001b[0m \u001b[0minput\u001b[0m\u001b[0;34m.\u001b[0m\u001b[0msize\u001b[0m\u001b[0;34m(\u001b[0m\u001b[0;34m)\u001b[0m\u001b[0;34m)\u001b[0m\u001b[0;34m:\u001b[0m\u001b[0;34m\u001b[0m\u001b[0;34m\u001b[0m\u001b[0m\n\u001b[0m\u001b[1;32m   3319\u001b[0m         warnings.warn(\n\u001b[1;32m   3320\u001b[0m             \u001b[0;34mf\"Using a target size ({target.size()}) that is different to the input size ({input.size()}). \"\u001b[0m\u001b[0;34m\u001b[0m\u001b[0;34m\u001b[0m\u001b[0m\n",
            "\u001b[0;31mAttributeError\u001b[0m: 'tuple' object has no attribute 'size'"
          ]
        }
      ]
    },
    {
      "cell_type": "markdown",
      "source": [
        "After looking at the performance we have chosen the model with"
      ],
      "metadata": {
        "id": "IhHjdaH4q_mK"
      }
    },
    {
      "cell_type": "markdown",
      "source": [
        "# Denoising autoencoder\n",
        "\n",
        "Now for the best model we have found we will train a new one with noisy images and compare the output with the original ones. We will tune the variance of the noise we are introducing"
      ],
      "metadata": {
        "id": "CS44CBOprJKG"
      }
    },
    {
      "cell_type": "code",
      "source": [],
      "metadata": {
        "id": "uK7OOl33rFNN"
      },
      "execution_count": null,
      "outputs": []
    },
    {
      "cell_type": "markdown",
      "source": [
        "Visualization of the denoising autoencoder"
      ],
      "metadata": {
        "id": "_XEyC3iNrmS_"
      }
    },
    {
      "cell_type": "code",
      "source": [],
      "metadata": {
        "id": "mpRxwVEdrqkR"
      },
      "execution_count": null,
      "outputs": []
    }
  ],
  "metadata": {
    "colab": {
      "provenance": []
    },
    "kernelspec": {
      "display_name": "Python 3",
      "name": "python3"
    },
    "language_info": {
      "codemirror_mode": {
        "name": "ipython",
        "version": 3
      },
      "file_extension": ".py",
      "mimetype": "text/x-python",
      "name": "python",
      "nbconvert_exporter": "python",
      "pygments_lexer": "ipython3",
      "version": "3.11.5"
    },
    "widgets": {
      "application/vnd.jupyter.widget-state+json": {
        "03110499a1fd4eee84f0c2f88cc7a44e": {
          "model_module": "@jupyter-widgets/controls",
          "model_module_version": "1.5.0",
          "model_name": "LabelModel",
          "state": {
            "_dom_classes": [],
            "_model_module": "@jupyter-widgets/controls",
            "_model_module_version": "1.5.0",
            "_model_name": "LabelModel",
            "_view_count": null,
            "_view_module": "@jupyter-widgets/controls",
            "_view_module_version": "1.5.0",
            "_view_name": "LabelView",
            "description": "",
            "description_tooltip": null,
            "layout": "IPY_MODEL_7843f09f409f4e8fbee343e2c80bb247",
            "placeholder": "​",
            "style": "IPY_MODEL_2d8cc64089ba472ebd78bdfdc0d84f0e",
            "value": "0.013 MB of 0.013 MB uploaded\r"
          }
        },
        "0867f6034298400fa3cda277701fa8db": {
          "model_module": "@jupyter-widgets/base",
          "model_module_version": "1.2.0",
          "model_name": "LayoutModel",
          "state": {
            "_model_module": "@jupyter-widgets/base",
            "_model_module_version": "1.2.0",
            "_model_name": "LayoutModel",
            "_view_count": null,
            "_view_module": "@jupyter-widgets/base",
            "_view_module_version": "1.2.0",
            "_view_name": "LayoutView",
            "align_content": null,
            "align_items": null,
            "align_self": null,
            "border": null,
            "bottom": null,
            "display": null,
            "flex": null,
            "flex_flow": null,
            "grid_area": null,
            "grid_auto_columns": null,
            "grid_auto_flow": null,
            "grid_auto_rows": null,
            "grid_column": null,
            "grid_gap": null,
            "grid_row": null,
            "grid_template_areas": null,
            "grid_template_columns": null,
            "grid_template_rows": null,
            "height": null,
            "justify_content": null,
            "justify_items": null,
            "left": null,
            "margin": null,
            "max_height": null,
            "max_width": null,
            "min_height": null,
            "min_width": null,
            "object_fit": null,
            "object_position": null,
            "order": null,
            "overflow": null,
            "overflow_x": null,
            "overflow_y": null,
            "padding": null,
            "right": null,
            "top": null,
            "visibility": null,
            "width": null
          }
        },
        "08c2b1ae4f9a431b850ab8b7432500f2": {
          "model_module": "@jupyter-widgets/controls",
          "model_module_version": "1.5.0",
          "model_name": "VBoxModel",
          "state": {
            "_dom_classes": [],
            "_model_module": "@jupyter-widgets/controls",
            "_model_module_version": "1.5.0",
            "_model_name": "VBoxModel",
            "_view_count": null,
            "_view_module": "@jupyter-widgets/controls",
            "_view_module_version": "1.5.0",
            "_view_name": "VBoxView",
            "box_style": "",
            "children": [
              "IPY_MODEL_7717f2ead0854516bfb58f1c76b09880",
              "IPY_MODEL_f56211e5c5eb45ab906b0b21c769c20b"
            ],
            "layout": "IPY_MODEL_12be198da58e4fc0a0fa61970622c663"
          }
        },
        "12be198da58e4fc0a0fa61970622c663": {
          "model_module": "@jupyter-widgets/base",
          "model_module_version": "1.2.0",
          "model_name": "LayoutModel",
          "state": {
            "_model_module": "@jupyter-widgets/base",
            "_model_module_version": "1.2.0",
            "_model_name": "LayoutModel",
            "_view_count": null,
            "_view_module": "@jupyter-widgets/base",
            "_view_module_version": "1.2.0",
            "_view_name": "LayoutView",
            "align_content": null,
            "align_items": null,
            "align_self": null,
            "border": null,
            "bottom": null,
            "display": null,
            "flex": null,
            "flex_flow": null,
            "grid_area": null,
            "grid_auto_columns": null,
            "grid_auto_flow": null,
            "grid_auto_rows": null,
            "grid_column": null,
            "grid_gap": null,
            "grid_row": null,
            "grid_template_areas": null,
            "grid_template_columns": null,
            "grid_template_rows": null,
            "height": null,
            "justify_content": null,
            "justify_items": null,
            "left": null,
            "margin": null,
            "max_height": null,
            "max_width": null,
            "min_height": null,
            "min_width": null,
            "object_fit": null,
            "object_position": null,
            "order": null,
            "overflow": null,
            "overflow_x": null,
            "overflow_y": null,
            "padding": null,
            "right": null,
            "top": null,
            "visibility": null,
            "width": null
          }
        },
        "1e1bcb8660bc40feb0f732cf702aa1c3": {
          "model_module": "@jupyter-widgets/base",
          "model_module_version": "1.2.0",
          "model_name": "LayoutModel",
          "state": {
            "_model_module": "@jupyter-widgets/base",
            "_model_module_version": "1.2.0",
            "_model_name": "LayoutModel",
            "_view_count": null,
            "_view_module": "@jupyter-widgets/base",
            "_view_module_version": "1.2.0",
            "_view_name": "LayoutView",
            "align_content": null,
            "align_items": null,
            "align_self": null,
            "border": null,
            "bottom": null,
            "display": null,
            "flex": null,
            "flex_flow": null,
            "grid_area": null,
            "grid_auto_columns": null,
            "grid_auto_flow": null,
            "grid_auto_rows": null,
            "grid_column": null,
            "grid_gap": null,
            "grid_row": null,
            "grid_template_areas": null,
            "grid_template_columns": null,
            "grid_template_rows": null,
            "height": null,
            "justify_content": null,
            "justify_items": null,
            "left": null,
            "margin": null,
            "max_height": null,
            "max_width": null,
            "min_height": null,
            "min_width": null,
            "object_fit": null,
            "object_position": null,
            "order": null,
            "overflow": null,
            "overflow_x": null,
            "overflow_y": null,
            "padding": null,
            "right": null,
            "top": null,
            "visibility": null,
            "width": null
          }
        },
        "1ea31b7d429d4d8d99efbfc8f303fa40": {
          "model_module": "@jupyter-widgets/controls",
          "model_module_version": "1.5.0",
          "model_name": "FloatProgressModel",
          "state": {
            "_dom_classes": [],
            "_model_module": "@jupyter-widgets/controls",
            "_model_module_version": "1.5.0",
            "_model_name": "FloatProgressModel",
            "_view_count": null,
            "_view_module": "@jupyter-widgets/controls",
            "_view_module_version": "1.5.0",
            "_view_name": "ProgressView",
            "bar_style": "",
            "description": "",
            "description_tooltip": null,
            "layout": "IPY_MODEL_9b54ed4682fd47deb1bfde2890bc53c8",
            "max": 1,
            "min": 0,
            "orientation": "horizontal",
            "style": "IPY_MODEL_8cdd6b61ba084166adac74ac1bc6d2b0",
            "value": 1
          }
        },
        "2d8cc64089ba472ebd78bdfdc0d84f0e": {
          "model_module": "@jupyter-widgets/controls",
          "model_module_version": "1.5.0",
          "model_name": "DescriptionStyleModel",
          "state": {
            "_model_module": "@jupyter-widgets/controls",
            "_model_module_version": "1.5.0",
            "_model_name": "DescriptionStyleModel",
            "_view_count": null,
            "_view_module": "@jupyter-widgets/base",
            "_view_module_version": "1.2.0",
            "_view_name": "StyleView",
            "description_width": ""
          }
        },
        "4879c235bad748beaea7ff0c4ad61c0c": {
          "model_module": "@jupyter-widgets/controls",
          "model_module_version": "1.5.0",
          "model_name": "VBoxModel",
          "state": {
            "_dom_classes": [],
            "_model_module": "@jupyter-widgets/controls",
            "_model_module_version": "1.5.0",
            "_model_name": "VBoxModel",
            "_view_count": null,
            "_view_module": "@jupyter-widgets/controls",
            "_view_module_version": "1.5.0",
            "_view_name": "VBoxView",
            "box_style": "",
            "children": [
              "IPY_MODEL_f5f0b34829f94f6cb3b7c819757dd34a",
              "IPY_MODEL_b74581d0213f449f8aabb8f5ab0a6a82"
            ],
            "layout": "IPY_MODEL_bb661c949d234ee698e9e98a4809bc15"
          }
        },
        "4e0c3782555843499dde238bead11e1d": {
          "model_module": "@jupyter-widgets/controls",
          "model_module_version": "1.5.0",
          "model_name": "FloatProgressModel",
          "state": {
            "_dom_classes": [],
            "_model_module": "@jupyter-widgets/controls",
            "_model_module_version": "1.5.0",
            "_model_name": "FloatProgressModel",
            "_view_count": null,
            "_view_module": "@jupyter-widgets/controls",
            "_view_module_version": "1.5.0",
            "_view_name": "ProgressView",
            "bar_style": "",
            "description": "",
            "description_tooltip": null,
            "layout": "IPY_MODEL_dc93c8da3001437986e1201c75841b21",
            "max": 1,
            "min": 0,
            "orientation": "horizontal",
            "style": "IPY_MODEL_b48b6c3b2e834f80b7afc74de5531621",
            "value": 1
          }
        },
        "6721da9bafb14c03b4c09ab46c63a4d9": {
          "model_module": "@jupyter-widgets/controls",
          "model_module_version": "1.5.0",
          "model_name": "VBoxModel",
          "state": {
            "_dom_classes": [],
            "_model_module": "@jupyter-widgets/controls",
            "_model_module_version": "1.5.0",
            "_model_name": "VBoxModel",
            "_view_count": null,
            "_view_module": "@jupyter-widgets/controls",
            "_view_module_version": "1.5.0",
            "_view_name": "VBoxView",
            "box_style": "",
            "children": [
              "IPY_MODEL_d2871d6abd1a49a694cb03715477cc07",
              "IPY_MODEL_1ea31b7d429d4d8d99efbfc8f303fa40"
            ],
            "layout": "IPY_MODEL_e16ff2dbf285487aa9d3c073143779e2"
          }
        },
        "76cbb83644e348c0b91d3cc0b9a8fb9d": {
          "model_module": "@jupyter-widgets/controls",
          "model_module_version": "1.5.0",
          "model_name": "ProgressStyleModel",
          "state": {
            "_model_module": "@jupyter-widgets/controls",
            "_model_module_version": "1.5.0",
            "_model_name": "ProgressStyleModel",
            "_view_count": null,
            "_view_module": "@jupyter-widgets/base",
            "_view_module_version": "1.2.0",
            "_view_name": "StyleView",
            "bar_color": null,
            "description_width": ""
          }
        },
        "7717f2ead0854516bfb58f1c76b09880": {
          "model_module": "@jupyter-widgets/controls",
          "model_module_version": "1.5.0",
          "model_name": "LabelModel",
          "state": {
            "_dom_classes": [],
            "_model_module": "@jupyter-widgets/controls",
            "_model_module_version": "1.5.0",
            "_model_name": "LabelModel",
            "_view_count": null,
            "_view_module": "@jupyter-widgets/controls",
            "_view_module_version": "1.5.0",
            "_view_name": "LabelView",
            "description": "",
            "description_tooltip": null,
            "layout": "IPY_MODEL_8a4538354594444c8ffe7342ff817a1e",
            "placeholder": "​",
            "style": "IPY_MODEL_ef61f7c066e3479190df422f1ddc1c50",
            "value": "Waiting for wandb.init()...\r"
          }
        },
        "7843f09f409f4e8fbee343e2c80bb247": {
          "model_module": "@jupyter-widgets/base",
          "model_module_version": "1.2.0",
          "model_name": "LayoutModel",
          "state": {
            "_model_module": "@jupyter-widgets/base",
            "_model_module_version": "1.2.0",
            "_model_name": "LayoutModel",
            "_view_count": null,
            "_view_module": "@jupyter-widgets/base",
            "_view_module_version": "1.2.0",
            "_view_name": "LayoutView",
            "align_content": null,
            "align_items": null,
            "align_self": null,
            "border": null,
            "bottom": null,
            "display": null,
            "flex": null,
            "flex_flow": null,
            "grid_area": null,
            "grid_auto_columns": null,
            "grid_auto_flow": null,
            "grid_auto_rows": null,
            "grid_column": null,
            "grid_gap": null,
            "grid_row": null,
            "grid_template_areas": null,
            "grid_template_columns": null,
            "grid_template_rows": null,
            "height": null,
            "justify_content": null,
            "justify_items": null,
            "left": null,
            "margin": null,
            "max_height": null,
            "max_width": null,
            "min_height": null,
            "min_width": null,
            "object_fit": null,
            "object_position": null,
            "order": null,
            "overflow": null,
            "overflow_x": null,
            "overflow_y": null,
            "padding": null,
            "right": null,
            "top": null,
            "visibility": null,
            "width": null
          }
        },
        "7f88c8ca709340aea64128208b24dd52": {
          "model_module": "@jupyter-widgets/base",
          "model_module_version": "1.2.0",
          "model_name": "LayoutModel",
          "state": {
            "_model_module": "@jupyter-widgets/base",
            "_model_module_version": "1.2.0",
            "_model_name": "LayoutModel",
            "_view_count": null,
            "_view_module": "@jupyter-widgets/base",
            "_view_module_version": "1.2.0",
            "_view_name": "LayoutView",
            "align_content": null,
            "align_items": null,
            "align_self": null,
            "border": null,
            "bottom": null,
            "display": null,
            "flex": null,
            "flex_flow": null,
            "grid_area": null,
            "grid_auto_columns": null,
            "grid_auto_flow": null,
            "grid_auto_rows": null,
            "grid_column": null,
            "grid_gap": null,
            "grid_row": null,
            "grid_template_areas": null,
            "grid_template_columns": null,
            "grid_template_rows": null,
            "height": null,
            "justify_content": null,
            "justify_items": null,
            "left": null,
            "margin": null,
            "max_height": null,
            "max_width": null,
            "min_height": null,
            "min_width": null,
            "object_fit": null,
            "object_position": null,
            "order": null,
            "overflow": null,
            "overflow_x": null,
            "overflow_y": null,
            "padding": null,
            "right": null,
            "top": null,
            "visibility": null,
            "width": null
          }
        },
        "7fcd38cd126542e1902590e154e93a9f": {
          "model_module": "@jupyter-widgets/controls",
          "model_module_version": "1.5.0",
          "model_name": "LabelModel",
          "state": {
            "_dom_classes": [],
            "_model_module": "@jupyter-widgets/controls",
            "_model_module_version": "1.5.0",
            "_model_name": "LabelModel",
            "_view_count": null,
            "_view_module": "@jupyter-widgets/controls",
            "_view_module_version": "1.5.0",
            "_view_name": "LabelView",
            "description": "",
            "description_tooltip": null,
            "layout": "IPY_MODEL_cd3f8439f93047b0a7e282defd0a2ca8",
            "placeholder": "​",
            "style": "IPY_MODEL_feac8b1d35814684903b47b29374f7f9",
            "value": "0.013 MB of 0.013 MB uploaded\r"
          }
        },
        "8a4538354594444c8ffe7342ff817a1e": {
          "model_module": "@jupyter-widgets/base",
          "model_module_version": "1.2.0",
          "model_name": "LayoutModel",
          "state": {
            "_model_module": "@jupyter-widgets/base",
            "_model_module_version": "1.2.0",
            "_model_name": "LayoutModel",
            "_view_count": null,
            "_view_module": "@jupyter-widgets/base",
            "_view_module_version": "1.2.0",
            "_view_name": "LayoutView",
            "align_content": null,
            "align_items": null,
            "align_self": null,
            "border": null,
            "bottom": null,
            "display": null,
            "flex": null,
            "flex_flow": null,
            "grid_area": null,
            "grid_auto_columns": null,
            "grid_auto_flow": null,
            "grid_auto_rows": null,
            "grid_column": null,
            "grid_gap": null,
            "grid_row": null,
            "grid_template_areas": null,
            "grid_template_columns": null,
            "grid_template_rows": null,
            "height": null,
            "justify_content": null,
            "justify_items": null,
            "left": null,
            "margin": null,
            "max_height": null,
            "max_width": null,
            "min_height": null,
            "min_width": null,
            "object_fit": null,
            "object_position": null,
            "order": null,
            "overflow": null,
            "overflow_x": null,
            "overflow_y": null,
            "padding": null,
            "right": null,
            "top": null,
            "visibility": null,
            "width": null
          }
        },
        "8cdd6b61ba084166adac74ac1bc6d2b0": {
          "model_module": "@jupyter-widgets/controls",
          "model_module_version": "1.5.0",
          "model_name": "ProgressStyleModel",
          "state": {
            "_model_module": "@jupyter-widgets/controls",
            "_model_module_version": "1.5.0",
            "_model_name": "ProgressStyleModel",
            "_view_count": null,
            "_view_module": "@jupyter-widgets/base",
            "_view_module_version": "1.2.0",
            "_view_name": "StyleView",
            "bar_color": null,
            "description_width": ""
          }
        },
        "952ede4afd1e43a69b78b415d0c30ac5": {
          "model_module": "@jupyter-widgets/controls",
          "model_module_version": "1.5.0",
          "model_name": "VBoxModel",
          "state": {
            "_dom_classes": [],
            "_model_module": "@jupyter-widgets/controls",
            "_model_module_version": "1.5.0",
            "_model_name": "VBoxModel",
            "_view_count": null,
            "_view_module": "@jupyter-widgets/controls",
            "_view_module_version": "1.5.0",
            "_view_name": "VBoxView",
            "box_style": "",
            "children": [
              "IPY_MODEL_03110499a1fd4eee84f0c2f88cc7a44e",
              "IPY_MODEL_4e0c3782555843499dde238bead11e1d"
            ],
            "layout": "IPY_MODEL_f8e63957847e414685f3168303d8d9c9"
          }
        },
        "9b54ed4682fd47deb1bfde2890bc53c8": {
          "model_module": "@jupyter-widgets/base",
          "model_module_version": "1.2.0",
          "model_name": "LayoutModel",
          "state": {
            "_model_module": "@jupyter-widgets/base",
            "_model_module_version": "1.2.0",
            "_model_name": "LayoutModel",
            "_view_count": null,
            "_view_module": "@jupyter-widgets/base",
            "_view_module_version": "1.2.0",
            "_view_name": "LayoutView",
            "align_content": null,
            "align_items": null,
            "align_self": null,
            "border": null,
            "bottom": null,
            "display": null,
            "flex": null,
            "flex_flow": null,
            "grid_area": null,
            "grid_auto_columns": null,
            "grid_auto_flow": null,
            "grid_auto_rows": null,
            "grid_column": null,
            "grid_gap": null,
            "grid_row": null,
            "grid_template_areas": null,
            "grid_template_columns": null,
            "grid_template_rows": null,
            "height": null,
            "justify_content": null,
            "justify_items": null,
            "left": null,
            "margin": null,
            "max_height": null,
            "max_width": null,
            "min_height": null,
            "min_width": null,
            "object_fit": null,
            "object_position": null,
            "order": null,
            "overflow": null,
            "overflow_x": null,
            "overflow_y": null,
            "padding": null,
            "right": null,
            "top": null,
            "visibility": null,
            "width": null
          }
        },
        "9cb84cfa49a8470f9e138b90ad7dbfc7": {
          "model_module": "@jupyter-widgets/controls",
          "model_module_version": "1.5.0",
          "model_name": "ProgressStyleModel",
          "state": {
            "_model_module": "@jupyter-widgets/controls",
            "_model_module_version": "1.5.0",
            "_model_name": "ProgressStyleModel",
            "_view_count": null,
            "_view_module": "@jupyter-widgets/base",
            "_view_module_version": "1.2.0",
            "_view_name": "StyleView",
            "bar_color": null,
            "description_width": ""
          }
        },
        "9eb201ffc49f47a2b551462820c856d8": {
          "model_module": "@jupyter-widgets/controls",
          "model_module_version": "1.5.0",
          "model_name": "DescriptionStyleModel",
          "state": {
            "_model_module": "@jupyter-widgets/controls",
            "_model_module_version": "1.5.0",
            "_model_name": "DescriptionStyleModel",
            "_view_count": null,
            "_view_module": "@jupyter-widgets/base",
            "_view_module_version": "1.2.0",
            "_view_name": "StyleView",
            "description_width": ""
          }
        },
        "b48b6c3b2e834f80b7afc74de5531621": {
          "model_module": "@jupyter-widgets/controls",
          "model_module_version": "1.5.0",
          "model_name": "ProgressStyleModel",
          "state": {
            "_model_module": "@jupyter-widgets/controls",
            "_model_module_version": "1.5.0",
            "_model_name": "ProgressStyleModel",
            "_view_count": null,
            "_view_module": "@jupyter-widgets/base",
            "_view_module_version": "1.2.0",
            "_view_name": "StyleView",
            "bar_color": null,
            "description_width": ""
          }
        },
        "b74581d0213f449f8aabb8f5ab0a6a82": {
          "model_module": "@jupyter-widgets/controls",
          "model_module_version": "1.5.0",
          "model_name": "FloatProgressModel",
          "state": {
            "_dom_classes": [],
            "_model_module": "@jupyter-widgets/controls",
            "_model_module_version": "1.5.0",
            "_model_name": "FloatProgressModel",
            "_view_count": null,
            "_view_module": "@jupyter-widgets/controls",
            "_view_module_version": "1.5.0",
            "_view_name": "ProgressView",
            "bar_style": "",
            "description": "",
            "description_tooltip": null,
            "layout": "IPY_MODEL_cb054ef2d6dc477b8fa62a17fd80352d",
            "max": 1,
            "min": 0,
            "orientation": "horizontal",
            "style": "IPY_MODEL_9cb84cfa49a8470f9e138b90ad7dbfc7",
            "value": 1
          }
        },
        "bb661c949d234ee698e9e98a4809bc15": {
          "model_module": "@jupyter-widgets/base",
          "model_module_version": "1.2.0",
          "model_name": "LayoutModel",
          "state": {
            "_model_module": "@jupyter-widgets/base",
            "_model_module_version": "1.2.0",
            "_model_name": "LayoutModel",
            "_view_count": null,
            "_view_module": "@jupyter-widgets/base",
            "_view_module_version": "1.2.0",
            "_view_name": "LayoutView",
            "align_content": null,
            "align_items": null,
            "align_self": null,
            "border": null,
            "bottom": null,
            "display": null,
            "flex": null,
            "flex_flow": null,
            "grid_area": null,
            "grid_auto_columns": null,
            "grid_auto_flow": null,
            "grid_auto_rows": null,
            "grid_column": null,
            "grid_gap": null,
            "grid_row": null,
            "grid_template_areas": null,
            "grid_template_columns": null,
            "grid_template_rows": null,
            "height": null,
            "justify_content": null,
            "justify_items": null,
            "left": null,
            "margin": null,
            "max_height": null,
            "max_width": null,
            "min_height": null,
            "min_width": null,
            "object_fit": null,
            "object_position": null,
            "order": null,
            "overflow": null,
            "overflow_x": null,
            "overflow_y": null,
            "padding": null,
            "right": null,
            "top": null,
            "visibility": null,
            "width": null
          }
        },
        "c0675d719fb84554b04bd667845efe2a": {
          "model_module": "@jupyter-widgets/controls",
          "model_module_version": "1.5.0",
          "model_name": "VBoxModel",
          "state": {
            "_dom_classes": [],
            "_model_module": "@jupyter-widgets/controls",
            "_model_module_version": "1.5.0",
            "_model_name": "VBoxModel",
            "_view_count": null,
            "_view_module": "@jupyter-widgets/controls",
            "_view_module_version": "1.5.0",
            "_view_name": "VBoxView",
            "box_style": "",
            "children": [
              "IPY_MODEL_7fcd38cd126542e1902590e154e93a9f",
              "IPY_MODEL_db039397a93d4d03954ec23a9c3e7a24"
            ],
            "layout": "IPY_MODEL_f04f8c6d84fe4b39a01dcedc80d49cc4"
          }
        },
        "cb054ef2d6dc477b8fa62a17fd80352d": {
          "model_module": "@jupyter-widgets/base",
          "model_module_version": "1.2.0",
          "model_name": "LayoutModel",
          "state": {
            "_model_module": "@jupyter-widgets/base",
            "_model_module_version": "1.2.0",
            "_model_name": "LayoutModel",
            "_view_count": null,
            "_view_module": "@jupyter-widgets/base",
            "_view_module_version": "1.2.0",
            "_view_name": "LayoutView",
            "align_content": null,
            "align_items": null,
            "align_self": null,
            "border": null,
            "bottom": null,
            "display": null,
            "flex": null,
            "flex_flow": null,
            "grid_area": null,
            "grid_auto_columns": null,
            "grid_auto_flow": null,
            "grid_auto_rows": null,
            "grid_column": null,
            "grid_gap": null,
            "grid_row": null,
            "grid_template_areas": null,
            "grid_template_columns": null,
            "grid_template_rows": null,
            "height": null,
            "justify_content": null,
            "justify_items": null,
            "left": null,
            "margin": null,
            "max_height": null,
            "max_width": null,
            "min_height": null,
            "min_width": null,
            "object_fit": null,
            "object_position": null,
            "order": null,
            "overflow": null,
            "overflow_x": null,
            "overflow_y": null,
            "padding": null,
            "right": null,
            "top": null,
            "visibility": null,
            "width": null
          }
        },
        "cd3f8439f93047b0a7e282defd0a2ca8": {
          "model_module": "@jupyter-widgets/base",
          "model_module_version": "1.2.0",
          "model_name": "LayoutModel",
          "state": {
            "_model_module": "@jupyter-widgets/base",
            "_model_module_version": "1.2.0",
            "_model_name": "LayoutModel",
            "_view_count": null,
            "_view_module": "@jupyter-widgets/base",
            "_view_module_version": "1.2.0",
            "_view_name": "LayoutView",
            "align_content": null,
            "align_items": null,
            "align_self": null,
            "border": null,
            "bottom": null,
            "display": null,
            "flex": null,
            "flex_flow": null,
            "grid_area": null,
            "grid_auto_columns": null,
            "grid_auto_flow": null,
            "grid_auto_rows": null,
            "grid_column": null,
            "grid_gap": null,
            "grid_row": null,
            "grid_template_areas": null,
            "grid_template_columns": null,
            "grid_template_rows": null,
            "height": null,
            "justify_content": null,
            "justify_items": null,
            "left": null,
            "margin": null,
            "max_height": null,
            "max_width": null,
            "min_height": null,
            "min_width": null,
            "object_fit": null,
            "object_position": null,
            "order": null,
            "overflow": null,
            "overflow_x": null,
            "overflow_y": null,
            "padding": null,
            "right": null,
            "top": null,
            "visibility": null,
            "width": null
          }
        },
        "d07bf95520bb46429f005a1b877a1d3a": {
          "model_module": "@jupyter-widgets/controls",
          "model_module_version": "1.5.0",
          "model_name": "DescriptionStyleModel",
          "state": {
            "_model_module": "@jupyter-widgets/controls",
            "_model_module_version": "1.5.0",
            "_model_name": "DescriptionStyleModel",
            "_view_count": null,
            "_view_module": "@jupyter-widgets/base",
            "_view_module_version": "1.2.0",
            "_view_name": "StyleView",
            "description_width": ""
          }
        },
        "d2871d6abd1a49a694cb03715477cc07": {
          "model_module": "@jupyter-widgets/controls",
          "model_module_version": "1.5.0",
          "model_name": "LabelModel",
          "state": {
            "_dom_classes": [],
            "_model_module": "@jupyter-widgets/controls",
            "_model_module_version": "1.5.0",
            "_model_name": "LabelModel",
            "_view_count": null,
            "_view_module": "@jupyter-widgets/controls",
            "_view_module_version": "1.5.0",
            "_view_name": "LabelView",
            "description": "",
            "description_tooltip": null,
            "layout": "IPY_MODEL_e6e73e6dfacd46eb864fc7e96367491a",
            "placeholder": "​",
            "style": "IPY_MODEL_9eb201ffc49f47a2b551462820c856d8",
            "value": "0.013 MB of 0.013 MB uploaded\r"
          }
        },
        "db039397a93d4d03954ec23a9c3e7a24": {
          "model_module": "@jupyter-widgets/controls",
          "model_module_version": "1.5.0",
          "model_name": "FloatProgressModel",
          "state": {
            "_dom_classes": [],
            "_model_module": "@jupyter-widgets/controls",
            "_model_module_version": "1.5.0",
            "_model_name": "FloatProgressModel",
            "_view_count": null,
            "_view_module": "@jupyter-widgets/controls",
            "_view_module_version": "1.5.0",
            "_view_name": "ProgressView",
            "bar_style": "",
            "description": "",
            "description_tooltip": null,
            "layout": "IPY_MODEL_0867f6034298400fa3cda277701fa8db",
            "max": 1,
            "min": 0,
            "orientation": "horizontal",
            "style": "IPY_MODEL_dfe658f5381b4b88ae4b08211d21b174",
            "value": 1
          }
        },
        "dc93c8da3001437986e1201c75841b21": {
          "model_module": "@jupyter-widgets/base",
          "model_module_version": "1.2.0",
          "model_name": "LayoutModel",
          "state": {
            "_model_module": "@jupyter-widgets/base",
            "_model_module_version": "1.2.0",
            "_model_name": "LayoutModel",
            "_view_count": null,
            "_view_module": "@jupyter-widgets/base",
            "_view_module_version": "1.2.0",
            "_view_name": "LayoutView",
            "align_content": null,
            "align_items": null,
            "align_self": null,
            "border": null,
            "bottom": null,
            "display": null,
            "flex": null,
            "flex_flow": null,
            "grid_area": null,
            "grid_auto_columns": null,
            "grid_auto_flow": null,
            "grid_auto_rows": null,
            "grid_column": null,
            "grid_gap": null,
            "grid_row": null,
            "grid_template_areas": null,
            "grid_template_columns": null,
            "grid_template_rows": null,
            "height": null,
            "justify_content": null,
            "justify_items": null,
            "left": null,
            "margin": null,
            "max_height": null,
            "max_width": null,
            "min_height": null,
            "min_width": null,
            "object_fit": null,
            "object_position": null,
            "order": null,
            "overflow": null,
            "overflow_x": null,
            "overflow_y": null,
            "padding": null,
            "right": null,
            "top": null,
            "visibility": null,
            "width": null
          }
        },
        "dfe658f5381b4b88ae4b08211d21b174": {
          "model_module": "@jupyter-widgets/controls",
          "model_module_version": "1.5.0",
          "model_name": "ProgressStyleModel",
          "state": {
            "_model_module": "@jupyter-widgets/controls",
            "_model_module_version": "1.5.0",
            "_model_name": "ProgressStyleModel",
            "_view_count": null,
            "_view_module": "@jupyter-widgets/base",
            "_view_module_version": "1.2.0",
            "_view_name": "StyleView",
            "bar_color": null,
            "description_width": ""
          }
        },
        "e16ff2dbf285487aa9d3c073143779e2": {
          "model_module": "@jupyter-widgets/base",
          "model_module_version": "1.2.0",
          "model_name": "LayoutModel",
          "state": {
            "_model_module": "@jupyter-widgets/base",
            "_model_module_version": "1.2.0",
            "_model_name": "LayoutModel",
            "_view_count": null,
            "_view_module": "@jupyter-widgets/base",
            "_view_module_version": "1.2.0",
            "_view_name": "LayoutView",
            "align_content": null,
            "align_items": null,
            "align_self": null,
            "border": null,
            "bottom": null,
            "display": null,
            "flex": null,
            "flex_flow": null,
            "grid_area": null,
            "grid_auto_columns": null,
            "grid_auto_flow": null,
            "grid_auto_rows": null,
            "grid_column": null,
            "grid_gap": null,
            "grid_row": null,
            "grid_template_areas": null,
            "grid_template_columns": null,
            "grid_template_rows": null,
            "height": null,
            "justify_content": null,
            "justify_items": null,
            "left": null,
            "margin": null,
            "max_height": null,
            "max_width": null,
            "min_height": null,
            "min_width": null,
            "object_fit": null,
            "object_position": null,
            "order": null,
            "overflow": null,
            "overflow_x": null,
            "overflow_y": null,
            "padding": null,
            "right": null,
            "top": null,
            "visibility": null,
            "width": null
          }
        },
        "e6e73e6dfacd46eb864fc7e96367491a": {
          "model_module": "@jupyter-widgets/base",
          "model_module_version": "1.2.0",
          "model_name": "LayoutModel",
          "state": {
            "_model_module": "@jupyter-widgets/base",
            "_model_module_version": "1.2.0",
            "_model_name": "LayoutModel",
            "_view_count": null,
            "_view_module": "@jupyter-widgets/base",
            "_view_module_version": "1.2.0",
            "_view_name": "LayoutView",
            "align_content": null,
            "align_items": null,
            "align_self": null,
            "border": null,
            "bottom": null,
            "display": null,
            "flex": null,
            "flex_flow": null,
            "grid_area": null,
            "grid_auto_columns": null,
            "grid_auto_flow": null,
            "grid_auto_rows": null,
            "grid_column": null,
            "grid_gap": null,
            "grid_row": null,
            "grid_template_areas": null,
            "grid_template_columns": null,
            "grid_template_rows": null,
            "height": null,
            "justify_content": null,
            "justify_items": null,
            "left": null,
            "margin": null,
            "max_height": null,
            "max_width": null,
            "min_height": null,
            "min_width": null,
            "object_fit": null,
            "object_position": null,
            "order": null,
            "overflow": null,
            "overflow_x": null,
            "overflow_y": null,
            "padding": null,
            "right": null,
            "top": null,
            "visibility": null,
            "width": null
          }
        },
        "ef61f7c066e3479190df422f1ddc1c50": {
          "model_module": "@jupyter-widgets/controls",
          "model_module_version": "1.5.0",
          "model_name": "DescriptionStyleModel",
          "state": {
            "_model_module": "@jupyter-widgets/controls",
            "_model_module_version": "1.5.0",
            "_model_name": "DescriptionStyleModel",
            "_view_count": null,
            "_view_module": "@jupyter-widgets/base",
            "_view_module_version": "1.2.0",
            "_view_name": "StyleView",
            "description_width": ""
          }
        },
        "f04f8c6d84fe4b39a01dcedc80d49cc4": {
          "model_module": "@jupyter-widgets/base",
          "model_module_version": "1.2.0",
          "model_name": "LayoutModel",
          "state": {
            "_model_module": "@jupyter-widgets/base",
            "_model_module_version": "1.2.0",
            "_model_name": "LayoutModel",
            "_view_count": null,
            "_view_module": "@jupyter-widgets/base",
            "_view_module_version": "1.2.0",
            "_view_name": "LayoutView",
            "align_content": null,
            "align_items": null,
            "align_self": null,
            "border": null,
            "bottom": null,
            "display": null,
            "flex": null,
            "flex_flow": null,
            "grid_area": null,
            "grid_auto_columns": null,
            "grid_auto_flow": null,
            "grid_auto_rows": null,
            "grid_column": null,
            "grid_gap": null,
            "grid_row": null,
            "grid_template_areas": null,
            "grid_template_columns": null,
            "grid_template_rows": null,
            "height": null,
            "justify_content": null,
            "justify_items": null,
            "left": null,
            "margin": null,
            "max_height": null,
            "max_width": null,
            "min_height": null,
            "min_width": null,
            "object_fit": null,
            "object_position": null,
            "order": null,
            "overflow": null,
            "overflow_x": null,
            "overflow_y": null,
            "padding": null,
            "right": null,
            "top": null,
            "visibility": null,
            "width": null
          }
        },
        "f56211e5c5eb45ab906b0b21c769c20b": {
          "model_module": "@jupyter-widgets/controls",
          "model_module_version": "1.5.0",
          "model_name": "FloatProgressModel",
          "state": {
            "_dom_classes": [],
            "_model_module": "@jupyter-widgets/controls",
            "_model_module_version": "1.5.0",
            "_model_name": "FloatProgressModel",
            "_view_count": null,
            "_view_module": "@jupyter-widgets/controls",
            "_view_module_version": "1.5.0",
            "_view_name": "ProgressView",
            "bar_style": "",
            "description": "",
            "description_tooltip": null,
            "layout": "IPY_MODEL_1e1bcb8660bc40feb0f732cf702aa1c3",
            "max": 1,
            "min": 0,
            "orientation": "horizontal",
            "style": "IPY_MODEL_76cbb83644e348c0b91d3cc0b9a8fb9d",
            "value": 1
          }
        },
        "f5f0b34829f94f6cb3b7c819757dd34a": {
          "model_module": "@jupyter-widgets/controls",
          "model_module_version": "1.5.0",
          "model_name": "LabelModel",
          "state": {
            "_dom_classes": [],
            "_model_module": "@jupyter-widgets/controls",
            "_model_module_version": "1.5.0",
            "_model_name": "LabelModel",
            "_view_count": null,
            "_view_module": "@jupyter-widgets/controls",
            "_view_module_version": "1.5.0",
            "_view_name": "LabelView",
            "description": "",
            "description_tooltip": null,
            "layout": "IPY_MODEL_7f88c8ca709340aea64128208b24dd52",
            "placeholder": "​",
            "style": "IPY_MODEL_d07bf95520bb46429f005a1b877a1d3a",
            "value": "0.013 MB of 0.013 MB uploaded\r"
          }
        },
        "f8e63957847e414685f3168303d8d9c9": {
          "model_module": "@jupyter-widgets/base",
          "model_module_version": "1.2.0",
          "model_name": "LayoutModel",
          "state": {
            "_model_module": "@jupyter-widgets/base",
            "_model_module_version": "1.2.0",
            "_model_name": "LayoutModel",
            "_view_count": null,
            "_view_module": "@jupyter-widgets/base",
            "_view_module_version": "1.2.0",
            "_view_name": "LayoutView",
            "align_content": null,
            "align_items": null,
            "align_self": null,
            "border": null,
            "bottom": null,
            "display": null,
            "flex": null,
            "flex_flow": null,
            "grid_area": null,
            "grid_auto_columns": null,
            "grid_auto_flow": null,
            "grid_auto_rows": null,
            "grid_column": null,
            "grid_gap": null,
            "grid_row": null,
            "grid_template_areas": null,
            "grid_template_columns": null,
            "grid_template_rows": null,
            "height": null,
            "justify_content": null,
            "justify_items": null,
            "left": null,
            "margin": null,
            "max_height": null,
            "max_width": null,
            "min_height": null,
            "min_width": null,
            "object_fit": null,
            "object_position": null,
            "order": null,
            "overflow": null,
            "overflow_x": null,
            "overflow_y": null,
            "padding": null,
            "right": null,
            "top": null,
            "visibility": null,
            "width": null
          }
        },
        "feac8b1d35814684903b47b29374f7f9": {
          "model_module": "@jupyter-widgets/controls",
          "model_module_version": "1.5.0",
          "model_name": "DescriptionStyleModel",
          "state": {
            "_model_module": "@jupyter-widgets/controls",
            "_model_module_version": "1.5.0",
            "_model_name": "DescriptionStyleModel",
            "_view_count": null,
            "_view_module": "@jupyter-widgets/base",
            "_view_module_version": "1.2.0",
            "_view_name": "StyleView",
            "description_width": ""
          }
        },
        "f8f32041bbbd44228851e3e0be105c54": {
          "model_module": "@jupyter-widgets/controls",
          "model_name": "VBoxModel",
          "model_module_version": "1.5.0",
          "state": {
            "_dom_classes": [],
            "_model_module": "@jupyter-widgets/controls",
            "_model_module_version": "1.5.0",
            "_model_name": "VBoxModel",
            "_view_count": null,
            "_view_module": "@jupyter-widgets/controls",
            "_view_module_version": "1.5.0",
            "_view_name": "VBoxView",
            "box_style": "",
            "children": [
              "IPY_MODEL_89b858f50b344799a0b019c6bed8ce03",
              "IPY_MODEL_bcc4cfc8950848de84804479d929220f"
            ],
            "layout": "IPY_MODEL_9336cb11fdec4b6b8fee34ea84be9736"
          }
        },
        "89b858f50b344799a0b019c6bed8ce03": {
          "model_module": "@jupyter-widgets/controls",
          "model_name": "LabelModel",
          "model_module_version": "1.5.0",
          "state": {
            "_dom_classes": [],
            "_model_module": "@jupyter-widgets/controls",
            "_model_module_version": "1.5.0",
            "_model_name": "LabelModel",
            "_view_count": null,
            "_view_module": "@jupyter-widgets/controls",
            "_view_module_version": "1.5.0",
            "_view_name": "LabelView",
            "description": "",
            "description_tooltip": null,
            "layout": "IPY_MODEL_05f6b3511dfa45098cc9cfc11a92471f",
            "placeholder": "​",
            "style": "IPY_MODEL_cdbd593a3f6d4a2889446abaf9864320",
            "value": "0.011 MB of 0.011 MB uploaded\r"
          }
        },
        "bcc4cfc8950848de84804479d929220f": {
          "model_module": "@jupyter-widgets/controls",
          "model_name": "FloatProgressModel",
          "model_module_version": "1.5.0",
          "state": {
            "_dom_classes": [],
            "_model_module": "@jupyter-widgets/controls",
            "_model_module_version": "1.5.0",
            "_model_name": "FloatProgressModel",
            "_view_count": null,
            "_view_module": "@jupyter-widgets/controls",
            "_view_module_version": "1.5.0",
            "_view_name": "ProgressView",
            "bar_style": "",
            "description": "",
            "description_tooltip": null,
            "layout": "IPY_MODEL_fc72e810ad4d48c1ad3d2f6e9908ebd8",
            "max": 1,
            "min": 0,
            "orientation": "horizontal",
            "style": "IPY_MODEL_762a6041745f467bbcd1990edc113534",
            "value": 1
          }
        },
        "9336cb11fdec4b6b8fee34ea84be9736": {
          "model_module": "@jupyter-widgets/base",
          "model_name": "LayoutModel",
          "model_module_version": "1.2.0",
          "state": {
            "_model_module": "@jupyter-widgets/base",
            "_model_module_version": "1.2.0",
            "_model_name": "LayoutModel",
            "_view_count": null,
            "_view_module": "@jupyter-widgets/base",
            "_view_module_version": "1.2.0",
            "_view_name": "LayoutView",
            "align_content": null,
            "align_items": null,
            "align_self": null,
            "border": null,
            "bottom": null,
            "display": null,
            "flex": null,
            "flex_flow": null,
            "grid_area": null,
            "grid_auto_columns": null,
            "grid_auto_flow": null,
            "grid_auto_rows": null,
            "grid_column": null,
            "grid_gap": null,
            "grid_row": null,
            "grid_template_areas": null,
            "grid_template_columns": null,
            "grid_template_rows": null,
            "height": null,
            "justify_content": null,
            "justify_items": null,
            "left": null,
            "margin": null,
            "max_height": null,
            "max_width": null,
            "min_height": null,
            "min_width": null,
            "object_fit": null,
            "object_position": null,
            "order": null,
            "overflow": null,
            "overflow_x": null,
            "overflow_y": null,
            "padding": null,
            "right": null,
            "top": null,
            "visibility": null,
            "width": null
          }
        },
        "05f6b3511dfa45098cc9cfc11a92471f": {
          "model_module": "@jupyter-widgets/base",
          "model_name": "LayoutModel",
          "model_module_version": "1.2.0",
          "state": {
            "_model_module": "@jupyter-widgets/base",
            "_model_module_version": "1.2.0",
            "_model_name": "LayoutModel",
            "_view_count": null,
            "_view_module": "@jupyter-widgets/base",
            "_view_module_version": "1.2.0",
            "_view_name": "LayoutView",
            "align_content": null,
            "align_items": null,
            "align_self": null,
            "border": null,
            "bottom": null,
            "display": null,
            "flex": null,
            "flex_flow": null,
            "grid_area": null,
            "grid_auto_columns": null,
            "grid_auto_flow": null,
            "grid_auto_rows": null,
            "grid_column": null,
            "grid_gap": null,
            "grid_row": null,
            "grid_template_areas": null,
            "grid_template_columns": null,
            "grid_template_rows": null,
            "height": null,
            "justify_content": null,
            "justify_items": null,
            "left": null,
            "margin": null,
            "max_height": null,
            "max_width": null,
            "min_height": null,
            "min_width": null,
            "object_fit": null,
            "object_position": null,
            "order": null,
            "overflow": null,
            "overflow_x": null,
            "overflow_y": null,
            "padding": null,
            "right": null,
            "top": null,
            "visibility": null,
            "width": null
          }
        },
        "cdbd593a3f6d4a2889446abaf9864320": {
          "model_module": "@jupyter-widgets/controls",
          "model_name": "DescriptionStyleModel",
          "model_module_version": "1.5.0",
          "state": {
            "_model_module": "@jupyter-widgets/controls",
            "_model_module_version": "1.5.0",
            "_model_name": "DescriptionStyleModel",
            "_view_count": null,
            "_view_module": "@jupyter-widgets/base",
            "_view_module_version": "1.2.0",
            "_view_name": "StyleView",
            "description_width": ""
          }
        },
        "fc72e810ad4d48c1ad3d2f6e9908ebd8": {
          "model_module": "@jupyter-widgets/base",
          "model_name": "LayoutModel",
          "model_module_version": "1.2.0",
          "state": {
            "_model_module": "@jupyter-widgets/base",
            "_model_module_version": "1.2.0",
            "_model_name": "LayoutModel",
            "_view_count": null,
            "_view_module": "@jupyter-widgets/base",
            "_view_module_version": "1.2.0",
            "_view_name": "LayoutView",
            "align_content": null,
            "align_items": null,
            "align_self": null,
            "border": null,
            "bottom": null,
            "display": null,
            "flex": null,
            "flex_flow": null,
            "grid_area": null,
            "grid_auto_columns": null,
            "grid_auto_flow": null,
            "grid_auto_rows": null,
            "grid_column": null,
            "grid_gap": null,
            "grid_row": null,
            "grid_template_areas": null,
            "grid_template_columns": null,
            "grid_template_rows": null,
            "height": null,
            "justify_content": null,
            "justify_items": null,
            "left": null,
            "margin": null,
            "max_height": null,
            "max_width": null,
            "min_height": null,
            "min_width": null,
            "object_fit": null,
            "object_position": null,
            "order": null,
            "overflow": null,
            "overflow_x": null,
            "overflow_y": null,
            "padding": null,
            "right": null,
            "top": null,
            "visibility": null,
            "width": null
          }
        },
        "762a6041745f467bbcd1990edc113534": {
          "model_module": "@jupyter-widgets/controls",
          "model_name": "ProgressStyleModel",
          "model_module_version": "1.5.0",
          "state": {
            "_model_module": "@jupyter-widgets/controls",
            "_model_module_version": "1.5.0",
            "_model_name": "ProgressStyleModel",
            "_view_count": null,
            "_view_module": "@jupyter-widgets/base",
            "_view_module_version": "1.2.0",
            "_view_name": "StyleView",
            "bar_color": null,
            "description_width": ""
          }
        },
        "0278f66cabcd4772a1f1c6e1d56d420b": {
          "model_module": "@jupyter-widgets/controls",
          "model_name": "VBoxModel",
          "model_module_version": "1.5.0",
          "state": {
            "_dom_classes": [],
            "_model_module": "@jupyter-widgets/controls",
            "_model_module_version": "1.5.0",
            "_model_name": "VBoxModel",
            "_view_count": null,
            "_view_module": "@jupyter-widgets/controls",
            "_view_module_version": "1.5.0",
            "_view_name": "VBoxView",
            "box_style": "",
            "children": [
              "IPY_MODEL_b501a54758294422854ff7b9df4c859f",
              "IPY_MODEL_a757677bb5434dcaba97bace109aca42"
            ],
            "layout": "IPY_MODEL_5ac34b297b484a72a43e5d6251d71cdc"
          }
        },
        "b501a54758294422854ff7b9df4c859f": {
          "model_module": "@jupyter-widgets/controls",
          "model_name": "LabelModel",
          "model_module_version": "1.5.0",
          "state": {
            "_dom_classes": [],
            "_model_module": "@jupyter-widgets/controls",
            "_model_module_version": "1.5.0",
            "_model_name": "LabelModel",
            "_view_count": null,
            "_view_module": "@jupyter-widgets/controls",
            "_view_module_version": "1.5.0",
            "_view_name": "LabelView",
            "description": "",
            "description_tooltip": null,
            "layout": "IPY_MODEL_a7b37bb92faa4b4d8d18009dc7a16b69",
            "placeholder": "​",
            "style": "IPY_MODEL_4e9870bd297e484c8c2ae3b66addb795",
            "value": "0.010 MB of 0.010 MB uploaded\r"
          }
        },
        "a757677bb5434dcaba97bace109aca42": {
          "model_module": "@jupyter-widgets/controls",
          "model_name": "FloatProgressModel",
          "model_module_version": "1.5.0",
          "state": {
            "_dom_classes": [],
            "_model_module": "@jupyter-widgets/controls",
            "_model_module_version": "1.5.0",
            "_model_name": "FloatProgressModel",
            "_view_count": null,
            "_view_module": "@jupyter-widgets/controls",
            "_view_module_version": "1.5.0",
            "_view_name": "ProgressView",
            "bar_style": "",
            "description": "",
            "description_tooltip": null,
            "layout": "IPY_MODEL_35a4f8a829294cb89931ce4ba226746f",
            "max": 1,
            "min": 0,
            "orientation": "horizontal",
            "style": "IPY_MODEL_1eb265e1c0274e87b3716c67966504b7",
            "value": 1
          }
        },
        "5ac34b297b484a72a43e5d6251d71cdc": {
          "model_module": "@jupyter-widgets/base",
          "model_name": "LayoutModel",
          "model_module_version": "1.2.0",
          "state": {
            "_model_module": "@jupyter-widgets/base",
            "_model_module_version": "1.2.0",
            "_model_name": "LayoutModel",
            "_view_count": null,
            "_view_module": "@jupyter-widgets/base",
            "_view_module_version": "1.2.0",
            "_view_name": "LayoutView",
            "align_content": null,
            "align_items": null,
            "align_self": null,
            "border": null,
            "bottom": null,
            "display": null,
            "flex": null,
            "flex_flow": null,
            "grid_area": null,
            "grid_auto_columns": null,
            "grid_auto_flow": null,
            "grid_auto_rows": null,
            "grid_column": null,
            "grid_gap": null,
            "grid_row": null,
            "grid_template_areas": null,
            "grid_template_columns": null,
            "grid_template_rows": null,
            "height": null,
            "justify_content": null,
            "justify_items": null,
            "left": null,
            "margin": null,
            "max_height": null,
            "max_width": null,
            "min_height": null,
            "min_width": null,
            "object_fit": null,
            "object_position": null,
            "order": null,
            "overflow": null,
            "overflow_x": null,
            "overflow_y": null,
            "padding": null,
            "right": null,
            "top": null,
            "visibility": null,
            "width": null
          }
        },
        "a7b37bb92faa4b4d8d18009dc7a16b69": {
          "model_module": "@jupyter-widgets/base",
          "model_name": "LayoutModel",
          "model_module_version": "1.2.0",
          "state": {
            "_model_module": "@jupyter-widgets/base",
            "_model_module_version": "1.2.0",
            "_model_name": "LayoutModel",
            "_view_count": null,
            "_view_module": "@jupyter-widgets/base",
            "_view_module_version": "1.2.0",
            "_view_name": "LayoutView",
            "align_content": null,
            "align_items": null,
            "align_self": null,
            "border": null,
            "bottom": null,
            "display": null,
            "flex": null,
            "flex_flow": null,
            "grid_area": null,
            "grid_auto_columns": null,
            "grid_auto_flow": null,
            "grid_auto_rows": null,
            "grid_column": null,
            "grid_gap": null,
            "grid_row": null,
            "grid_template_areas": null,
            "grid_template_columns": null,
            "grid_template_rows": null,
            "height": null,
            "justify_content": null,
            "justify_items": null,
            "left": null,
            "margin": null,
            "max_height": null,
            "max_width": null,
            "min_height": null,
            "min_width": null,
            "object_fit": null,
            "object_position": null,
            "order": null,
            "overflow": null,
            "overflow_x": null,
            "overflow_y": null,
            "padding": null,
            "right": null,
            "top": null,
            "visibility": null,
            "width": null
          }
        },
        "4e9870bd297e484c8c2ae3b66addb795": {
          "model_module": "@jupyter-widgets/controls",
          "model_name": "DescriptionStyleModel",
          "model_module_version": "1.5.0",
          "state": {
            "_model_module": "@jupyter-widgets/controls",
            "_model_module_version": "1.5.0",
            "_model_name": "DescriptionStyleModel",
            "_view_count": null,
            "_view_module": "@jupyter-widgets/base",
            "_view_module_version": "1.2.0",
            "_view_name": "StyleView",
            "description_width": ""
          }
        },
        "35a4f8a829294cb89931ce4ba226746f": {
          "model_module": "@jupyter-widgets/base",
          "model_name": "LayoutModel",
          "model_module_version": "1.2.0",
          "state": {
            "_model_module": "@jupyter-widgets/base",
            "_model_module_version": "1.2.0",
            "_model_name": "LayoutModel",
            "_view_count": null,
            "_view_module": "@jupyter-widgets/base",
            "_view_module_version": "1.2.0",
            "_view_name": "LayoutView",
            "align_content": null,
            "align_items": null,
            "align_self": null,
            "border": null,
            "bottom": null,
            "display": null,
            "flex": null,
            "flex_flow": null,
            "grid_area": null,
            "grid_auto_columns": null,
            "grid_auto_flow": null,
            "grid_auto_rows": null,
            "grid_column": null,
            "grid_gap": null,
            "grid_row": null,
            "grid_template_areas": null,
            "grid_template_columns": null,
            "grid_template_rows": null,
            "height": null,
            "justify_content": null,
            "justify_items": null,
            "left": null,
            "margin": null,
            "max_height": null,
            "max_width": null,
            "min_height": null,
            "min_width": null,
            "object_fit": null,
            "object_position": null,
            "order": null,
            "overflow": null,
            "overflow_x": null,
            "overflow_y": null,
            "padding": null,
            "right": null,
            "top": null,
            "visibility": null,
            "width": null
          }
        },
        "1eb265e1c0274e87b3716c67966504b7": {
          "model_module": "@jupyter-widgets/controls",
          "model_name": "ProgressStyleModel",
          "model_module_version": "1.5.0",
          "state": {
            "_model_module": "@jupyter-widgets/controls",
            "_model_module_version": "1.5.0",
            "_model_name": "ProgressStyleModel",
            "_view_count": null,
            "_view_module": "@jupyter-widgets/base",
            "_view_module_version": "1.2.0",
            "_view_name": "StyleView",
            "bar_color": null,
            "description_width": ""
          }
        },
        "dee857457ff940cfab07813a2b2d6e78": {
          "model_module": "@jupyter-widgets/controls",
          "model_name": "VBoxModel",
          "model_module_version": "1.5.0",
          "state": {
            "_dom_classes": [],
            "_model_module": "@jupyter-widgets/controls",
            "_model_module_version": "1.5.0",
            "_model_name": "VBoxModel",
            "_view_count": null,
            "_view_module": "@jupyter-widgets/controls",
            "_view_module_version": "1.5.0",
            "_view_name": "VBoxView",
            "box_style": "",
            "children": [
              "IPY_MODEL_d21b8ea6c54f484f813cff668e554a67",
              "IPY_MODEL_4f53c24789aa484fbc218005b4ab261e"
            ],
            "layout": "IPY_MODEL_27809b64f2d440c3836780f3ddec336d"
          }
        },
        "d21b8ea6c54f484f813cff668e554a67": {
          "model_module": "@jupyter-widgets/controls",
          "model_name": "LabelModel",
          "model_module_version": "1.5.0",
          "state": {
            "_dom_classes": [],
            "_model_module": "@jupyter-widgets/controls",
            "_model_module_version": "1.5.0",
            "_model_name": "LabelModel",
            "_view_count": null,
            "_view_module": "@jupyter-widgets/controls",
            "_view_module_version": "1.5.0",
            "_view_name": "LabelView",
            "description": "",
            "description_tooltip": null,
            "layout": "IPY_MODEL_7d0faa15009e4774b6e113ae8495be98",
            "placeholder": "​",
            "style": "IPY_MODEL_d3122b1546ab4b7ba6e4296efb20772a",
            "value": "0.012 MB of 0.012 MB uploaded\r"
          }
        },
        "4f53c24789aa484fbc218005b4ab261e": {
          "model_module": "@jupyter-widgets/controls",
          "model_name": "FloatProgressModel",
          "model_module_version": "1.5.0",
          "state": {
            "_dom_classes": [],
            "_model_module": "@jupyter-widgets/controls",
            "_model_module_version": "1.5.0",
            "_model_name": "FloatProgressModel",
            "_view_count": null,
            "_view_module": "@jupyter-widgets/controls",
            "_view_module_version": "1.5.0",
            "_view_name": "ProgressView",
            "bar_style": "",
            "description": "",
            "description_tooltip": null,
            "layout": "IPY_MODEL_b65ada38917343afbb5ba04b04c3bc87",
            "max": 1,
            "min": 0,
            "orientation": "horizontal",
            "style": "IPY_MODEL_6698c99e42be422f86a990c9796d66a2",
            "value": 1
          }
        },
        "27809b64f2d440c3836780f3ddec336d": {
          "model_module": "@jupyter-widgets/base",
          "model_name": "LayoutModel",
          "model_module_version": "1.2.0",
          "state": {
            "_model_module": "@jupyter-widgets/base",
            "_model_module_version": "1.2.0",
            "_model_name": "LayoutModel",
            "_view_count": null,
            "_view_module": "@jupyter-widgets/base",
            "_view_module_version": "1.2.0",
            "_view_name": "LayoutView",
            "align_content": null,
            "align_items": null,
            "align_self": null,
            "border": null,
            "bottom": null,
            "display": null,
            "flex": null,
            "flex_flow": null,
            "grid_area": null,
            "grid_auto_columns": null,
            "grid_auto_flow": null,
            "grid_auto_rows": null,
            "grid_column": null,
            "grid_gap": null,
            "grid_row": null,
            "grid_template_areas": null,
            "grid_template_columns": null,
            "grid_template_rows": null,
            "height": null,
            "justify_content": null,
            "justify_items": null,
            "left": null,
            "margin": null,
            "max_height": null,
            "max_width": null,
            "min_height": null,
            "min_width": null,
            "object_fit": null,
            "object_position": null,
            "order": null,
            "overflow": null,
            "overflow_x": null,
            "overflow_y": null,
            "padding": null,
            "right": null,
            "top": null,
            "visibility": null,
            "width": null
          }
        },
        "7d0faa15009e4774b6e113ae8495be98": {
          "model_module": "@jupyter-widgets/base",
          "model_name": "LayoutModel",
          "model_module_version": "1.2.0",
          "state": {
            "_model_module": "@jupyter-widgets/base",
            "_model_module_version": "1.2.0",
            "_model_name": "LayoutModel",
            "_view_count": null,
            "_view_module": "@jupyter-widgets/base",
            "_view_module_version": "1.2.0",
            "_view_name": "LayoutView",
            "align_content": null,
            "align_items": null,
            "align_self": null,
            "border": null,
            "bottom": null,
            "display": null,
            "flex": null,
            "flex_flow": null,
            "grid_area": null,
            "grid_auto_columns": null,
            "grid_auto_flow": null,
            "grid_auto_rows": null,
            "grid_column": null,
            "grid_gap": null,
            "grid_row": null,
            "grid_template_areas": null,
            "grid_template_columns": null,
            "grid_template_rows": null,
            "height": null,
            "justify_content": null,
            "justify_items": null,
            "left": null,
            "margin": null,
            "max_height": null,
            "max_width": null,
            "min_height": null,
            "min_width": null,
            "object_fit": null,
            "object_position": null,
            "order": null,
            "overflow": null,
            "overflow_x": null,
            "overflow_y": null,
            "padding": null,
            "right": null,
            "top": null,
            "visibility": null,
            "width": null
          }
        },
        "d3122b1546ab4b7ba6e4296efb20772a": {
          "model_module": "@jupyter-widgets/controls",
          "model_name": "DescriptionStyleModel",
          "model_module_version": "1.5.0",
          "state": {
            "_model_module": "@jupyter-widgets/controls",
            "_model_module_version": "1.5.0",
            "_model_name": "DescriptionStyleModel",
            "_view_count": null,
            "_view_module": "@jupyter-widgets/base",
            "_view_module_version": "1.2.0",
            "_view_name": "StyleView",
            "description_width": ""
          }
        },
        "b65ada38917343afbb5ba04b04c3bc87": {
          "model_module": "@jupyter-widgets/base",
          "model_name": "LayoutModel",
          "model_module_version": "1.2.0",
          "state": {
            "_model_module": "@jupyter-widgets/base",
            "_model_module_version": "1.2.0",
            "_model_name": "LayoutModel",
            "_view_count": null,
            "_view_module": "@jupyter-widgets/base",
            "_view_module_version": "1.2.0",
            "_view_name": "LayoutView",
            "align_content": null,
            "align_items": null,
            "align_self": null,
            "border": null,
            "bottom": null,
            "display": null,
            "flex": null,
            "flex_flow": null,
            "grid_area": null,
            "grid_auto_columns": null,
            "grid_auto_flow": null,
            "grid_auto_rows": null,
            "grid_column": null,
            "grid_gap": null,
            "grid_row": null,
            "grid_template_areas": null,
            "grid_template_columns": null,
            "grid_template_rows": null,
            "height": null,
            "justify_content": null,
            "justify_items": null,
            "left": null,
            "margin": null,
            "max_height": null,
            "max_width": null,
            "min_height": null,
            "min_width": null,
            "object_fit": null,
            "object_position": null,
            "order": null,
            "overflow": null,
            "overflow_x": null,
            "overflow_y": null,
            "padding": null,
            "right": null,
            "top": null,
            "visibility": null,
            "width": null
          }
        },
        "6698c99e42be422f86a990c9796d66a2": {
          "model_module": "@jupyter-widgets/controls",
          "model_name": "ProgressStyleModel",
          "model_module_version": "1.5.0",
          "state": {
            "_model_module": "@jupyter-widgets/controls",
            "_model_module_version": "1.5.0",
            "_model_name": "ProgressStyleModel",
            "_view_count": null,
            "_view_module": "@jupyter-widgets/base",
            "_view_module_version": "1.2.0",
            "_view_name": "StyleView",
            "bar_color": null,
            "description_width": ""
          }
        },
        "2a797e6329e44c0fad4f5489ea721b11": {
          "model_module": "@jupyter-widgets/controls",
          "model_name": "VBoxModel",
          "model_module_version": "1.5.0",
          "state": {
            "_dom_classes": [],
            "_model_module": "@jupyter-widgets/controls",
            "_model_module_version": "1.5.0",
            "_model_name": "VBoxModel",
            "_view_count": null,
            "_view_module": "@jupyter-widgets/controls",
            "_view_module_version": "1.5.0",
            "_view_name": "VBoxView",
            "box_style": "",
            "children": [
              "IPY_MODEL_f1ba801262094339859ba5035b6006f4",
              "IPY_MODEL_fddd0c50c4e84ab9bec5c6caf4a0d378"
            ],
            "layout": "IPY_MODEL_a346acddef54452a8d00a1a13ab75423"
          }
        },
        "f1ba801262094339859ba5035b6006f4": {
          "model_module": "@jupyter-widgets/controls",
          "model_name": "LabelModel",
          "model_module_version": "1.5.0",
          "state": {
            "_dom_classes": [],
            "_model_module": "@jupyter-widgets/controls",
            "_model_module_version": "1.5.0",
            "_model_name": "LabelModel",
            "_view_count": null,
            "_view_module": "@jupyter-widgets/controls",
            "_view_module_version": "1.5.0",
            "_view_name": "LabelView",
            "description": "",
            "description_tooltip": null,
            "layout": "IPY_MODEL_0f8b64e06286495ab279ae7adcb1a260",
            "placeholder": "​",
            "style": "IPY_MODEL_42da99a37b1e43bead73c030fbd9e14c",
            "value": "0.012 MB of 0.012 MB uploaded\r"
          }
        },
        "fddd0c50c4e84ab9bec5c6caf4a0d378": {
          "model_module": "@jupyter-widgets/controls",
          "model_name": "FloatProgressModel",
          "model_module_version": "1.5.0",
          "state": {
            "_dom_classes": [],
            "_model_module": "@jupyter-widgets/controls",
            "_model_module_version": "1.5.0",
            "_model_name": "FloatProgressModel",
            "_view_count": null,
            "_view_module": "@jupyter-widgets/controls",
            "_view_module_version": "1.5.0",
            "_view_name": "ProgressView",
            "bar_style": "",
            "description": "",
            "description_tooltip": null,
            "layout": "IPY_MODEL_b0aae56919f840da91dd37b17ca6f9a3",
            "max": 1,
            "min": 0,
            "orientation": "horizontal",
            "style": "IPY_MODEL_c1bafb6eaba2432eb0d9ef16a8e42c35",
            "value": 1
          }
        },
        "a346acddef54452a8d00a1a13ab75423": {
          "model_module": "@jupyter-widgets/base",
          "model_name": "LayoutModel",
          "model_module_version": "1.2.0",
          "state": {
            "_model_module": "@jupyter-widgets/base",
            "_model_module_version": "1.2.0",
            "_model_name": "LayoutModel",
            "_view_count": null,
            "_view_module": "@jupyter-widgets/base",
            "_view_module_version": "1.2.0",
            "_view_name": "LayoutView",
            "align_content": null,
            "align_items": null,
            "align_self": null,
            "border": null,
            "bottom": null,
            "display": null,
            "flex": null,
            "flex_flow": null,
            "grid_area": null,
            "grid_auto_columns": null,
            "grid_auto_flow": null,
            "grid_auto_rows": null,
            "grid_column": null,
            "grid_gap": null,
            "grid_row": null,
            "grid_template_areas": null,
            "grid_template_columns": null,
            "grid_template_rows": null,
            "height": null,
            "justify_content": null,
            "justify_items": null,
            "left": null,
            "margin": null,
            "max_height": null,
            "max_width": null,
            "min_height": null,
            "min_width": null,
            "object_fit": null,
            "object_position": null,
            "order": null,
            "overflow": null,
            "overflow_x": null,
            "overflow_y": null,
            "padding": null,
            "right": null,
            "top": null,
            "visibility": null,
            "width": null
          }
        },
        "0f8b64e06286495ab279ae7adcb1a260": {
          "model_module": "@jupyter-widgets/base",
          "model_name": "LayoutModel",
          "model_module_version": "1.2.0",
          "state": {
            "_model_module": "@jupyter-widgets/base",
            "_model_module_version": "1.2.0",
            "_model_name": "LayoutModel",
            "_view_count": null,
            "_view_module": "@jupyter-widgets/base",
            "_view_module_version": "1.2.0",
            "_view_name": "LayoutView",
            "align_content": null,
            "align_items": null,
            "align_self": null,
            "border": null,
            "bottom": null,
            "display": null,
            "flex": null,
            "flex_flow": null,
            "grid_area": null,
            "grid_auto_columns": null,
            "grid_auto_flow": null,
            "grid_auto_rows": null,
            "grid_column": null,
            "grid_gap": null,
            "grid_row": null,
            "grid_template_areas": null,
            "grid_template_columns": null,
            "grid_template_rows": null,
            "height": null,
            "justify_content": null,
            "justify_items": null,
            "left": null,
            "margin": null,
            "max_height": null,
            "max_width": null,
            "min_height": null,
            "min_width": null,
            "object_fit": null,
            "object_position": null,
            "order": null,
            "overflow": null,
            "overflow_x": null,
            "overflow_y": null,
            "padding": null,
            "right": null,
            "top": null,
            "visibility": null,
            "width": null
          }
        },
        "42da99a37b1e43bead73c030fbd9e14c": {
          "model_module": "@jupyter-widgets/controls",
          "model_name": "DescriptionStyleModel",
          "model_module_version": "1.5.0",
          "state": {
            "_model_module": "@jupyter-widgets/controls",
            "_model_module_version": "1.5.0",
            "_model_name": "DescriptionStyleModel",
            "_view_count": null,
            "_view_module": "@jupyter-widgets/base",
            "_view_module_version": "1.2.0",
            "_view_name": "StyleView",
            "description_width": ""
          }
        },
        "b0aae56919f840da91dd37b17ca6f9a3": {
          "model_module": "@jupyter-widgets/base",
          "model_name": "LayoutModel",
          "model_module_version": "1.2.0",
          "state": {
            "_model_module": "@jupyter-widgets/base",
            "_model_module_version": "1.2.0",
            "_model_name": "LayoutModel",
            "_view_count": null,
            "_view_module": "@jupyter-widgets/base",
            "_view_module_version": "1.2.0",
            "_view_name": "LayoutView",
            "align_content": null,
            "align_items": null,
            "align_self": null,
            "border": null,
            "bottom": null,
            "display": null,
            "flex": null,
            "flex_flow": null,
            "grid_area": null,
            "grid_auto_columns": null,
            "grid_auto_flow": null,
            "grid_auto_rows": null,
            "grid_column": null,
            "grid_gap": null,
            "grid_row": null,
            "grid_template_areas": null,
            "grid_template_columns": null,
            "grid_template_rows": null,
            "height": null,
            "justify_content": null,
            "justify_items": null,
            "left": null,
            "margin": null,
            "max_height": null,
            "max_width": null,
            "min_height": null,
            "min_width": null,
            "object_fit": null,
            "object_position": null,
            "order": null,
            "overflow": null,
            "overflow_x": null,
            "overflow_y": null,
            "padding": null,
            "right": null,
            "top": null,
            "visibility": null,
            "width": null
          }
        },
        "c1bafb6eaba2432eb0d9ef16a8e42c35": {
          "model_module": "@jupyter-widgets/controls",
          "model_name": "ProgressStyleModel",
          "model_module_version": "1.5.0",
          "state": {
            "_model_module": "@jupyter-widgets/controls",
            "_model_module_version": "1.5.0",
            "_model_name": "ProgressStyleModel",
            "_view_count": null,
            "_view_module": "@jupyter-widgets/base",
            "_view_module_version": "1.2.0",
            "_view_name": "StyleView",
            "bar_color": null,
            "description_width": ""
          }
        },
        "8e25fcbb989442a9902632991b9a0e5f": {
          "model_module": "@jupyter-widgets/controls",
          "model_name": "VBoxModel",
          "model_module_version": "1.5.0",
          "state": {
            "_dom_classes": [],
            "_model_module": "@jupyter-widgets/controls",
            "_model_module_version": "1.5.0",
            "_model_name": "VBoxModel",
            "_view_count": null,
            "_view_module": "@jupyter-widgets/controls",
            "_view_module_version": "1.5.0",
            "_view_name": "VBoxView",
            "box_style": "",
            "children": [
              "IPY_MODEL_c5ff4853cfcf490e9f0516aaaa83bbb2",
              "IPY_MODEL_80fbbf6486d3415fb127d095bad3e03c"
            ],
            "layout": "IPY_MODEL_10e92d6043be4ca4b173a469e7d533fa"
          }
        },
        "c5ff4853cfcf490e9f0516aaaa83bbb2": {
          "model_module": "@jupyter-widgets/controls",
          "model_name": "LabelModel",
          "model_module_version": "1.5.0",
          "state": {
            "_dom_classes": [],
            "_model_module": "@jupyter-widgets/controls",
            "_model_module_version": "1.5.0",
            "_model_name": "LabelModel",
            "_view_count": null,
            "_view_module": "@jupyter-widgets/controls",
            "_view_module_version": "1.5.0",
            "_view_name": "LabelView",
            "description": "",
            "description_tooltip": null,
            "layout": "IPY_MODEL_2df0a499b64740308102a8ac6e3d249e",
            "placeholder": "​",
            "style": "IPY_MODEL_e01469570a994acbb14df84997972b7d",
            "value": "0.012 MB of 0.012 MB uploaded\r"
          }
        },
        "80fbbf6486d3415fb127d095bad3e03c": {
          "model_module": "@jupyter-widgets/controls",
          "model_name": "FloatProgressModel",
          "model_module_version": "1.5.0",
          "state": {
            "_dom_classes": [],
            "_model_module": "@jupyter-widgets/controls",
            "_model_module_version": "1.5.0",
            "_model_name": "FloatProgressModel",
            "_view_count": null,
            "_view_module": "@jupyter-widgets/controls",
            "_view_module_version": "1.5.0",
            "_view_name": "ProgressView",
            "bar_style": "",
            "description": "",
            "description_tooltip": null,
            "layout": "IPY_MODEL_c107ced0ebc64899baf36401afe18f58",
            "max": 1,
            "min": 0,
            "orientation": "horizontal",
            "style": "IPY_MODEL_b7dfcd0b7d8c4ac6abe8b1500e6aa7a7",
            "value": 1
          }
        },
        "10e92d6043be4ca4b173a469e7d533fa": {
          "model_module": "@jupyter-widgets/base",
          "model_name": "LayoutModel",
          "model_module_version": "1.2.0",
          "state": {
            "_model_module": "@jupyter-widgets/base",
            "_model_module_version": "1.2.0",
            "_model_name": "LayoutModel",
            "_view_count": null,
            "_view_module": "@jupyter-widgets/base",
            "_view_module_version": "1.2.0",
            "_view_name": "LayoutView",
            "align_content": null,
            "align_items": null,
            "align_self": null,
            "border": null,
            "bottom": null,
            "display": null,
            "flex": null,
            "flex_flow": null,
            "grid_area": null,
            "grid_auto_columns": null,
            "grid_auto_flow": null,
            "grid_auto_rows": null,
            "grid_column": null,
            "grid_gap": null,
            "grid_row": null,
            "grid_template_areas": null,
            "grid_template_columns": null,
            "grid_template_rows": null,
            "height": null,
            "justify_content": null,
            "justify_items": null,
            "left": null,
            "margin": null,
            "max_height": null,
            "max_width": null,
            "min_height": null,
            "min_width": null,
            "object_fit": null,
            "object_position": null,
            "order": null,
            "overflow": null,
            "overflow_x": null,
            "overflow_y": null,
            "padding": null,
            "right": null,
            "top": null,
            "visibility": null,
            "width": null
          }
        },
        "2df0a499b64740308102a8ac6e3d249e": {
          "model_module": "@jupyter-widgets/base",
          "model_name": "LayoutModel",
          "model_module_version": "1.2.0",
          "state": {
            "_model_module": "@jupyter-widgets/base",
            "_model_module_version": "1.2.0",
            "_model_name": "LayoutModel",
            "_view_count": null,
            "_view_module": "@jupyter-widgets/base",
            "_view_module_version": "1.2.0",
            "_view_name": "LayoutView",
            "align_content": null,
            "align_items": null,
            "align_self": null,
            "border": null,
            "bottom": null,
            "display": null,
            "flex": null,
            "flex_flow": null,
            "grid_area": null,
            "grid_auto_columns": null,
            "grid_auto_flow": null,
            "grid_auto_rows": null,
            "grid_column": null,
            "grid_gap": null,
            "grid_row": null,
            "grid_template_areas": null,
            "grid_template_columns": null,
            "grid_template_rows": null,
            "height": null,
            "justify_content": null,
            "justify_items": null,
            "left": null,
            "margin": null,
            "max_height": null,
            "max_width": null,
            "min_height": null,
            "min_width": null,
            "object_fit": null,
            "object_position": null,
            "order": null,
            "overflow": null,
            "overflow_x": null,
            "overflow_y": null,
            "padding": null,
            "right": null,
            "top": null,
            "visibility": null,
            "width": null
          }
        },
        "e01469570a994acbb14df84997972b7d": {
          "model_module": "@jupyter-widgets/controls",
          "model_name": "DescriptionStyleModel",
          "model_module_version": "1.5.0",
          "state": {
            "_model_module": "@jupyter-widgets/controls",
            "_model_module_version": "1.5.0",
            "_model_name": "DescriptionStyleModel",
            "_view_count": null,
            "_view_module": "@jupyter-widgets/base",
            "_view_module_version": "1.2.0",
            "_view_name": "StyleView",
            "description_width": ""
          }
        },
        "c107ced0ebc64899baf36401afe18f58": {
          "model_module": "@jupyter-widgets/base",
          "model_name": "LayoutModel",
          "model_module_version": "1.2.0",
          "state": {
            "_model_module": "@jupyter-widgets/base",
            "_model_module_version": "1.2.0",
            "_model_name": "LayoutModel",
            "_view_count": null,
            "_view_module": "@jupyter-widgets/base",
            "_view_module_version": "1.2.0",
            "_view_name": "LayoutView",
            "align_content": null,
            "align_items": null,
            "align_self": null,
            "border": null,
            "bottom": null,
            "display": null,
            "flex": null,
            "flex_flow": null,
            "grid_area": null,
            "grid_auto_columns": null,
            "grid_auto_flow": null,
            "grid_auto_rows": null,
            "grid_column": null,
            "grid_gap": null,
            "grid_row": null,
            "grid_template_areas": null,
            "grid_template_columns": null,
            "grid_template_rows": null,
            "height": null,
            "justify_content": null,
            "justify_items": null,
            "left": null,
            "margin": null,
            "max_height": null,
            "max_width": null,
            "min_height": null,
            "min_width": null,
            "object_fit": null,
            "object_position": null,
            "order": null,
            "overflow": null,
            "overflow_x": null,
            "overflow_y": null,
            "padding": null,
            "right": null,
            "top": null,
            "visibility": null,
            "width": null
          }
        },
        "b7dfcd0b7d8c4ac6abe8b1500e6aa7a7": {
          "model_module": "@jupyter-widgets/controls",
          "model_name": "ProgressStyleModel",
          "model_module_version": "1.5.0",
          "state": {
            "_model_module": "@jupyter-widgets/controls",
            "_model_module_version": "1.5.0",
            "_model_name": "ProgressStyleModel",
            "_view_count": null,
            "_view_module": "@jupyter-widgets/base",
            "_view_module_version": "1.2.0",
            "_view_name": "StyleView",
            "bar_color": null,
            "description_width": ""
          }
        },
        "fea23e15c1b14bc5b2641c483588dfc9": {
          "model_module": "@jupyter-widgets/controls",
          "model_name": "VBoxModel",
          "model_module_version": "1.5.0",
          "state": {
            "_dom_classes": [],
            "_model_module": "@jupyter-widgets/controls",
            "_model_module_version": "1.5.0",
            "_model_name": "VBoxModel",
            "_view_count": null,
            "_view_module": "@jupyter-widgets/controls",
            "_view_module_version": "1.5.0",
            "_view_name": "VBoxView",
            "box_style": "",
            "children": [
              "IPY_MODEL_9ce97f9de99543f38bf6e1925cfcd450",
              "IPY_MODEL_3066450583824be588187a4dc10e7bc6"
            ],
            "layout": "IPY_MODEL_60136765daec4e97b877a8a0be640d4a"
          }
        },
        "9ce97f9de99543f38bf6e1925cfcd450": {
          "model_module": "@jupyter-widgets/controls",
          "model_name": "LabelModel",
          "model_module_version": "1.5.0",
          "state": {
            "_dom_classes": [],
            "_model_module": "@jupyter-widgets/controls",
            "_model_module_version": "1.5.0",
            "_model_name": "LabelModel",
            "_view_count": null,
            "_view_module": "@jupyter-widgets/controls",
            "_view_module_version": "1.5.0",
            "_view_name": "LabelView",
            "description": "",
            "description_tooltip": null,
            "layout": "IPY_MODEL_79132a938ef442d298e52eb902404097",
            "placeholder": "​",
            "style": "IPY_MODEL_04ca5ef8fc4f41d196199eef87eed60c",
            "value": "0.012 MB of 0.012 MB uploaded\r"
          }
        },
        "3066450583824be588187a4dc10e7bc6": {
          "model_module": "@jupyter-widgets/controls",
          "model_name": "FloatProgressModel",
          "model_module_version": "1.5.0",
          "state": {
            "_dom_classes": [],
            "_model_module": "@jupyter-widgets/controls",
            "_model_module_version": "1.5.0",
            "_model_name": "FloatProgressModel",
            "_view_count": null,
            "_view_module": "@jupyter-widgets/controls",
            "_view_module_version": "1.5.0",
            "_view_name": "ProgressView",
            "bar_style": "",
            "description": "",
            "description_tooltip": null,
            "layout": "IPY_MODEL_1e175ebb097845c1b12f70aca2cd1ba1",
            "max": 1,
            "min": 0,
            "orientation": "horizontal",
            "style": "IPY_MODEL_5c7cddffd45244d58e3ceb9a201c2ebf",
            "value": 1
          }
        },
        "60136765daec4e97b877a8a0be640d4a": {
          "model_module": "@jupyter-widgets/base",
          "model_name": "LayoutModel",
          "model_module_version": "1.2.0",
          "state": {
            "_model_module": "@jupyter-widgets/base",
            "_model_module_version": "1.2.0",
            "_model_name": "LayoutModel",
            "_view_count": null,
            "_view_module": "@jupyter-widgets/base",
            "_view_module_version": "1.2.0",
            "_view_name": "LayoutView",
            "align_content": null,
            "align_items": null,
            "align_self": null,
            "border": null,
            "bottom": null,
            "display": null,
            "flex": null,
            "flex_flow": null,
            "grid_area": null,
            "grid_auto_columns": null,
            "grid_auto_flow": null,
            "grid_auto_rows": null,
            "grid_column": null,
            "grid_gap": null,
            "grid_row": null,
            "grid_template_areas": null,
            "grid_template_columns": null,
            "grid_template_rows": null,
            "height": null,
            "justify_content": null,
            "justify_items": null,
            "left": null,
            "margin": null,
            "max_height": null,
            "max_width": null,
            "min_height": null,
            "min_width": null,
            "object_fit": null,
            "object_position": null,
            "order": null,
            "overflow": null,
            "overflow_x": null,
            "overflow_y": null,
            "padding": null,
            "right": null,
            "top": null,
            "visibility": null,
            "width": null
          }
        },
        "79132a938ef442d298e52eb902404097": {
          "model_module": "@jupyter-widgets/base",
          "model_name": "LayoutModel",
          "model_module_version": "1.2.0",
          "state": {
            "_model_module": "@jupyter-widgets/base",
            "_model_module_version": "1.2.0",
            "_model_name": "LayoutModel",
            "_view_count": null,
            "_view_module": "@jupyter-widgets/base",
            "_view_module_version": "1.2.0",
            "_view_name": "LayoutView",
            "align_content": null,
            "align_items": null,
            "align_self": null,
            "border": null,
            "bottom": null,
            "display": null,
            "flex": null,
            "flex_flow": null,
            "grid_area": null,
            "grid_auto_columns": null,
            "grid_auto_flow": null,
            "grid_auto_rows": null,
            "grid_column": null,
            "grid_gap": null,
            "grid_row": null,
            "grid_template_areas": null,
            "grid_template_columns": null,
            "grid_template_rows": null,
            "height": null,
            "justify_content": null,
            "justify_items": null,
            "left": null,
            "margin": null,
            "max_height": null,
            "max_width": null,
            "min_height": null,
            "min_width": null,
            "object_fit": null,
            "object_position": null,
            "order": null,
            "overflow": null,
            "overflow_x": null,
            "overflow_y": null,
            "padding": null,
            "right": null,
            "top": null,
            "visibility": null,
            "width": null
          }
        },
        "04ca5ef8fc4f41d196199eef87eed60c": {
          "model_module": "@jupyter-widgets/controls",
          "model_name": "DescriptionStyleModel",
          "model_module_version": "1.5.0",
          "state": {
            "_model_module": "@jupyter-widgets/controls",
            "_model_module_version": "1.5.0",
            "_model_name": "DescriptionStyleModel",
            "_view_count": null,
            "_view_module": "@jupyter-widgets/base",
            "_view_module_version": "1.2.0",
            "_view_name": "StyleView",
            "description_width": ""
          }
        },
        "1e175ebb097845c1b12f70aca2cd1ba1": {
          "model_module": "@jupyter-widgets/base",
          "model_name": "LayoutModel",
          "model_module_version": "1.2.0",
          "state": {
            "_model_module": "@jupyter-widgets/base",
            "_model_module_version": "1.2.0",
            "_model_name": "LayoutModel",
            "_view_count": null,
            "_view_module": "@jupyter-widgets/base",
            "_view_module_version": "1.2.0",
            "_view_name": "LayoutView",
            "align_content": null,
            "align_items": null,
            "align_self": null,
            "border": null,
            "bottom": null,
            "display": null,
            "flex": null,
            "flex_flow": null,
            "grid_area": null,
            "grid_auto_columns": null,
            "grid_auto_flow": null,
            "grid_auto_rows": null,
            "grid_column": null,
            "grid_gap": null,
            "grid_row": null,
            "grid_template_areas": null,
            "grid_template_columns": null,
            "grid_template_rows": null,
            "height": null,
            "justify_content": null,
            "justify_items": null,
            "left": null,
            "margin": null,
            "max_height": null,
            "max_width": null,
            "min_height": null,
            "min_width": null,
            "object_fit": null,
            "object_position": null,
            "order": null,
            "overflow": null,
            "overflow_x": null,
            "overflow_y": null,
            "padding": null,
            "right": null,
            "top": null,
            "visibility": null,
            "width": null
          }
        },
        "5c7cddffd45244d58e3ceb9a201c2ebf": {
          "model_module": "@jupyter-widgets/controls",
          "model_name": "ProgressStyleModel",
          "model_module_version": "1.5.0",
          "state": {
            "_model_module": "@jupyter-widgets/controls",
            "_model_module_version": "1.5.0",
            "_model_name": "ProgressStyleModel",
            "_view_count": null,
            "_view_module": "@jupyter-widgets/base",
            "_view_module_version": "1.2.0",
            "_view_name": "StyleView",
            "bar_color": null,
            "description_width": ""
          }
        },
        "fac3c446c73b49ce90b3ab78b967236a": {
          "model_module": "@jupyter-widgets/controls",
          "model_name": "VBoxModel",
          "model_module_version": "1.5.0",
          "state": {
            "_dom_classes": [],
            "_model_module": "@jupyter-widgets/controls",
            "_model_module_version": "1.5.0",
            "_model_name": "VBoxModel",
            "_view_count": null,
            "_view_module": "@jupyter-widgets/controls",
            "_view_module_version": "1.5.0",
            "_view_name": "VBoxView",
            "box_style": "",
            "children": [
              "IPY_MODEL_0368c69f7a194ea09261f10536d32c5e",
              "IPY_MODEL_0658fb5dbf2944558c1ded46b9bb6be4"
            ],
            "layout": "IPY_MODEL_a1fb3702352349a09a6cdf89c29c8d96"
          }
        },
        "0368c69f7a194ea09261f10536d32c5e": {
          "model_module": "@jupyter-widgets/controls",
          "model_name": "LabelModel",
          "model_module_version": "1.5.0",
          "state": {
            "_dom_classes": [],
            "_model_module": "@jupyter-widgets/controls",
            "_model_module_version": "1.5.0",
            "_model_name": "LabelModel",
            "_view_count": null,
            "_view_module": "@jupyter-widgets/controls",
            "_view_module_version": "1.5.0",
            "_view_name": "LabelView",
            "description": "",
            "description_tooltip": null,
            "layout": "IPY_MODEL_c67ac6d5b7b749b68aa8ce8d64f5fe58",
            "placeholder": "​",
            "style": "IPY_MODEL_91a558b6efe2477798daee05c0729e74",
            "value": "0.011 MB of 0.011 MB uploaded\r"
          }
        },
        "0658fb5dbf2944558c1ded46b9bb6be4": {
          "model_module": "@jupyter-widgets/controls",
          "model_name": "FloatProgressModel",
          "model_module_version": "1.5.0",
          "state": {
            "_dom_classes": [],
            "_model_module": "@jupyter-widgets/controls",
            "_model_module_version": "1.5.0",
            "_model_name": "FloatProgressModel",
            "_view_count": null,
            "_view_module": "@jupyter-widgets/controls",
            "_view_module_version": "1.5.0",
            "_view_name": "ProgressView",
            "bar_style": "",
            "description": "",
            "description_tooltip": null,
            "layout": "IPY_MODEL_39f9dc0b2a3a4f06acf7ff47fb33febc",
            "max": 1,
            "min": 0,
            "orientation": "horizontal",
            "style": "IPY_MODEL_c96fa79ca48240839ab753a9f8878bbc",
            "value": 1
          }
        },
        "a1fb3702352349a09a6cdf89c29c8d96": {
          "model_module": "@jupyter-widgets/base",
          "model_name": "LayoutModel",
          "model_module_version": "1.2.0",
          "state": {
            "_model_module": "@jupyter-widgets/base",
            "_model_module_version": "1.2.0",
            "_model_name": "LayoutModel",
            "_view_count": null,
            "_view_module": "@jupyter-widgets/base",
            "_view_module_version": "1.2.0",
            "_view_name": "LayoutView",
            "align_content": null,
            "align_items": null,
            "align_self": null,
            "border": null,
            "bottom": null,
            "display": null,
            "flex": null,
            "flex_flow": null,
            "grid_area": null,
            "grid_auto_columns": null,
            "grid_auto_flow": null,
            "grid_auto_rows": null,
            "grid_column": null,
            "grid_gap": null,
            "grid_row": null,
            "grid_template_areas": null,
            "grid_template_columns": null,
            "grid_template_rows": null,
            "height": null,
            "justify_content": null,
            "justify_items": null,
            "left": null,
            "margin": null,
            "max_height": null,
            "max_width": null,
            "min_height": null,
            "min_width": null,
            "object_fit": null,
            "object_position": null,
            "order": null,
            "overflow": null,
            "overflow_x": null,
            "overflow_y": null,
            "padding": null,
            "right": null,
            "top": null,
            "visibility": null,
            "width": null
          }
        },
        "c67ac6d5b7b749b68aa8ce8d64f5fe58": {
          "model_module": "@jupyter-widgets/base",
          "model_name": "LayoutModel",
          "model_module_version": "1.2.0",
          "state": {
            "_model_module": "@jupyter-widgets/base",
            "_model_module_version": "1.2.0",
            "_model_name": "LayoutModel",
            "_view_count": null,
            "_view_module": "@jupyter-widgets/base",
            "_view_module_version": "1.2.0",
            "_view_name": "LayoutView",
            "align_content": null,
            "align_items": null,
            "align_self": null,
            "border": null,
            "bottom": null,
            "display": null,
            "flex": null,
            "flex_flow": null,
            "grid_area": null,
            "grid_auto_columns": null,
            "grid_auto_flow": null,
            "grid_auto_rows": null,
            "grid_column": null,
            "grid_gap": null,
            "grid_row": null,
            "grid_template_areas": null,
            "grid_template_columns": null,
            "grid_template_rows": null,
            "height": null,
            "justify_content": null,
            "justify_items": null,
            "left": null,
            "margin": null,
            "max_height": null,
            "max_width": null,
            "min_height": null,
            "min_width": null,
            "object_fit": null,
            "object_position": null,
            "order": null,
            "overflow": null,
            "overflow_x": null,
            "overflow_y": null,
            "padding": null,
            "right": null,
            "top": null,
            "visibility": null,
            "width": null
          }
        },
        "91a558b6efe2477798daee05c0729e74": {
          "model_module": "@jupyter-widgets/controls",
          "model_name": "DescriptionStyleModel",
          "model_module_version": "1.5.0",
          "state": {
            "_model_module": "@jupyter-widgets/controls",
            "_model_module_version": "1.5.0",
            "_model_name": "DescriptionStyleModel",
            "_view_count": null,
            "_view_module": "@jupyter-widgets/base",
            "_view_module_version": "1.2.0",
            "_view_name": "StyleView",
            "description_width": ""
          }
        },
        "39f9dc0b2a3a4f06acf7ff47fb33febc": {
          "model_module": "@jupyter-widgets/base",
          "model_name": "LayoutModel",
          "model_module_version": "1.2.0",
          "state": {
            "_model_module": "@jupyter-widgets/base",
            "_model_module_version": "1.2.0",
            "_model_name": "LayoutModel",
            "_view_count": null,
            "_view_module": "@jupyter-widgets/base",
            "_view_module_version": "1.2.0",
            "_view_name": "LayoutView",
            "align_content": null,
            "align_items": null,
            "align_self": null,
            "border": null,
            "bottom": null,
            "display": null,
            "flex": null,
            "flex_flow": null,
            "grid_area": null,
            "grid_auto_columns": null,
            "grid_auto_flow": null,
            "grid_auto_rows": null,
            "grid_column": null,
            "grid_gap": null,
            "grid_row": null,
            "grid_template_areas": null,
            "grid_template_columns": null,
            "grid_template_rows": null,
            "height": null,
            "justify_content": null,
            "justify_items": null,
            "left": null,
            "margin": null,
            "max_height": null,
            "max_width": null,
            "min_height": null,
            "min_width": null,
            "object_fit": null,
            "object_position": null,
            "order": null,
            "overflow": null,
            "overflow_x": null,
            "overflow_y": null,
            "padding": null,
            "right": null,
            "top": null,
            "visibility": null,
            "width": null
          }
        },
        "c96fa79ca48240839ab753a9f8878bbc": {
          "model_module": "@jupyter-widgets/controls",
          "model_name": "ProgressStyleModel",
          "model_module_version": "1.5.0",
          "state": {
            "_model_module": "@jupyter-widgets/controls",
            "_model_module_version": "1.5.0",
            "_model_name": "ProgressStyleModel",
            "_view_count": null,
            "_view_module": "@jupyter-widgets/base",
            "_view_module_version": "1.2.0",
            "_view_name": "StyleView",
            "bar_color": null,
            "description_width": ""
          }
        },
        "8afc228eb9c642d3b68c6e423f228fef": {
          "model_module": "@jupyter-widgets/controls",
          "model_name": "VBoxModel",
          "model_module_version": "1.5.0",
          "state": {
            "_dom_classes": [],
            "_model_module": "@jupyter-widgets/controls",
            "_model_module_version": "1.5.0",
            "_model_name": "VBoxModel",
            "_view_count": null,
            "_view_module": "@jupyter-widgets/controls",
            "_view_module_version": "1.5.0",
            "_view_name": "VBoxView",
            "box_style": "",
            "children": [
              "IPY_MODEL_c26aa39fbf264eee8ad95326736a4226",
              "IPY_MODEL_d5128a322f3644b7ae1fabd33c9fa13b"
            ],
            "layout": "IPY_MODEL_e51326b1b8a84030bdd4cf4e0a51858c"
          }
        },
        "c26aa39fbf264eee8ad95326736a4226": {
          "model_module": "@jupyter-widgets/controls",
          "model_name": "LabelModel",
          "model_module_version": "1.5.0",
          "state": {
            "_dom_classes": [],
            "_model_module": "@jupyter-widgets/controls",
            "_model_module_version": "1.5.0",
            "_model_name": "LabelModel",
            "_view_count": null,
            "_view_module": "@jupyter-widgets/controls",
            "_view_module_version": "1.5.0",
            "_view_name": "LabelView",
            "description": "",
            "description_tooltip": null,
            "layout": "IPY_MODEL_fefec4c58a144c8c844998ff08eba38f",
            "placeholder": "​",
            "style": "IPY_MODEL_a5f4a913b3b64651ad5db3929ae2afca",
            "value": "Waiting for wandb.init()...\r"
          }
        },
        "d5128a322f3644b7ae1fabd33c9fa13b": {
          "model_module": "@jupyter-widgets/controls",
          "model_name": "FloatProgressModel",
          "model_module_version": "1.5.0",
          "state": {
            "_dom_classes": [],
            "_model_module": "@jupyter-widgets/controls",
            "_model_module_version": "1.5.0",
            "_model_name": "FloatProgressModel",
            "_view_count": null,
            "_view_module": "@jupyter-widgets/controls",
            "_view_module_version": "1.5.0",
            "_view_name": "ProgressView",
            "bar_style": "",
            "description": "",
            "description_tooltip": null,
            "layout": "IPY_MODEL_69769cd78d204cbd94f122148ec4e761",
            "max": 1,
            "min": 0,
            "orientation": "horizontal",
            "style": "IPY_MODEL_a702034870b741acafeb72f5718b0cde",
            "value": 1
          }
        },
        "e51326b1b8a84030bdd4cf4e0a51858c": {
          "model_module": "@jupyter-widgets/base",
          "model_name": "LayoutModel",
          "model_module_version": "1.2.0",
          "state": {
            "_model_module": "@jupyter-widgets/base",
            "_model_module_version": "1.2.0",
            "_model_name": "LayoutModel",
            "_view_count": null,
            "_view_module": "@jupyter-widgets/base",
            "_view_module_version": "1.2.0",
            "_view_name": "LayoutView",
            "align_content": null,
            "align_items": null,
            "align_self": null,
            "border": null,
            "bottom": null,
            "display": null,
            "flex": null,
            "flex_flow": null,
            "grid_area": null,
            "grid_auto_columns": null,
            "grid_auto_flow": null,
            "grid_auto_rows": null,
            "grid_column": null,
            "grid_gap": null,
            "grid_row": null,
            "grid_template_areas": null,
            "grid_template_columns": null,
            "grid_template_rows": null,
            "height": null,
            "justify_content": null,
            "justify_items": null,
            "left": null,
            "margin": null,
            "max_height": null,
            "max_width": null,
            "min_height": null,
            "min_width": null,
            "object_fit": null,
            "object_position": null,
            "order": null,
            "overflow": null,
            "overflow_x": null,
            "overflow_y": null,
            "padding": null,
            "right": null,
            "top": null,
            "visibility": null,
            "width": null
          }
        },
        "fefec4c58a144c8c844998ff08eba38f": {
          "model_module": "@jupyter-widgets/base",
          "model_name": "LayoutModel",
          "model_module_version": "1.2.0",
          "state": {
            "_model_module": "@jupyter-widgets/base",
            "_model_module_version": "1.2.0",
            "_model_name": "LayoutModel",
            "_view_count": null,
            "_view_module": "@jupyter-widgets/base",
            "_view_module_version": "1.2.0",
            "_view_name": "LayoutView",
            "align_content": null,
            "align_items": null,
            "align_self": null,
            "border": null,
            "bottom": null,
            "display": null,
            "flex": null,
            "flex_flow": null,
            "grid_area": null,
            "grid_auto_columns": null,
            "grid_auto_flow": null,
            "grid_auto_rows": null,
            "grid_column": null,
            "grid_gap": null,
            "grid_row": null,
            "grid_template_areas": null,
            "grid_template_columns": null,
            "grid_template_rows": null,
            "height": null,
            "justify_content": null,
            "justify_items": null,
            "left": null,
            "margin": null,
            "max_height": null,
            "max_width": null,
            "min_height": null,
            "min_width": null,
            "object_fit": null,
            "object_position": null,
            "order": null,
            "overflow": null,
            "overflow_x": null,
            "overflow_y": null,
            "padding": null,
            "right": null,
            "top": null,
            "visibility": null,
            "width": null
          }
        },
        "a5f4a913b3b64651ad5db3929ae2afca": {
          "model_module": "@jupyter-widgets/controls",
          "model_name": "DescriptionStyleModel",
          "model_module_version": "1.5.0",
          "state": {
            "_model_module": "@jupyter-widgets/controls",
            "_model_module_version": "1.5.0",
            "_model_name": "DescriptionStyleModel",
            "_view_count": null,
            "_view_module": "@jupyter-widgets/base",
            "_view_module_version": "1.2.0",
            "_view_name": "StyleView",
            "description_width": ""
          }
        },
        "69769cd78d204cbd94f122148ec4e761": {
          "model_module": "@jupyter-widgets/base",
          "model_name": "LayoutModel",
          "model_module_version": "1.2.0",
          "state": {
            "_model_module": "@jupyter-widgets/base",
            "_model_module_version": "1.2.0",
            "_model_name": "LayoutModel",
            "_view_count": null,
            "_view_module": "@jupyter-widgets/base",
            "_view_module_version": "1.2.0",
            "_view_name": "LayoutView",
            "align_content": null,
            "align_items": null,
            "align_self": null,
            "border": null,
            "bottom": null,
            "display": null,
            "flex": null,
            "flex_flow": null,
            "grid_area": null,
            "grid_auto_columns": null,
            "grid_auto_flow": null,
            "grid_auto_rows": null,
            "grid_column": null,
            "grid_gap": null,
            "grid_row": null,
            "grid_template_areas": null,
            "grid_template_columns": null,
            "grid_template_rows": null,
            "height": null,
            "justify_content": null,
            "justify_items": null,
            "left": null,
            "margin": null,
            "max_height": null,
            "max_width": null,
            "min_height": null,
            "min_width": null,
            "object_fit": null,
            "object_position": null,
            "order": null,
            "overflow": null,
            "overflow_x": null,
            "overflow_y": null,
            "padding": null,
            "right": null,
            "top": null,
            "visibility": null,
            "width": null
          }
        },
        "a702034870b741acafeb72f5718b0cde": {
          "model_module": "@jupyter-widgets/controls",
          "model_name": "ProgressStyleModel",
          "model_module_version": "1.5.0",
          "state": {
            "_model_module": "@jupyter-widgets/controls",
            "_model_module_version": "1.5.0",
            "_model_name": "ProgressStyleModel",
            "_view_count": null,
            "_view_module": "@jupyter-widgets/base",
            "_view_module_version": "1.2.0",
            "_view_name": "StyleView",
            "bar_color": null,
            "description_width": ""
          }
        },
        "126eb6f6f7114fca96311f3579964b41": {
          "model_module": "@jupyter-widgets/controls",
          "model_name": "VBoxModel",
          "model_module_version": "1.5.0",
          "state": {
            "_dom_classes": [],
            "_model_module": "@jupyter-widgets/controls",
            "_model_module_version": "1.5.0",
            "_model_name": "VBoxModel",
            "_view_count": null,
            "_view_module": "@jupyter-widgets/controls",
            "_view_module_version": "1.5.0",
            "_view_name": "VBoxView",
            "box_style": "",
            "children": [
              "IPY_MODEL_32fb91a0d72b4de693f29b6c73ed7044",
              "IPY_MODEL_7d0c22602c484eeeab68aaeba145b2a4"
            ],
            "layout": "IPY_MODEL_15e73daa634e47828a503d001a28eeaa"
          }
        },
        "32fb91a0d72b4de693f29b6c73ed7044": {
          "model_module": "@jupyter-widgets/controls",
          "model_name": "LabelModel",
          "model_module_version": "1.5.0",
          "state": {
            "_dom_classes": [],
            "_model_module": "@jupyter-widgets/controls",
            "_model_module_version": "1.5.0",
            "_model_name": "LabelModel",
            "_view_count": null,
            "_view_module": "@jupyter-widgets/controls",
            "_view_module_version": "1.5.0",
            "_view_name": "LabelView",
            "description": "",
            "description_tooltip": null,
            "layout": "IPY_MODEL_5d79175aa5954a6c81881428810b7244",
            "placeholder": "​",
            "style": "IPY_MODEL_50f6255a0cd14ff2a0fde9f2da25a432",
            "value": "0.012 MB of 0.012 MB uploaded\r"
          }
        },
        "7d0c22602c484eeeab68aaeba145b2a4": {
          "model_module": "@jupyter-widgets/controls",
          "model_name": "FloatProgressModel",
          "model_module_version": "1.5.0",
          "state": {
            "_dom_classes": [],
            "_model_module": "@jupyter-widgets/controls",
            "_model_module_version": "1.5.0",
            "_model_name": "FloatProgressModel",
            "_view_count": null,
            "_view_module": "@jupyter-widgets/controls",
            "_view_module_version": "1.5.0",
            "_view_name": "ProgressView",
            "bar_style": "",
            "description": "",
            "description_tooltip": null,
            "layout": "IPY_MODEL_e34f667231ed4d1cb015720e9d652014",
            "max": 1,
            "min": 0,
            "orientation": "horizontal",
            "style": "IPY_MODEL_3df98fb3a4aa4ea399537c8cfcd21c66",
            "value": 1
          }
        },
        "15e73daa634e47828a503d001a28eeaa": {
          "model_module": "@jupyter-widgets/base",
          "model_name": "LayoutModel",
          "model_module_version": "1.2.0",
          "state": {
            "_model_module": "@jupyter-widgets/base",
            "_model_module_version": "1.2.0",
            "_model_name": "LayoutModel",
            "_view_count": null,
            "_view_module": "@jupyter-widgets/base",
            "_view_module_version": "1.2.0",
            "_view_name": "LayoutView",
            "align_content": null,
            "align_items": null,
            "align_self": null,
            "border": null,
            "bottom": null,
            "display": null,
            "flex": null,
            "flex_flow": null,
            "grid_area": null,
            "grid_auto_columns": null,
            "grid_auto_flow": null,
            "grid_auto_rows": null,
            "grid_column": null,
            "grid_gap": null,
            "grid_row": null,
            "grid_template_areas": null,
            "grid_template_columns": null,
            "grid_template_rows": null,
            "height": null,
            "justify_content": null,
            "justify_items": null,
            "left": null,
            "margin": null,
            "max_height": null,
            "max_width": null,
            "min_height": null,
            "min_width": null,
            "object_fit": null,
            "object_position": null,
            "order": null,
            "overflow": null,
            "overflow_x": null,
            "overflow_y": null,
            "padding": null,
            "right": null,
            "top": null,
            "visibility": null,
            "width": null
          }
        },
        "5d79175aa5954a6c81881428810b7244": {
          "model_module": "@jupyter-widgets/base",
          "model_name": "LayoutModel",
          "model_module_version": "1.2.0",
          "state": {
            "_model_module": "@jupyter-widgets/base",
            "_model_module_version": "1.2.0",
            "_model_name": "LayoutModel",
            "_view_count": null,
            "_view_module": "@jupyter-widgets/base",
            "_view_module_version": "1.2.0",
            "_view_name": "LayoutView",
            "align_content": null,
            "align_items": null,
            "align_self": null,
            "border": null,
            "bottom": null,
            "display": null,
            "flex": null,
            "flex_flow": null,
            "grid_area": null,
            "grid_auto_columns": null,
            "grid_auto_flow": null,
            "grid_auto_rows": null,
            "grid_column": null,
            "grid_gap": null,
            "grid_row": null,
            "grid_template_areas": null,
            "grid_template_columns": null,
            "grid_template_rows": null,
            "height": null,
            "justify_content": null,
            "justify_items": null,
            "left": null,
            "margin": null,
            "max_height": null,
            "max_width": null,
            "min_height": null,
            "min_width": null,
            "object_fit": null,
            "object_position": null,
            "order": null,
            "overflow": null,
            "overflow_x": null,
            "overflow_y": null,
            "padding": null,
            "right": null,
            "top": null,
            "visibility": null,
            "width": null
          }
        },
        "50f6255a0cd14ff2a0fde9f2da25a432": {
          "model_module": "@jupyter-widgets/controls",
          "model_name": "DescriptionStyleModel",
          "model_module_version": "1.5.0",
          "state": {
            "_model_module": "@jupyter-widgets/controls",
            "_model_module_version": "1.5.0",
            "_model_name": "DescriptionStyleModel",
            "_view_count": null,
            "_view_module": "@jupyter-widgets/base",
            "_view_module_version": "1.2.0",
            "_view_name": "StyleView",
            "description_width": ""
          }
        },
        "e34f667231ed4d1cb015720e9d652014": {
          "model_module": "@jupyter-widgets/base",
          "model_name": "LayoutModel",
          "model_module_version": "1.2.0",
          "state": {
            "_model_module": "@jupyter-widgets/base",
            "_model_module_version": "1.2.0",
            "_model_name": "LayoutModel",
            "_view_count": null,
            "_view_module": "@jupyter-widgets/base",
            "_view_module_version": "1.2.0",
            "_view_name": "LayoutView",
            "align_content": null,
            "align_items": null,
            "align_self": null,
            "border": null,
            "bottom": null,
            "display": null,
            "flex": null,
            "flex_flow": null,
            "grid_area": null,
            "grid_auto_columns": null,
            "grid_auto_flow": null,
            "grid_auto_rows": null,
            "grid_column": null,
            "grid_gap": null,
            "grid_row": null,
            "grid_template_areas": null,
            "grid_template_columns": null,
            "grid_template_rows": null,
            "height": null,
            "justify_content": null,
            "justify_items": null,
            "left": null,
            "margin": null,
            "max_height": null,
            "max_width": null,
            "min_height": null,
            "min_width": null,
            "object_fit": null,
            "object_position": null,
            "order": null,
            "overflow": null,
            "overflow_x": null,
            "overflow_y": null,
            "padding": null,
            "right": null,
            "top": null,
            "visibility": null,
            "width": null
          }
        },
        "3df98fb3a4aa4ea399537c8cfcd21c66": {
          "model_module": "@jupyter-widgets/controls",
          "model_name": "ProgressStyleModel",
          "model_module_version": "1.5.0",
          "state": {
            "_model_module": "@jupyter-widgets/controls",
            "_model_module_version": "1.5.0",
            "_model_name": "ProgressStyleModel",
            "_view_count": null,
            "_view_module": "@jupyter-widgets/base",
            "_view_module_version": "1.2.0",
            "_view_name": "StyleView",
            "bar_color": null,
            "description_width": ""
          }
        },
        "aa517d130d06497b8ccc6462029e18fe": {
          "model_module": "@jupyter-widgets/controls",
          "model_name": "VBoxModel",
          "model_module_version": "1.5.0",
          "state": {
            "_dom_classes": [],
            "_model_module": "@jupyter-widgets/controls",
            "_model_module_version": "1.5.0",
            "_model_name": "VBoxModel",
            "_view_count": null,
            "_view_module": "@jupyter-widgets/controls",
            "_view_module_version": "1.5.0",
            "_view_name": "VBoxView",
            "box_style": "",
            "children": [
              "IPY_MODEL_1f4807038276423ca4050594ec6e9c3f",
              "IPY_MODEL_e5f5833f0d6e40d8892168e54a6c95b2"
            ],
            "layout": "IPY_MODEL_744b8427cc574114ba6c7d682c1ff636"
          }
        },
        "1f4807038276423ca4050594ec6e9c3f": {
          "model_module": "@jupyter-widgets/controls",
          "model_name": "LabelModel",
          "model_module_version": "1.5.0",
          "state": {
            "_dom_classes": [],
            "_model_module": "@jupyter-widgets/controls",
            "_model_module_version": "1.5.0",
            "_model_name": "LabelModel",
            "_view_count": null,
            "_view_module": "@jupyter-widgets/controls",
            "_view_module_version": "1.5.0",
            "_view_name": "LabelView",
            "description": "",
            "description_tooltip": null,
            "layout": "IPY_MODEL_1b45e87f7343445298d060c7a44bf9c0",
            "placeholder": "​",
            "style": "IPY_MODEL_aaf96bfc8033421387bcbc7e1533cf77",
            "value": "0.012 MB of 0.012 MB uploaded\r"
          }
        },
        "e5f5833f0d6e40d8892168e54a6c95b2": {
          "model_module": "@jupyter-widgets/controls",
          "model_name": "FloatProgressModel",
          "model_module_version": "1.5.0",
          "state": {
            "_dom_classes": [],
            "_model_module": "@jupyter-widgets/controls",
            "_model_module_version": "1.5.0",
            "_model_name": "FloatProgressModel",
            "_view_count": null,
            "_view_module": "@jupyter-widgets/controls",
            "_view_module_version": "1.5.0",
            "_view_name": "ProgressView",
            "bar_style": "",
            "description": "",
            "description_tooltip": null,
            "layout": "IPY_MODEL_6af8f0e38d53428aaf6e21455da31f5f",
            "max": 1,
            "min": 0,
            "orientation": "horizontal",
            "style": "IPY_MODEL_c253454b6fd84ab09fdf0c8f66e8ebd6",
            "value": 1
          }
        },
        "744b8427cc574114ba6c7d682c1ff636": {
          "model_module": "@jupyter-widgets/base",
          "model_name": "LayoutModel",
          "model_module_version": "1.2.0",
          "state": {
            "_model_module": "@jupyter-widgets/base",
            "_model_module_version": "1.2.0",
            "_model_name": "LayoutModel",
            "_view_count": null,
            "_view_module": "@jupyter-widgets/base",
            "_view_module_version": "1.2.0",
            "_view_name": "LayoutView",
            "align_content": null,
            "align_items": null,
            "align_self": null,
            "border": null,
            "bottom": null,
            "display": null,
            "flex": null,
            "flex_flow": null,
            "grid_area": null,
            "grid_auto_columns": null,
            "grid_auto_flow": null,
            "grid_auto_rows": null,
            "grid_column": null,
            "grid_gap": null,
            "grid_row": null,
            "grid_template_areas": null,
            "grid_template_columns": null,
            "grid_template_rows": null,
            "height": null,
            "justify_content": null,
            "justify_items": null,
            "left": null,
            "margin": null,
            "max_height": null,
            "max_width": null,
            "min_height": null,
            "min_width": null,
            "object_fit": null,
            "object_position": null,
            "order": null,
            "overflow": null,
            "overflow_x": null,
            "overflow_y": null,
            "padding": null,
            "right": null,
            "top": null,
            "visibility": null,
            "width": null
          }
        },
        "1b45e87f7343445298d060c7a44bf9c0": {
          "model_module": "@jupyter-widgets/base",
          "model_name": "LayoutModel",
          "model_module_version": "1.2.0",
          "state": {
            "_model_module": "@jupyter-widgets/base",
            "_model_module_version": "1.2.0",
            "_model_name": "LayoutModel",
            "_view_count": null,
            "_view_module": "@jupyter-widgets/base",
            "_view_module_version": "1.2.0",
            "_view_name": "LayoutView",
            "align_content": null,
            "align_items": null,
            "align_self": null,
            "border": null,
            "bottom": null,
            "display": null,
            "flex": null,
            "flex_flow": null,
            "grid_area": null,
            "grid_auto_columns": null,
            "grid_auto_flow": null,
            "grid_auto_rows": null,
            "grid_column": null,
            "grid_gap": null,
            "grid_row": null,
            "grid_template_areas": null,
            "grid_template_columns": null,
            "grid_template_rows": null,
            "height": null,
            "justify_content": null,
            "justify_items": null,
            "left": null,
            "margin": null,
            "max_height": null,
            "max_width": null,
            "min_height": null,
            "min_width": null,
            "object_fit": null,
            "object_position": null,
            "order": null,
            "overflow": null,
            "overflow_x": null,
            "overflow_y": null,
            "padding": null,
            "right": null,
            "top": null,
            "visibility": null,
            "width": null
          }
        },
        "aaf96bfc8033421387bcbc7e1533cf77": {
          "model_module": "@jupyter-widgets/controls",
          "model_name": "DescriptionStyleModel",
          "model_module_version": "1.5.0",
          "state": {
            "_model_module": "@jupyter-widgets/controls",
            "_model_module_version": "1.5.0",
            "_model_name": "DescriptionStyleModel",
            "_view_count": null,
            "_view_module": "@jupyter-widgets/base",
            "_view_module_version": "1.2.0",
            "_view_name": "StyleView",
            "description_width": ""
          }
        },
        "6af8f0e38d53428aaf6e21455da31f5f": {
          "model_module": "@jupyter-widgets/base",
          "model_name": "LayoutModel",
          "model_module_version": "1.2.0",
          "state": {
            "_model_module": "@jupyter-widgets/base",
            "_model_module_version": "1.2.0",
            "_model_name": "LayoutModel",
            "_view_count": null,
            "_view_module": "@jupyter-widgets/base",
            "_view_module_version": "1.2.0",
            "_view_name": "LayoutView",
            "align_content": null,
            "align_items": null,
            "align_self": null,
            "border": null,
            "bottom": null,
            "display": null,
            "flex": null,
            "flex_flow": null,
            "grid_area": null,
            "grid_auto_columns": null,
            "grid_auto_flow": null,
            "grid_auto_rows": null,
            "grid_column": null,
            "grid_gap": null,
            "grid_row": null,
            "grid_template_areas": null,
            "grid_template_columns": null,
            "grid_template_rows": null,
            "height": null,
            "justify_content": null,
            "justify_items": null,
            "left": null,
            "margin": null,
            "max_height": null,
            "max_width": null,
            "min_height": null,
            "min_width": null,
            "object_fit": null,
            "object_position": null,
            "order": null,
            "overflow": null,
            "overflow_x": null,
            "overflow_y": null,
            "padding": null,
            "right": null,
            "top": null,
            "visibility": null,
            "width": null
          }
        },
        "c253454b6fd84ab09fdf0c8f66e8ebd6": {
          "model_module": "@jupyter-widgets/controls",
          "model_name": "ProgressStyleModel",
          "model_module_version": "1.5.0",
          "state": {
            "_model_module": "@jupyter-widgets/controls",
            "_model_module_version": "1.5.0",
            "_model_name": "ProgressStyleModel",
            "_view_count": null,
            "_view_module": "@jupyter-widgets/base",
            "_view_module_version": "1.2.0",
            "_view_name": "StyleView",
            "bar_color": null,
            "description_width": ""
          }
        },
        "8d968ac49ecc47099d53ee4495d6e180": {
          "model_module": "@jupyter-widgets/controls",
          "model_name": "VBoxModel",
          "model_module_version": "1.5.0",
          "state": {
            "_dom_classes": [],
            "_model_module": "@jupyter-widgets/controls",
            "_model_module_version": "1.5.0",
            "_model_name": "VBoxModel",
            "_view_count": null,
            "_view_module": "@jupyter-widgets/controls",
            "_view_module_version": "1.5.0",
            "_view_name": "VBoxView",
            "box_style": "",
            "children": [
              "IPY_MODEL_ed37410f168f40cca772101d564d8114",
              "IPY_MODEL_2d10c0d110424d6aa1b95305c2354361"
            ],
            "layout": "IPY_MODEL_813bb09c3f604a02bf7682661fdbcfab"
          }
        },
        "ed37410f168f40cca772101d564d8114": {
          "model_module": "@jupyter-widgets/controls",
          "model_name": "LabelModel",
          "model_module_version": "1.5.0",
          "state": {
            "_dom_classes": [],
            "_model_module": "@jupyter-widgets/controls",
            "_model_module_version": "1.5.0",
            "_model_name": "LabelModel",
            "_view_count": null,
            "_view_module": "@jupyter-widgets/controls",
            "_view_module_version": "1.5.0",
            "_view_name": "LabelView",
            "description": "",
            "description_tooltip": null,
            "layout": "IPY_MODEL_9637063466504a50b1eb8c0ca70c3cfb",
            "placeholder": "​",
            "style": "IPY_MODEL_399155d72d8d41c4a87d31d1b6e03488",
            "value": "0.012 MB of 0.012 MB uploaded\r"
          }
        },
        "2d10c0d110424d6aa1b95305c2354361": {
          "model_module": "@jupyter-widgets/controls",
          "model_name": "FloatProgressModel",
          "model_module_version": "1.5.0",
          "state": {
            "_dom_classes": [],
            "_model_module": "@jupyter-widgets/controls",
            "_model_module_version": "1.5.0",
            "_model_name": "FloatProgressModel",
            "_view_count": null,
            "_view_module": "@jupyter-widgets/controls",
            "_view_module_version": "1.5.0",
            "_view_name": "ProgressView",
            "bar_style": "",
            "description": "",
            "description_tooltip": null,
            "layout": "IPY_MODEL_fbd16ee0a79c4f1593922da9f16a0c5a",
            "max": 1,
            "min": 0,
            "orientation": "horizontal",
            "style": "IPY_MODEL_a59135cf69ad4fc2bcbea580b4a17e7f",
            "value": 1
          }
        },
        "813bb09c3f604a02bf7682661fdbcfab": {
          "model_module": "@jupyter-widgets/base",
          "model_name": "LayoutModel",
          "model_module_version": "1.2.0",
          "state": {
            "_model_module": "@jupyter-widgets/base",
            "_model_module_version": "1.2.0",
            "_model_name": "LayoutModel",
            "_view_count": null,
            "_view_module": "@jupyter-widgets/base",
            "_view_module_version": "1.2.0",
            "_view_name": "LayoutView",
            "align_content": null,
            "align_items": null,
            "align_self": null,
            "border": null,
            "bottom": null,
            "display": null,
            "flex": null,
            "flex_flow": null,
            "grid_area": null,
            "grid_auto_columns": null,
            "grid_auto_flow": null,
            "grid_auto_rows": null,
            "grid_column": null,
            "grid_gap": null,
            "grid_row": null,
            "grid_template_areas": null,
            "grid_template_columns": null,
            "grid_template_rows": null,
            "height": null,
            "justify_content": null,
            "justify_items": null,
            "left": null,
            "margin": null,
            "max_height": null,
            "max_width": null,
            "min_height": null,
            "min_width": null,
            "object_fit": null,
            "object_position": null,
            "order": null,
            "overflow": null,
            "overflow_x": null,
            "overflow_y": null,
            "padding": null,
            "right": null,
            "top": null,
            "visibility": null,
            "width": null
          }
        },
        "9637063466504a50b1eb8c0ca70c3cfb": {
          "model_module": "@jupyter-widgets/base",
          "model_name": "LayoutModel",
          "model_module_version": "1.2.0",
          "state": {
            "_model_module": "@jupyter-widgets/base",
            "_model_module_version": "1.2.0",
            "_model_name": "LayoutModel",
            "_view_count": null,
            "_view_module": "@jupyter-widgets/base",
            "_view_module_version": "1.2.0",
            "_view_name": "LayoutView",
            "align_content": null,
            "align_items": null,
            "align_self": null,
            "border": null,
            "bottom": null,
            "display": null,
            "flex": null,
            "flex_flow": null,
            "grid_area": null,
            "grid_auto_columns": null,
            "grid_auto_flow": null,
            "grid_auto_rows": null,
            "grid_column": null,
            "grid_gap": null,
            "grid_row": null,
            "grid_template_areas": null,
            "grid_template_columns": null,
            "grid_template_rows": null,
            "height": null,
            "justify_content": null,
            "justify_items": null,
            "left": null,
            "margin": null,
            "max_height": null,
            "max_width": null,
            "min_height": null,
            "min_width": null,
            "object_fit": null,
            "object_position": null,
            "order": null,
            "overflow": null,
            "overflow_x": null,
            "overflow_y": null,
            "padding": null,
            "right": null,
            "top": null,
            "visibility": null,
            "width": null
          }
        },
        "399155d72d8d41c4a87d31d1b6e03488": {
          "model_module": "@jupyter-widgets/controls",
          "model_name": "DescriptionStyleModel",
          "model_module_version": "1.5.0",
          "state": {
            "_model_module": "@jupyter-widgets/controls",
            "_model_module_version": "1.5.0",
            "_model_name": "DescriptionStyleModel",
            "_view_count": null,
            "_view_module": "@jupyter-widgets/base",
            "_view_module_version": "1.2.0",
            "_view_name": "StyleView",
            "description_width": ""
          }
        },
        "fbd16ee0a79c4f1593922da9f16a0c5a": {
          "model_module": "@jupyter-widgets/base",
          "model_name": "LayoutModel",
          "model_module_version": "1.2.0",
          "state": {
            "_model_module": "@jupyter-widgets/base",
            "_model_module_version": "1.2.0",
            "_model_name": "LayoutModel",
            "_view_count": null,
            "_view_module": "@jupyter-widgets/base",
            "_view_module_version": "1.2.0",
            "_view_name": "LayoutView",
            "align_content": null,
            "align_items": null,
            "align_self": null,
            "border": null,
            "bottom": null,
            "display": null,
            "flex": null,
            "flex_flow": null,
            "grid_area": null,
            "grid_auto_columns": null,
            "grid_auto_flow": null,
            "grid_auto_rows": null,
            "grid_column": null,
            "grid_gap": null,
            "grid_row": null,
            "grid_template_areas": null,
            "grid_template_columns": null,
            "grid_template_rows": null,
            "height": null,
            "justify_content": null,
            "justify_items": null,
            "left": null,
            "margin": null,
            "max_height": null,
            "max_width": null,
            "min_height": null,
            "min_width": null,
            "object_fit": null,
            "object_position": null,
            "order": null,
            "overflow": null,
            "overflow_x": null,
            "overflow_y": null,
            "padding": null,
            "right": null,
            "top": null,
            "visibility": null,
            "width": null
          }
        },
        "a59135cf69ad4fc2bcbea580b4a17e7f": {
          "model_module": "@jupyter-widgets/controls",
          "model_name": "ProgressStyleModel",
          "model_module_version": "1.5.0",
          "state": {
            "_model_module": "@jupyter-widgets/controls",
            "_model_module_version": "1.5.0",
            "_model_name": "ProgressStyleModel",
            "_view_count": null,
            "_view_module": "@jupyter-widgets/base",
            "_view_module_version": "1.2.0",
            "_view_name": "StyleView",
            "bar_color": null,
            "description_width": ""
          }
        },
        "41d2000d9d2f44c6a031a36deab1f60c": {
          "model_module": "@jupyter-widgets/controls",
          "model_name": "VBoxModel",
          "model_module_version": "1.5.0",
          "state": {
            "_dom_classes": [],
            "_model_module": "@jupyter-widgets/controls",
            "_model_module_version": "1.5.0",
            "_model_name": "VBoxModel",
            "_view_count": null,
            "_view_module": "@jupyter-widgets/controls",
            "_view_module_version": "1.5.0",
            "_view_name": "VBoxView",
            "box_style": "",
            "children": [
              "IPY_MODEL_1d96b9294ac7463b812e77f635ac9c6e",
              "IPY_MODEL_eee95794d88545a0a65f06aa7ce22f8e"
            ],
            "layout": "IPY_MODEL_5b724fc807ed48cfa3406ee970101245"
          }
        },
        "1d96b9294ac7463b812e77f635ac9c6e": {
          "model_module": "@jupyter-widgets/controls",
          "model_name": "LabelModel",
          "model_module_version": "1.5.0",
          "state": {
            "_dom_classes": [],
            "_model_module": "@jupyter-widgets/controls",
            "_model_module_version": "1.5.0",
            "_model_name": "LabelModel",
            "_view_count": null,
            "_view_module": "@jupyter-widgets/controls",
            "_view_module_version": "1.5.0",
            "_view_name": "LabelView",
            "description": "",
            "description_tooltip": null,
            "layout": "IPY_MODEL_522d840572e54f24a8ff481aba22a00f",
            "placeholder": "​",
            "style": "IPY_MODEL_4cc0997cc5cc43d0aab13c5c1a7d8b09",
            "value": "0.012 MB of 0.012 MB uploaded\r"
          }
        },
        "eee95794d88545a0a65f06aa7ce22f8e": {
          "model_module": "@jupyter-widgets/controls",
          "model_name": "FloatProgressModel",
          "model_module_version": "1.5.0",
          "state": {
            "_dom_classes": [],
            "_model_module": "@jupyter-widgets/controls",
            "_model_module_version": "1.5.0",
            "_model_name": "FloatProgressModel",
            "_view_count": null,
            "_view_module": "@jupyter-widgets/controls",
            "_view_module_version": "1.5.0",
            "_view_name": "ProgressView",
            "bar_style": "",
            "description": "",
            "description_tooltip": null,
            "layout": "IPY_MODEL_67470adf423e4c768130877b26d67684",
            "max": 1,
            "min": 0,
            "orientation": "horizontal",
            "style": "IPY_MODEL_d48082f56b124cd09df516f44eb13435",
            "value": 1
          }
        },
        "5b724fc807ed48cfa3406ee970101245": {
          "model_module": "@jupyter-widgets/base",
          "model_name": "LayoutModel",
          "model_module_version": "1.2.0",
          "state": {
            "_model_module": "@jupyter-widgets/base",
            "_model_module_version": "1.2.0",
            "_model_name": "LayoutModel",
            "_view_count": null,
            "_view_module": "@jupyter-widgets/base",
            "_view_module_version": "1.2.0",
            "_view_name": "LayoutView",
            "align_content": null,
            "align_items": null,
            "align_self": null,
            "border": null,
            "bottom": null,
            "display": null,
            "flex": null,
            "flex_flow": null,
            "grid_area": null,
            "grid_auto_columns": null,
            "grid_auto_flow": null,
            "grid_auto_rows": null,
            "grid_column": null,
            "grid_gap": null,
            "grid_row": null,
            "grid_template_areas": null,
            "grid_template_columns": null,
            "grid_template_rows": null,
            "height": null,
            "justify_content": null,
            "justify_items": null,
            "left": null,
            "margin": null,
            "max_height": null,
            "max_width": null,
            "min_height": null,
            "min_width": null,
            "object_fit": null,
            "object_position": null,
            "order": null,
            "overflow": null,
            "overflow_x": null,
            "overflow_y": null,
            "padding": null,
            "right": null,
            "top": null,
            "visibility": null,
            "width": null
          }
        },
        "522d840572e54f24a8ff481aba22a00f": {
          "model_module": "@jupyter-widgets/base",
          "model_name": "LayoutModel",
          "model_module_version": "1.2.0",
          "state": {
            "_model_module": "@jupyter-widgets/base",
            "_model_module_version": "1.2.0",
            "_model_name": "LayoutModel",
            "_view_count": null,
            "_view_module": "@jupyter-widgets/base",
            "_view_module_version": "1.2.0",
            "_view_name": "LayoutView",
            "align_content": null,
            "align_items": null,
            "align_self": null,
            "border": null,
            "bottom": null,
            "display": null,
            "flex": null,
            "flex_flow": null,
            "grid_area": null,
            "grid_auto_columns": null,
            "grid_auto_flow": null,
            "grid_auto_rows": null,
            "grid_column": null,
            "grid_gap": null,
            "grid_row": null,
            "grid_template_areas": null,
            "grid_template_columns": null,
            "grid_template_rows": null,
            "height": null,
            "justify_content": null,
            "justify_items": null,
            "left": null,
            "margin": null,
            "max_height": null,
            "max_width": null,
            "min_height": null,
            "min_width": null,
            "object_fit": null,
            "object_position": null,
            "order": null,
            "overflow": null,
            "overflow_x": null,
            "overflow_y": null,
            "padding": null,
            "right": null,
            "top": null,
            "visibility": null,
            "width": null
          }
        },
        "4cc0997cc5cc43d0aab13c5c1a7d8b09": {
          "model_module": "@jupyter-widgets/controls",
          "model_name": "DescriptionStyleModel",
          "model_module_version": "1.5.0",
          "state": {
            "_model_module": "@jupyter-widgets/controls",
            "_model_module_version": "1.5.0",
            "_model_name": "DescriptionStyleModel",
            "_view_count": null,
            "_view_module": "@jupyter-widgets/base",
            "_view_module_version": "1.2.0",
            "_view_name": "StyleView",
            "description_width": ""
          }
        },
        "67470adf423e4c768130877b26d67684": {
          "model_module": "@jupyter-widgets/base",
          "model_name": "LayoutModel",
          "model_module_version": "1.2.0",
          "state": {
            "_model_module": "@jupyter-widgets/base",
            "_model_module_version": "1.2.0",
            "_model_name": "LayoutModel",
            "_view_count": null,
            "_view_module": "@jupyter-widgets/base",
            "_view_module_version": "1.2.0",
            "_view_name": "LayoutView",
            "align_content": null,
            "align_items": null,
            "align_self": null,
            "border": null,
            "bottom": null,
            "display": null,
            "flex": null,
            "flex_flow": null,
            "grid_area": null,
            "grid_auto_columns": null,
            "grid_auto_flow": null,
            "grid_auto_rows": null,
            "grid_column": null,
            "grid_gap": null,
            "grid_row": null,
            "grid_template_areas": null,
            "grid_template_columns": null,
            "grid_template_rows": null,
            "height": null,
            "justify_content": null,
            "justify_items": null,
            "left": null,
            "margin": null,
            "max_height": null,
            "max_width": null,
            "min_height": null,
            "min_width": null,
            "object_fit": null,
            "object_position": null,
            "order": null,
            "overflow": null,
            "overflow_x": null,
            "overflow_y": null,
            "padding": null,
            "right": null,
            "top": null,
            "visibility": null,
            "width": null
          }
        },
        "d48082f56b124cd09df516f44eb13435": {
          "model_module": "@jupyter-widgets/controls",
          "model_name": "ProgressStyleModel",
          "model_module_version": "1.5.0",
          "state": {
            "_model_module": "@jupyter-widgets/controls",
            "_model_module_version": "1.5.0",
            "_model_name": "ProgressStyleModel",
            "_view_count": null,
            "_view_module": "@jupyter-widgets/base",
            "_view_module_version": "1.2.0",
            "_view_name": "StyleView",
            "bar_color": null,
            "description_width": ""
          }
        }
      }
    }
  },
  "nbformat": 4,
  "nbformat_minor": 0
}