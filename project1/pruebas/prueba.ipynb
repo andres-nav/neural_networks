{
 "cells": [
  {
   "cell_type": "code",
   "execution_count": 1,
   "metadata": {},
   "outputs": [],
   "source": [
    "from autoencoder3 import autoencoder3\n",
    "from autoencoder5 import autoencoder5\n",
    "import torch\n",
    "\n",
    "import numpy as np\n",
    "import torch\n",
    "from torch import nn\n",
    "from torch import optim\n",
    "import matplotlib.pyplot as plt\n",
    "\n",
    "INDEX = 1#THIS MUST BE CHANGED IN THE SMALL FILES!"
   ]
  },
  {
   "cell_type": "code",
   "execution_count": 2,
   "metadata": {},
   "outputs": [],
   "source": [
    "### Run this cell\n",
    "\n",
    "from torchvision import datasets, transforms\n",
    "\n",
    "# Define a transform to normalize the data\n",
    "transform = transforms.Compose([transforms.ToTensor(),\n",
    "                              transforms.Normalize((0.5,), (0.5,)),\n",
    "                              ])\n",
    "\n",
    "# Download and load the training  data\n",
    "trainsetMNIST = datasets.MNIST('~/.pytorch/MNIST_data/', download=True, train=True, transform=transform)\n",
    "train_MNIST = torch.utils.data.DataLoader(trainsetMNIST, batch_size=64, shuffle=True)\n",
    "\n",
    "# Download and load the test data\n",
    "testsetMNIST = datasets.MNIST('~/.pytorch/MNIST_data/', download=True, train=False, transform=transform)\n",
    "test_MNIST = torch.utils.data.DataLoader(testsetMNIST, batch_size=64, shuffle=True)"
   ]
  },
  {
   "cell_type": "code",
   "execution_count": 3,
   "metadata": {},
   "outputs": [],
   "source": [
    "\n",
    "# Download and load the training data\n",
    "trainsetFMNIST = datasets.FashionMNIST('~/.pytorch/F_MNIST_data/', download=True, train=True, transform=transform)\n",
    "train_FMNIST = torch.utils.data.DataLoader(trainsetFMNIST, batch_size=64, shuffle=True)\n",
    "\n",
    "# Download and load the test data\n",
    "testsetFMNIST = datasets.FashionMNIST('~/.pytorch/F_MNIST_data/', download=True, train=False, transform=transform)\n",
    "test_FMNIST = torch.utils.data.DataLoader(testsetFMNIST, batch_size=64, shuffle=True)"
   ]
  },
  {
   "cell_type": "code",
   "execution_count": 4,
   "metadata": {},
   "outputs": [],
   "source": [
    "import copy\n",
    "\n",
    "\n",
    "valid_MNIST = copy.deepcopy(train_MNIST)  # Creates a copy of the object\n",
    "\n",
    "#We take the first 45k images for training\n",
    "train_MNIST.dataset.data = train_MNIST.dataset.data[:45000,:,:]\n",
    "\n",
    "#And the rest for validation\n",
    "valid_MNIST.dataset.data = valid_MNIST.dataset.data[45000:,:,:]\n"
   ]
  },
  {
   "cell_type": "code",
   "execution_count": 5,
   "metadata": {},
   "outputs": [],
   "source": [
    "import copy\n",
    "\n",
    "valid_FMNIST = copy.deepcopy(train_FMNIST)  # Creates a copy of the object\n",
    "\n",
    "#We take the first 45k images for training\n",
    "train_FMNIST.dataset.data = train_FMNIST.dataset.data[:45000,:,:]\n",
    "\n",
    "#And the rest for validation\n",
    "valid_FMNIST.dataset.data = valid_FMNIST.dataset.data[45000:,:,:]"
   ]
  },
  {
   "cell_type": "code",
   "execution_count": 6,
   "metadata": {},
   "outputs": [],
   "source": [
    "INDEX = 0 # INDEX = 0 for MNIST and 1 for FMNIST!\n",
    "\n",
    "train_set = [train_MNIST, train_FMNIST]\n",
    "valid_set = [valid_MNIST, valid_FMNIST]\n",
    "test_set = [test_MNIST, test_FMNIST]"
   ]
  },
  {
   "cell_type": "code",
   "execution_count": 7,
   "metadata": {},
   "outputs": [],
   "source": [
    "def save_models(projected_dimensions, models_autoencoder3, models_autoencoder5, INDEX):\n",
    "    if INDEX == 0:  # MNIST\n",
    "        for i in range(len(models_autoencoder3)):\n",
    "            torch.save(models_autoencoder3[i].state_dict(), f'model_autoencoder3_MNIST_{projected_dimensions[i]}.pth')\n",
    "            torch.save(models_autoencoder5[i].state_dict(), f'model_autoencoder5_MNIST_{projected_dimensions[i]}.pth')\n",
    "    elif INDEX == 1:  # FMNIST\n",
    "        for i in range(len(models_autoencoder3)):\n",
    "            torch.save(models_autoencoder3[i].state_dict(), f'model_autoencoder3_FMNIST_{projected_dimensions[i]}.pth')\n",
    "            torch.save(models_autoencoder5[i].state_dict(), f'model_autoencoder5_FMNIST_{projected_dimensions[i]}.pth')\n",
    "    else:\n",
    "        raise ValueError(\"While saving the models, INDEX should be either 0 or 1.\")\n",
    "\n",
    "\n",
    "def load_models(projected_dimensions, autoencoder3, autoencoder5, models_autoencoder3, models_autoencoder5, INDEX):\n",
    "    if INDEX == 0:  # MNIST\n",
    "        dataset0 = \"MNIST\"\n",
    "    else:\n",
    "        dataset0 = \"FMNIST\"\n",
    "\n",
    "    for i in range(len(projected_dimensions)):\n",
    "        state_dict_3 = torch.load(f'model_autoencoder3_{dataset0}_{projected_dimensions[i]}.pth')\n",
    "        model_3 = autoencoder3(projected_dimensions[i], INDEX)  # Assuming autoencoder3 is defined elsewhere\n",
    "        model_3.load_state_dict(state_dict_3)\n",
    "        models_autoencoder3.append(model_3)\n",
    "\n",
    "        state_dict_5 = torch.load(f'model_autoencoder5_{dataset0}_{projected_dimensions[i]}.pth')\n",
    "        model_5 = autoencoder5(projected_dimensions[i], INDEX)  # Assuming autoencoder5 is defined elsewhere\n",
    "        model_5.load_state_dict(state_dict_5)\n",
    "        models_autoencoder5.append(model_5)\n",
    "\n",
    "\n",
    "def evaluate_models(models, train, valid, test):\n",
    "    for n_layers in range(len(models)):\n",
    "        for i, model in enumerate(models[n_layers]):\n",
    "            n_lay = 3 if n_layers == 0 else 5\n",
    "            print(f\"Autoenc{n_lay}, train-{projected_dimensions[i]}. Projections:\", model.eval_performance(train))\n",
    "            print(f\"Autoenc{n_lay}, val-{projected_dimensions[i]}. Projections:\", model.eval_performance(valid))\n",
    "            print(f\"Autoenc{n_lay}, test-{projected_dimensions[i]}. Projections:\", model.eval_performance(test), \"\\n\")"
   ]
  },
  {
   "cell_type": "code",
   "execution_count": 8,
   "metadata": {},
   "outputs": [],
   "source": [
    "projected_dimensions = [15, 30, 50, 100] # This are the dimensions we are going to project the data into\n",
    "models_autoencoder3 = []\n",
    "models_autoencoder5 = []\n",
    "load_models(projected_dimensions, autoencoder3, autoencoder5, models_autoencoder3, models_autoencoder5, INDEX)"
   ]
  },
  {
   "cell_type": "code",
   "execution_count": 9,
   "metadata": {},
   "outputs": [],
   "source": [
    "# models_autoencoder5[0].eval_performance(train_MNIST)"
   ]
  },
  {
   "cell_type": "code",
   "execution_count": 10,
   "metadata": {},
   "outputs": [],
   "source": [
    "# models_autoencoder3[0].eval_performance(train_MNIST)"
   ]
  },
  {
   "cell_type": "code",
   "execution_count": 11,
   "metadata": {},
   "outputs": [
    {
     "name": "stdout",
     "output_type": "stream",
     "text": [
      "Autoenc3, train-15. Projections: tensor(7.7331)\n",
      "Autoenc3, val-15. Projections: tensor(6.8064)\n",
      "Autoenc3, test-15. Projections: tensor(7.1767) \n",
      "\n",
      "Autoenc3, train-30. Projections: tensor(6.3135)\n",
      "Autoenc3, val-30. Projections: tensor(6.4261)\n",
      "Autoenc3, test-30. Projections: tensor(6.0756) \n",
      "\n",
      "Autoenc3, train-50. Projections: tensor(8.6932)\n",
      "Autoenc3, val-50. Projections: tensor(8.0335)\n",
      "Autoenc3, test-50. Projections: tensor(8.1091) \n",
      "\n",
      "Autoenc3, train-100. Projections: tensor(7.2512)\n",
      "Autoenc3, val-100. Projections: tensor(8.3514)\n",
      "Autoenc3, test-100. Projections: tensor(8.1916) \n",
      "\n",
      "Autoenc5, train-15. Projections: tensor(6.8444)\n",
      "Autoenc5, val-15. Projections: tensor(6.0797)\n",
      "Autoenc5, test-15. Projections: tensor(6.5974) \n",
      "\n",
      "Autoenc5, train-30. Projections: tensor(7.6245)\n",
      "Autoenc5, val-30. Projections: tensor(6.4958)\n",
      "Autoenc5, test-30. Projections: tensor(7.0109) \n",
      "\n",
      "Autoenc5, train-50. Projections: tensor(6.5752)\n",
      "Autoenc5, val-50. Projections: tensor(6.7558)\n",
      "Autoenc5, test-50. Projections: tensor(7.3093) \n",
      "\n",
      "Autoenc5, train-100. Projections: tensor(7.1996)\n",
      "Autoenc5, val-100. Projections: tensor(7.2426)\n",
      "Autoenc5, test-100. Projections: tensor(7.2334) \n",
      "\n"
     ]
    }
   ],
   "source": [
    "models = [models_autoencoder3, models_autoencoder5]\n",
    "evaluate_models(models, train_set[INDEX], valid_set[INDEX], test_set[INDEX]) # TO DO change test to F and MNIST"
   ]
  }
 ],
 "metadata": {
  "kernelspec": {
   "display_name": "base",
   "language": "python",
   "name": "python3"
  },
  "language_info": {
   "codemirror_mode": {
    "name": "ipython",
    "version": 3
   },
   "file_extension": ".py",
   "mimetype": "text/x-python",
   "name": "python",
   "nbconvert_exporter": "python",
   "pygments_lexer": "ipython3",
   "version": "3.11.7"
  }
 },
 "nbformat": 4,
 "nbformat_minor": 2
}
