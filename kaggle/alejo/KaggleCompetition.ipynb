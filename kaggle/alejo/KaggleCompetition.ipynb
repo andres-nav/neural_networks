{
 "cells": [
  {
   "cell_type": "code",
   "execution_count": 1,
   "metadata": {
    "id": "bQKjYoaIsjHF",
    "scrolled": false
   },
   "outputs": [
    {
     "name": "stderr",
     "output_type": "stream",
     "text": [
      "2024-04-23 18:06:12.352489: I external/local_tsl/tsl/cuda/cudart_stub.cc:32] Could not find cuda drivers on your machine, GPU will not be used.\n",
      "2024-04-23 18:06:12.356628: I external/local_tsl/tsl/cuda/cudart_stub.cc:32] Could not find cuda drivers on your machine, GPU will not be used.\n",
      "2024-04-23 18:06:12.397866: I tensorflow/core/platform/cpu_feature_guard.cc:210] This TensorFlow binary is optimized to use available CPU instructions in performance-critical operations.\n",
      "To enable the following instructions: AVX2 FMA, in other operations, rebuild TensorFlow with the appropriate compiler flags.\n",
      "2024-04-23 18:06:13.341266: W tensorflow/compiler/tf2tensorrt/utils/py_utils.cc:38] TF-TRT Warning: Could not find TensorRT\n"
     ]
    }
   ],
   "source": [
    "#from google.colab import drive\n",
    "import pandas as pd\n",
    "import numpy as np\n",
    "import matplotlib.pyplot as plt\n",
    "from imblearn.over_sampling import RandomOverSampler\n",
    "from imblearn.under_sampling import RandomUnderSampler\n",
    "from sklearn.impute import KNNImputer\n",
    "import xgboost as xgb\n",
    "from sklearn.model_selection import train_test_split, GridSearchCV\n",
    "from sklearn.svm import SVC\n",
    "from sklearn.metrics import r2_score\n",
    "from imblearn.combine import SMOTETomek\n",
    "import tensorflow as tf\n",
    "from tensorflow import keras\n",
    "from tensorflow.keras import layers\n",
    "from tensorflow.keras.utils import to_categorical\n",
    "from tensorflow.keras.layers import Input, Dense, Dropout\n",
    "from tensorflow.keras.layers import MultiHeadAttention, LayerNormalization\n",
    "from tensorflow.keras.layers import TimeDistributed, Bidirectional, LSTM\n",
    "from tensorflow.keras.models import Model\n",
    "from sklearn.metrics import f1_score as f1\n",
    "import keras.backend as K\n",
    "from tensorflow.keras.models import load_model\n",
    "import plotly.express as px\n",
    "from sklearn.cluster import KMeans\n",
    "from keras.layers import Conv2D, MaxPooling2D, Flatten,Conv1D,MaxPooling1D,Reshape, Conv1DTranspose, LeakyReLU, BatchNormalization\n",
    "from sklearn.svm import OneClassSVM\n",
    "from sklearn.metrics import make_scorer\n",
    "from tensorflow.keras.optimizers import Adam\n",
    "from scipy.fft import fft\n",
    "#frimport plotly.express as px\n",
    "from sklearn.experimental import enable_iterative_imputer \n",
    "from sklearn.impute import IterativeImputer"
   ]
  },
  {
   "cell_type": "code",
   "execution_count": 2,
   "metadata": {},
   "outputs": [],
   "source": [
    "# !pip install xgboost\n",
    "# !pip install tensorflow"
   ]
  },
  {
   "cell_type": "code",
   "execution_count": 3,
   "metadata": {
    "id": "ZfrVP2roky1X"
   },
   "outputs": [],
   "source": [
    "%run kaggleFunctions.ipynb"
   ]
  },
  {
   "cell_type": "markdown",
   "metadata": {
    "id": "iyzAasly-OVI"
   },
   "source": [
    "# 1. Download the data"
   ]
  },
  {
   "cell_type": "code",
   "execution_count": 4,
   "metadata": {
    "colab": {
     "base_uri": "https://localhost:8080/",
     "height": 442
    },
    "id": "-B3ZXASpsjuP",
    "outputId": "fea9cb5d-d7aa-450c-c130-a1914fcbe35f"
   },
   "outputs": [
    {
     "data": {
      "text/html": [
       "<div>\n",
       "<style scoped>\n",
       "    .dataframe tbody tr th:only-of-type {\n",
       "        vertical-align: middle;\n",
       "    }\n",
       "\n",
       "    .dataframe tbody tr th {\n",
       "        vertical-align: top;\n",
       "    }\n",
       "\n",
       "    .dataframe thead th {\n",
       "        text-align: right;\n",
       "    }\n",
       "</style>\n",
       "<table border=\"1\" class=\"dataframe\">\n",
       "  <thead>\n",
       "    <tr style=\"text-align: right;\">\n",
       "      <th></th>\n",
       "      <th>ID</th>\n",
       "      <th>T0</th>\n",
       "      <th>T1</th>\n",
       "      <th>T2</th>\n",
       "      <th>T3</th>\n",
       "      <th>T4</th>\n",
       "      <th>T5</th>\n",
       "      <th>T6</th>\n",
       "      <th>T7</th>\n",
       "      <th>T8</th>\n",
       "      <th>...</th>\n",
       "      <th>T178</th>\n",
       "      <th>T179</th>\n",
       "      <th>T180</th>\n",
       "      <th>T181</th>\n",
       "      <th>T182</th>\n",
       "      <th>T183</th>\n",
       "      <th>T184</th>\n",
       "      <th>T185</th>\n",
       "      <th>T186</th>\n",
       "      <th>Class</th>\n",
       "    </tr>\n",
       "  </thead>\n",
       "  <tbody>\n",
       "    <tr>\n",
       "      <th>0</th>\n",
       "      <td>0</td>\n",
       "      <td>0.965812</td>\n",
       "      <td>0.792023</td>\n",
       "      <td>0.116809</td>\n",
       "      <td>0.000000</td>\n",
       "      <td>0.162393</td>\n",
       "      <td>0.213675</td>\n",
       "      <td>0.264957</td>\n",
       "      <td>0.247863</td>\n",
       "      <td>0.270655</td>\n",
       "      <td>...</td>\n",
       "      <td>0.0</td>\n",
       "      <td>0.0</td>\n",
       "      <td>0.0</td>\n",
       "      <td>0.0</td>\n",
       "      <td>0.0</td>\n",
       "      <td>0.0</td>\n",
       "      <td>0.0</td>\n",
       "      <td>0.0</td>\n",
       "      <td>0.0</td>\n",
       "      <td>0</td>\n",
       "    </tr>\n",
       "    <tr>\n",
       "      <th>1</th>\n",
       "      <td>1</td>\n",
       "      <td>1.000000</td>\n",
       "      <td>0.597015</td>\n",
       "      <td>0.000000</td>\n",
       "      <td>0.109453</td>\n",
       "      <td>0.094527</td>\n",
       "      <td>0.084577</td>\n",
       "      <td>0.074627</td>\n",
       "      <td>0.094527</td>\n",
       "      <td>0.114428</td>\n",
       "      <td>...</td>\n",
       "      <td>0.0</td>\n",
       "      <td>0.0</td>\n",
       "      <td>0.0</td>\n",
       "      <td>0.0</td>\n",
       "      <td>0.0</td>\n",
       "      <td>0.0</td>\n",
       "      <td>0.0</td>\n",
       "      <td>0.0</td>\n",
       "      <td>0.0</td>\n",
       "      <td>0</td>\n",
       "    </tr>\n",
       "    <tr>\n",
       "      <th>2</th>\n",
       "      <td>2</td>\n",
       "      <td>0.831382</td>\n",
       "      <td>0.714286</td>\n",
       "      <td>0.491803</td>\n",
       "      <td>NaN</td>\n",
       "      <td>NaN</td>\n",
       "      <td>NaN</td>\n",
       "      <td>NaN</td>\n",
       "      <td>NaN</td>\n",
       "      <td>NaN</td>\n",
       "      <td>...</td>\n",
       "      <td>0.0</td>\n",
       "      <td>0.0</td>\n",
       "      <td>0.0</td>\n",
       "      <td>0.0</td>\n",
       "      <td>0.0</td>\n",
       "      <td>0.0</td>\n",
       "      <td>0.0</td>\n",
       "      <td>0.0</td>\n",
       "      <td>0.0</td>\n",
       "      <td>0</td>\n",
       "    </tr>\n",
       "    <tr>\n",
       "      <th>3</th>\n",
       "      <td>3</td>\n",
       "      <td>1.000000</td>\n",
       "      <td>0.837705</td>\n",
       "      <td>0.236066</td>\n",
       "      <td>0.037705</td>\n",
       "      <td>0.252459</td>\n",
       "      <td>0.329508</td>\n",
       "      <td>0.319672</td>\n",
       "      <td>0.306557</td>\n",
       "      <td>0.304918</td>\n",
       "      <td>...</td>\n",
       "      <td>0.0</td>\n",
       "      <td>0.0</td>\n",
       "      <td>0.0</td>\n",
       "      <td>0.0</td>\n",
       "      <td>0.0</td>\n",
       "      <td>0.0</td>\n",
       "      <td>0.0</td>\n",
       "      <td>0.0</td>\n",
       "      <td>0.0</td>\n",
       "      <td>0</td>\n",
       "    </tr>\n",
       "    <tr>\n",
       "      <th>4</th>\n",
       "      <td>4</td>\n",
       "      <td>0.868590</td>\n",
       "      <td>0.448718</td>\n",
       "      <td>0.490385</td>\n",
       "      <td>0.477564</td>\n",
       "      <td>0.461538</td>\n",
       "      <td>0.455128</td>\n",
       "      <td>0.416667</td>\n",
       "      <td>0.304487</td>\n",
       "      <td>0.182692</td>\n",
       "      <td>...</td>\n",
       "      <td>0.0</td>\n",
       "      <td>0.0</td>\n",
       "      <td>0.0</td>\n",
       "      <td>0.0</td>\n",
       "      <td>0.0</td>\n",
       "      <td>0.0</td>\n",
       "      <td>0.0</td>\n",
       "      <td>0.0</td>\n",
       "      <td>0.0</td>\n",
       "      <td>4</td>\n",
       "    </tr>\n",
       "    <tr>\n",
       "      <th>...</th>\n",
       "      <td>...</td>\n",
       "      <td>...</td>\n",
       "      <td>...</td>\n",
       "      <td>...</td>\n",
       "      <td>...</td>\n",
       "      <td>...</td>\n",
       "      <td>...</td>\n",
       "      <td>...</td>\n",
       "      <td>...</td>\n",
       "      <td>...</td>\n",
       "      <td>...</td>\n",
       "      <td>...</td>\n",
       "      <td>...</td>\n",
       "      <td>...</td>\n",
       "      <td>...</td>\n",
       "      <td>...</td>\n",
       "      <td>...</td>\n",
       "      <td>...</td>\n",
       "      <td>...</td>\n",
       "      <td>...</td>\n",
       "      <td>...</td>\n",
       "    </tr>\n",
       "    <tr>\n",
       "      <th>87549</th>\n",
       "      <td>87549</td>\n",
       "      <td>0.000000</td>\n",
       "      <td>0.060127</td>\n",
       "      <td>0.202532</td>\n",
       "      <td>0.306962</td>\n",
       "      <td>0.424051</td>\n",
       "      <td>0.471519</td>\n",
       "      <td>0.588608</td>\n",
       "      <td>0.664557</td>\n",
       "      <td>0.702532</td>\n",
       "      <td>...</td>\n",
       "      <td>0.0</td>\n",
       "      <td>0.0</td>\n",
       "      <td>0.0</td>\n",
       "      <td>0.0</td>\n",
       "      <td>0.0</td>\n",
       "      <td>0.0</td>\n",
       "      <td>0.0</td>\n",
       "      <td>0.0</td>\n",
       "      <td>0.0</td>\n",
       "      <td>0</td>\n",
       "    </tr>\n",
       "    <tr>\n",
       "      <th>87550</th>\n",
       "      <td>87550</td>\n",
       "      <td>0.971154</td>\n",
       "      <td>0.910256</td>\n",
       "      <td>0.548077</td>\n",
       "      <td>NaN</td>\n",
       "      <td>NaN</td>\n",
       "      <td>NaN</td>\n",
       "      <td>NaN</td>\n",
       "      <td>NaN</td>\n",
       "      <td>NaN</td>\n",
       "      <td>...</td>\n",
       "      <td>0.0</td>\n",
       "      <td>0.0</td>\n",
       "      <td>0.0</td>\n",
       "      <td>0.0</td>\n",
       "      <td>0.0</td>\n",
       "      <td>0.0</td>\n",
       "      <td>0.0</td>\n",
       "      <td>0.0</td>\n",
       "      <td>0.0</td>\n",
       "      <td>0</td>\n",
       "    </tr>\n",
       "    <tr>\n",
       "      <th>87551</th>\n",
       "      <td>87551</td>\n",
       "      <td>1.000000</td>\n",
       "      <td>0.976378</td>\n",
       "      <td>0.527559</td>\n",
       "      <td>0.289370</td>\n",
       "      <td>0.084646</td>\n",
       "      <td>0.055118</td>\n",
       "      <td>0.066929</td>\n",
       "      <td>0.059055</td>\n",
       "      <td>0.055118</td>\n",
       "      <td>...</td>\n",
       "      <td>0.0</td>\n",
       "      <td>0.0</td>\n",
       "      <td>0.0</td>\n",
       "      <td>0.0</td>\n",
       "      <td>0.0</td>\n",
       "      <td>0.0</td>\n",
       "      <td>0.0</td>\n",
       "      <td>0.0</td>\n",
       "      <td>0.0</td>\n",
       "      <td>2</td>\n",
       "    </tr>\n",
       "    <tr>\n",
       "      <th>87552</th>\n",
       "      <td>87552</td>\n",
       "      <td>0.907563</td>\n",
       "      <td>1.000000</td>\n",
       "      <td>0.464286</td>\n",
       "      <td>0.046218</td>\n",
       "      <td>0.241597</td>\n",
       "      <td>0.336134</td>\n",
       "      <td>0.283613</td>\n",
       "      <td>0.283613</td>\n",
       "      <td>0.300420</td>\n",
       "      <td>...</td>\n",
       "      <td>0.0</td>\n",
       "      <td>0.0</td>\n",
       "      <td>0.0</td>\n",
       "      <td>0.0</td>\n",
       "      <td>0.0</td>\n",
       "      <td>0.0</td>\n",
       "      <td>0.0</td>\n",
       "      <td>0.0</td>\n",
       "      <td>0.0</td>\n",
       "      <td>0</td>\n",
       "    </tr>\n",
       "    <tr>\n",
       "      <th>87553</th>\n",
       "      <td>87553</td>\n",
       "      <td>0.778135</td>\n",
       "      <td>0.697749</td>\n",
       "      <td>0.411576</td>\n",
       "      <td>0.196141</td>\n",
       "      <td>0.096463</td>\n",
       "      <td>0.093248</td>\n",
       "      <td>0.067524</td>\n",
       "      <td>0.067524</td>\n",
       "      <td>0.045016</td>\n",
       "      <td>...</td>\n",
       "      <td>0.0</td>\n",
       "      <td>0.0</td>\n",
       "      <td>0.0</td>\n",
       "      <td>0.0</td>\n",
       "      <td>0.0</td>\n",
       "      <td>0.0</td>\n",
       "      <td>0.0</td>\n",
       "      <td>0.0</td>\n",
       "      <td>0.0</td>\n",
       "      <td>0</td>\n",
       "    </tr>\n",
       "  </tbody>\n",
       "</table>\n",
       "<p>87554 rows × 189 columns</p>\n",
       "</div>"
      ],
      "text/plain": [
       "          ID        T0        T1        T2        T3        T4        T5  \\\n",
       "0          0  0.965812  0.792023  0.116809  0.000000  0.162393  0.213675   \n",
       "1          1  1.000000  0.597015  0.000000  0.109453  0.094527  0.084577   \n",
       "2          2  0.831382  0.714286  0.491803       NaN       NaN       NaN   \n",
       "3          3  1.000000  0.837705  0.236066  0.037705  0.252459  0.329508   \n",
       "4          4  0.868590  0.448718  0.490385  0.477564  0.461538  0.455128   \n",
       "...      ...       ...       ...       ...       ...       ...       ...   \n",
       "87549  87549  0.000000  0.060127  0.202532  0.306962  0.424051  0.471519   \n",
       "87550  87550  0.971154  0.910256  0.548077       NaN       NaN       NaN   \n",
       "87551  87551  1.000000  0.976378  0.527559  0.289370  0.084646  0.055118   \n",
       "87552  87552  0.907563  1.000000  0.464286  0.046218  0.241597  0.336134   \n",
       "87553  87553  0.778135  0.697749  0.411576  0.196141  0.096463  0.093248   \n",
       "\n",
       "             T6        T7        T8  ...  T178  T179  T180  T181  T182  T183  \\\n",
       "0      0.264957  0.247863  0.270655  ...   0.0   0.0   0.0   0.0   0.0   0.0   \n",
       "1      0.074627  0.094527  0.114428  ...   0.0   0.0   0.0   0.0   0.0   0.0   \n",
       "2           NaN       NaN       NaN  ...   0.0   0.0   0.0   0.0   0.0   0.0   \n",
       "3      0.319672  0.306557  0.304918  ...   0.0   0.0   0.0   0.0   0.0   0.0   \n",
       "4      0.416667  0.304487  0.182692  ...   0.0   0.0   0.0   0.0   0.0   0.0   \n",
       "...         ...       ...       ...  ...   ...   ...   ...   ...   ...   ...   \n",
       "87549  0.588608  0.664557  0.702532  ...   0.0   0.0   0.0   0.0   0.0   0.0   \n",
       "87550       NaN       NaN       NaN  ...   0.0   0.0   0.0   0.0   0.0   0.0   \n",
       "87551  0.066929  0.059055  0.055118  ...   0.0   0.0   0.0   0.0   0.0   0.0   \n",
       "87552  0.283613  0.283613  0.300420  ...   0.0   0.0   0.0   0.0   0.0   0.0   \n",
       "87553  0.067524  0.067524  0.045016  ...   0.0   0.0   0.0   0.0   0.0   0.0   \n",
       "\n",
       "       T184  T185  T186  Class  \n",
       "0       0.0   0.0   0.0      0  \n",
       "1       0.0   0.0   0.0      0  \n",
       "2       0.0   0.0   0.0      0  \n",
       "3       0.0   0.0   0.0      0  \n",
       "4       0.0   0.0   0.0      4  \n",
       "...     ...   ...   ...    ...  \n",
       "87549   0.0   0.0   0.0      0  \n",
       "87550   0.0   0.0   0.0      0  \n",
       "87551   0.0   0.0   0.0      2  \n",
       "87552   0.0   0.0   0.0      0  \n",
       "87553   0.0   0.0   0.0      0  \n",
       "\n",
       "[87554 rows x 189 columns]"
      ]
     },
     "execution_count": 4,
     "metadata": {},
     "output_type": "execute_result"
    }
   ],
   "source": [
    "df = pd.read_csv('Train_set.csv')\n",
    "df"
   ]
  },
  {
   "cell_type": "code",
   "execution_count": 5,
   "metadata": {
    "id": "mJhTQ8pG-oMM"
   },
   "outputs": [],
   "source": [
    "Y_train=df.loc[:,'Class']\n",
    "X_train=df.iloc[:,1:-1]\n",
    "\n",
    "a, b, c, d = train_test_split(X_train, Y_train, test_size=0.3, random_state=42)\n",
    "# X_train, X_test, Y_train, y_test = train_test_split(X_train, Y_train, test_size=0.3, random_state=42)"
   ]
  },
  {
   "cell_type": "code",
   "execution_count": 6,
   "metadata": {
    "colab": {
     "base_uri": "https://localhost:8080/",
     "height": 36
    },
    "id": "-zZjRd0wupaX",
    "outputId": "65e78836-5981-467f-8438-c4b83710b49f"
   },
   "outputs": [
    {
     "data": {
      "text/plain": [
       "'X_train=X_train.sort_index()\\nY_train=Y_train.sort_index()\\nX_test=X_test.sort_index()\\ny_test=y_test.sort_index()'"
      ]
     },
     "execution_count": 6,
     "metadata": {},
     "output_type": "execute_result"
    }
   ],
   "source": [
    "\"\"\"X_train=X_train.sort_index()\n",
    "Y_train=Y_train.sort_index()\n",
    "X_test=X_test.sort_index()\n",
    "y_test=y_test.sort_index()\"\"\""
   ]
  },
  {
   "cell_type": "code",
   "execution_count": 7,
   "metadata": {},
   "outputs": [],
   "source": [
    "# fig, ax = plt.subplots(nrows=5, ncols=5, figsize=(15,15))\n",
    "# for i in range(5):\n",
    "#     for j in range(5):\n",
    "#         ax[i,j].plot(X_train.iloc[np.where(Y_train==i)[0][j],:])\n",
    "#         title='Class'+str(i)+', smaple '+str(j)\n",
    "#         ax[i,j].set_title(title)"
   ]
  },
  {
   "cell_type": "code",
   "execution_count": 8,
   "metadata": {},
   "outputs": [],
   "source": [
    "means=[]\n",
    "maxims=[]\n",
    "minms=[]\n",
    "for i in range(5):\n",
    "    means.append(np.mean(X_train.iloc[np.where(Y_train==i)], axis=1))\n",
    "    maxims.append(np.max(X_train.iloc[np.where(Y_train==i)], axis=1))\n",
    "    minms.append(np.min(X_train.iloc[np.where(Y_train==i)], axis=1))"
   ]
  },
  {
   "cell_type": "code",
   "execution_count": 9,
   "metadata": {
    "scrolled": true
   },
   "outputs": [],
   "source": [
    "# fig, ax = plt.subplots(nrows=3, ncols=5, figsize=(15,15))\n",
    "# p=[means,maxims,minms]\n",
    "# for i in range(3):\n",
    "#     for j in range(5):\n",
    "#         ax[i,j].plot(p[i][j])\n",
    "        "
   ]
  },
  {
   "cell_type": "markdown",
   "metadata": {
    "id": "JRLL9AVA-JRq"
   },
   "source": [
    "# 2. Preprocessing"
   ]
  },
  {
   "cell_type": "markdown",
   "metadata": {
    "id": "78SkpTuP-BXN"
   },
   "source": [
    "## 2.1. Missing values"
   ]
  },
  {
   "cell_type": "code",
   "execution_count": 10,
   "metadata": {
    "colab": {
     "base_uri": "https://localhost:8080/",
     "height": 54
    },
    "id": "SDSpB1vj4_NG",
    "outputId": "bebe9c57-d787-4af8-bd1b-0cca90fc3994"
   },
   "outputs": [
    {
     "data": {
      "text/plain": [
       "\"#Tarda 13 mins\\nn_missing = df.isna().sum(axis=1)\\nn_missing.plot(kind='bar')\\nplt.xlabel('Índice de fila')\\nplt.ylabel('Número de valores faltantes')\\nplt.title('Valores faltantes por fila en DataFrame')\\nplt.show()\""
      ]
     },
     "execution_count": 10,
     "metadata": {},
     "output_type": "execute_result"
    }
   ],
   "source": [
    "\"\"\"#Tarda 13 mins\n",
    "n_missing = df.isna().sum(axis=1)\n",
    "n_missing.plot(kind='bar')\n",
    "plt.xlabel('Índice de fila')\n",
    "plt.ylabel('Número de valores faltantes')\n",
    "plt.title('Valores faltantes por fila en DataFrame')\n",
    "plt.show()\"\"\""
   ]
  },
  {
   "cell_type": "code",
   "execution_count": 11,
   "metadata": {
    "colab": {
     "base_uri": "https://localhost:8080/",
     "height": 448
    },
    "id": "J-KZX1t0rwEP",
    "outputId": "7599e02f-bb6d-45f5-fea2-699e66083e60",
    "scrolled": true
   },
   "outputs": [
    {
     "data": {
      "text/plain": [
       "[<matplotlib.lines.Line2D at 0x7fe4283ef790>]"
      ]
     },
     "execution_count": 11,
     "metadata": {},
     "output_type": "execute_result"
    },
    {
     "data": {
      "image/png": "[encoded data removed]",
      "text/plain": [
       "<Figure size 640x480 with 1 Axes>"
      ]
     },
     "metadata": {},
     "output_type": "display_data"
    }
   ],
   "source": [
    "plt.plot(X_train.iloc[38,:])"
   ]
  },
  {
   "cell_type": "code",
   "execution_count": 12,
   "metadata": {
    "id": "JmPUzidaslpI"
   },
   "outputs": [],
   "source": [
    "X_train_spline, Y_train=interpolate(X_train,Y_train,'spline',1)"
   ]
  },
  {
   "cell_type": "code",
   "execution_count": 13,
   "metadata": {
    "colab": {
     "base_uri": "https://localhost:8080/",
     "height": 54
    },
    "id": "VbhPq_PgIyv_",
    "outputId": "5fa0e510-58a2-47de-e5d1-f6d289a62816"
   },
   "outputs": [
    {
     "data": {
      "text/plain": [
       "\"n_missing = X_train_spline.isna().sum(axis=1)\\nn_missing.plot(kind='bar')\\nplt.xlabel('Índice de fila')\\nplt.ylabel('Número de valores faltantes')\\nplt.title('Valores faltantes por fila en DataFrame')\\nplt.show()\""
      ]
     },
     "execution_count": 13,
     "metadata": {},
     "output_type": "execute_result"
    }
   ],
   "source": [
    "\"\"\"n_missing = X_train_spline.isna().sum(axis=1)\n",
    "n_missing.plot(kind='bar')\n",
    "plt.xlabel('Índice de fila')\n",
    "plt.ylabel('Número de valores faltantes')\n",
    "plt.title('Valores faltantes por fila en DataFrame')\n",
    "plt.show()\"\"\""
   ]
  },
  {
   "cell_type": "markdown",
   "metadata": {
    "id": "I_r4ufUwqW88"
   },
   "source": [
    "Con esta celda aqui en vez de mas alante estoy mateniendo la proporcion en el set de test(no se si hay que hacerlo o no)"
   ]
  },
  {
   "cell_type": "code",
   "execution_count": 14,
   "metadata": {},
   "outputs": [
    {
     "data": {
      "text/html": [
       "<div>\n",
       "<style scoped>\n",
       "    .dataframe tbody tr th:only-of-type {\n",
       "        vertical-align: middle;\n",
       "    }\n",
       "\n",
       "    .dataframe tbody tr th {\n",
       "        vertical-align: top;\n",
       "    }\n",
       "\n",
       "    .dataframe thead th {\n",
       "        text-align: right;\n",
       "    }\n",
       "</style>\n",
       "<table border=\"1\" class=\"dataframe\">\n",
       "  <thead>\n",
       "    <tr style=\"text-align: right;\">\n",
       "      <th></th>\n",
       "      <th>ID</th>\n",
       "      <th>T0</th>\n",
       "      <th>T1</th>\n",
       "      <th>T2</th>\n",
       "      <th>T3</th>\n",
       "      <th>T4</th>\n",
       "      <th>T5</th>\n",
       "      <th>T6</th>\n",
       "      <th>T7</th>\n",
       "      <th>T8</th>\n",
       "      <th>...</th>\n",
       "      <th>T178</th>\n",
       "      <th>T179</th>\n",
       "      <th>T180</th>\n",
       "      <th>T181</th>\n",
       "      <th>T182</th>\n",
       "      <th>T183</th>\n",
       "      <th>T184</th>\n",
       "      <th>T185</th>\n",
       "      <th>T186</th>\n",
       "      <th>Class</th>\n",
       "    </tr>\n",
       "  </thead>\n",
       "  <tbody>\n",
       "    <tr>\n",
       "      <th>0</th>\n",
       "      <td>0</td>\n",
       "      <td>0.965812</td>\n",
       "      <td>0.792023</td>\n",
       "      <td>0.116809</td>\n",
       "      <td>0.000000</td>\n",
       "      <td>0.162393</td>\n",
       "      <td>0.213675</td>\n",
       "      <td>0.264957</td>\n",
       "      <td>0.247863</td>\n",
       "      <td>0.270655</td>\n",
       "      <td>...</td>\n",
       "      <td>0.0</td>\n",
       "      <td>0.0</td>\n",
       "      <td>0.0</td>\n",
       "      <td>0.0</td>\n",
       "      <td>0.0</td>\n",
       "      <td>0.0</td>\n",
       "      <td>0.0</td>\n",
       "      <td>0.0</td>\n",
       "      <td>0.0</td>\n",
       "      <td>0</td>\n",
       "    </tr>\n",
       "    <tr>\n",
       "      <th>1</th>\n",
       "      <td>1</td>\n",
       "      <td>1.000000</td>\n",
       "      <td>0.597015</td>\n",
       "      <td>0.000000</td>\n",
       "      <td>0.109453</td>\n",
       "      <td>0.094527</td>\n",
       "      <td>0.084577</td>\n",
       "      <td>0.074627</td>\n",
       "      <td>0.094527</td>\n",
       "      <td>0.114428</td>\n",
       "      <td>...</td>\n",
       "      <td>0.0</td>\n",
       "      <td>0.0</td>\n",
       "      <td>0.0</td>\n",
       "      <td>0.0</td>\n",
       "      <td>0.0</td>\n",
       "      <td>0.0</td>\n",
       "      <td>0.0</td>\n",
       "      <td>0.0</td>\n",
       "      <td>0.0</td>\n",
       "      <td>0</td>\n",
       "    </tr>\n",
       "    <tr>\n",
       "      <th>2</th>\n",
       "      <td>2</td>\n",
       "      <td>0.831382</td>\n",
       "      <td>0.714286</td>\n",
       "      <td>0.491803</td>\n",
       "      <td>NaN</td>\n",
       "      <td>NaN</td>\n",
       "      <td>NaN</td>\n",
       "      <td>NaN</td>\n",
       "      <td>NaN</td>\n",
       "      <td>NaN</td>\n",
       "      <td>...</td>\n",
       "      <td>0.0</td>\n",
       "      <td>0.0</td>\n",
       "      <td>0.0</td>\n",
       "      <td>0.0</td>\n",
       "      <td>0.0</td>\n",
       "      <td>0.0</td>\n",
       "      <td>0.0</td>\n",
       "      <td>0.0</td>\n",
       "      <td>0.0</td>\n",
       "      <td>0</td>\n",
       "    </tr>\n",
       "    <tr>\n",
       "      <th>3</th>\n",
       "      <td>3</td>\n",
       "      <td>1.000000</td>\n",
       "      <td>0.837705</td>\n",
       "      <td>0.236066</td>\n",
       "      <td>0.037705</td>\n",
       "      <td>0.252459</td>\n",
       "      <td>0.329508</td>\n",
       "      <td>0.319672</td>\n",
       "      <td>0.306557</td>\n",
       "      <td>0.304918</td>\n",
       "      <td>...</td>\n",
       "      <td>0.0</td>\n",
       "      <td>0.0</td>\n",
       "      <td>0.0</td>\n",
       "      <td>0.0</td>\n",
       "      <td>0.0</td>\n",
       "      <td>0.0</td>\n",
       "      <td>0.0</td>\n",
       "      <td>0.0</td>\n",
       "      <td>0.0</td>\n",
       "      <td>0</td>\n",
       "    </tr>\n",
       "    <tr>\n",
       "      <th>4</th>\n",
       "      <td>4</td>\n",
       "      <td>0.868590</td>\n",
       "      <td>0.448718</td>\n",
       "      <td>0.490385</td>\n",
       "      <td>0.477564</td>\n",
       "      <td>0.461538</td>\n",
       "      <td>0.455128</td>\n",
       "      <td>0.416667</td>\n",
       "      <td>0.304487</td>\n",
       "      <td>0.182692</td>\n",
       "      <td>...</td>\n",
       "      <td>0.0</td>\n",
       "      <td>0.0</td>\n",
       "      <td>0.0</td>\n",
       "      <td>0.0</td>\n",
       "      <td>0.0</td>\n",
       "      <td>0.0</td>\n",
       "      <td>0.0</td>\n",
       "      <td>0.0</td>\n",
       "      <td>0.0</td>\n",
       "      <td>4</td>\n",
       "    </tr>\n",
       "  </tbody>\n",
       "</table>\n",
       "<p>5 rows × 189 columns</p>\n",
       "</div>"
      ],
      "text/plain": [
       "   ID        T0        T1        T2        T3        T4        T5        T6  \\\n",
       "0   0  0.965812  0.792023  0.116809  0.000000  0.162393  0.213675  0.264957   \n",
       "1   1  1.000000  0.597015  0.000000  0.109453  0.094527  0.084577  0.074627   \n",
       "2   2  0.831382  0.714286  0.491803       NaN       NaN       NaN       NaN   \n",
       "3   3  1.000000  0.837705  0.236066  0.037705  0.252459  0.329508  0.319672   \n",
       "4   4  0.868590  0.448718  0.490385  0.477564  0.461538  0.455128  0.416667   \n",
       "\n",
       "         T7        T8  ...  T178  T179  T180  T181  T182  T183  T184  T185  \\\n",
       "0  0.247863  0.270655  ...   0.0   0.0   0.0   0.0   0.0   0.0   0.0   0.0   \n",
       "1  0.094527  0.114428  ...   0.0   0.0   0.0   0.0   0.0   0.0   0.0   0.0   \n",
       "2       NaN       NaN  ...   0.0   0.0   0.0   0.0   0.0   0.0   0.0   0.0   \n",
       "3  0.306557  0.304918  ...   0.0   0.0   0.0   0.0   0.0   0.0   0.0   0.0   \n",
       "4  0.304487  0.182692  ...   0.0   0.0   0.0   0.0   0.0   0.0   0.0   0.0   \n",
       "\n",
       "   T186  Class  \n",
       "0   0.0      0  \n",
       "1   0.0      0  \n",
       "2   0.0      0  \n",
       "3   0.0      0  \n",
       "4   0.0      4  \n",
       "\n",
       "[5 rows x 189 columns]"
      ]
     },
     "execution_count": 14,
     "metadata": {},
     "output_type": "execute_result"
    }
   ],
   "source": [
    "df.head()"
   ]
  },
  {
   "cell_type": "code",
   "execution_count": 15,
   "metadata": {},
   "outputs": [
    {
     "ename": "NameError",
     "evalue": "name 'df_train' is not defined",
     "output_type": "error",
     "traceback": [
      "\u001b[0;31m---------------------------------------------------------------------------\u001b[0m",
      "\u001b[0;31mNameError\u001b[0m                                 Traceback (most recent call last)",
      "Cell \u001b[0;32mIn[15], line 2\u001b[0m\n\u001b[1;32m      1\u001b[0m imp \u001b[38;5;241m=\u001b[39m IterativeImputer(max_iter\u001b[38;5;241m=\u001b[39m\u001b[38;5;241m5\u001b[39m, random_state\u001b[38;5;241m=\u001b[39m\u001b[38;5;241m0\u001b[39m)\n\u001b[0;32m----> 2\u001b[0m imp\u001b[38;5;241m.\u001b[39mfit(df_train[[\u001b[38;5;124m'\u001b[39m\u001b[38;5;124mtotal_bill\u001b[39m\u001b[38;5;124m'\u001b[39m, \u001b[38;5;124m'\u001b[39m\u001b[38;5;124msize\u001b[39m\u001b[38;5;124m'\u001b[39m]])\n\u001b[1;32m      3\u001b[0m imp_values\u001b[38;5;241m=\u001b[39mimp\u001b[38;5;241m.\u001b[39mtransform(df_train[[\u001b[38;5;124m'\u001b[39m\u001b[38;5;124mtotal_bill\u001b[39m\u001b[38;5;124m'\u001b[39m, \u001b[38;5;124m'\u001b[39m\u001b[38;5;124msize\u001b[39m\u001b[38;5;124m'\u001b[39m]])\n\u001b[1;32m      4\u001b[0m pd\u001b[38;5;241m.\u001b[39mDataFrame(imp_values,columns\u001b[38;5;241m=\u001b[39m[\u001b[38;5;124m'\u001b[39m\u001b[38;5;124mtotal_bill\u001b[39m\u001b[38;5;124m'\u001b[39m, \u001b[38;5;124m'\u001b[39m\u001b[38;5;124msize\u001b[39m\u001b[38;5;124m'\u001b[39m])\n",
      "\u001b[0;31mNameError\u001b[0m: name 'df_train' is not defined"
     ]
    }
   ],
   "source": [
    "\n",
    "imp = IterativeImputer(max_iter=5, random_state=0)\n",
    "imp.fit(df_train[['total_bill', 'size']])\n",
    "imp_values=imp.transform(df_train[['total_bill', 'size']])\n",
    "pd.DataFrame(imp_values,columns=['total_bill', 'size'])"
   ]
  },
  {
   "cell_type": "markdown",
   "metadata": {},
   "source": [
    "## Outliers"
   ]
  },
  {
   "cell_type": "code",
   "execution_count": 16,
   "metadata": {},
   "outputs": [],
   "source": [
    "Q1=[]\n",
    "Q3=[]\n",
    "IQR=[]\n",
    "for i in range(5):\n",
    "    Q1.append(X_train_spline.iloc[np.where(Y_train==i)[0],:].quantile(0.25))\n",
    "    Q3.append(X_train_spline.iloc[np.where(Y_train==i)[0],:].quantile(0.75))\n",
    "    IQR.append(Q3[i] - Q1[i]) "
   ]
  },
  {
   "cell_type": "code",
   "execution_count": 17,
   "metadata": {},
   "outputs": [
    {
     "ename": "IndexError",
     "evalue": "list index out of range",
     "output_type": "error",
     "traceback": [
      "\u001b[0;31m---------------------------------------------------------------------------\u001b[0m",
      "\u001b[0;31mIndexError\u001b[0m                                Traceback (most recent call last)",
      "Cell \u001b[0;32mIn[17], line 5\u001b[0m\n\u001b[1;32m      3\u001b[0m plt\u001b[38;5;241m.\u001b[39mplot(Q3[j] \u001b[38;5;241m+\u001b[39m \u001b[38;5;241m5\u001b[39m\u001b[38;5;241m*\u001b[39m IQR[j],label\u001b[38;5;241m=\u001b[39m\u001b[38;5;124m'\u001b[39m\u001b[38;5;124mmax\u001b[39m\u001b[38;5;124m'\u001b[39m)\n\u001b[1;32m      4\u001b[0m \u001b[38;5;28;01mfor\u001b[39;00m i \u001b[38;5;129;01min\u001b[39;00m \u001b[38;5;28mrange\u001b[39m(\u001b[38;5;241m100\u001b[39m):\n\u001b[0;32m----> 5\u001b[0m     \u001b[38;5;28;01mif\u001b[39;00m \u001b[38;5;28msum\u001b[39m(((X_train_spline\u001b[38;5;241m<\u001b[39m (Q1[i] \u001b[38;5;241m-\u001b[39m \u001b[38;5;241m5\u001b[39m\u001b[38;5;241m*\u001b[39m IQR[i])) \u001b[38;5;241m|\u001b[39m (X_train_spline\u001b[38;5;241m>\u001b[39m (Q3[i] \u001b[38;5;241m+\u001b[39m \u001b[38;5;241m5\u001b[39m\u001b[38;5;241m*\u001b[39m IQR[i])))\u001b[38;5;241m.\u001b[39msum(axis\u001b[38;5;241m=\u001b[39m\u001b[38;5;241m1\u001b[39m)\u001b[38;5;241m>\u001b[39m\u001b[38;5;241m8\u001b[39m)\u001b[38;5;241m>\u001b[39m\u001b[38;5;241m0\u001b[39m:\n\u001b[1;32m      6\u001b[0m         plt\u001b[38;5;241m.\u001b[39mplot(X_train_spline\u001b[38;5;241m.\u001b[39miloc[np\u001b[38;5;241m.\u001b[39mwhere(Y_train\u001b[38;5;241m==\u001b[39mj)[\u001b[38;5;241m0\u001b[39m][i],:],label\u001b[38;5;241m=\u001b[39m\u001b[38;5;124m'\u001b[39m\u001b[38;5;124msignal\u001b[39m\u001b[38;5;124m'\u001b[39m)\n\u001b[1;32m      7\u001b[0m plt\u001b[38;5;241m.\u001b[39mlegend()\n",
      "\u001b[0;31mIndexError\u001b[0m: list index out of range"
     ]
    },
    {
     "data": {
      "image/png": "[encoded data removed]",
      "text/plain": [
       "<Figure size 640x480 with 1 Axes>"
      ]
     },
     "metadata": {},
     "output_type": "display_data"
    }
   ],
   "source": [
    "j=3\n",
    "plt.plot(Q1[j] - 5* IQR[j],label='min')\n",
    "plt.plot(Q3[j] + 5* IQR[j],label='max')\n",
    "for i in range(100):\n",
    "    if sum(((X_train_spline< (Q1[i] - 5* IQR[i])) | (X_train_spline> (Q3[i] + 5* IQR[i]))).sum(axis=1)>8)>0:\n",
    "        plt.plot(X_train_spline.iloc[np.where(Y_train==j)[0][i],:],label='signal')\n",
    "plt.legend()"
   ]
  },
  {
   "cell_type": "code",
   "execution_count": 18,
   "metadata": {},
   "outputs": [],
   "source": [
    "outliers=[]\n",
    "for i in range(5):\n",
    "    out = ((X_train_spline.iloc[np.where(Y_train==i)[0],:]< (Q1[i] - 4* IQR[i])) | (X_train_spline.iloc[np.where(Y_train==i)[0],:] > (Q3[i] + 4* IQR[i]))).any(axis=1)\n",
    "    outliers.append(out)"
   ]
  },
  {
   "cell_type": "code",
   "execution_count": null,
   "metadata": {},
   "outputs": [],
   "source": []
  },
  {
   "cell_type": "code",
   "execution_count": 19,
   "metadata": {
    "scrolled": false
   },
   "outputs": [
    {
     "name": "stdout",
     "output_type": "stream",
     "text": [
      "39635\n",
      "1305\n",
      "2552\n",
      "451\n",
      "3368\n",
      "The total number of outliers is: 47311\n"
     ]
    }
   ],
   "source": [
    "acc=0\n",
    "for i in range(5):\n",
    "    print(sum(outliers[i]))\n",
    "    acc+=sum(outliers[i])\n",
    "print('The total number of outliers is: '+str(acc))"
   ]
  },
  {
   "cell_type": "code",
   "execution_count": 20,
   "metadata": {},
   "outputs": [],
   "source": [
    "out = ((X_train_spline< (Q1[i] - 3* IQR[i])) | (X_train_spline> (Q3[i] + 3* IQR[i]))).any(axis=1)\n",
    "X_train_spline_in=X_train_spline.loc[Y_train!=0|( (Y_train==0) & (~out)),:]\n",
    "Y_train_spline_in=Y_train.loc[Y_train!=0|( (Y_train==0) & (~out))]"
   ]
  },
  {
   "cell_type": "markdown",
   "metadata": {
    "id": "A_scF_jF-SDD"
   },
   "source": [
    "## 2.2 Unbalanced classes"
   ]
  },
  {
   "cell_type": "code",
   "execution_count": 21,
   "metadata": {
    "colab": {
     "base_uri": "https://localhost:8080/",
     "height": 448
    },
    "id": "3ReJveJ78Wk9",
    "outputId": "83d7ac90-a2a7-421d-86fc-e14f3a46d607",
    "scrolled": false
   },
   "outputs": [
    {
     "name": "stdout",
     "output_type": "stream",
     "text": [
      "Class\n",
      "0    30617\n",
      "4     6431\n",
      "2     5788\n",
      "1     2223\n",
      "3      641\n",
      "Name: count, dtype: int64\n"
     ]
    },
    {
     "data": {
      "image/png": "[encoded data removed]",
      "text/plain": [
       "<Figure size 640x480 with 1 Axes>"
      ]
     },
     "metadata": {},
     "output_type": "display_data"
    }
   ],
   "source": [
    "counts=pd.Series(Y_train_spline_in).value_counts()\n",
    "unique_labels=pd.Series(Y_train_spline_in).value_counts().index\n",
    "plt.bar(unique_labels,counts)\n",
    "print(pd.Series(Y_train_spline_in).value_counts())"
   ]
  },
  {
   "cell_type": "code",
   "execution_count": 22,
   "metadata": {},
   "outputs": [
    {
     "ename": "NameError",
     "evalue": "name 'y_test' is not defined",
     "output_type": "error",
     "traceback": [
      "\u001b[0;31m---------------------------------------------------------------------------\u001b[0m",
      "\u001b[0;31mNameError\u001b[0m                                 Traceback (most recent call last)",
      "Cell \u001b[0;32mIn[22], line 1\u001b[0m\n\u001b[0;32m----> 1\u001b[0m counts\u001b[38;5;241m=\u001b[39mpd\u001b[38;5;241m.\u001b[39mSeries(y_test)\u001b[38;5;241m.\u001b[39mvalue_counts()\n\u001b[1;32m      2\u001b[0m unique_labels\u001b[38;5;241m=\u001b[39mpd\u001b[38;5;241m.\u001b[39mSeries(Y_train)\u001b[38;5;241m.\u001b[39mvalue_counts()\u001b[38;5;241m.\u001b[39mindex\n\u001b[1;32m      3\u001b[0m plt\u001b[38;5;241m.\u001b[39mbar(unique_labels,counts)\n",
      "\u001b[0;31mNameError\u001b[0m: name 'y_test' is not defined"
     ]
    }
   ],
   "source": [
    "counts=pd.Series(y_test).value_counts()\n",
    "unique_labels=pd.Series(Y_train).value_counts().index\n",
    "plt.bar(unique_labels,counts)"
   ]
  },
  {
   "cell_type": "code",
   "execution_count": 23,
   "metadata": {},
   "outputs": [],
   "source": [
    "# ALEJO\n",
    "\n",
    "sampling_strategy = {0: int(counts[0]*0.8)}\n",
    "\n",
    "# Crear una instancia de RandomUnderSampler y ajustar a los datos de entrenamiento\n",
    "rus = RandomUnderSampler(sampling_strategy=sampling_strategy)\n",
    "X_train_linear_resampled, y_train_linear_resampled = rus.fit_resample(X_train, Y_train)\n",
    "X_train_spline_resampled, y_train_spline_resampled = rus.fit_resample(X_train_spline, Y_train)"
   ]
  },
  {
   "cell_type": "code",
   "execution_count": 24,
   "metadata": {
    "id": "rz_ePLQmBijT"
   },
   "outputs": [],
   "source": [
    "# sampling_strategy = {0: int(counts[0]*0.8)}\n",
    "\n",
    "# # Crear una instancia de RandomUnderSampler y ajustar a los datos de entrenamiento\n",
    "# rus = RandomUnderSampler(sampling_strategy=sampling_strategy)\n",
    "# X_train_linear_resampled, y_train_linear_resampled = rus.fit_resample(X_train_linear, Y_train)\n",
    "# X_train_spline_resampled, y_train_spline_resampled = rus.fit_resample(X_train_spline, Y_train)"
   ]
  },
  {
   "cell_type": "code",
   "execution_count": 25,
   "metadata": {
    "colab": {
     "base_uri": "https://localhost:8080/",
     "height": 448
    },
    "id": "ITdx1v9i2iSU",
    "outputId": "da7ab1e9-57f6-4afe-c263-78112f76afc8"
   },
   "outputs": [
    {
     "data": {
      "text/plain": [
       "<BarContainer object of 5 artists>"
      ]
     },
     "execution_count": 25,
     "metadata": {},
     "output_type": "execute_result"
    },
    {
     "data": {
      "image/png": "[encoded data removed]",
      "text/plain": [
       "<Figure size 640x480 with 1 Axes>"
      ]
     },
     "metadata": {},
     "output_type": "display_data"
    }
   ],
   "source": [
    "counts=pd.Series(y_train_linear_resampled).value_counts()\n",
    "unique_labels=sorted(y_train_linear_resampled.unique())\n",
    "plt.bar(unique_labels,counts)"
   ]
  },
  {
   "cell_type": "code",
   "execution_count": 26,
   "metadata": {
    "id": "nm15ZNg68SdP"
   },
   "outputs": [],
   "source": [
    "counts=pd.Series(y_train_linear_resampled).value_counts()\n",
    "sampling_strategy = {0: counts[0], 1: int(counts[0]*0.8), 2:int(counts[0]*0.8), 3: int(counts[0]*0.7), 4: int(counts[0]*0.6)}\n",
    "ros = RandomOverSampler(random_state=0,sampling_strategy=sampling_strategy)\n",
    "X_train_linear_resampled, y_train_linear_resampled = ros.fit_resample(X_train_linear_resampled, y_train_linear_resampled)\n",
    "X_train_spline_resampled, y_train_spline_resampled = ros.fit_resample(X_train_spline_resampled, y_train_spline_resampled)"
   ]
  },
  {
   "cell_type": "code",
   "execution_count": 27,
   "metadata": {
    "colab": {
     "base_uri": "https://localhost:8080/",
     "height": 540
    },
    "id": "G-PUy2_g-kSx",
    "outputId": "35e6abb6-fd23-4e51-bae9-8e8db467f87a"
   },
   "outputs": [
    {
     "name": "stdout",
     "output_type": "stream",
     "text": [
      "Class\n",
      "0    24493\n",
      "1    19594\n",
      "2    19594\n",
      "3    17145\n",
      "4    14695\n",
      "Name: count, dtype: int64\n"
     ]
    },
    {
     "data": {
      "image/png": "[encoded data removed]",
      "text/plain": [
       "<Figure size 640x480 with 1 Axes>"
      ]
     },
     "metadata": {},
     "output_type": "display_data"
    }
   ],
   "source": [
    "counts=pd.Series(y_train_linear_resampled).value_counts()\n",
    "unique_labels=sorted(y_train_linear_resampled.unique())\n",
    "plt.bar(unique_labels,counts)\n",
    "print(pd.Series(y_train_linear_resampled).value_counts())"
   ]
  },
  {
   "cell_type": "code",
   "execution_count": 28,
   "metadata": {
    "colab": {
     "base_uri": "https://localhost:8080/",
     "height": 72
    },
    "id": "chroJTHcIWfA",
    "outputId": "9909b1f7-1c8b-4b0a-d29b-0f961275f48c"
   },
   "outputs": [
    {
     "data": {
      "text/plain": [
       "'smt = SMOTETomek(random_state=42)\\nX_linear_SMOTET_resampled, y_linear_SMOTET_resampled = smt.fit_resample(X_train_linear, Y_train)\\nX_spline_SMOTET_resampled, y_spline_SMOTET_resampled = smt.fit_resample(X_train_spline, Y_train)\\ncounts=pd.Series(y_spline_SMOTET_resampled).value_counts()\\nunique_labels=sorted(y_spline_SMOTET_resampled.unique())\\nplt.bar(unique_labels,counts)\\nprint(pd.Series(y_spline_SMOTET_resampled).value_counts())'"
      ]
     },
     "execution_count": 28,
     "metadata": {},
     "output_type": "execute_result"
    }
   ],
   "source": [
    "\"\"\"smt = SMOTETomek(random_state=42)\n",
    "X_linear_SMOTET_resampled, y_linear_SMOTET_resampled = smt.fit_resample(X_train_linear, Y_train)\n",
    "X_spline_SMOTET_resampled, y_spline_SMOTET_resampled = smt.fit_resample(X_train_spline, Y_train)\n",
    "counts=pd.Series(y_spline_SMOTET_resampled).value_counts()\n",
    "unique_labels=sorted(y_spline_SMOTET_resampled.unique())\n",
    "plt.bar(unique_labels,counts)\n",
    "print(pd.Series(y_spline_SMOTET_resampled).value_counts())\"\"\""
   ]
  },
  {
   "cell_type": "markdown",
   "metadata": {},
   "source": [
    "## 2.2 Replicating"
   ]
  },
  {
   "cell_type": "markdown",
   "metadata": {
    "id": "DAId0ypu6Ut9"
   },
   "source": [
    "## 2.3 Smothing"
   ]
  },
  {
   "cell_type": "markdown",
   "metadata": {
    "id": "SUFUiltn6-2c"
   },
   "source": [
    "### 2.3.1 Moving average"
   ]
  },
  {
   "cell_type": "code",
   "execution_count": 29,
   "metadata": {
    "colab": {
     "base_uri": "https://localhost:8080/",
     "height": 430
    },
    "id": "tctP2HP86TuO",
    "outputId": "4b9a1e6d-a678-4a2e-be68-e8311307cdee"
   },
   "outputs": [
    {
     "data": {
      "image/png": "[encoded data removed]",
      "text/plain": [
       "<Figure size 640x480 with 1 Axes>"
      ]
     },
     "metadata": {},
     "output_type": "display_data"
    }
   ],
   "source": [
    "def moving_average(series, window_size):\n",
    "    return series.rolling(window_size).mean()\n",
    "X_train_spline_resampled_MA=moving_average(X_train_spline_resampled,5)\n",
    "plt.plot(X_train_spline_resampled_MA.iloc[36,:])\n",
    "plt.show()"
   ]
  },
  {
   "cell_type": "markdown",
   "metadata": {
    "id": "g9C_kZge7OA2"
   },
   "source": [
    "### 2.3.1 Exponential moving average"
   ]
  },
  {
   "cell_type": "code",
   "execution_count": 30,
   "metadata": {
    "id": "jrPl8iFL69fS"
   },
   "outputs": [
    {
     "ename": "KeyError",
     "evalue": "0",
     "output_type": "error",
     "traceback": [
      "\u001b[0;31m---------------------------------------------------------------------------\u001b[0m",
      "\u001b[0;31mKeyError\u001b[0m                                  Traceback (most recent call last)",
      "File \u001b[0;32m~/anaconda3/lib/python3.11/site-packages/pandas/core/indexes/base.py:3791\u001b[0m, in \u001b[0;36mIndex.get_loc\u001b[0;34m(self, key)\u001b[0m\n\u001b[1;32m   3790\u001b[0m \u001b[38;5;28;01mtry\u001b[39;00m:\n\u001b[0;32m-> 3791\u001b[0m     \u001b[38;5;28;01mreturn\u001b[39;00m \u001b[38;5;28mself\u001b[39m\u001b[38;5;241m.\u001b[39m_engine\u001b[38;5;241m.\u001b[39mget_loc(casted_key)\n\u001b[1;32m   3792\u001b[0m \u001b[38;5;28;01mexcept\u001b[39;00m \u001b[38;5;167;01mKeyError\u001b[39;00m \u001b[38;5;28;01mas\u001b[39;00m err:\n",
      "File \u001b[0;32mindex.pyx:152\u001b[0m, in \u001b[0;36mpandas._libs.index.IndexEngine.get_loc\u001b[0;34m()\u001b[0m\n",
      "File \u001b[0;32mindex.pyx:181\u001b[0m, in \u001b[0;36mpandas._libs.index.IndexEngine.get_loc\u001b[0;34m()\u001b[0m\n",
      "File \u001b[0;32mpandas/_libs/hashtable_class_helper.pxi:7080\u001b[0m, in \u001b[0;36mpandas._libs.hashtable.PyObjectHashTable.get_item\u001b[0;34m()\u001b[0m\n",
      "File \u001b[0;32mpandas/_libs/hashtable_class_helper.pxi:7088\u001b[0m, in \u001b[0;36mpandas._libs.hashtable.PyObjectHashTable.get_item\u001b[0;34m()\u001b[0m\n",
      "\u001b[0;31mKeyError\u001b[0m: 0",
      "\nThe above exception was the direct cause of the following exception:\n",
      "\u001b[0;31mKeyError\u001b[0m                                  Traceback (most recent call last)",
      "Cell \u001b[0;32mIn[30], line 7\u001b[0m\n\u001b[1;32m      4\u001b[0m         result\u001b[38;5;241m.\u001b[39mappend(alpha \u001b[38;5;241m*\u001b[39m series[n] \u001b[38;5;241m+\u001b[39m (\u001b[38;5;241m1\u001b[39m \u001b[38;5;241m-\u001b[39m alpha) \u001b[38;5;241m*\u001b[39m result[n\u001b[38;5;241m-\u001b[39m\u001b[38;5;241m1\u001b[39m])\n\u001b[1;32m      5\u001b[0m     \u001b[38;5;28;01mreturn\u001b[39;00m pd\u001b[38;5;241m.\u001b[39mSeries(result, index\u001b[38;5;241m=\u001b[39mseries\u001b[38;5;241m.\u001b[39mindex)\n\u001b[0;32m----> 7\u001b[0m X_train_spline_resampled_EMA \u001b[38;5;241m=\u001b[39m exponential_smoothing(X_train_spline_resampled,\u001b[38;5;241m0.25\u001b[39m)\n\u001b[1;32m      8\u001b[0m plt\u001b[38;5;241m.\u001b[39mplot(X_train_spline_resampled_EMA\u001b[38;5;241m.\u001b[39miloc[\u001b[38;5;241m36\u001b[39m,:])\n\u001b[1;32m      9\u001b[0m plt\u001b[38;5;241m.\u001b[39mshow()\n",
      "Cell \u001b[0;32mIn[30], line 2\u001b[0m, in \u001b[0;36mexponential_smoothing\u001b[0;34m(series, alpha)\u001b[0m\n\u001b[1;32m      1\u001b[0m \u001b[38;5;28;01mdef\u001b[39;00m \u001b[38;5;21mexponential_smoothing\u001b[39m(series, alpha):\n\u001b[0;32m----> 2\u001b[0m     result \u001b[38;5;241m=\u001b[39m [series[\u001b[38;5;241m0\u001b[39m]] \u001b[38;5;66;03m# first value is same as series\u001b[39;00m\n\u001b[1;32m      3\u001b[0m     \u001b[38;5;28;01mfor\u001b[39;00m n \u001b[38;5;129;01min\u001b[39;00m \u001b[38;5;28mrange\u001b[39m(\u001b[38;5;241m1\u001b[39m, \u001b[38;5;28mlen\u001b[39m(series)):\n\u001b[1;32m      4\u001b[0m         result\u001b[38;5;241m.\u001b[39mappend(alpha \u001b[38;5;241m*\u001b[39m series[n] \u001b[38;5;241m+\u001b[39m (\u001b[38;5;241m1\u001b[39m \u001b[38;5;241m-\u001b[39m alpha) \u001b[38;5;241m*\u001b[39m result[n\u001b[38;5;241m-\u001b[39m\u001b[38;5;241m1\u001b[39m])\n",
      "File \u001b[0;32m~/anaconda3/lib/python3.11/site-packages/pandas/core/frame.py:3893\u001b[0m, in \u001b[0;36mDataFrame.__getitem__\u001b[0;34m(self, key)\u001b[0m\n\u001b[1;32m   3891\u001b[0m \u001b[38;5;28;01mif\u001b[39;00m \u001b[38;5;28mself\u001b[39m\u001b[38;5;241m.\u001b[39mcolumns\u001b[38;5;241m.\u001b[39mnlevels \u001b[38;5;241m>\u001b[39m \u001b[38;5;241m1\u001b[39m:\n\u001b[1;32m   3892\u001b[0m     \u001b[38;5;28;01mreturn\u001b[39;00m \u001b[38;5;28mself\u001b[39m\u001b[38;5;241m.\u001b[39m_getitem_multilevel(key)\n\u001b[0;32m-> 3893\u001b[0m indexer \u001b[38;5;241m=\u001b[39m \u001b[38;5;28mself\u001b[39m\u001b[38;5;241m.\u001b[39mcolumns\u001b[38;5;241m.\u001b[39mget_loc(key)\n\u001b[1;32m   3894\u001b[0m \u001b[38;5;28;01mif\u001b[39;00m is_integer(indexer):\n\u001b[1;32m   3895\u001b[0m     indexer \u001b[38;5;241m=\u001b[39m [indexer]\n",
      "File \u001b[0;32m~/anaconda3/lib/python3.11/site-packages/pandas/core/indexes/base.py:3798\u001b[0m, in \u001b[0;36mIndex.get_loc\u001b[0;34m(self, key)\u001b[0m\n\u001b[1;32m   3793\u001b[0m     \u001b[38;5;28;01mif\u001b[39;00m \u001b[38;5;28misinstance\u001b[39m(casted_key, \u001b[38;5;28mslice\u001b[39m) \u001b[38;5;129;01mor\u001b[39;00m (\n\u001b[1;32m   3794\u001b[0m         \u001b[38;5;28misinstance\u001b[39m(casted_key, abc\u001b[38;5;241m.\u001b[39mIterable)\n\u001b[1;32m   3795\u001b[0m         \u001b[38;5;129;01mand\u001b[39;00m \u001b[38;5;28many\u001b[39m(\u001b[38;5;28misinstance\u001b[39m(x, \u001b[38;5;28mslice\u001b[39m) \u001b[38;5;28;01mfor\u001b[39;00m x \u001b[38;5;129;01min\u001b[39;00m casted_key)\n\u001b[1;32m   3796\u001b[0m     ):\n\u001b[1;32m   3797\u001b[0m         \u001b[38;5;28;01mraise\u001b[39;00m InvalidIndexError(key)\n\u001b[0;32m-> 3798\u001b[0m     \u001b[38;5;28;01mraise\u001b[39;00m \u001b[38;5;167;01mKeyError\u001b[39;00m(key) \u001b[38;5;28;01mfrom\u001b[39;00m \u001b[38;5;21;01merr\u001b[39;00m\n\u001b[1;32m   3799\u001b[0m \u001b[38;5;28;01mexcept\u001b[39;00m \u001b[38;5;167;01mTypeError\u001b[39;00m:\n\u001b[1;32m   3800\u001b[0m     \u001b[38;5;66;03m# If we have a listlike key, _check_indexing_error will raise\u001b[39;00m\n\u001b[1;32m   3801\u001b[0m     \u001b[38;5;66;03m#  InvalidIndexError. Otherwise we fall through and re-raise\u001b[39;00m\n\u001b[1;32m   3802\u001b[0m     \u001b[38;5;66;03m#  the TypeError.\u001b[39;00m\n\u001b[1;32m   3803\u001b[0m     \u001b[38;5;28mself\u001b[39m\u001b[38;5;241m.\u001b[39m_check_indexing_error(key)\n",
      "\u001b[0;31mKeyError\u001b[0m: 0"
     ]
    }
   ],
   "source": [
    "def exponential_smoothing(series, alpha):\n",
    "    result = [series[0]] # first value is same as series\n",
    "    for n in range(1, len(series)):\n",
    "        result.append(alpha * series[n] + (1 - alpha) * result[n-1])\n",
    "    return pd.Series(result, index=series.index)\n",
    "\n",
    "X_train_spline_resampled_EMA = exponential_smoothing(X_train_spline_resampled,0.25)\n",
    "plt.plot(X_train_spline_resampled_EMA.iloc[36,:])\n",
    "plt.show()"
   ]
  },
  {
   "cell_type": "markdown",
   "metadata": {
    "id": "rCcpMEZW_RWq"
   },
   "source": [
    "# 3. Models"
   ]
  },
  {
   "cell_type": "code",
   "execution_count": 32,
   "metadata": {
    "id": "7Sy36rc_hXLD"
   },
   "outputs": [],
   "source": [
    "results=pd.DataFrame(columns=['model','train loss', 'test loss', 'train accuracy', 'test accuracy'])"
   ]
  },
  {
   "cell_type": "code",
   "execution_count": 35,
   "metadata": {},
   "outputs": [
    {
     "data": {
      "text/html": [
       "<div>\n",
       "<style scoped>\n",
       "    .dataframe tbody tr th:only-of-type {\n",
       "        vertical-align: middle;\n",
       "    }\n",
       "\n",
       "    .dataframe tbody tr th {\n",
       "        vertical-align: top;\n",
       "    }\n",
       "\n",
       "    .dataframe thead th {\n",
       "        text-align: right;\n",
       "    }\n",
       "</style>\n",
       "<table border=\"1\" class=\"dataframe\">\n",
       "  <thead>\n",
       "    <tr style=\"text-align: right;\">\n",
       "      <th></th>\n",
       "      <th>model</th>\n",
       "      <th>train loss</th>\n",
       "      <th>test loss</th>\n",
       "      <th>train accuracy</th>\n",
       "      <th>test accuracy</th>\n",
       "    </tr>\n",
       "  </thead>\n",
       "  <tbody>\n",
       "  </tbody>\n",
       "</table>\n",
       "</div>"
      ],
      "text/plain": [
       "Empty DataFrame\n",
       "Columns: [model, train loss, test loss, train accuracy, test accuracy]\n",
       "Index: []"
      ]
     },
     "execution_count": 35,
     "metadata": {},
     "output_type": "execute_result"
    }
   ],
   "source": [
    "results.head()"
   ]
  },
  {
   "cell_type": "code",
   "execution_count": 31,
   "metadata": {
    "colab": {
     "base_uri": "https://localhost:8080/",
     "height": 54
    },
    "id": "BSVW-069wHPk",
    "outputId": "36425bbc-49f5-4466-ed69-f28a039d2f18"
   },
   "outputs": [
    {
     "data": {
      "text/plain": [
       "\"X_test_spline = X_test.interpolate(method='spline', order=3)\\nX_test_spline=X_test_spline.iloc[2:,:]\\ny_test_spline=y_test[2:]\\nsum(X_test_spline.isna().sum())\\nX_train=X_train_spline_resampled.values\\nX_test=X_test_spline.values\\ny_train=y_train_spline_resampled\\ny_test=y_test_spline\""
      ]
     },
     "execution_count": 31,
     "metadata": {},
     "output_type": "execute_result"
    }
   ],
   "source": [
    "\"\"\"X_test_spline = X_test.interpolate(method='spline', order=3)\n",
    "X_test_spline=X_test_spline.iloc[2:,:]\n",
    "y_test_spline=y_test[2:]\n",
    "sum(X_test_spline.isna().sum())\n",
    "X_train=X_train_spline_resampled.values\n",
    "X_test=X_test_spline.values\n",
    "y_train=y_train_spline_resampled\n",
    "y_test=y_test_spline\"\"\""
   ]
  },
  {
   "cell_type": "code",
   "execution_count": 33,
   "metadata": {
    "id": "yqisLX4nw8ak"
   },
   "outputs": [],
   "source": [
    "X_train, X_test, y_train, y_test = train_test_split(X_train_spline_resampled, y_train_spline_resampled, test_size=0.3, random_state=42)\n",
    "#normalize\n",
    "mean = X_train.mean(axis=0)\n",
    "std = X_train.std(axis=0)\n",
    "X_train = (X_train - mean) / std\n",
    "X_test = (X_test - mean) / std"
   ]
  },
  {
   "cell_type": "markdown",
   "metadata": {
    "id": "2W2SvBkM2xL4"
   },
   "source": [
    "## 3.1 SVC"
   ]
  },
  {
   "cell_type": "code",
   "execution_count": 34,
   "metadata": {
    "colab": {
     "base_uri": "https://localhost:8080/",
     "height": 244
    },
    "id": "rxE6WfNA2wi3",
    "outputId": "4b985660-466f-4711-fad7-3e1b415b31d0"
   },
   "outputs": [
    {
     "name": "stdout",
     "output_type": "stream",
     "text": [
      "Fitting 5 folds for each of 1 candidates, totalling 5 fits\n",
      "[CV] END .................................C=0.1, kernel=poly; total time=14.8min\n",
      "[CV] END .................................C=0.1, kernel=poly; total time=14.8min\n",
      "[CV] END .................................C=0.1, kernel=poly; total time=14.8min\n",
      "[CV] END .................................C=0.1, kernel=poly; total time=15.0min\n",
      "[CV] END .................................C=0.1, kernel=poly; total time=15.0min\n",
      "Best hyperparameters: {'C': 0.1, 'kernel': 'poly'}\n",
      "R2 score: 0.4628001594243355\n",
      "Accuracy: 0.8066789964057647\n"
     ]
    }
   ],
   "source": [
    "#X_train, X_test, y_train, y_test = train_test_split(X_train_spline_resampled, y_train_spline_resampled, test_size=0.3, random_state=42)\n",
    "\n",
    "# Set up the hyperparameters to test via cross-validation\n",
    "# param_grid = {'C': [0.1,10,100], 'kernel': ['poly', 'rbf', 'sigmoid']}\n",
    "param_grid = {'C': [0.1], 'kernel': ['poly']}\n",
    "\n",
    "# Set up the GridSearchCV object\n",
    "svm_grid = GridSearchCV(SVC(decision_function_shape='ovr'), param_grid, cv=5, verbose = 2, n_jobs=-1)\n",
    "\n",
    "# Fit the GridSearchCV object to the training data\n",
    "svm_grid.fit(X_train, y_train)\n",
    "\n",
    "# Print the best hyperparameters found\n",
    "print(f\"Best hyperparameters: {svm_grid.best_params_}\")\n",
    "\n",
    "# Evaluate the performance of the SVM classifier on the test data\n",
    "y_pred = svm_grid.predict(X_test)\n",
    "r2 = r2_score(y_test, y_pred)\n",
    "accuracy = svm_grid.best_estimator_.score(X_test, y_test)\n",
    "\n",
    "print(f\"R2 score: {r2}\")\n",
    "print(f\"Accuracy: {accuracy}\")"
   ]
  },
  {
   "cell_type": "code",
   "execution_count": 38,
   "metadata": {},
   "outputs": [
    {
     "name": "stdout",
     "output_type": "stream",
     "text": [
      "F1 score: 0.8121741717127705\n"
     ]
    }
   ],
   "source": [
    "from sklearn.metrics import f1_score\n",
    "import joblib\n",
    "\n",
    "f1 = f1_score(y_test, y_pred, average='weighted')  # Compute F1 score\n",
    "print(f\"F1 score: {f1}\")\n"
   ]
  },
  {
   "cell_type": "code",
   "execution_count": 39,
   "metadata": {},
   "outputs": [
    {
     "name": "stdout",
     "output_type": "stream",
     "text": [
      "Model saved to svm_model.pkl\n"
     ]
    }
   ],
   "source": [
    "# Save the trained model to a file\n",
    "model_filename = \"svm_model.pkl\"\n",
    "joblib.dump(svm_grid.best_estimator_, model_filename)\n",
    "print(f\"Model saved to {model_filename}\")"
   ]
  },
  {
   "cell_type": "markdown",
   "metadata": {
    "id": "3NAsQ1F25_Ho"
   },
   "source": [
    "## 3.2 Recurrent Neural Network"
   ]
  },
  {
   "cell_type": "code",
   "execution_count": null,
   "metadata": {},
   "outputs": [],
   "source": [
    "%run kaggleFunctions.ipynb"
   ]
  },
  {
   "cell_type": "code",
   "execution_count": null,
   "metadata": {},
   "outputs": [],
   "source": [
    "imputers=['interpolation','KNN','RF','XGB']\n",
    "#for i in imputers:\n",
    "    "
   ]
  },
  {
   "cell_type": "code",
   "execution_count": null,
   "metadata": {
    "id": "Mr7nzjU2nHTf"
   },
   "outputs": [
    {
     "ename": "TypeError",
     "evalue": "finalPreprocessing() missing 1 required positional argument: 'order'",
     "output_type": "error",
     "traceback": [
      "\u001b[1;31m---------------------------------------------------------------------------\u001b[0m",
      "\u001b[1;31mTypeError\u001b[0m                                 Traceback (most recent call last)",
      "\u001b[1;32m~\\AppData\\Local\\Temp/ipykernel_29656/17805333.py\u001b[0m in \u001b[0;36m<module>\u001b[1;34m\u001b[0m\n\u001b[1;32m----> 1\u001b[1;33m \u001b[0mX_train_reshaped\u001b[0m\u001b[1;33m,\u001b[0m\u001b[0my_train\u001b[0m\u001b[1;33m,\u001b[0m\u001b[0mX_test_reshaped\u001b[0m\u001b[1;33m=\u001b[0m\u001b[0mfinalPreprocessing\u001b[0m\u001b[1;33m(\u001b[0m\u001b[0mdf\u001b[0m\u001b[1;33m,\u001b[0m\u001b[1;36m3\u001b[0m\u001b[1;33m)\u001b[0m\u001b[1;33m\u001b[0m\u001b[1;33m\u001b[0m\u001b[0m\n\u001b[0m",
      "\u001b[1;31mTypeError\u001b[0m: finalPreprocessing() missing 1 required positional argument: 'order'"
     ]
    }
   ],
   "source": [
    "X_train_reshaped,y_train,X_test_reshaped=finalPreprocessing(df,3)"
   ]
  },
  {
   "cell_type": "code",
   "execution_count": null,
   "metadata": {
    "colab": {
     "base_uri": "https://localhost:8080/"
    },
    "id": "l8cfCa1s6FsQ",
    "outputId": "1c6645fe-d25a-4a6c-e27f-9624b4c1f80c",
    "scrolled": true
   },
   "outputs": [],
   "source": [
    "#the model\n",
    "model = keras.Sequential()\n",
    "model.add(layers.LSTM(124, return_sequences=True, input_shape=(X_train.shape[1], X_train.shape[2])))\n",
    "model.add(layers.Dropout(0.1))\n",
    "model.add(layers.LSTM(64, return_sequences=True))\n",
    "model.add(layers.Dropout(0.1))\n",
    "model.add(layers.LSTM(32, return_sequences=True))\n",
    "model.add(layers.Dropout(0.1))\n",
    "model.add(layers.LSTM(32))\n",
    "model.add(layers.Dropout(0.1))\n",
    "model.add(layers.Dense(64, activation='relu'))\n",
    "model.add(layers.Dropout(0.1))\n",
    "model.add(layers.Dense(32, activation='relu'))\n",
    "model.add(layers.Dropout(0.1))\n",
    "model.add(layers.Dense(5, activation='softmax'))\n",
    "\n",
    "\n",
    "model.compile(loss='sparse_categorical_crossentropy', optimizer='adam', metrics=[f1_score])\n",
    "class_weights5 = {0: 0.4, 1: 20, 2:10, 3:30, 4:10}\n",
    "history = model.fit(X_train, y_train, epochs=6, batch_size=4096, validation_split=0.1,class_weight=class_weights5)\n",
    "test_loss, test_acc = model.evaluate(X_test, y_test)\n",
    "print('Test accuracy:', test_acc)\n"
   ]
  },
  {
   "cell_type": "code",
   "execution_count": null,
   "metadata": {
    "scrolled": true
   },
   "outputs": [
    {
     "name": "stdout",
     "output_type": "stream",
     "text": [
      "Epoch 1/4\n",
      "40/40 [==============================] - 30s 653ms/step - loss: 1.6973 - f1_score: 0.2147 - val_loss: 0.0503 - val_f1_score: 0.3809\n",
      "Epoch 2/4\n",
      "40/40 [==============================] - 26s 637ms/step - loss: 0.1678 - f1_score: 0.3612 - val_loss: 0.0090 - val_f1_score: 0.3810\n",
      "Epoch 3/4\n",
      "40/40 [==============================] - 26s 642ms/step - loss: 0.0212 - f1_score: 0.3595 - val_loss: 0.0026 - val_f1_score: 0.3810\n",
      "Epoch 4/4\n",
      "40/40 [==============================] - 26s 651ms/step - loss: 0.0108 - f1_score: 0.3592 - val_loss: 0.0012 - val_f1_score: 0.3810\n",
      "821/821 [==============================] - 5s 6ms/step - loss: 1.7241 - f1_score: 0.2668\n",
      "Test accuracy: 0.26681482791900635\n",
      "Epoch 1/4\n",
      "40/40 [==============================] - 26s 645ms/step - loss: 0.0198 - f1_score: 0.3597 - val_loss: 8.7187e-04 - val_f1_score: 0.3810\n",
      "Epoch 2/4\n",
      "40/40 [==============================] - 26s 649ms/step - loss: 0.0142 - f1_score: 0.3595 - val_loss: 7.2371e-04 - val_f1_score: 0.3810\n",
      "Epoch 3/4\n",
      "40/40 [==============================] - 27s 683ms/step - loss: 0.0111 - f1_score: 0.3596 - val_loss: 0.0012 - val_f1_score: 0.3810\n",
      "Epoch 4/4\n",
      "40/40 [==============================] - 29s 719ms/step - loss: 0.0082 - f1_score: 0.3596 - val_loss: 5.3419e-04 - val_f1_score: 0.3810\n",
      "821/821 [==============================] - 5s 6ms/step - loss: 1.7737 - f1_score: 0.2650\n",
      "Test accuracy: 0.2649534344673157\n",
      "Epoch 1/4\n",
      "40/40 [==============================] - 27s 677ms/step - loss: 0.0171 - f1_score: 0.3596 - val_loss: 0.0020 - val_f1_score: 0.3809\n",
      "Epoch 2/4\n",
      "40/40 [==============================] - 26s 645ms/step - loss: 0.0105 - f1_score: 0.3596 - val_loss: 4.7945e-04 - val_f1_score: 0.3810\n",
      "Epoch 3/4\n",
      "40/40 [==============================] - 25s 632ms/step - loss: 0.0045 - f1_score: 0.3596 - val_loss: 5.7012e-04 - val_f1_score: 0.3810\n",
      "Epoch 4/4\n",
      "40/40 [==============================] - 26s 640ms/step - loss: 0.0020 - f1_score: 0.3594 - val_loss: 8.2062e-04 - val_f1_score: 0.3810\n",
      "821/821 [==============================] - 5s 6ms/step - loss: 2.2334 - f1_score: 0.2667\n",
      "Test accuracy: 0.2667135000228882\n",
      "Epoch 1/4\n",
      "40/40 [==============================] - 26s 658ms/step - loss: 0.0025 - f1_score: 0.3593 - val_loss: 9.8469e-04 - val_f1_score: 0.3810\n",
      "Epoch 2/4\n",
      "40/40 [==============================] - 27s 681ms/step - loss: 0.0043 - f1_score: 0.3592 - val_loss: 7.2291e-04 - val_f1_score: 0.3810\n",
      "Epoch 3/4\n",
      "40/40 [==============================] - 27s 682ms/step - loss: 0.0557 - f1_score: 0.3595 - val_loss: 5.9873e-04 - val_f1_score: 0.3810\n",
      "Epoch 4/4\n",
      "40/40 [==============================] - 27s 671ms/step - loss: 0.0116 - f1_score: 0.3596 - val_loss: 6.0149e-04 - val_f1_score: 0.3810\n",
      "821/821 [==============================] - 5s 6ms/step - loss: 1.9074 - f1_score: 0.2647\n",
      "Test accuracy: 0.26469239592552185\n",
      "Epoch 1/4\n",
      "40/40 [==============================] - 34s 698ms/step - loss: 0.0040 - f1_score: 0.3596 - val_loss: 6.4182e-04 - val_f1_score: 0.3810\n",
      "Epoch 2/4\n",
      "40/40 [==============================] - 27s 680ms/step - loss: 0.0018 - f1_score: 0.3596 - val_loss: 6.7660e-04 - val_f1_score: 0.3810\n",
      "Epoch 3/4\n",
      "40/40 [==============================] - 27s 682ms/step - loss: 9.1414e-04 - f1_score: 0.3596 - val_loss: 7.2999e-04 - val_f1_score: 0.3810\n",
      "Epoch 4/4\n",
      "40/40 [==============================] - 27s 683ms/step - loss: 5.6076e-04 - f1_score: 0.3595 - val_loss: 7.4905e-04 - val_f1_score: 0.3810\n",
      "821/821 [==============================] - 6s 7ms/step - loss: 2.1556 - f1_score: 0.2659\n",
      "Test accuracy: 0.26585501432418823\n"
     ]
    }
   ],
   "source": [
    "#the model\n",
    "model = keras.Sequential()\n",
    "model.add(layers.LSTM(124, return_sequences=True, input_shape=(X_train.shape[1], X_train.shape[2])))\n",
    "model.add(layers.Dropout(0.1))\n",
    "model.add(layers.LSTM(64, return_sequences=True))\n",
    "model.add(layers.Dropout(0.1))\n",
    "model.add(layers.LSTM(32, return_sequences=True))\n",
    "model.add(layers.Dropout(0.1))\n",
    "model.add(layers.LSTM(32))\n",
    "model.add(layers.Dropout(0.1))\n",
    "model.add(layers.Dense(64, activation='relu'))\n",
    "model.add(layers.Dropout(0.1))\n",
    "model.add(layers.Dense(32, activation='relu'))\n",
    "model.add(layers.Dropout(0.1))\n",
    "model.add(layers.Dense(5, activation='softmax'))\n",
    "\n",
    "\n",
    "model.compile(loss='sparse_categorical_crossentropy', optimizer='adam', metrics=[f1_score])\n",
    "\n",
    "class_weights1 = {0: 1, 1: 2, 2:2, 3:3, 4:2}\n",
    "class_weights2 = {0: 1, 1: 7, 2:5, 3:10, 4:5}\n",
    "class_weights3 = {0: 1, 1: 15, 2:12, 3:20, 4:12}\n",
    "class_weights4 = {0: 1, 1: 30, 2:16, 3:70, 4:15}\n",
    "class_weights5 = {0: 0.4, 1: 20, 2:10, 3:30, 4:10}\n",
    "class_weights=[class_weights1,class_weights2,class_weights3,class_weights4,class_weights5]\n",
    "f1=[]\n",
    "\n",
    "for i in class_weights:\n",
    "    history = model.fit(X_train, y_train, epochs=4, batch_size=4096, validation_split=0.1,class_weight=i)\n",
    "    test_loss, test_f1 = model.evaluate(X_test, y_test)\n",
    "    f1.append(test_f1)\n",
    "    print('Test accuracy:', test_f1)\n"
   ]
  },
  {
   "cell_type": "code",
   "execution_count": null,
   "metadata": {
    "colab": {
     "base_uri": "https://localhost:8080/",
     "height": 558
    },
    "id": "u4WsEwzkourl",
    "outputId": "622573de-3bea-47b1-8b49-b01fda6154bf"
   },
   "outputs": [
    {
     "name": "stdout",
     "output_type": "stream",
     "text": [
      "0    23866\n",
      "2     1693\n",
      "4      356\n",
      "1      344\n",
      "3        6\n",
      "dtype: int64\n"
     ]
    },
    {
     "data": {
      "image/png": "[encoded data removed]",
      "text/plain": [
       "<Figure size 432x288 with 1 Axes>"
      ]
     },
     "metadata": {
      "needs_background": "light"
     },
     "output_type": "display_data"
    }
   ],
   "source": [
    "prediction = model.predict(X_test)\n",
    "myprediction=[np.argmax(pred) for pred in prediction ]\n",
    "counts=pd.Series(myprediction).value_counts()\n",
    "unique_labels=[sorted(np.unique(myprediction))]\n",
    "plt.bar(unique_labels[0],counts)\n",
    "print(pd.Series(myprediction).value_counts())"
   ]
  },
  {
   "cell_type": "code",
   "execution_count": null,
   "metadata": {
    "id": "r6gdTQ9qxP5e"
   },
   "outputs": [],
   "source": [
    "ruta_modelo = \"/content/drive/My Drive/redes_neuronales/modelo.h5\"\n",
    "model.save(ruta_modelo)\n"
   ]
  },
  {
   "cell_type": "code",
   "execution_count": null,
   "metadata": {
    "id": "xQ4RTqPJedzy"
   },
   "outputs": [],
   "source": [
    "train_loss = history.history['loss']\n",
    "val_loss = history.history['val_loss']\n",
    "plt.plot(train_loss,label='training loss')\n",
    "plt.plot(val_loss,label='validation loss')\n",
    "plt.xlabel('iterations')\n",
    "plt.ylabel('loss')\n",
    "plt.legend()\n",
    "plt.show()"
   ]
  },
  {
   "cell_type": "code",
   "execution_count": null,
   "metadata": {
    "id": "9zcVjNP2e0xN"
   },
   "outputs": [],
   "source": [
    "train_acc = history.history['accuracy']\n",
    "val_acc = history.history['val_accuracy']\n",
    "plt.plot(train_acc,label='training accuracy')\n",
    "plt.plot(val_acc,label='validation accuracy')\n",
    "plt.xlabel('iterations')\n",
    "plt.ylabel('acc')\n",
    "plt.legend()\n",
    "plt.show()"
   ]
  },
  {
   "cell_type": "code",
   "execution_count": null,
   "metadata": {
    "colab": {
     "base_uri": "https://localhost:8080/",
     "height": 81
    },
    "id": "epT7F6dPhs0u",
    "outputId": "5756be7b-4bfd-40f4-f558-71124d2a392c"
   },
   "outputs": [],
   "source": [
    "new_row=pd.DataFrame({'model': 'RNN spline data','train loss':[train_loss[-1]], 'test loss':test_loss, 'train accuracy':[train_acc[-1]], 'test accuracy':test_acc})\n",
    "new_row"
   ]
  },
  {
   "cell_type": "markdown",
   "metadata": {
    "id": "LAy8CwMXDXgG"
   },
   "source": [
    "He probado linear y spline interpolation y las dos daban practicamente igual(las dos normalizados), asi que me quedo con spline que daba un poco mas pero para otros modelos puede que si camnbie mas de spline a linear.\n",
    "\n",
    "Tb he porbado spline sin normalizar y solo daba un 90% asi que paso "
   ]
  },
  {
   "cell_type": "markdown",
   "metadata": {
    "id": "Gqp5ISJH6GMn"
   },
   "source": [
    "## 3.3 Transformer"
   ]
  },
  {
   "cell_type": "code",
   "execution_count": null,
   "metadata": {
    "id": "CzpSZMWV3IDf"
   },
   "outputs": [],
   "source": [
    "import tensorflow as tf\n",
    "from tensorflow import keras\n",
    "from tensorflow.keras import layers\n",
    "\n",
    "# Crear un modelo Transformer\n",
    "def transformer_model(input_shape, num_heads, ff_dim, dropout_rate):\n",
    "    \n",
    "    # Crear capa de entrada\n",
    "    inputs = layers.Input(shape=input_shape)\n",
    "    \n",
    "    # Aplanar la entrada\n",
    "    x = layers.Flatten()(inputs)\n",
    "    \n",
    "    # Agregar capas Transformer\n",
    "    for i in range(num_heads):\n",
    "        # Capa de atención multi-cabeza\n",
    "        attention = layers.MultiHeadAttention(num_heads=num_heads, key_dim=64)(x, x)\n",
    "        # Agregar normalización por capas y dropout\n",
    "        attention = layers.LayerNormalization(epsilon=1e-6)(attention + x)\n",
    "        attention = layers.Dropout(dropout_rate)(attention)\n",
    "        \n",
    "        # Capa feedforward\n",
    "        ffn = keras.Sequential(\n",
    "            [\n",
    "                layers.Dense(ff_dim, activation=\"relu\"),\n",
    "                layers.Dense(input_shape[1])\n",
    "            ]\n",
    "        )\n",
    "        # Agregar normalización por capas y dropout\n",
    "        ffn_output = ffn(attention)\n",
    "        ffn_output = layers.LayerNormalization(epsilon=1e-6)(ffn_output + attention)\n",
    "        ffn_output = layers.Dropout(dropout_rate)(ffn_output)\n",
    "        \n",
    "        x = ffn_output\n",
    "    \n",
    "    # Agregar capa de salida con una neurona y activación 'softmax'\n",
    "    output = layers.Dense(1, activation='softmax')(x)\n",
    "    \n",
    "    # Crear modelo\n",
    "    model = keras.Model(inputs=inputs, outputs=output, name=\"transformer\")\n",
    "    return model\n",
    "\n",
    "# Definir hiperparámetros\n",
    "input_shape = (187, 1)\n",
    "num_heads = 4\n",
    "ff_dim = 64\n",
    "dropout_rate = 0.2\n",
    "\n",
    "# Crear modelo\n",
    "model = transformer_model(input_shape, num_heads, ff_dim, dropout_rate)\n",
    "\n",
    "# Compilar modelo\n",
    "model.compile(loss=\"sparse_categorical_crossentropy\", optimizer=\"adam\", metrics=[\"accuracy\"])\n",
    "\n",
    "# Entrenar modelo\n",
    "# asumiendo que tienes los datos en una matriz llamada `X_train` y las etiquetas en un array llamado `y_train`\n",
    "model.fit(X_train, y_train, epochs=10, batch_size=32)\n"
   ]
  },
  {
   "cell_type": "code",
   "execution_count": null,
   "metadata": {},
   "outputs": [],
   "source": [
    "X_train_reshaped, X_test_reshaped, y_train, y_test=testingPreprocessing(df,3)"
   ]
  },
  {
   "cell_type": "code",
   "execution_count": null,
   "metadata": {
    "colab": {
     "base_uri": "https://localhost:8080/"
    },
    "id": "nHgWztEwFKA1",
    "outputId": "69229fc8-0d0f-4167-a9fa-944bdfe518f1"
   },
   "outputs": [
    {
     "name": "stdout",
     "output_type": "stream",
     "text": [
      "Epoch 1/9\n",
      "70/70 [==============================] - 227s 3s/step - loss: 0.7014 - f1_score: 0.2943 - val_loss: 0.3534 - val_f1_score: 0.3545\n",
      "Epoch 2/9\n",
      "70/70 [==============================] - 214s 3s/step - loss: 0.2873 - f1_score: 0.3560 - val_loss: 0.2063 - val_f1_score: 0.3607\n",
      "Epoch 3/9\n",
      "70/70 [==============================] - 217s 3s/step - loss: 0.1804 - f1_score: 0.3605 - val_loss: 0.1403 - val_f1_score: 0.3615\n",
      "Epoch 4/9\n",
      "70/70 [==============================] - 217s 3s/step - loss: 0.1284 - f1_score: 0.3618 - val_loss: 0.1102 - val_f1_score: 0.3620\n",
      "Epoch 5/9\n",
      "70/70 [==============================] - 2065s 30s/step - loss: 0.0945 - f1_score: 0.3625 - val_loss: 0.1011 - val_f1_score: 0.3624\n",
      "Epoch 6/9\n",
      "70/70 [==============================] - 227s 3s/step - loss: 0.0754 - f1_score: 0.3628 - val_loss: 0.0767 - val_f1_score: 0.3630\n",
      "Epoch 7/9\n",
      "70/70 [==============================] - 223s 3s/step - loss: 0.0607 - f1_score: 0.3631 - val_loss: 0.0664 - val_f1_score: 0.3631\n",
      "Epoch 8/9\n",
      "70/70 [==============================] - 226s 3s/step - loss: 0.0591 - f1_score: 0.3632 - val_loss: 0.0672 - val_f1_score: 0.3631\n",
      "Epoch 9/9\n",
      "70/70 [==============================] - 151s 2s/step - loss: 0.0475 - f1_score: 0.3632 - val_loss: 0.0622 - val_f1_score: 0.3633\n"
     ]
    }
   ],
   "source": [
    "#1h\n",
    "input_shape = X_train_reshaped.shape[1:]\n",
    "output_shape = len(np.unique(y_train))\n",
    "hidden_size = 64\n",
    "num_layers = 4\n",
    "dropout_rate = 0.1\n",
    "num_heads = 4\n",
    "\n",
    "# Capas de atención multi-cabeza y normalización de capas\n",
    "attention_layers = [MultiHeadAttention(num_heads=num_heads, key_dim=hidden_size) for _ in range(num_layers)]\n",
    "attention_norm_layers = [LayerNormalization() for _ in range(num_layers)]\n",
    "\n",
    "# Capas feedforward y normalización de capas\n",
    "ffn_layers = [TimeDistributed(Dense(hidden_size * 4, activation='relu')) for _ in range(num_layers)]\n",
    "ffn_layers += [TimeDistributed(Dense(input_shape[1])) for _ in range(num_layers)]\n",
    "ffn_norm_layers = [LayerNormalization() for _ in range(num_layers)]\n",
    "\n",
    "# Capa de entrada\n",
    "inputs = Input(shape=input_shape)\n",
    "# Capas de la red\n",
    "x = inputs\n",
    "for i in range(num_layers):\n",
    "    # Capas de atención multi-cabeza\n",
    "    attention = attention_layers[i](x, x)\n",
    "    x = attention_norm_layers[i](x + Dropout(dropout_rate)(attention))\n",
    "\n",
    "    # Capas feedforward\n",
    "    ffn = ffn_layers[i](x)\n",
    "    ffn = ffn_layers[i + num_layers](ffn)  #i + num_layers xq ffn_layers tiene dos grupos, 2 grupos de 4(num_layers)\n",
    "    x = ffn_norm_layers[i](x + Dropout(dropout_rate)(ffn))\n",
    "\n",
    "# Capa de salida\n",
    "x = Bidirectional(LSTM(hidden_size, return_sequences=False))(x)\n",
    "outputs = Dense(output_shape, activation='softmax')(x)\n",
    "\n",
    "# Modelo\n",
    "model = Model(inputs=inputs, outputs=outputs)\n",
    "# Compilación del modelo\n",
    "model.compile(optimizer='adam', loss='sparse_categorical_crossentropy', metrics=[f1_score])\n",
    "\n",
    "# Entrenamiento del modelo\n",
    "history = model.fit(X_train_reshaped, y_train, batch_size=2048, epochs=9, validation_split=0.2)"
   ]
  },
  {
   "cell_type": "code",
   "execution_count": null,
   "metadata": {
    "colab": {
     "base_uri": "https://localhost:8080/"
    },
    "id": "M4f6KIv4sA4k",
    "outputId": "9400043d-c3a1-42d4-c620-7366e23a3110",
    "scrolled": true
   },
   "outputs": [
    {
     "name": "stdout",
     "output_type": "stream",
     "text": [
      "1020/1020 - 33s - loss: 0.1400 - f1_score: 0.3620 - 33s/epoch - 33ms/step\n",
      "Test accuracy: 0.36196982860565186\n"
     ]
    }
   ],
   "source": [
    "# Evaluación del modelo\n",
    "test_loss, test_acc = model.evaluate(X_test_reshaped, y_test, verbose=2)\n",
    "print('Test accuracy:', test_acc)"
   ]
  },
  {
   "cell_type": "code",
   "execution_count": null,
   "metadata": {},
   "outputs": [
    {
     "name": "stdout",
     "output_type": "stream",
     "text": [
      "1    15601\n",
      "3    15544\n",
      "4    15387\n",
      "2    15326\n",
      "0    14236\n",
      "dtype: int64\n"
     ]
    },
    {
     "data": {
      "image/png": "[encoded data removed]",
      "text/plain": [
       "<Figure size 432x288 with 1 Axes>"
      ]
     },
     "metadata": {
      "needs_background": "light"
     },
     "output_type": "display_data"
    }
   ],
   "source": [
    "prediction = model.predict(X_test_reshaped)\n",
    "myprediction=[np.argmax(pred) for pred in prediction ]\n",
    "counts=pd.Series(myprediction).value_counts()\n",
    "unique_labels=[sorted(np.unique(myprediction))]\n",
    "plt.bar(unique_labels[0],counts)\n",
    "print(pd.Series(myprediction).value_counts())"
   ]
  },
  {
   "cell_type": "markdown",
   "metadata": {
    "id": "PFisduUeLDO1"
   },
   "source": [
    "Creo 4 capas de atencion multicabeza(pueden poner la atencion en varios sitios) con las cabezas y neuronas especificadas. Luego unas capas normalizadoras que ayudan a estabilizar la red y al aprendizaje puede ser mas rapido y mejor.\n",
    "\n",
    "Luego creo otras 4 capas densas con muchas mas neuronas y van a ser TimeDistributed para que puedan procesar a la vez todos los pasos de tiempo. (creo que es portque tenemos que tener el dataset como(número de muestras, número de pasos de tiempo, número de características)). a demasd otras 4 iguales pero con menos neuronas y funcion linear. finalmente otras 4 normalizadoras.\n",
    "Ahora para cada una de estas 4: creo la atencion cogiendo la capa de atencion y le paso dos veces x (la secuencia de entrada y la secuencia objetivo, si fuera traduccion por ejemplo se pondria la frase en español y en ingles, pero aqui es igual), y ahora actualizo la x con a la capa normalizadora a la que se le pasa el input(x) mas parte de la atencion(el dropout esta tirando parte de la atencion que habiamos creado).\n",
    "\n",
    "Luego le paso x por los dos tipos de capas densas que habia creado(ffn_layers contiene los dos tipos asi que hay que coger la 1 y la 5, la 2 y la 6, 3 y 7...) y finalmente actualizo x otra vez pasandole a la capa normalizadora x mas parte (dropout) del output de la densa).\n",
    "\n",
    "Finalmente se usa una red LSTM para captar la dependenbcias a largo plazo. El bidireccional es para que analize tanto de atras alante como al reves, es util si en este caso el futuro influye en el asado.\n",
    "\n"
   ]
  },
  {
   "cell_type": "code",
   "execution_count": null,
   "metadata": {
    "colab": {
     "base_uri": "https://localhost:8080/",
     "height": 449
    },
    "id": "UZLqP0zGsYTE",
    "outputId": "2ce238fd-0e1a-4bcb-be93-9306960b4f8f"
   },
   "outputs": [],
   "source": [
    "train_loss = history.history['loss']\n",
    "val_loss = history.history['val_loss']\n",
    "plt.plot(train_loss,label='training loss')\n",
    "plt.plot(val_loss,label='validation loss')\n",
    "plt.xlabel('iterations')\n",
    "plt.ylabel('loss')\n",
    "plt.legend()\n",
    "plt.show()"
   ]
  },
  {
   "cell_type": "code",
   "execution_count": null,
   "metadata": {
    "colab": {
     "base_uri": "https://localhost:8080/",
     "height": 449
    },
    "id": "lOEAL0ALsbuU",
    "outputId": "971ee9fa-84aa-4a9e-d40b-cb3accede8ea"
   },
   "outputs": [],
   "source": [
    "train_acc = history.history['accuracy']\n",
    "val_acc = history.history['val_accuracy']\n",
    "plt.plot(train_acc,label='training accuracy')\n",
    "plt.plot(val_acc,label='validation accuracy')\n",
    "plt.xlabel('iterations')\n",
    "plt.ylabel('acc')\n",
    "plt.legend()\n",
    "plt.show()"
   ]
  },
  {
   "cell_type": "code",
   "execution_count": null,
   "metadata": {
    "colab": {
     "base_uri": "https://localhost:8080/",
     "height": 190
    },
    "id": "6M9qo7Mxr-Ke",
    "outputId": "db13306e-27c7-44cb-e45e-9eae75b32f5d"
   },
   "outputs": [],
   "source": [
    "ruta_archivo = '/content/drive/My Drive/redes_neuronales/Transformer.h5'\n",
    "model.save(ruta_archivo)"
   ]
  },
  {
   "cell_type": "code",
   "execution_count": null,
   "metadata": {
    "colab": {
     "base_uri": "https://localhost:8080/",
     "height": 112
    },
    "id": "bHIJ767AsHvR",
    "outputId": "bd4e4347-d286-4a4a-9d93-079a00091bd4"
   },
   "outputs": [],
   "source": [
    "new_row=pd.DataFrame({'model': 'Transformer','train loss':[train_loss[-1]], 'test loss':test_loss, 'train accuracy':[train_acc[-1]], 'test accuracy':test_acc})\n",
    "new_row"
   ]
  },
  {
   "cell_type": "markdown",
   "metadata": {
    "id": "KTT6Ymz3GfmN"
   },
   "source": [
    "## 3.4 sklearn.ensemble.HistGradientBoostingClassifier"
   ]
  },
  {
   "cell_type": "markdown",
   "metadata": {},
   "source": [
    "## Pipeline"
   ]
  },
  {
   "cell_type": "code",
   "execution_count": null,
   "metadata": {},
   "outputs": [],
   "source": [
    "Y_train=df.loc[:,'Class']\n",
    "X_train=df.iloc[:,1:-1]\n",
    "X_train, X_test, Y_train, Y_test = train_test_split(X_train, Y_train, test_size=0.3, random_state=42)\n",
    "\n",
    "X_train=X_train.sort_index()\n",
    "Y_train=Y_train.sort_index()\n",
    "X_test=X_test.sort_index()\n",
    "y_test=Y_test.sort_index()\n",
    "\n",
    "X_train_reshaped =reshape_dataset(X_train.values, 10)\n",
    "X_test_reshaped =reshape_dataset(X_test.values, 10)\n",
    "\n",
    "model = keras.Sequential()\n",
    "model.add(layers.LSTM(256, return_sequences=True, input_shape=(X_train_reshaped.shape[1], X_train_reshaped.shape[2])))\n",
    "model.add(layers.Dropout(0.1))\n",
    "model.add(layers.LSTM(128, return_sequences=True))\n",
    "model.add(layers.Dropout(0.2))\n",
    "model.add(layers.LSTM(64, return_sequences=True))\n",
    "model.add(layers.Dropout(0.2))\n",
    "model.add(layers.LSTM(32, return_sequences=True))\n",
    "model.add(layers.Dropout(0.2))\n",
    "model.add(layers.LSTM(32))\n",
    "model.add(layers.Dropout(0.2))\n",
    "model.add(layers.Dense(256, activation='relu'))\n",
    "model.add(layers.Dropout(0.1))\n",
    "model.add(layers.Dense(128, activation='relu'))\n",
    "model.add(layers.Dropout(0.1))\n",
    "model.add(layers.Dense(64, activation='relu'))\n",
    "model.add(layers.Dense(32, activation='relu'))\n",
    "model.add(layers.Dense(5, activation='softmax'))\n",
    "\n",
    "model.compile(loss='sparse_categorical_crossentropy', optimizer='adam', metrics=[f1_score])"
   ]
  },
  {
   "cell_type": "code",
   "execution_count": null,
   "metadata": {},
   "outputs": [
    {
     "name": "stdout",
     "output_type": "stream",
     "text": [
      "Iter0\n",
      "Epoch 1/3\n",
      "85/85 [==============================] - 65s 769ms/step - loss: 2.6977e-04 - f1_score: 0.3572 - val_loss: 0.0062 - val_f1_score: 0.3810\n",
      "Epoch 2/3\n",
      "85/85 [==============================] - 65s 763ms/step - loss: 1.6066e-04 - f1_score: 0.3573 - val_loss: 0.0064 - val_f1_score: 0.3810\n",
      "Epoch 3/3\n",
      "85/85 [==============================] - 67s 791ms/step - loss: 1.3420e-04 - f1_score: 0.3572 - val_loss: 0.0065 - val_f1_score: 0.3810\n",
      "821/821 [==============================] - 14s 17ms/step - loss: 5.8863 - f1_score: 0.2682\n",
      "Test f1: 0.26815515756607056\n",
      "0    25750\n",
      "2      330\n",
      "4       96\n",
      "1       85\n",
      "3        4\n",
      "dtype: int64\n",
      "Iter1\n",
      "Epoch 1/3\n",
      "85/85 [==============================] - 75s 887ms/step - loss: 1.2500e-04 - f1_score: 0.3573 - val_loss: 0.0066 - val_f1_score: 0.3810\n",
      "Epoch 2/3\n",
      "85/85 [==============================] - 73s 862ms/step - loss: 1.2411e-04 - f1_score: 0.3572 - val_loss: 0.0065 - val_f1_score: 0.3810\n",
      "Epoch 3/3\n",
      "85/85 [==============================] - 74s 866ms/step - loss: 8.2338e-05 - f1_score: 0.3573 - val_loss: 0.0064 - val_f1_score: 0.3810\n",
      "821/821 [==============================] - 16s 19ms/step - loss: 5.9836 - f1_score: 0.2682\n",
      "Test f1: 0.2682158648967743\n",
      "0    25593\n",
      "2      419\n",
      "1      131\n",
      "4      119\n",
      "3        3\n",
      "dtype: int64\n",
      "Iter2\n",
      "Epoch 1/3\n",
      "25/25 [==============================] - 21s 847ms/step - loss: 8.0481e-04 - f1_score: 0.3518 - val_loss: 0.0470 - val_f1_score: 0.3809\n",
      "Epoch 2/3\n",
      "25/25 [==============================] - 21s 850ms/step - loss: 2.5096e-04 - f1_score: 0.3518 - val_loss: 0.0476 - val_f1_score: 0.3810\n",
      "Epoch 3/3\n",
      "25/25 [==============================] - 21s 846ms/step - loss: 1.8838e-04 - f1_score: 0.3518 - val_loss: 0.0477 - val_f1_score: 0.3810\n",
      "821/821 [==============================] - 16s 19ms/step - loss: 6.1066 - f1_score: 0.2677\n",
      "Test f1: 0.2676646411418915\n",
      "0    25530\n",
      "2      449\n",
      "1      150\n",
      "4      129\n",
      "3        7\n",
      "dtype: int64\n"
     ]
    },
    {
     "data": {
      "image/png": "[encoded data removed]",
      "text/plain": [
       "<Figure size 432x288 with 1 Axes>"
      ]
     },
     "metadata": {
      "needs_background": "light"
     },
     "output_type": "display_data"
    }
   ],
   "source": [
    "order=[1,1,3]\n",
    "f1_list=[]\n",
    "for i in range(3):\n",
    "    print('Iter'+str(i))\n",
    "    X_train_spline=pd.DataFrame()\n",
    "    X_train_spline = X_train.interpolate(method='spline', order=order[i])\n",
    "    X_train_spline=X_train_spline.iloc[1:,:]\n",
    "    Y_train_spline=Y_train.iloc[1:]\n",
    "\n",
    "    #Sampling \n",
    "    counts=pd.Series(Y_train_spline).value_counts()\n",
    "    strategy1=[{0: int(counts[0]*0.9)},{0: int(counts[0]*0.9)},{0: int(counts[0]*0.4)}]\n",
    "    rus = RandomUnderSampler(random_state=0,sampling_strategy=strategy1[i])\n",
    "    X_train_interpolate_resampled, y_train_interpolate_resampled = rus.fit_resample(X_train_spline, Y_train_spline)\n",
    "\n",
    "    counts=pd.Series(y_train_interpolate_resampled).value_counts()    \n",
    "    strategy2=[{0: int(counts[0]), 1:int(counts[0]*0.8), 2: int(counts[0]*0.8), 3:int(counts[0]*0.8), 4:int(counts[0]*0.8)},\n",
    "           {0: int(counts[0]), 1:int(counts[0]*0.8), 2: int(counts[0]*0.8), 3:int(counts[0]*0.8), 4:int(counts[0]*0.8)},\n",
    "           {0: int(counts[0]), 1:int(counts[0]*0.3), 2: int(counts[0]*0.6), 3:int(counts[0]*0.3), 4:int(counts[0]*0.6)},\n",
    "           {0: int(counts[0]), 1:int(counts[0]*0.7), 2: int(counts[0]*0.6), 3:int(counts[0]*0.8), 4:int(counts[0]*0.6)}]\n",
    "\n",
    "    counts=pd.Series(y_train_interpolate_resampled).value_counts()\n",
    "    ros = RandomOverSampler(random_state=0,sampling_strategy=strategy2[i])\n",
    "    X_train_interpolate_resampled, y_train_interpolate_resampled = ros.fit_resample(X_train_interpolate_resampled, y_train_interpolate_resampled)\n",
    "\n",
    "    #Test \n",
    "    X_test_interpolate = X_test.interpolate(method='spline', order=order[i])\n",
    "    X_test_interpolate=X_test_interpolate.iloc[2:,:]\n",
    "    Y_test_interpolate=Y_test[2:]\n",
    "    \n",
    "    #Get values\n",
    "    x_train=X_train_interpolate_resampled.values\n",
    "    x_test=X_test_interpolate.values\n",
    "    y_train=y_train_interpolate_resampled.values\n",
    "    y_test=Y_test_interpolate.values\n",
    "    #normalize\n",
    "    mean = x_train.mean(axis=0)\n",
    "    std = x_train.std(axis=0)\n",
    "    x_train = (x_train - mean) / std\n",
    "    x_test = (x_test - mean) / std\n",
    "\n",
    "    #Reshape \n",
    "    X_train_reshaped = reshape_dataset(x_train,n_steps=10)\n",
    "    X_test_reshaped = reshape_dataset(x_test,n_steps=10)\n",
    "    \n",
    "    history = model.fit(X_train_reshaped, y_train,epochs=3,batch_size=2048,validation_split=0.1)\n",
    "    test_loss, test_acc = model.evaluate(X_test_reshaped, y_test)\n",
    "    f1_list.append(test_acc)\n",
    "    print('Test f1:', test_acc)\n",
    "    myprediction=plotResults(model,X_test_reshaped)"
   ]
  },
  {
   "cell_type": "markdown",
   "metadata": {
    "id": "VfXv7yM-7cQp"
   },
   "source": [
    "# 4. Prediction\n"
   ]
  },
  {
   "cell_type": "code",
   "execution_count": null,
   "metadata": {
    "colab": {
     "base_uri": "https://localhost:8080/"
    },
    "id": "CO1Fcakz8T0B",
    "outputId": "993d224d-6dab-4cbd-8e11-c8b328c18c30"
   },
   "outputs": [],
   "source": [
    "df = pd.read_csv('Train_set.csv')\n",
    "df_test = pd.read_csv('Test_set.csv')"
   ]
  },
  {
   "cell_type": "code",
   "execution_count": null,
   "metadata": {
    "id": "LnQl3YCRmZVf"
   },
   "outputs": [],
   "source": [
    "%run kaggleFunctions.ipynb"
   ]
  },
  {
   "cell_type": "code",
   "execution_count": null,
   "metadata": {
    "id": "SEDzegpMlGgZ"
   },
   "outputs": [],
   "source": [
    "# X_train_reshaped,y_train,X_test_reshaped=finalPreprocessing(df,df_test,3)\n",
    "# plotY(y_train)"
   ]
  },
  {
   "cell_type": "code",
   "execution_count": null,
   "metadata": {},
   "outputs": [],
   "source": [
    "X_cluster=pd.read_csv('X_cluster_smoothnoise8_13.csv')\n",
    "Y_cluster=pd.read_csv('Y_cluster_smoothnoise8_13.csv')\n",
    "Y_cluster=np.array(Y_cluster).ravel()\n"
   ]
  },
  {
   "cell_type": "code",
   "execution_count": null,
   "metadata": {
    "scrolled": true
   },
   "outputs": [
    {
     "name": "stdout",
     "output_type": "stream",
     "text": [
      "0.0    59564\n",
      "4.0    57879\n",
      "2.0    52092\n",
      "1.0    26676\n",
      "3.0     7692\n",
      "dtype: int64\n"
     ]
    },
    {
     "data": {
      "image/png": "[encoded data removed]",
      "text/plain": [
       "<Figure size 432x288 with 1 Axes>"
      ]
     },
     "metadata": {
      "needs_background": "light"
     },
     "output_type": "display_data"
    }
   ],
   "source": [
    "plotY(Y_cluster)"
   ]
  },
  {
   "cell_type": "code",
   "execution_count": null,
   "metadata": {},
   "outputs": [],
   "source": [
    "X_test=df_test.iloc[:,1:]\n",
    "X_test=X_test.apply(zeros,axis=1)\n",
    "X_test_interpolate = X_test.interpolate(method='linear')\n",
    "# X_test_interpolate=X_test_interpolate.iloc[2:,:]"
   ]
  },
  {
   "cell_type": "code",
   "execution_count": null,
   "metadata": {},
   "outputs": [],
   "source": [
    "X_train=X_cluster.values\n",
    "X_test=X_test_interpolate.values\n",
    "y_train=Y_cluster"
   ]
  },
  {
   "cell_type": "code",
   "execution_count": null,
   "metadata": {},
   "outputs": [],
   "source": [
    "# mean = X_train.mean(axis=0)\n",
    "# std = X_train.std(axis=0)\n",
    "# X_train = (X_train - mean) / std\n",
    "# X_test = (X_test - mean) / std"
   ]
  },
  {
   "cell_type": "markdown",
   "metadata": {},
   "source": [
    "rehsapes"
   ]
  },
  {
   "cell_type": "code",
   "execution_count": null,
   "metadata": {},
   "outputs": [
    {
     "ename": "ValueError",
     "evalue": "cannot reshape array of size 1870 into shape (10,18)",
     "output_type": "error",
     "traceback": [
      "\u001b[1;31m---------------------------------------------------------------------------\u001b[0m",
      "\u001b[1;31mValueError\u001b[0m                                Traceback (most recent call last)",
      "\u001b[1;32m~\\AppData\\Local\\Temp/ipykernel_15696/834457246.py\u001b[0m in \u001b[0;36m<module>\u001b[1;34m\u001b[0m\n\u001b[1;32m----> 1\u001b[1;33m \u001b[0mX_train_reshaped\u001b[0m \u001b[1;33m=\u001b[0m \u001b[0mreshape_dataset\u001b[0m\u001b[1;33m(\u001b[0m\u001b[0mX_train\u001b[0m\u001b[1;33m,\u001b[0m \u001b[0mn_steps\u001b[0m\u001b[1;33m=\u001b[0m\u001b[1;36m10\u001b[0m\u001b[1;33m)\u001b[0m\u001b[1;33m\u001b[0m\u001b[1;33m\u001b[0m\u001b[0m\n\u001b[0m\u001b[0;32m      2\u001b[0m \u001b[0mX_test_reshaped\u001b[0m \u001b[1;33m=\u001b[0m \u001b[0mreshape_dataset\u001b[0m\u001b[1;33m(\u001b[0m\u001b[0mX_test\u001b[0m\u001b[1;33m,\u001b[0m \u001b[0mn_steps\u001b[0m\u001b[1;33m=\u001b[0m\u001b[1;36m10\u001b[0m\u001b[1;33m)\u001b[0m\u001b[1;33m\u001b[0m\u001b[1;33m\u001b[0m\u001b[0m\n",
      "\u001b[1;32m~\\AppData\\Local\\Temp/ipykernel_15696/1949313476.py\u001b[0m in \u001b[0;36mreshape_dataset\u001b[1;34m(X, n_steps)\u001b[0m\n\u001b[0;32m      9\u001b[0m             \u001b[0ms\u001b[0m\u001b[1;33m=\u001b[0m\u001b[0mn_steps\u001b[0m\u001b[1;33m-\u001b[0m\u001b[1;33m(\u001b[0m\u001b[0mlen\u001b[0m\u001b[1;33m(\u001b[0m\u001b[0mX\u001b[0m\u001b[1;33m)\u001b[0m\u001b[1;33m-\u001b[0m\u001b[0mi\u001b[0m\u001b[1;33m)\u001b[0m\u001b[1;33m\u001b[0m\u001b[1;33m\u001b[0m\u001b[0m\n\u001b[0;32m     10\u001b[0m             \u001b[0maux\u001b[0m\u001b[1;33m=\u001b[0m\u001b[0mnp\u001b[0m\u001b[1;33m.\u001b[0m\u001b[0mappend\u001b[0m\u001b[1;33m(\u001b[0m\u001b[0mX\u001b[0m\u001b[1;33m[\u001b[0m\u001b[0mi\u001b[0m\u001b[1;33m:\u001b[0m\u001b[0mlen\u001b[0m\u001b[1;33m(\u001b[0m\u001b[0mX\u001b[0m\u001b[1;33m)\u001b[0m\u001b[1;33m,\u001b[0m\u001b[1;33m:\u001b[0m\u001b[1;33m]\u001b[0m\u001b[1;33m,\u001b[0m\u001b[0mX\u001b[0m\u001b[1;33m[\u001b[0m\u001b[1;36m0\u001b[0m\u001b[1;33m:\u001b[0m\u001b[0ms\u001b[0m\u001b[1;33m,\u001b[0m\u001b[1;33m:\u001b[0m\u001b[1;33m]\u001b[0m\u001b[1;33m)\u001b[0m\u001b[1;33m\u001b[0m\u001b[1;33m\u001b[0m\u001b[0m\n\u001b[1;32m---> 11\u001b[1;33m             \u001b[0maux\u001b[0m\u001b[1;33m=\u001b[0m\u001b[0maux\u001b[0m\u001b[1;33m.\u001b[0m\u001b[0mreshape\u001b[0m\u001b[1;33m(\u001b[0m\u001b[0mn_steps\u001b[0m\u001b[1;33m,\u001b[0m\u001b[0mn_features\u001b[0m\u001b[1;33m)\u001b[0m\u001b[1;33m\u001b[0m\u001b[1;33m\u001b[0m\u001b[0m\n\u001b[0m\u001b[0;32m     12\u001b[0m             \u001b[0mX_reshaped\u001b[0m\u001b[1;33m.\u001b[0m\u001b[0mappend\u001b[0m\u001b[1;33m(\u001b[0m\u001b[0maux\u001b[0m\u001b[1;33m)\u001b[0m\u001b[1;33m\u001b[0m\u001b[1;33m\u001b[0m\u001b[0m\n\u001b[0;32m     13\u001b[0m     \u001b[1;32mreturn\u001b[0m \u001b[0mnp\u001b[0m\u001b[1;33m.\u001b[0m\u001b[0marray\u001b[0m\u001b[1;33m(\u001b[0m\u001b[0mX_reshaped\u001b[0m\u001b[1;33m)\u001b[0m\u001b[1;33m\u001b[0m\u001b[1;33m\u001b[0m\u001b[0m\n",
      "\u001b[1;31mValueError\u001b[0m: cannot reshape array of size 1870 into shape (10,18)"
     ]
    }
   ],
   "source": [
    "X_train_reshaped = reshape_dataset(X_train, n_steps=10)\n",
    "X_test_reshaped = reshape_dataset(X_test, n_steps=10)"
   ]
  },
  {
   "cell_type": "code",
   "execution_count": null,
   "metadata": {},
   "outputs": [],
   "source": [
    "X_train_reshaped=np.reshape(X_train,[X_train.shape[0],X_train.shape[1],1])\n",
    "X_test_reshaped=np.reshape(X_test,[X_test.shape[0],X_test.shape[1],1])"
   ]
  },
  {
   "cell_type": "code",
   "execution_count": null,
   "metadata": {
    "scrolled": true
   },
   "outputs": [],
   "source": [
    "n_steps =4\n",
    "n_features = X_train.shape[1]\n",
    "X_train_reshaped = X_train.reshape(-1, n_steps, n_features)\n",
    "X_test_reshaped = X_test.reshape(-1, n_steps, n_features)"
   ]
  },
  {
   "cell_type": "code",
   "execution_count": null,
   "metadata": {},
   "outputs": [],
   "source": [
    "X_train_reshaped = np.stack(X_cluster.apply(lambda row: [row.to_numpy(), fft(row.to_numpy())], axis=1).values)\n",
    "X_test_reshaped = np.stack(X_test_interpolate.apply(lambda row: [row.to_numpy(), fft(row.to_numpy())], axis=1).values)"
   ]
  },
  {
   "cell_type": "code",
   "execution_count": null,
   "metadata": {},
   "outputs": [
    {
     "data": {
      "text/plain": [
       "(21892, 2, 187)"
      ]
     },
     "execution_count": 13,
     "metadata": {},
     "output_type": "execute_result"
    }
   ],
   "source": [
    "X_test_reshaped.shape"
   ]
  },
  {
   "cell_type": "markdown",
   "metadata": {},
   "source": [
    "LSTM"
   ]
  },
  {
   "cell_type": "code",
   "execution_count": null,
   "metadata": {
    "colab": {
     "base_uri": "https://localhost:8080/"
    },
    "id": "4FOEUgWiJAuA",
    "outputId": "8bf880d7-8b1d-452f-82b7-42d1a5ef82de",
    "scrolled": true
   },
   "outputs": [],
   "source": [
    "n_steps=10\n",
    "batch_size=2\n",
    "epochs=10\n",
    "model = keras.Sequential()\n",
    "#model.add(layers.LSTM(128, return_sequences=True, stateful=True, input_shape=(X_train_reshaped.shape[1], X_train_reshaped.shape[2])))\n",
    "model.add(layers.LSTM(128, return_sequences=True, stateful=True, batch_input_shape=(batch_size, n_steps, n_features)))\n",
    "model.add(layers.Dropout(0.2))\n",
    "model.add(layers.LSTM(64, return_sequences=True, stateful=True))\n",
    "model.add(layers.Dropout(0.2))\n",
    "model.add(layers.LSTM(32, return_sequences=True, stateful=True))\n",
    "model.add(layers.Dropout(0.2))\n",
    "model.add(layers.LSTM(16, stateful=True))\n",
    "model.add(layers.Dropout(0.2))\n",
    "\n",
    "model.add(layers.Dense(256, activation='relu'))\n",
    "model.add(layers.Dropout(0.1))\n",
    "model.add(layers.Dense(128, activation='relu'))\n",
    "model.add(layers.Dropout(0.1))\n",
    "model.add(layers.Dense(64, activation='relu'))\n",
    "model.add(layers.Dense(32, activation='relu'))\n",
    "model.add(layers.Dense(5, activation='softmax'))\n",
    "\n",
    "model.compile(loss='sparse_categorical_crossentropy', optimizer='adam', metrics=[f1_score])\n",
    "#history = model.fit(X_train_reshaped, y_train, epochs=10, batch_size=2056, validation_split=0.1)\n",
    "for i in range(epochs-1):\n",
    "    model.fit(X_train_reshaped, y_train, epochs=1, batch_size=batch_size, validation_split=0.1,shuffle=False)\n",
    "    model.reset_states()\n",
    "model.fit(X_train_reshaped, y_train, epochs=1, batch_size=batch_size, validation_split=0.1, shuffle=False)\n"
   ]
  },
  {
   "cell_type": "code",
   "execution_count": null,
   "metadata": {
    "scrolled": true
   },
   "outputs": [
    {
     "name": "stdout",
     "output_type": "stream",
     "text": [
      "Epoch 1/20\n",
      "645/645 [==============================] - 28s 34ms/step - loss: 0.8415 - f1_score: 0.2558 - val_loss: 0.6234 - val_f1_score: 0.3389\n",
      "Epoch 2/20\n",
      "645/645 [==============================] - 21s 32ms/step - loss: 0.5125 - f1_score: 0.3162 - val_loss: 0.6073 - val_f1_score: 0.3192\n",
      "Epoch 3/20\n",
      "645/645 [==============================] - 21s 32ms/step - loss: 0.4063 - f1_score: 0.3195 - val_loss: 0.4022 - val_f1_score: 0.3393\n",
      "Epoch 4/20\n",
      "645/645 [==============================] - 21s 32ms/step - loss: 0.3424 - f1_score: 0.3354 - val_loss: 0.3703 - val_f1_score: 0.3551\n",
      "Epoch 5/20\n",
      "645/645 [==============================] - 21s 32ms/step - loss: 0.3007 - f1_score: 0.3437 - val_loss: 0.3828 - val_f1_score: 0.3544\n",
      "Epoch 6/20\n",
      "645/645 [==============================] - 21s 32ms/step - loss: 0.2649 - f1_score: 0.3464 - val_loss: 0.3305 - val_f1_score: 0.3642\n",
      "Epoch 7/20\n",
      "645/645 [==============================] - 21s 33ms/step - loss: 0.2419 - f1_score: 0.3474 - val_loss: 0.3444 - val_f1_score: 0.3640\n",
      "Epoch 8/20\n",
      "645/645 [==============================] - 22s 35ms/step - loss: 0.2130 - f1_score: 0.3495 - val_loss: 0.3354 - val_f1_score: 0.3636\n",
      "Epoch 9/20\n",
      "645/645 [==============================] - 21s 32ms/step - loss: 0.1948 - f1_score: 0.3498 - val_loss: 0.3195 - val_f1_score: 0.3629\n",
      "Epoch 10/20\n",
      "645/645 [==============================] - 22s 34ms/step - loss: 0.1853 - f1_score: 0.3508 - val_loss: 0.3051 - val_f1_score: 0.3631\n",
      "Epoch 11/20\n",
      "645/645 [==============================] - 21s 32ms/step - loss: 0.1690 - f1_score: 0.3519 - val_loss: 0.3015 - val_f1_score: 0.3662\n",
      "Epoch 12/20\n",
      "645/645 [==============================] - 20s 31ms/step - loss: 0.1580 - f1_score: 0.3524 - val_loss: 0.3162 - val_f1_score: 0.3678\n",
      "Epoch 13/20\n",
      "645/645 [==============================] - 20s 31ms/step - loss: 0.1443 - f1_score: 0.3530 - val_loss: 0.2870 - val_f1_score: 0.3676\n",
      "Epoch 14/20\n",
      "645/645 [==============================] - 20s 31ms/step - loss: 0.1325 - f1_score: 0.3538 - val_loss: 0.3407 - val_f1_score: 0.3683\n",
      "Epoch 15/20\n",
      "645/645 [==============================] - 21s 32ms/step - loss: 0.1278 - f1_score: 0.3543 - val_loss: 0.3293 - val_f1_score: 0.3695\n",
      "Epoch 16/20\n",
      "645/645 [==============================] - 21s 32ms/step - loss: 0.1268 - f1_score: 0.3542 - val_loss: 0.3369 - val_f1_score: 0.3703\n",
      "Epoch 17/20\n",
      "645/645 [==============================] - 21s 32ms/step - loss: 0.1211 - f1_score: 0.3543 - val_loss: 0.3353 - val_f1_score: 0.3690\n",
      "Epoch 18/20\n",
      "645/645 [==============================] - 21s 33ms/step - loss: 0.1075 - f1_score: 0.3547 - val_loss: 0.3726 - val_f1_score: 0.3707\n",
      "Epoch 19/20\n",
      "645/645 [==============================] - 22s 34ms/step - loss: 0.0980 - f1_score: 0.3553 - val_loss: 0.3418 - val_f1_score: 0.3696\n",
      "Epoch 20/20\n",
      "645/645 [==============================] - 20s 31ms/step - loss: 0.1005 - f1_score: 0.3555 - val_loss: 0.3205 - val_f1_score: 0.3715\n"
     ]
    },
    {
     "data": {
      "text/plain": [
       "<keras.callbacks.History at 0x21407d02cd0>"
      ]
     },
     "execution_count": 20,
     "metadata": {},
     "output_type": "execute_result"
    }
   ],
   "source": [
    "model = keras.Sequential()\n",
    "model.add(layers.LSTM(512, return_sequences=True, input_shape=(X_train_reshaped.shape[1], X_train_reshaped.shape[2])))\n",
    "model.add(layers.Dropout(0.1))\n",
    "model.add(layers.LSTM(256, return_sequences=True))\n",
    "model.add(layers.Dropout(0.1))\n",
    "model.add(layers.LSTM(128, return_sequences=True))\n",
    "model.add(layers.Dropout(0.1))\n",
    "model.add(layers.LSTM(64, return_sequences=True))\n",
    "model.add(layers.Dropout(0.1))\n",
    "model.add(layers.LSTM(32, return_sequences=True))\n",
    "model.add(layers.Dropout(0.1))\n",
    "model.add(layers.LSTM(16))\n",
    "model.add(layers.Dropout(0.1))\n",
    "\n",
    "model.add(layers.Dense(256, activation='relu'))\n",
    "model.add(layers.Dropout(0.1))\n",
    "model.add(layers.Dense(128, activation='relu'))\n",
    "model.add(layers.Dropout(0.1))\n",
    "model.add(layers.Dense(64, activation='relu'))\n",
    "model.add(layers.Dropout(0.1))\n",
    "model.add(layers.Dense(32, activation='relu'))\n",
    "model.add(layers.Dense(16, activation='relu'))\n",
    "model.add(layers.Dense(5, activation='softmax'))\n",
    "\n",
    "model.compile(loss='sparse_categorical_crossentropy', optimizer='adam', metrics=[f1_score])\n",
    "#history = model.fit(X_train_reshaped, y_train, epochs=10, batch_size=2056, validation_split=0.1)\n",
    "model.fit(X_train_reshaped, y_train, epochs=20, batch_size=64, validation_split=0.1)\n"
   ]
  },
  {
   "cell_type": "markdown",
   "metadata": {},
   "source": [
    "CNN"
   ]
  },
  {
   "cell_type": "code",
   "execution_count": null,
   "metadata": {},
   "outputs": [],
   "source": [
    "X_train_reshaped=np.reshape(X_train,[X_train.shape[0],X_train.shape[1],1])\n",
    "X_test_reshaped=np.reshape(X_test,[X_test.shape[0],X_test.shape[1],1])"
   ]
  },
  {
   "cell_type": "code",
   "execution_count": null,
   "metadata": {
    "scrolled": true
   },
   "outputs": [
    {
     "name": "stdout",
     "output_type": "stream",
     "text": [
      "Epoch 1/25\n",
      "  32/1434 [..............................] - ETA: 56s - loss: 1.2828 - f1_score: 0.1351"
     ]
    },
    {
     "ename": "KeyboardInterrupt",
     "evalue": "",
     "output_type": "error",
     "traceback": [
      "\u001b[1;31m---------------------------------------------------------------------------\u001b[0m",
      "\u001b[1;31mKeyboardInterrupt\u001b[0m                         Traceback (most recent call last)",
      "\u001b[1;32m~\\AppData\\Local\\Temp/ipykernel_10732/4145679754.py\u001b[0m in \u001b[0;36m<module>\u001b[1;34m\u001b[0m\n\u001b[0;32m     29\u001b[0m \u001b[1;33m\u001b[0m\u001b[0m\n\u001b[0;32m     30\u001b[0m \u001b[1;31m# Entrenamos el modelo\u001b[0m\u001b[1;33m\u001b[0m\u001b[1;33m\u001b[0m\u001b[0m\n\u001b[1;32m---> 31\u001b[1;33m \u001b[0mmodel\u001b[0m\u001b[1;33m.\u001b[0m\u001b[0mfit\u001b[0m\u001b[1;33m(\u001b[0m\u001b[0mX_train_reshaped\u001b[0m\u001b[1;33m,\u001b[0m \u001b[0my_train\u001b[0m\u001b[1;33m,\u001b[0m \u001b[0mepochs\u001b[0m\u001b[1;33m=\u001b[0m\u001b[1;36m25\u001b[0m\u001b[1;33m,\u001b[0m \u001b[0mbatch_size\u001b[0m\u001b[1;33m=\u001b[0m\u001b[1;36m128\u001b[0m\u001b[1;33m,\u001b[0m \u001b[0mvalidation_split\u001b[0m\u001b[1;33m=\u001b[0m\u001b[1;36m0.1\u001b[0m\u001b[1;33m)\u001b[0m\u001b[1;33m\u001b[0m\u001b[1;33m\u001b[0m\u001b[0m\n\u001b[0m",
      "\u001b[1;32m~\\anaconda3\\lib\\site-packages\\keras\\utils\\traceback_utils.py\u001b[0m in \u001b[0;36merror_handler\u001b[1;34m(*args, **kwargs)\u001b[0m\n\u001b[0;32m     62\u001b[0m     \u001b[0mfiltered_tb\u001b[0m \u001b[1;33m=\u001b[0m \u001b[1;32mNone\u001b[0m\u001b[1;33m\u001b[0m\u001b[1;33m\u001b[0m\u001b[0m\n\u001b[0;32m     63\u001b[0m     \u001b[1;32mtry\u001b[0m\u001b[1;33m:\u001b[0m\u001b[1;33m\u001b[0m\u001b[1;33m\u001b[0m\u001b[0m\n\u001b[1;32m---> 64\u001b[1;33m       \u001b[1;32mreturn\u001b[0m \u001b[0mfn\u001b[0m\u001b[1;33m(\u001b[0m\u001b[1;33m*\u001b[0m\u001b[0margs\u001b[0m\u001b[1;33m,\u001b[0m \u001b[1;33m**\u001b[0m\u001b[0mkwargs\u001b[0m\u001b[1;33m)\u001b[0m\u001b[1;33m\u001b[0m\u001b[1;33m\u001b[0m\u001b[0m\n\u001b[0m\u001b[0;32m     65\u001b[0m     \u001b[1;32mexcept\u001b[0m \u001b[0mException\u001b[0m \u001b[1;32mas\u001b[0m \u001b[0me\u001b[0m\u001b[1;33m:\u001b[0m  \u001b[1;31m# pylint: disable=broad-except\u001b[0m\u001b[1;33m\u001b[0m\u001b[1;33m\u001b[0m\u001b[0m\n\u001b[0;32m     66\u001b[0m       \u001b[0mfiltered_tb\u001b[0m \u001b[1;33m=\u001b[0m \u001b[0m_process_traceback_frames\u001b[0m\u001b[1;33m(\u001b[0m\u001b[0me\u001b[0m\u001b[1;33m.\u001b[0m\u001b[0m__traceback__\u001b[0m\u001b[1;33m)\u001b[0m\u001b[1;33m\u001b[0m\u001b[1;33m\u001b[0m\u001b[0m\n",
      "\u001b[1;32m~\\anaconda3\\lib\\site-packages\\keras\\engine\\training.py\u001b[0m in \u001b[0;36mfit\u001b[1;34m(self, x, y, batch_size, epochs, verbose, callbacks, validation_split, validation_data, shuffle, class_weight, sample_weight, initial_epoch, steps_per_epoch, validation_steps, validation_batch_size, validation_freq, max_queue_size, workers, use_multiprocessing)\u001b[0m\n\u001b[0;32m   1382\u001b[0m                 _r=1):\n\u001b[0;32m   1383\u001b[0m               \u001b[0mcallbacks\u001b[0m\u001b[1;33m.\u001b[0m\u001b[0mon_train_batch_begin\u001b[0m\u001b[1;33m(\u001b[0m\u001b[0mstep\u001b[0m\u001b[1;33m)\u001b[0m\u001b[1;33m\u001b[0m\u001b[1;33m\u001b[0m\u001b[0m\n\u001b[1;32m-> 1384\u001b[1;33m               \u001b[0mtmp_logs\u001b[0m \u001b[1;33m=\u001b[0m \u001b[0mself\u001b[0m\u001b[1;33m.\u001b[0m\u001b[0mtrain_function\u001b[0m\u001b[1;33m(\u001b[0m\u001b[0miterator\u001b[0m\u001b[1;33m)\u001b[0m\u001b[1;33m\u001b[0m\u001b[1;33m\u001b[0m\u001b[0m\n\u001b[0m\u001b[0;32m   1385\u001b[0m               \u001b[1;32mif\u001b[0m \u001b[0mdata_handler\u001b[0m\u001b[1;33m.\u001b[0m\u001b[0mshould_sync\u001b[0m\u001b[1;33m:\u001b[0m\u001b[1;33m\u001b[0m\u001b[1;33m\u001b[0m\u001b[0m\n\u001b[0;32m   1386\u001b[0m                 \u001b[0mcontext\u001b[0m\u001b[1;33m.\u001b[0m\u001b[0masync_wait\u001b[0m\u001b[1;33m(\u001b[0m\u001b[1;33m)\u001b[0m\u001b[1;33m\u001b[0m\u001b[1;33m\u001b[0m\u001b[0m\n",
      "\u001b[1;32m~\\anaconda3\\lib\\site-packages\\tensorflow\\python\\util\\traceback_utils.py\u001b[0m in \u001b[0;36merror_handler\u001b[1;34m(*args, **kwargs)\u001b[0m\n\u001b[0;32m    148\u001b[0m     \u001b[0mfiltered_tb\u001b[0m \u001b[1;33m=\u001b[0m \u001b[1;32mNone\u001b[0m\u001b[1;33m\u001b[0m\u001b[1;33m\u001b[0m\u001b[0m\n\u001b[0;32m    149\u001b[0m     \u001b[1;32mtry\u001b[0m\u001b[1;33m:\u001b[0m\u001b[1;33m\u001b[0m\u001b[1;33m\u001b[0m\u001b[0m\n\u001b[1;32m--> 150\u001b[1;33m       \u001b[1;32mreturn\u001b[0m \u001b[0mfn\u001b[0m\u001b[1;33m(\u001b[0m\u001b[1;33m*\u001b[0m\u001b[0margs\u001b[0m\u001b[1;33m,\u001b[0m \u001b[1;33m**\u001b[0m\u001b[0mkwargs\u001b[0m\u001b[1;33m)\u001b[0m\u001b[1;33m\u001b[0m\u001b[1;33m\u001b[0m\u001b[0m\n\u001b[0m\u001b[0;32m    151\u001b[0m     \u001b[1;32mexcept\u001b[0m \u001b[0mException\u001b[0m \u001b[1;32mas\u001b[0m \u001b[0me\u001b[0m\u001b[1;33m:\u001b[0m\u001b[1;33m\u001b[0m\u001b[1;33m\u001b[0m\u001b[0m\n\u001b[0;32m    152\u001b[0m       \u001b[0mfiltered_tb\u001b[0m \u001b[1;33m=\u001b[0m \u001b[0m_process_traceback_frames\u001b[0m\u001b[1;33m(\u001b[0m\u001b[0me\u001b[0m\u001b[1;33m.\u001b[0m\u001b[0m__traceback__\u001b[0m\u001b[1;33m)\u001b[0m\u001b[1;33m\u001b[0m\u001b[1;33m\u001b[0m\u001b[0m\n",
      "\u001b[1;32m~\\anaconda3\\lib\\site-packages\\tensorflow\\python\\eager\\def_function.py\u001b[0m in \u001b[0;36m__call__\u001b[1;34m(self, *args, **kwds)\u001b[0m\n\u001b[0;32m    913\u001b[0m \u001b[1;33m\u001b[0m\u001b[0m\n\u001b[0;32m    914\u001b[0m       \u001b[1;32mwith\u001b[0m \u001b[0mOptionalXlaContext\u001b[0m\u001b[1;33m(\u001b[0m\u001b[0mself\u001b[0m\u001b[1;33m.\u001b[0m\u001b[0m_jit_compile\u001b[0m\u001b[1;33m)\u001b[0m\u001b[1;33m:\u001b[0m\u001b[1;33m\u001b[0m\u001b[1;33m\u001b[0m\u001b[0m\n\u001b[1;32m--> 915\u001b[1;33m         \u001b[0mresult\u001b[0m \u001b[1;33m=\u001b[0m \u001b[0mself\u001b[0m\u001b[1;33m.\u001b[0m\u001b[0m_call\u001b[0m\u001b[1;33m(\u001b[0m\u001b[1;33m*\u001b[0m\u001b[0margs\u001b[0m\u001b[1;33m,\u001b[0m \u001b[1;33m**\u001b[0m\u001b[0mkwds\u001b[0m\u001b[1;33m)\u001b[0m\u001b[1;33m\u001b[0m\u001b[1;33m\u001b[0m\u001b[0m\n\u001b[0m\u001b[0;32m    916\u001b[0m \u001b[1;33m\u001b[0m\u001b[0m\n\u001b[0;32m    917\u001b[0m       \u001b[0mnew_tracing_count\u001b[0m \u001b[1;33m=\u001b[0m \u001b[0mself\u001b[0m\u001b[1;33m.\u001b[0m\u001b[0mexperimental_get_tracing_count\u001b[0m\u001b[1;33m(\u001b[0m\u001b[1;33m)\u001b[0m\u001b[1;33m\u001b[0m\u001b[1;33m\u001b[0m\u001b[0m\n",
      "\u001b[1;32m~\\anaconda3\\lib\\site-packages\\tensorflow\\python\\eager\\def_function.py\u001b[0m in \u001b[0;36m_call\u001b[1;34m(self, *args, **kwds)\u001b[0m\n\u001b[0;32m    945\u001b[0m       \u001b[1;31m# In this case we have created variables on the first call, so we run the\u001b[0m\u001b[1;33m\u001b[0m\u001b[1;33m\u001b[0m\u001b[0m\n\u001b[0;32m    946\u001b[0m       \u001b[1;31m# defunned version which is guaranteed to never create variables.\u001b[0m\u001b[1;33m\u001b[0m\u001b[1;33m\u001b[0m\u001b[0m\n\u001b[1;32m--> 947\u001b[1;33m       \u001b[1;32mreturn\u001b[0m \u001b[0mself\u001b[0m\u001b[1;33m.\u001b[0m\u001b[0m_stateless_fn\u001b[0m\u001b[1;33m(\u001b[0m\u001b[1;33m*\u001b[0m\u001b[0margs\u001b[0m\u001b[1;33m,\u001b[0m \u001b[1;33m**\u001b[0m\u001b[0mkwds\u001b[0m\u001b[1;33m)\u001b[0m  \u001b[1;31m# pylint: disable=not-callable\u001b[0m\u001b[1;33m\u001b[0m\u001b[1;33m\u001b[0m\u001b[0m\n\u001b[0m\u001b[0;32m    948\u001b[0m     \u001b[1;32melif\u001b[0m \u001b[0mself\u001b[0m\u001b[1;33m.\u001b[0m\u001b[0m_stateful_fn\u001b[0m \u001b[1;32mis\u001b[0m \u001b[1;32mnot\u001b[0m \u001b[1;32mNone\u001b[0m\u001b[1;33m:\u001b[0m\u001b[1;33m\u001b[0m\u001b[1;33m\u001b[0m\u001b[0m\n\u001b[0;32m    949\u001b[0m       \u001b[1;31m# Release the lock early so that multiple threads can perform the call\u001b[0m\u001b[1;33m\u001b[0m\u001b[1;33m\u001b[0m\u001b[0m\n",
      "\u001b[1;32m~\\anaconda3\\lib\\site-packages\\tensorflow\\python\\eager\\function.py\u001b[0m in \u001b[0;36m__call__\u001b[1;34m(self, *args, **kwargs)\u001b[0m\n\u001b[0;32m   2954\u001b[0m       (graph_function,\n\u001b[0;32m   2955\u001b[0m        filtered_flat_args) = self._maybe_define_function(args, kwargs)\n\u001b[1;32m-> 2956\u001b[1;33m     return graph_function._call_flat(\n\u001b[0m\u001b[0;32m   2957\u001b[0m         filtered_flat_args, captured_inputs=graph_function.captured_inputs)  # pylint: disable=protected-access\n\u001b[0;32m   2958\u001b[0m \u001b[1;33m\u001b[0m\u001b[0m\n",
      "\u001b[1;32m~\\anaconda3\\lib\\site-packages\\tensorflow\\python\\eager\\function.py\u001b[0m in \u001b[0;36m_call_flat\u001b[1;34m(self, args, captured_inputs, cancellation_manager)\u001b[0m\n\u001b[0;32m   1851\u001b[0m         and executing_eagerly):\n\u001b[0;32m   1852\u001b[0m       \u001b[1;31m# No tape is watching; skip to running the function.\u001b[0m\u001b[1;33m\u001b[0m\u001b[1;33m\u001b[0m\u001b[0m\n\u001b[1;32m-> 1853\u001b[1;33m       return self._build_call_outputs(self._inference_function.call(\n\u001b[0m\u001b[0;32m   1854\u001b[0m           ctx, args, cancellation_manager=cancellation_manager))\n\u001b[0;32m   1855\u001b[0m     forward_backward = self._select_forward_and_backward_functions(\n",
      "\u001b[1;32m~\\anaconda3\\lib\\site-packages\\tensorflow\\python\\eager\\function.py\u001b[0m in \u001b[0;36mcall\u001b[1;34m(self, ctx, args, cancellation_manager)\u001b[0m\n\u001b[0;32m    497\u001b[0m       \u001b[1;32mwith\u001b[0m \u001b[0m_InterpolateFunctionError\u001b[0m\u001b[1;33m(\u001b[0m\u001b[0mself\u001b[0m\u001b[1;33m)\u001b[0m\u001b[1;33m:\u001b[0m\u001b[1;33m\u001b[0m\u001b[1;33m\u001b[0m\u001b[0m\n\u001b[0;32m    498\u001b[0m         \u001b[1;32mif\u001b[0m \u001b[0mcancellation_manager\u001b[0m \u001b[1;32mis\u001b[0m \u001b[1;32mNone\u001b[0m\u001b[1;33m:\u001b[0m\u001b[1;33m\u001b[0m\u001b[1;33m\u001b[0m\u001b[0m\n\u001b[1;32m--> 499\u001b[1;33m           outputs = execute.execute(\n\u001b[0m\u001b[0;32m    500\u001b[0m               \u001b[0mstr\u001b[0m\u001b[1;33m(\u001b[0m\u001b[0mself\u001b[0m\u001b[1;33m.\u001b[0m\u001b[0msignature\u001b[0m\u001b[1;33m.\u001b[0m\u001b[0mname\u001b[0m\u001b[1;33m)\u001b[0m\u001b[1;33m,\u001b[0m\u001b[1;33m\u001b[0m\u001b[1;33m\u001b[0m\u001b[0m\n\u001b[0;32m    501\u001b[0m               \u001b[0mnum_outputs\u001b[0m\u001b[1;33m=\u001b[0m\u001b[0mself\u001b[0m\u001b[1;33m.\u001b[0m\u001b[0m_num_outputs\u001b[0m\u001b[1;33m,\u001b[0m\u001b[1;33m\u001b[0m\u001b[1;33m\u001b[0m\u001b[0m\n",
      "\u001b[1;32m~\\anaconda3\\lib\\site-packages\\tensorflow\\python\\eager\\execute.py\u001b[0m in \u001b[0;36mquick_execute\u001b[1;34m(op_name, num_outputs, inputs, attrs, ctx, name)\u001b[0m\n\u001b[0;32m     52\u001b[0m   \u001b[1;32mtry\u001b[0m\u001b[1;33m:\u001b[0m\u001b[1;33m\u001b[0m\u001b[1;33m\u001b[0m\u001b[0m\n\u001b[0;32m     53\u001b[0m     \u001b[0mctx\u001b[0m\u001b[1;33m.\u001b[0m\u001b[0mensure_initialized\u001b[0m\u001b[1;33m(\u001b[0m\u001b[1;33m)\u001b[0m\u001b[1;33m\u001b[0m\u001b[1;33m\u001b[0m\u001b[0m\n\u001b[1;32m---> 54\u001b[1;33m     tensors = pywrap_tfe.TFE_Py_Execute(ctx._handle, device_name, op_name,\n\u001b[0m\u001b[0;32m     55\u001b[0m                                         inputs, attrs, num_outputs)\n\u001b[0;32m     56\u001b[0m   \u001b[1;32mexcept\u001b[0m \u001b[0mcore\u001b[0m\u001b[1;33m.\u001b[0m\u001b[0m_NotOkStatusException\u001b[0m \u001b[1;32mas\u001b[0m \u001b[0me\u001b[0m\u001b[1;33m:\u001b[0m\u001b[1;33m\u001b[0m\u001b[1;33m\u001b[0m\u001b[0m\n",
      "\u001b[1;31mKeyboardInterrupt\u001b[0m: "
     ]
    }
   ],
   "source": [
    "model =keras.Sequential()\n",
    "\n",
    "# Agregamos las capas convolucionales\n",
    "model.add(Conv1D(32, 3, activation='relu', input_shape=(X_train_reshaped.shape[1],X_train_reshaped.shape[2])))\n",
    "model.add(MaxPooling1D(pool_size=2))\n",
    "model.add(Conv1D(64, 3, activation='relu'))\n",
    "model.add(MaxPooling1D(pool_size=2))\n",
    "model.add(Conv1D(128, 3, activation='relu'))\n",
    "model.add(MaxPooling1D(pool_size=2))\n",
    "model.add(Conv1D(256, 3, activation='relu'))\n",
    "model.add(MaxPooling1D(pool_size=2))\n",
    "model.add(Conv1D(512, 3, activation='relu'))\n",
    "model.add(MaxPooling1D(pool_size=2))\n",
    "# Aplanamos los datos\n",
    "model.add(Flatten())\n",
    "\n",
    "# Agregamos capas densas\n",
    "model.add(Dense(256, activation='relu'))\n",
    "model.add(Dropout(0.1))\n",
    "model.add(Dense(128, activation='relu'))\n",
    "model.add(Dropout(0.1))\n",
    "model.add(Dense(64, activation='relu'))\n",
    "model.add(Dropout(0.1))\n",
    "model.add(Dense(32, activation='relu'))\n",
    "model.add(Dense(5, activation='softmax'))\n",
    "\n",
    "# Compilamos el modelo\n",
    "model.compile(loss='sparse_categorical_crossentropy', optimizer='adam', metrics=[f1_score])\n",
    "\n",
    "# Entrenamos el modelo\n",
    "model.fit(X_train_reshaped, y_train, epochs=25, batch_size=128, validation_split=0.1)"
   ]
  },
  {
   "cell_type": "code",
   "execution_count": null,
   "metadata": {},
   "outputs": [
    {
     "name": "stdout",
     "output_type": "stream",
     "text": [
      "Model: \"sequential\"\n",
      "_________________________________________________________________\n",
      " Layer (type)                Output Shape              Param #   \n",
      "=================================================================\n",
      " conv1d (Conv1D)             (None, 185, 32)           128       \n",
      "                                                                 \n",
      " max_pooling1d (MaxPooling1D  (None, 92, 32)           0         \n",
      " )                                                               \n",
      "                                                                 \n",
      " conv1d_1 (Conv1D)           (None, 90, 64)            6208      \n",
      "                                                                 \n",
      " max_pooling1d_1 (MaxPooling  (None, 45, 64)           0         \n",
      " 1D)                                                             \n",
      "                                                                 \n",
      " conv1d_2 (Conv1D)           (None, 43, 128)           24704     \n",
      "                                                                 \n",
      " max_pooling1d_2 (MaxPooling  (None, 21, 128)          0         \n",
      " 1D)                                                             \n",
      "                                                                 \n",
      " conv1d_3 (Conv1D)           (None, 19, 256)           98560     \n",
      "                                                                 \n",
      " max_pooling1d_3 (MaxPooling  (None, 9, 256)           0         \n",
      " 1D)                                                             \n",
      "                                                                 \n",
      " conv1d_4 (Conv1D)           (None, 7, 512)            393728    \n",
      "                                                                 \n",
      " max_pooling1d_4 (MaxPooling  (None, 3, 512)           0         \n",
      " 1D)                                                             \n",
      "                                                                 \n",
      " flatten (Flatten)           (None, 1536)              0         \n",
      "                                                                 \n",
      " dense (Dense)               (None, 256)               393472    \n",
      "                                                                 \n",
      " dropout (Dropout)           (None, 256)               0         \n",
      "                                                                 \n",
      " dense_1 (Dense)             (None, 128)               32896     \n",
      "                                                                 \n",
      " dropout_1 (Dropout)         (None, 128)               0         \n",
      "                                                                 \n",
      " dense_2 (Dense)             (None, 64)                8256      \n",
      "                                                                 \n",
      " dropout_2 (Dropout)         (None, 64)                0         \n",
      "                                                                 \n",
      " dense_3 (Dense)             (None, 32)                2080      \n",
      "                                                                 \n",
      " dense_4 (Dense)             (None, 5)                 165       \n",
      "                                                                 \n",
      "=================================================================\n",
      "Total params: 960,197\n",
      "Trainable params: 960,197\n",
      "Non-trainable params: 0\n",
      "_________________________________________________________________\n"
     ]
    }
   ],
   "source": [
    "model.summary()"
   ]
  },
  {
   "cell_type": "code",
   "execution_count": null,
   "metadata": {},
   "outputs": [],
   "source": [
    "X_train_reshaped=np.reshape(X_train_reshaped,[X_train_reshaped.shape[0],X_train_reshaped.shape[2],X_train_reshaped.shape[1]])\n",
    "X_test_reshaped=np.reshape(X_test_reshaped,[X_test_reshaped.shape[0],X_test_reshaped.shape[2],X_test_reshaped.shape[1]])"
   ]
  },
  {
   "cell_type": "code",
   "execution_count": null,
   "metadata": {},
   "outputs": [
    {
     "ename": "ValueError",
     "evalue": "Exception encountered when calling layer \"conv2d_2\" (type Conv2D).\n\nNegative dimension size caused by subtracting 3 from 2 for '{{node conv2d_2/Conv2D}} = Conv2D[T=DT_FLOAT, data_format=\"NHWC\", dilations=[1, 1, 1, 1], explicit_paddings=[], padding=\"VALID\", strides=[1, 1, 1, 1], use_cudnn_on_gpu=true](Placeholder, conv2d_2/Conv2D/ReadVariableOp)' with input shapes: [?,187,2,1], [3,3,1,32].\n\nCall arguments received:\n  • inputs=tf.Tensor(shape=(None, 187, 2, 1), dtype=float32)",
     "output_type": "error",
     "traceback": [
      "\u001b[1;31m---------------------------------------------------------------------------\u001b[0m",
      "\u001b[1;31mValueError\u001b[0m                                Traceback (most recent call last)",
      "\u001b[1;32m~\\AppData\\Local\\Temp/ipykernel_6656/3462639998.py\u001b[0m in \u001b[0;36m<module>\u001b[1;34m\u001b[0m\n\u001b[0;32m      2\u001b[0m \u001b[1;33m\u001b[0m\u001b[0m\n\u001b[0;32m      3\u001b[0m \u001b[1;31m# Agregamos las capas convolucionales\u001b[0m\u001b[1;33m\u001b[0m\u001b[1;33m\u001b[0m\u001b[0m\n\u001b[1;32m----> 4\u001b[1;33m \u001b[0mmodel\u001b[0m\u001b[1;33m.\u001b[0m\u001b[0madd\u001b[0m\u001b[1;33m(\u001b[0m\u001b[0mConv2D\u001b[0m\u001b[1;33m(\u001b[0m\u001b[1;36m32\u001b[0m\u001b[1;33m,\u001b[0m \u001b[1;33m(\u001b[0m\u001b[1;36m3\u001b[0m\u001b[1;33m,\u001b[0m\u001b[1;36m3\u001b[0m\u001b[1;33m)\u001b[0m\u001b[1;33m,\u001b[0m \u001b[0mactivation\u001b[0m\u001b[1;33m=\u001b[0m\u001b[1;34m'relu'\u001b[0m\u001b[1;33m,\u001b[0m \u001b[0minput_shape\u001b[0m\u001b[1;33m=\u001b[0m\u001b[1;33m(\u001b[0m\u001b[0mX_train_reshaped\u001b[0m\u001b[1;33m.\u001b[0m\u001b[0mshape\u001b[0m\u001b[1;33m[\u001b[0m\u001b[1;36m1\u001b[0m\u001b[1;33m]\u001b[0m\u001b[1;33m,\u001b[0m\u001b[0mX_train_reshaped\u001b[0m\u001b[1;33m.\u001b[0m\u001b[0mshape\u001b[0m\u001b[1;33m[\u001b[0m\u001b[1;36m2\u001b[0m\u001b[1;33m]\u001b[0m\u001b[1;33m,\u001b[0m\u001b[1;36m1\u001b[0m\u001b[1;33m)\u001b[0m\u001b[1;33m)\u001b[0m\u001b[1;33m)\u001b[0m\u001b[1;33m\u001b[0m\u001b[1;33m\u001b[0m\u001b[0m\n\u001b[0m\u001b[0;32m      5\u001b[0m \u001b[0mmodel\u001b[0m\u001b[1;33m.\u001b[0m\u001b[0madd\u001b[0m\u001b[1;33m(\u001b[0m\u001b[0mMaxPooling2D\u001b[0m\u001b[1;33m(\u001b[0m\u001b[0mpool_size\u001b[0m\u001b[1;33m=\u001b[0m\u001b[1;33m(\u001b[0m\u001b[1;36m2\u001b[0m\u001b[1;33m,\u001b[0m\u001b[1;36m2\u001b[0m\u001b[1;33m)\u001b[0m\u001b[1;33m)\u001b[0m\u001b[1;33m)\u001b[0m\u001b[1;33m\u001b[0m\u001b[1;33m\u001b[0m\u001b[0m\n\u001b[0;32m      6\u001b[0m \u001b[0mmodel\u001b[0m\u001b[1;33m.\u001b[0m\u001b[0madd\u001b[0m\u001b[1;33m(\u001b[0m\u001b[0mConv2D\u001b[0m\u001b[1;33m(\u001b[0m\u001b[1;36m64\u001b[0m\u001b[1;33m,\u001b[0m \u001b[1;33m(\u001b[0m\u001b[1;36m3\u001b[0m\u001b[1;33m,\u001b[0m\u001b[1;36m3\u001b[0m\u001b[1;33m)\u001b[0m\u001b[1;33m,\u001b[0m \u001b[0mactivation\u001b[0m\u001b[1;33m=\u001b[0m\u001b[1;34m'relu'\u001b[0m\u001b[1;33m)\u001b[0m\u001b[1;33m)\u001b[0m\u001b[1;33m\u001b[0m\u001b[1;33m\u001b[0m\u001b[0m\n",
      "\u001b[1;32m~\\anaconda3\\lib\\site-packages\\tensorflow\\python\\training\\tracking\\base.py\u001b[0m in \u001b[0;36m_method_wrapper\u001b[1;34m(self, *args, **kwargs)\u001b[0m\n\u001b[0;32m    627\u001b[0m     \u001b[0mself\u001b[0m\u001b[1;33m.\u001b[0m\u001b[0m_self_setattr_tracking\u001b[0m \u001b[1;33m=\u001b[0m \u001b[1;32mFalse\u001b[0m  \u001b[1;31m# pylint: disable=protected-access\u001b[0m\u001b[1;33m\u001b[0m\u001b[1;33m\u001b[0m\u001b[0m\n\u001b[0;32m    628\u001b[0m     \u001b[1;32mtry\u001b[0m\u001b[1;33m:\u001b[0m\u001b[1;33m\u001b[0m\u001b[1;33m\u001b[0m\u001b[0m\n\u001b[1;32m--> 629\u001b[1;33m       \u001b[0mresult\u001b[0m \u001b[1;33m=\u001b[0m \u001b[0mmethod\u001b[0m\u001b[1;33m(\u001b[0m\u001b[0mself\u001b[0m\u001b[1;33m,\u001b[0m \u001b[1;33m*\u001b[0m\u001b[0margs\u001b[0m\u001b[1;33m,\u001b[0m \u001b[1;33m**\u001b[0m\u001b[0mkwargs\u001b[0m\u001b[1;33m)\u001b[0m\u001b[1;33m\u001b[0m\u001b[1;33m\u001b[0m\u001b[0m\n\u001b[0m\u001b[0;32m    630\u001b[0m     \u001b[1;32mfinally\u001b[0m\u001b[1;33m:\u001b[0m\u001b[1;33m\u001b[0m\u001b[1;33m\u001b[0m\u001b[0m\n\u001b[0;32m    631\u001b[0m       \u001b[0mself\u001b[0m\u001b[1;33m.\u001b[0m\u001b[0m_self_setattr_tracking\u001b[0m \u001b[1;33m=\u001b[0m \u001b[0mprevious_value\u001b[0m  \u001b[1;31m# pylint: disable=protected-access\u001b[0m\u001b[1;33m\u001b[0m\u001b[1;33m\u001b[0m\u001b[0m\n",
      "\u001b[1;32m~\\anaconda3\\lib\\site-packages\\keras\\utils\\traceback_utils.py\u001b[0m in \u001b[0;36merror_handler\u001b[1;34m(*args, **kwargs)\u001b[0m\n\u001b[0;32m     65\u001b[0m     \u001b[1;32mexcept\u001b[0m \u001b[0mException\u001b[0m \u001b[1;32mas\u001b[0m \u001b[0me\u001b[0m\u001b[1;33m:\u001b[0m  \u001b[1;31m# pylint: disable=broad-except\u001b[0m\u001b[1;33m\u001b[0m\u001b[1;33m\u001b[0m\u001b[0m\n\u001b[0;32m     66\u001b[0m       \u001b[0mfiltered_tb\u001b[0m \u001b[1;33m=\u001b[0m \u001b[0m_process_traceback_frames\u001b[0m\u001b[1;33m(\u001b[0m\u001b[0me\u001b[0m\u001b[1;33m.\u001b[0m\u001b[0m__traceback__\u001b[0m\u001b[1;33m)\u001b[0m\u001b[1;33m\u001b[0m\u001b[1;33m\u001b[0m\u001b[0m\n\u001b[1;32m---> 67\u001b[1;33m       \u001b[1;32mraise\u001b[0m \u001b[0me\u001b[0m\u001b[1;33m.\u001b[0m\u001b[0mwith_traceback\u001b[0m\u001b[1;33m(\u001b[0m\u001b[0mfiltered_tb\u001b[0m\u001b[1;33m)\u001b[0m \u001b[1;32mfrom\u001b[0m \u001b[1;32mNone\u001b[0m\u001b[1;33m\u001b[0m\u001b[1;33m\u001b[0m\u001b[0m\n\u001b[0m\u001b[0;32m     68\u001b[0m     \u001b[1;32mfinally\u001b[0m\u001b[1;33m:\u001b[0m\u001b[1;33m\u001b[0m\u001b[1;33m\u001b[0m\u001b[0m\n\u001b[0;32m     69\u001b[0m       \u001b[1;32mdel\u001b[0m \u001b[0mfiltered_tb\u001b[0m\u001b[1;33m\u001b[0m\u001b[1;33m\u001b[0m\u001b[0m\n",
      "\u001b[1;32m~\\anaconda3\\lib\\site-packages\\tensorflow\\python\\framework\\ops.py\u001b[0m in \u001b[0;36m_create_c_op\u001b[1;34m(graph, node_def, inputs, control_inputs, op_def)\u001b[0m\n\u001b[0;32m   2011\u001b[0m   \u001b[1;32mexcept\u001b[0m \u001b[0merrors\u001b[0m\u001b[1;33m.\u001b[0m\u001b[0mInvalidArgumentError\u001b[0m \u001b[1;32mas\u001b[0m \u001b[0me\u001b[0m\u001b[1;33m:\u001b[0m\u001b[1;33m\u001b[0m\u001b[1;33m\u001b[0m\u001b[0m\n\u001b[0;32m   2012\u001b[0m     \u001b[1;31m# Convert to ValueError for backwards compatibility.\u001b[0m\u001b[1;33m\u001b[0m\u001b[1;33m\u001b[0m\u001b[0m\n\u001b[1;32m-> 2013\u001b[1;33m     \u001b[1;32mraise\u001b[0m \u001b[0mValueError\u001b[0m\u001b[1;33m(\u001b[0m\u001b[0me\u001b[0m\u001b[1;33m.\u001b[0m\u001b[0mmessage\u001b[0m\u001b[1;33m)\u001b[0m\u001b[1;33m\u001b[0m\u001b[1;33m\u001b[0m\u001b[0m\n\u001b[0m\u001b[0;32m   2014\u001b[0m \u001b[1;33m\u001b[0m\u001b[0m\n\u001b[0;32m   2015\u001b[0m   \u001b[1;32mreturn\u001b[0m \u001b[0mc_op\u001b[0m\u001b[1;33m\u001b[0m\u001b[1;33m\u001b[0m\u001b[0m\n",
      "\u001b[1;31mValueError\u001b[0m: Exception encountered when calling layer \"conv2d_2\" (type Conv2D).\n\nNegative dimension size caused by subtracting 3 from 2 for '{{node conv2d_2/Conv2D}} = Conv2D[T=DT_FLOAT, data_format=\"NHWC\", dilations=[1, 1, 1, 1], explicit_paddings=[], padding=\"VALID\", strides=[1, 1, 1, 1], use_cudnn_on_gpu=true](Placeholder, conv2d_2/Conv2D/ReadVariableOp)' with input shapes: [?,187,2,1], [3,3,1,32].\n\nCall arguments received:\n  • inputs=tf.Tensor(shape=(None, 187, 2, 1), dtype=float32)"
     ]
    }
   ],
   "source": [
    "model =keras.Sequential()\n",
    "\n",
    "# Agregamos las capas convolucionales\n",
    "model.add(Conv2D(32, (3,3), activation='relu', input_shape=(X_train_reshaped.shape[1],X_train_reshaped.shape[2],1)))\n",
    "model.add(MaxPooling2D(pool_size=(2,2)))\n",
    "model.add(Conv2D(64, (3,3), activation='relu'))\n",
    "model.add(MaxPooling2D(pool_size=(2,2)))\n",
    "model.add(Conv2D(128, (3,3), activation='relu'))\n",
    "model.add(MaxPooling2D(pool_size=(2,2)))\n",
    "# Aplanamos los datos\n",
    "model.add(Flatten())\n",
    "\n",
    "# Agregamos capas densas\n",
    "model.add(Dense(256, activation='relu'))\n",
    "model.add(Dropout(0.1))\n",
    "model.add(Dense(128, activation='relu'))\n",
    "model.add(Dropout(0.1))\n",
    "model.add(Dense(64, activation='relu'))\n",
    "model.add(Dropout(0.1))\n",
    "model.add(Dense(32, activation='relu'))\n",
    "model.add(Dense(5, activation='softmax'))\n",
    "\n",
    "# Compilamos el modelo\n",
    "model.compile(loss='sparse_categorical_crossentropy', optimizer='adam', metrics=[f1_score])\n",
    "\n",
    "# Entrenamos el modelo\n",
    "model.fit(X_train_reshaped, y_train, epochs=15, batch_size=32, validation_split=0.1)"
   ]
  },
  {
   "cell_type": "markdown",
   "metadata": {},
   "source": [
    "Transformer"
   ]
  },
  {
   "cell_type": "code",
   "execution_count": null,
   "metadata": {
    "colab": {
     "base_uri": "https://localhost:8080/"
    },
    "id": "DUHpmhO9kBaY",
    "outputId": "b316f295-26ed-44ff-a28f-b8c6522b88ca",
    "scrolled": true
   },
   "outputs": [
    {
     "name": "stdout",
     "output_type": "stream",
     "text": [
      "Epoch 1/9\n",
      "141/141 [==============================] - 2325s 16s/step - loss: 1.4170 - f1_score: 0.0000e+00 - val_loss: 1.9297 - val_f1_score: 0.0000e+00\n",
      "Epoch 2/9\n",
      "102/141 [====================>.........] - ETA: 10:13 - loss: 1.3999 - f1_score: 0.0000e+00"
     ]
    },
    {
     "ename": "KeyboardInterrupt",
     "evalue": "",
     "output_type": "error",
     "traceback": [
      "\u001b[1;31m---------------------------------------------------------------------------\u001b[0m",
      "\u001b[1;31mKeyboardInterrupt\u001b[0m                         Traceback (most recent call last)",
      "\u001b[1;32m~\\AppData\\Local\\Temp/ipykernel_15696/2909820166.py\u001b[0m in \u001b[0;36m<module>\u001b[1;34m\u001b[0m\n\u001b[0;32m     52\u001b[0m \u001b[1;33m\u001b[0m\u001b[0m\n\u001b[0;32m     53\u001b[0m \u001b[1;31m# Entrenamiento del modelo\u001b[0m\u001b[1;33m\u001b[0m\u001b[1;33m\u001b[0m\u001b[0m\n\u001b[1;32m---> 54\u001b[1;33m \u001b[0mhistory\u001b[0m \u001b[1;33m=\u001b[0m \u001b[0mmodel\u001b[0m\u001b[1;33m.\u001b[0m\u001b[0mfit\u001b[0m\u001b[1;33m(\u001b[0m\u001b[0mX_train_reshaped\u001b[0m\u001b[1;33m,\u001b[0m \u001b[0my_train\u001b[0m\u001b[1;33m,\u001b[0m \u001b[0mbatch_size\u001b[0m\u001b[1;33m=\u001b[0m\u001b[1;36m1024\u001b[0m\u001b[1;33m,\u001b[0m \u001b[0mepochs\u001b[0m\u001b[1;33m=\u001b[0m\u001b[1;36m9\u001b[0m\u001b[1;33m,\u001b[0m \u001b[0mvalidation_split\u001b[0m\u001b[1;33m=\u001b[0m\u001b[1;36m0.1\u001b[0m\u001b[1;33m)\u001b[0m\u001b[1;33m\u001b[0m\u001b[1;33m\u001b[0m\u001b[0m\n\u001b[0m",
      "\u001b[1;32m~\\anaconda3\\lib\\site-packages\\keras\\utils\\traceback_utils.py\u001b[0m in \u001b[0;36merror_handler\u001b[1;34m(*args, **kwargs)\u001b[0m\n\u001b[0;32m     62\u001b[0m     \u001b[0mfiltered_tb\u001b[0m \u001b[1;33m=\u001b[0m \u001b[1;32mNone\u001b[0m\u001b[1;33m\u001b[0m\u001b[1;33m\u001b[0m\u001b[0m\n\u001b[0;32m     63\u001b[0m     \u001b[1;32mtry\u001b[0m\u001b[1;33m:\u001b[0m\u001b[1;33m\u001b[0m\u001b[1;33m\u001b[0m\u001b[0m\n\u001b[1;32m---> 64\u001b[1;33m       \u001b[1;32mreturn\u001b[0m \u001b[0mfn\u001b[0m\u001b[1;33m(\u001b[0m\u001b[1;33m*\u001b[0m\u001b[0margs\u001b[0m\u001b[1;33m,\u001b[0m \u001b[1;33m**\u001b[0m\u001b[0mkwargs\u001b[0m\u001b[1;33m)\u001b[0m\u001b[1;33m\u001b[0m\u001b[1;33m\u001b[0m\u001b[0m\n\u001b[0m\u001b[0;32m     65\u001b[0m     \u001b[1;32mexcept\u001b[0m \u001b[0mException\u001b[0m \u001b[1;32mas\u001b[0m \u001b[0me\u001b[0m\u001b[1;33m:\u001b[0m  \u001b[1;31m# pylint: disable=broad-except\u001b[0m\u001b[1;33m\u001b[0m\u001b[1;33m\u001b[0m\u001b[0m\n\u001b[0;32m     66\u001b[0m       \u001b[0mfiltered_tb\u001b[0m \u001b[1;33m=\u001b[0m \u001b[0m_process_traceback_frames\u001b[0m\u001b[1;33m(\u001b[0m\u001b[0me\u001b[0m\u001b[1;33m.\u001b[0m\u001b[0m__traceback__\u001b[0m\u001b[1;33m)\u001b[0m\u001b[1;33m\u001b[0m\u001b[1;33m\u001b[0m\u001b[0m\n",
      "\u001b[1;32m~\\anaconda3\\lib\\site-packages\\keras\\engine\\training.py\u001b[0m in \u001b[0;36mfit\u001b[1;34m(self, x, y, batch_size, epochs, verbose, callbacks, validation_split, validation_data, shuffle, class_weight, sample_weight, initial_epoch, steps_per_epoch, validation_steps, validation_batch_size, validation_freq, max_queue_size, workers, use_multiprocessing)\u001b[0m\n\u001b[0;32m   1382\u001b[0m                 _r=1):\n\u001b[0;32m   1383\u001b[0m               \u001b[0mcallbacks\u001b[0m\u001b[1;33m.\u001b[0m\u001b[0mon_train_batch_begin\u001b[0m\u001b[1;33m(\u001b[0m\u001b[0mstep\u001b[0m\u001b[1;33m)\u001b[0m\u001b[1;33m\u001b[0m\u001b[1;33m\u001b[0m\u001b[0m\n\u001b[1;32m-> 1384\u001b[1;33m               \u001b[0mtmp_logs\u001b[0m \u001b[1;33m=\u001b[0m \u001b[0mself\u001b[0m\u001b[1;33m.\u001b[0m\u001b[0mtrain_function\u001b[0m\u001b[1;33m(\u001b[0m\u001b[0miterator\u001b[0m\u001b[1;33m)\u001b[0m\u001b[1;33m\u001b[0m\u001b[1;33m\u001b[0m\u001b[0m\n\u001b[0m\u001b[0;32m   1385\u001b[0m               \u001b[1;32mif\u001b[0m \u001b[0mdata_handler\u001b[0m\u001b[1;33m.\u001b[0m\u001b[0mshould_sync\u001b[0m\u001b[1;33m:\u001b[0m\u001b[1;33m\u001b[0m\u001b[1;33m\u001b[0m\u001b[0m\n\u001b[0;32m   1386\u001b[0m                 \u001b[0mcontext\u001b[0m\u001b[1;33m.\u001b[0m\u001b[0masync_wait\u001b[0m\u001b[1;33m(\u001b[0m\u001b[1;33m)\u001b[0m\u001b[1;33m\u001b[0m\u001b[1;33m\u001b[0m\u001b[0m\n",
      "\u001b[1;32m~\\anaconda3\\lib\\site-packages\\tensorflow\\python\\util\\traceback_utils.py\u001b[0m in \u001b[0;36merror_handler\u001b[1;34m(*args, **kwargs)\u001b[0m\n\u001b[0;32m    148\u001b[0m     \u001b[0mfiltered_tb\u001b[0m \u001b[1;33m=\u001b[0m \u001b[1;32mNone\u001b[0m\u001b[1;33m\u001b[0m\u001b[1;33m\u001b[0m\u001b[0m\n\u001b[0;32m    149\u001b[0m     \u001b[1;32mtry\u001b[0m\u001b[1;33m:\u001b[0m\u001b[1;33m\u001b[0m\u001b[1;33m\u001b[0m\u001b[0m\n\u001b[1;32m--> 150\u001b[1;33m       \u001b[1;32mreturn\u001b[0m \u001b[0mfn\u001b[0m\u001b[1;33m(\u001b[0m\u001b[1;33m*\u001b[0m\u001b[0margs\u001b[0m\u001b[1;33m,\u001b[0m \u001b[1;33m**\u001b[0m\u001b[0mkwargs\u001b[0m\u001b[1;33m)\u001b[0m\u001b[1;33m\u001b[0m\u001b[1;33m\u001b[0m\u001b[0m\n\u001b[0m\u001b[0;32m    151\u001b[0m     \u001b[1;32mexcept\u001b[0m \u001b[0mException\u001b[0m \u001b[1;32mas\u001b[0m \u001b[0me\u001b[0m\u001b[1;33m:\u001b[0m\u001b[1;33m\u001b[0m\u001b[1;33m\u001b[0m\u001b[0m\n\u001b[0;32m    152\u001b[0m       \u001b[0mfiltered_tb\u001b[0m \u001b[1;33m=\u001b[0m \u001b[0m_process_traceback_frames\u001b[0m\u001b[1;33m(\u001b[0m\u001b[0me\u001b[0m\u001b[1;33m.\u001b[0m\u001b[0m__traceback__\u001b[0m\u001b[1;33m)\u001b[0m\u001b[1;33m\u001b[0m\u001b[1;33m\u001b[0m\u001b[0m\n",
      "\u001b[1;32m~\\anaconda3\\lib\\site-packages\\tensorflow\\python\\eager\\def_function.py\u001b[0m in \u001b[0;36m__call__\u001b[1;34m(self, *args, **kwds)\u001b[0m\n\u001b[0;32m    913\u001b[0m \u001b[1;33m\u001b[0m\u001b[0m\n\u001b[0;32m    914\u001b[0m       \u001b[1;32mwith\u001b[0m \u001b[0mOptionalXlaContext\u001b[0m\u001b[1;33m(\u001b[0m\u001b[0mself\u001b[0m\u001b[1;33m.\u001b[0m\u001b[0m_jit_compile\u001b[0m\u001b[1;33m)\u001b[0m\u001b[1;33m:\u001b[0m\u001b[1;33m\u001b[0m\u001b[1;33m\u001b[0m\u001b[0m\n\u001b[1;32m--> 915\u001b[1;33m         \u001b[0mresult\u001b[0m \u001b[1;33m=\u001b[0m \u001b[0mself\u001b[0m\u001b[1;33m.\u001b[0m\u001b[0m_call\u001b[0m\u001b[1;33m(\u001b[0m\u001b[1;33m*\u001b[0m\u001b[0margs\u001b[0m\u001b[1;33m,\u001b[0m \u001b[1;33m**\u001b[0m\u001b[0mkwds\u001b[0m\u001b[1;33m)\u001b[0m\u001b[1;33m\u001b[0m\u001b[1;33m\u001b[0m\u001b[0m\n\u001b[0m\u001b[0;32m    916\u001b[0m \u001b[1;33m\u001b[0m\u001b[0m\n\u001b[0;32m    917\u001b[0m       \u001b[0mnew_tracing_count\u001b[0m \u001b[1;33m=\u001b[0m \u001b[0mself\u001b[0m\u001b[1;33m.\u001b[0m\u001b[0mexperimental_get_tracing_count\u001b[0m\u001b[1;33m(\u001b[0m\u001b[1;33m)\u001b[0m\u001b[1;33m\u001b[0m\u001b[1;33m\u001b[0m\u001b[0m\n",
      "\u001b[1;32m~\\anaconda3\\lib\\site-packages\\tensorflow\\python\\eager\\def_function.py\u001b[0m in \u001b[0;36m_call\u001b[1;34m(self, *args, **kwds)\u001b[0m\n\u001b[0;32m    945\u001b[0m       \u001b[1;31m# In this case we have created variables on the first call, so we run the\u001b[0m\u001b[1;33m\u001b[0m\u001b[1;33m\u001b[0m\u001b[0m\n\u001b[0;32m    946\u001b[0m       \u001b[1;31m# defunned version which is guaranteed to never create variables.\u001b[0m\u001b[1;33m\u001b[0m\u001b[1;33m\u001b[0m\u001b[0m\n\u001b[1;32m--> 947\u001b[1;33m       \u001b[1;32mreturn\u001b[0m \u001b[0mself\u001b[0m\u001b[1;33m.\u001b[0m\u001b[0m_stateless_fn\u001b[0m\u001b[1;33m(\u001b[0m\u001b[1;33m*\u001b[0m\u001b[0margs\u001b[0m\u001b[1;33m,\u001b[0m \u001b[1;33m**\u001b[0m\u001b[0mkwds\u001b[0m\u001b[1;33m)\u001b[0m  \u001b[1;31m# pylint: disable=not-callable\u001b[0m\u001b[1;33m\u001b[0m\u001b[1;33m\u001b[0m\u001b[0m\n\u001b[0m\u001b[0;32m    948\u001b[0m     \u001b[1;32melif\u001b[0m \u001b[0mself\u001b[0m\u001b[1;33m.\u001b[0m\u001b[0m_stateful_fn\u001b[0m \u001b[1;32mis\u001b[0m \u001b[1;32mnot\u001b[0m \u001b[1;32mNone\u001b[0m\u001b[1;33m:\u001b[0m\u001b[1;33m\u001b[0m\u001b[1;33m\u001b[0m\u001b[0m\n\u001b[0;32m    949\u001b[0m       \u001b[1;31m# Release the lock early so that multiple threads can perform the call\u001b[0m\u001b[1;33m\u001b[0m\u001b[1;33m\u001b[0m\u001b[0m\n",
      "\u001b[1;32m~\\anaconda3\\lib\\site-packages\\tensorflow\\python\\eager\\function.py\u001b[0m in \u001b[0;36m__call__\u001b[1;34m(self, *args, **kwargs)\u001b[0m\n\u001b[0;32m   2954\u001b[0m       (graph_function,\n\u001b[0;32m   2955\u001b[0m        filtered_flat_args) = self._maybe_define_function(args, kwargs)\n\u001b[1;32m-> 2956\u001b[1;33m     return graph_function._call_flat(\n\u001b[0m\u001b[0;32m   2957\u001b[0m         filtered_flat_args, captured_inputs=graph_function.captured_inputs)  # pylint: disable=protected-access\n\u001b[0;32m   2958\u001b[0m \u001b[1;33m\u001b[0m\u001b[0m\n",
      "\u001b[1;32m~\\anaconda3\\lib\\site-packages\\tensorflow\\python\\eager\\function.py\u001b[0m in \u001b[0;36m_call_flat\u001b[1;34m(self, args, captured_inputs, cancellation_manager)\u001b[0m\n\u001b[0;32m   1851\u001b[0m         and executing_eagerly):\n\u001b[0;32m   1852\u001b[0m       \u001b[1;31m# No tape is watching; skip to running the function.\u001b[0m\u001b[1;33m\u001b[0m\u001b[1;33m\u001b[0m\u001b[0m\n\u001b[1;32m-> 1853\u001b[1;33m       return self._build_call_outputs(self._inference_function.call(\n\u001b[0m\u001b[0;32m   1854\u001b[0m           ctx, args, cancellation_manager=cancellation_manager))\n\u001b[0;32m   1855\u001b[0m     forward_backward = self._select_forward_and_backward_functions(\n",
      "\u001b[1;32m~\\anaconda3\\lib\\site-packages\\tensorflow\\python\\eager\\function.py\u001b[0m in \u001b[0;36mcall\u001b[1;34m(self, ctx, args, cancellation_manager)\u001b[0m\n\u001b[0;32m    497\u001b[0m       \u001b[1;32mwith\u001b[0m \u001b[0m_InterpolateFunctionError\u001b[0m\u001b[1;33m(\u001b[0m\u001b[0mself\u001b[0m\u001b[1;33m)\u001b[0m\u001b[1;33m:\u001b[0m\u001b[1;33m\u001b[0m\u001b[1;33m\u001b[0m\u001b[0m\n\u001b[0;32m    498\u001b[0m         \u001b[1;32mif\u001b[0m \u001b[0mcancellation_manager\u001b[0m \u001b[1;32mis\u001b[0m \u001b[1;32mNone\u001b[0m\u001b[1;33m:\u001b[0m\u001b[1;33m\u001b[0m\u001b[1;33m\u001b[0m\u001b[0m\n\u001b[1;32m--> 499\u001b[1;33m           outputs = execute.execute(\n\u001b[0m\u001b[0;32m    500\u001b[0m               \u001b[0mstr\u001b[0m\u001b[1;33m(\u001b[0m\u001b[0mself\u001b[0m\u001b[1;33m.\u001b[0m\u001b[0msignature\u001b[0m\u001b[1;33m.\u001b[0m\u001b[0mname\u001b[0m\u001b[1;33m)\u001b[0m\u001b[1;33m,\u001b[0m\u001b[1;33m\u001b[0m\u001b[1;33m\u001b[0m\u001b[0m\n\u001b[0;32m    501\u001b[0m               \u001b[0mnum_outputs\u001b[0m\u001b[1;33m=\u001b[0m\u001b[0mself\u001b[0m\u001b[1;33m.\u001b[0m\u001b[0m_num_outputs\u001b[0m\u001b[1;33m,\u001b[0m\u001b[1;33m\u001b[0m\u001b[1;33m\u001b[0m\u001b[0m\n",
      "\u001b[1;32m~\\anaconda3\\lib\\site-packages\\tensorflow\\python\\eager\\execute.py\u001b[0m in \u001b[0;36mquick_execute\u001b[1;34m(op_name, num_outputs, inputs, attrs, ctx, name)\u001b[0m\n\u001b[0;32m     52\u001b[0m   \u001b[1;32mtry\u001b[0m\u001b[1;33m:\u001b[0m\u001b[1;33m\u001b[0m\u001b[1;33m\u001b[0m\u001b[0m\n\u001b[0;32m     53\u001b[0m     \u001b[0mctx\u001b[0m\u001b[1;33m.\u001b[0m\u001b[0mensure_initialized\u001b[0m\u001b[1;33m(\u001b[0m\u001b[1;33m)\u001b[0m\u001b[1;33m\u001b[0m\u001b[1;33m\u001b[0m\u001b[0m\n\u001b[1;32m---> 54\u001b[1;33m     tensors = pywrap_tfe.TFE_Py_Execute(ctx._handle, device_name, op_name,\n\u001b[0m\u001b[0;32m     55\u001b[0m                                         inputs, attrs, num_outputs)\n\u001b[0;32m     56\u001b[0m   \u001b[1;32mexcept\u001b[0m \u001b[0mcore\u001b[0m\u001b[1;33m.\u001b[0m\u001b[0m_NotOkStatusException\u001b[0m \u001b[1;32mas\u001b[0m \u001b[0me\u001b[0m\u001b[1;33m:\u001b[0m\u001b[1;33m\u001b[0m\u001b[1;33m\u001b[0m\u001b[0m\n",
      "\u001b[1;31mKeyboardInterrupt\u001b[0m: "
     ]
    }
   ],
   "source": [
    "#1h\n",
    "input_shape = X_train_reshaped.shape[1:]\n",
    "output_shape = len(np.unique(y_train))\n",
    "hidden_size = 64\n",
    "num_layers = 4\n",
    "dropout_rate = 0.1\n",
    "num_heads = 4\n",
    "\n",
    "# Capas de atención multi-cabeza y normalización de capas\n",
    "attention_layers = [MultiHeadAttention(num_heads=num_heads, key_dim=hidden_size) for _ in range(num_layers)]\n",
    "attention_norm_layers = [LayerNormalization() for _ in range(num_layers)]\n",
    "\n",
    "# lstm_layers = [Bidirectional(LSTM(hidden_size*2, return_sequences=True, input_shape=(X_train_reshaped.shape[1], X_train_reshaped.shape[2]))) for _ in range(num_layers)]\n",
    "# lstm_layers += [TimeDistributed(LSTM(input_shape[1])) for _ in range(num_layers)]\n",
    "# lstm_norm_layers = [LayerNormalization() for _ in range(num_layers)]\n",
    "\n",
    "# Capas feedforward y normalización de capas\n",
    "ffn_layers = [TimeDistributed(Dense(hidden_size * 4, activation='relu')) for _ in range(num_layers)]\n",
    "# ffn_layers += [TimeDistributed(Dense(hidden_size * 4, activation='relu')) for _ in range(num_layers)]\n",
    "ffn_layers += [TimeDistributed(Dense(input_shape[1])) for _ in range(num_layers)]\n",
    "ffn_norm_layers = [LayerNormalization() for _ in range(num_layers)]\n",
    "\n",
    "# Capa de entrada\n",
    "inputs = Input(shape=input_shape)\n",
    "# Capas de la red\n",
    "x = inputs\n",
    "for i in range(num_layers):\n",
    "    # Capas de atención multi-cabeza\n",
    "    attention = attention_layers[i](x, x)\n",
    "    x = attention_norm_layers[i](x + Dropout(dropout_rate)(attention))\n",
    "    \n",
    "#     ls = lstm_layers[i](x)\n",
    "#     ls = lstm_layers[i + num_layers](ls) \n",
    "#     print(x.shape)\n",
    "#     print(ls.shape)\n",
    "    \n",
    "#     x = lstm_norm_layers[i](x + Dropout(dropout_rate)(ls))\n",
    "\n",
    "    # Capas feedforward\n",
    "    ffn = ffn_layers[i](x)\n",
    "    ffn = ffn_layers[i + num_layers](ffn)  #i + num_layers xq ffn_layers tiene dos grupos, 2 grupos de 4(num_layers)\n",
    "    x = ffn_norm_layers[i](x + Dropout(dropout_rate)(ffn))\n",
    "\n",
    "# Capa de salida\n",
    "x = Bidirectional(LSTM(hidden_size, return_sequences=False))(x)\n",
    "outputs = Dense(output_shape, activation='softmax')(x)\n",
    "\n",
    "# Modelo\n",
    "model = Model(inputs=inputs, outputs=outputs)\n",
    "# Compilación del modelo\n",
    "model.compile(optimizer='adam', loss='sparse_categorical_crossentropy', metrics=[f1_score])\n",
    "\n",
    "# Entrenamiento del modelo\n",
    "history = model.fit(X_train_reshaped, y_train, batch_size=1024, epochs=9, validation_split=0.1)"
   ]
  },
  {
   "cell_type": "markdown",
   "metadata": {},
   "source": [
    "DNN"
   ]
  },
  {
   "cell_type": "code",
   "execution_count": null,
   "metadata": {
    "scrolled": true
   },
   "outputs": [
    {
     "name": "stdout",
     "output_type": "stream",
     "text": [
      "Epoch 1/30\n",
      "4500/4500 [==============================] - 31s 7ms/step - loss: 0.3815 - f1_score: 0.3426 - val_loss: 0.4688 - val_f1_score: 0.3541\n",
      "Epoch 2/30\n",
      "4500/4500 [==============================] - 38s 9ms/step - loss: 0.2369 - f1_score: 0.3540 - val_loss: 0.3318 - val_f1_score: 0.3514\n",
      "Epoch 3/30\n",
      "4500/4500 [==============================] - 38s 8ms/step - loss: 0.1910 - f1_score: 0.3560 - val_loss: 0.2301 - val_f1_score: 0.3577\n",
      "Epoch 4/30\n",
      "4500/4500 [==============================] - 38s 9ms/step - loss: 0.1623 - f1_score: 0.3568 - val_loss: 0.2558 - val_f1_score: 0.3574\n",
      "Epoch 5/30\n",
      "4500/4500 [==============================] - 38s 8ms/step - loss: 0.1426 - f1_score: 0.3573 - val_loss: 0.1909 - val_f1_score: 0.3593\n",
      "Epoch 6/30\n",
      "4500/4500 [==============================] - 38s 8ms/step - loss: 0.1294 - f1_score: 0.3577 - val_loss: 0.1792 - val_f1_score: 0.3595\n",
      "Epoch 7/30\n",
      "4500/4500 [==============================] - 39s 9ms/step - loss: 0.1157 - f1_score: 0.3582 - val_loss: 0.1196 - val_f1_score: 0.3591\n",
      "Epoch 8/30\n",
      "4500/4500 [==============================] - 39s 9ms/step - loss: 0.1074 - f1_score: 0.3581 - val_loss: 0.1073 - val_f1_score: 0.3604\n",
      "Epoch 9/30\n",
      "4500/4500 [==============================] - 39s 9ms/step - loss: 0.1004 - f1_score: 0.3583 - val_loss: 0.1488 - val_f1_score: 0.3607\n",
      "Epoch 10/30\n",
      "4500/4500 [==============================] - 39s 9ms/step - loss: 0.0940 - f1_score: 0.3585 - val_loss: 0.0967 - val_f1_score: 0.3607\n",
      "Epoch 11/30\n",
      "4500/4500 [==============================] - 38s 9ms/step - loss: 0.0882 - f1_score: 0.3586 - val_loss: 0.0960 - val_f1_score: 0.3610\n",
      "Epoch 12/30\n",
      "4500/4500 [==============================] - 39s 9ms/step - loss: 0.0838 - f1_score: 0.3587 - val_loss: 0.1129 - val_f1_score: 0.3604\n",
      "Epoch 13/30\n",
      "4500/4500 [==============================] - 39s 9ms/step - loss: 0.0799 - f1_score: 0.3587 - val_loss: 0.0884 - val_f1_score: 0.3611\n",
      "Epoch 14/30\n",
      "4500/4500 [==============================] - 39s 9ms/step - loss: 0.0785 - f1_score: 0.3587 - val_loss: 0.0933 - val_f1_score: 0.3610\n",
      "Epoch 15/30\n",
      "4500/4500 [==============================] - 37s 8ms/step - loss: 0.0732 - f1_score: 0.3588 - val_loss: 0.1554 - val_f1_score: 0.3607\n",
      "Epoch 16/30\n",
      "4500/4500 [==============================] - 39s 9ms/step - loss: 0.0718 - f1_score: 0.3587 - val_loss: 0.0605 - val_f1_score: 0.3613\n",
      "Epoch 17/30\n",
      "4500/4500 [==============================] - 39s 9ms/step - loss: 0.0698 - f1_score: 0.3589 - val_loss: 0.0757 - val_f1_score: 0.3613\n",
      "Epoch 18/30\n",
      "4500/4500 [==============================] - 38s 8ms/step - loss: 0.0660 - f1_score: 0.3590 - val_loss: 0.0947 - val_f1_score: 0.3612\n",
      "Epoch 19/30\n",
      "4500/4500 [==============================] - 37s 8ms/step - loss: 0.0663 - f1_score: 0.3589 - val_loss: 0.0683 - val_f1_score: 0.3610\n",
      "Epoch 20/30\n",
      "4500/4500 [==============================] - 39s 9ms/step - loss: 0.0617 - f1_score: 0.3590 - val_loss: 0.0610 - val_f1_score: 0.3614\n",
      "Epoch 21/30\n",
      "4500/4500 [==============================] - 39s 9ms/step - loss: 0.0599 - f1_score: 0.3591 - val_loss: 0.0507 - val_f1_score: 0.3610\n",
      "Epoch 22/30\n",
      "4500/4500 [==============================] - 39s 9ms/step - loss: 0.0599 - f1_score: 0.3591 - val_loss: 0.0575 - val_f1_score: 0.3611\n",
      "Epoch 23/30\n",
      "4500/4500 [==============================] - 38s 8ms/step - loss: 0.0579 - f1_score: 0.3592 - val_loss: 0.0542 - val_f1_score: 0.3615\n",
      "Epoch 24/30\n",
      "4500/4500 [==============================] - 39s 9ms/step - loss: 0.0563 - f1_score: 0.3593 - val_loss: 0.0559 - val_f1_score: 0.3612\n",
      "Epoch 25/30\n",
      "4500/4500 [==============================] - 34s 8ms/step - loss: 0.0542 - f1_score: 0.3591 - val_loss: 0.0731 - val_f1_score: 0.3615\n",
      "Epoch 26/30\n",
      "4500/4500 [==============================] - 36s 8ms/step - loss: 0.0547 - f1_score: 0.3591 - val_loss: 0.0901 - val_f1_score: 0.3611\n",
      "Epoch 27/30\n",
      "4500/4500 [==============================] - 36s 8ms/step - loss: 0.0514 - f1_score: 0.3592 - val_loss: 0.0593 - val_f1_score: 0.3614\n",
      "Epoch 28/30\n",
      "4500/4500 [==============================] - 35s 8ms/step - loss: 0.0523 - f1_score: 0.3591 - val_loss: 0.0618 - val_f1_score: 0.3612\n",
      "Epoch 29/30\n",
      "4500/4500 [==============================] - 36s 8ms/step - loss: 0.0503 - f1_score: 0.3592 - val_loss: 0.0403 - val_f1_score: 0.3616\n",
      "Epoch 30/30\n",
      "4500/4500 [==============================] - 35s 8ms/step - loss: 0.0496 - f1_score: 0.3591 - val_loss: 0.0549 - val_f1_score: 0.3615\n"
     ]
    }
   ],
   "source": [
    "model = keras.Sequential()\n",
    "model.add(layers.Dense(1024, activation='relu'))\n",
    "model.add(layers.Dropout(0.1))\n",
    "model.add(layers.Dense(512, activation='relu'))\n",
    "model.add(layers.Dropout(0.1))\n",
    "model.add(layers.Dense(256, activation='relu'))\n",
    "model.add(layers.Dropout(0.1))\n",
    "model.add(layers.Dense(128, activation='relu'))\n",
    "model.add(layers.Dropout(0.1))\n",
    "model.add(layers.Dense(64, activation='relu'))\n",
    "model.add(layers.Dropout(0.1))\n",
    "model.add(layers.Dense(32, activation='relu'))\n",
    "model.add(layers.Dense(5, activation='softmax'))\n",
    "\n",
    "model.compile(loss='sparse_categorical_crossentropy', optimizer='adam', metrics=[f1_score])\n",
    "history = model.fit(X_train, y_train, epochs=30, batch_size=32, validation_split=0.1)\n"
   ]
  },
  {
   "cell_type": "code",
   "execution_count": null,
   "metadata": {},
   "outputs": [
    {
     "name": "stdout",
     "output_type": "stream",
     "text": [
      "0    17725\n",
      "4     1683\n",
      "2     1654\n",
      "1      603\n",
      "3      227\n",
      "dtype: int64\n"
     ]
    },
    {
     "data": {
      "image/png": "[encoded data removed]",
      "text/plain": [
       "<Figure size 432x288 with 1 Axes>"
      ]
     },
     "metadata": {
      "needs_background": "light"
     },
     "output_type": "display_data"
    }
   ],
   "source": [
    "mypredictionDNN=plotResults(model,X_test)"
   ]
  },
  {
   "cell_type": "code",
   "execution_count": null,
   "metadata": {},
   "outputs": [],
   "source": [
    "solutions=pd.DataFrame({'ID':[i for i in range(21892)],'Pred_Class':+mypredictionDNN})\n",
    "solutions.to_csv('solutionDNN.csv', index=False)"
   ]
  },
  {
   "cell_type": "markdown",
   "metadata": {},
   "source": [
    "CNN transformer"
   ]
  },
  {
   "cell_type": "code",
   "execution_count": null,
   "metadata": {
    "scrolled": true
   },
   "outputs": [],
   "source": [
    "X_train_reshaped=np.reshape(X_train,[X_train.shape[0],X_train.shape[1],1])\n",
    "X_test_reshaped=np.reshape(X_test,[X_test.shape[0],X_test.shape[1],1])"
   ]
  },
  {
   "cell_type": "code",
   "execution_count": null,
   "metadata": {
    "scrolled": false
   },
   "outputs": [
    {
     "name": "stdout",
     "output_type": "stream",
     "text": [
      "Epoch 1/9\n",
      "42/42 [==============================] - 102s 2s/step - loss: 0.9297 - f1_score: 0.2484 - val_loss: 0.6174 - val_f1_score: 0.3634\n",
      "Epoch 2/9\n",
      "42/42 [==============================] - 96s 2s/step - loss: 0.4276 - f1_score: 0.3284 - val_loss: 0.2838 - val_f1_score: 0.3682\n",
      "Epoch 3/9\n",
      "42/42 [==============================] - 97s 2s/step - loss: 0.2861 - f1_score: 0.3395 - val_loss: 0.1582 - val_f1_score: 0.3753\n",
      "Epoch 4/9\n",
      "42/42 [==============================] - 97s 2s/step - loss: 0.2369 - f1_score: 0.3420 - val_loss: 0.2093 - val_f1_score: 0.3800\n",
      "Epoch 5/9\n",
      "42/42 [==============================] - 96s 2s/step - loss: 0.2052 - f1_score: 0.3441 - val_loss: 0.1613 - val_f1_score: 0.3765\n",
      "Epoch 6/9\n",
      "42/42 [==============================] - 96s 2s/step - loss: 0.1813 - f1_score: 0.3452 - val_loss: 0.1797 - val_f1_score: 0.3783\n",
      "Epoch 7/9\n",
      "42/42 [==============================] - 96s 2s/step - loss: 0.1580 - f1_score: 0.3463 - val_loss: 0.0625 - val_f1_score: 0.3780\n",
      "Epoch 8/9\n",
      "42/42 [==============================] - 97s 2s/step - loss: 0.1463 - f1_score: 0.3468 - val_loss: 0.0753 - val_f1_score: 0.3795\n",
      "Epoch 9/9\n",
      "42/42 [==============================] - 96s 2s/step - loss: 0.1312 - f1_score: 0.3472 - val_loss: 0.0995 - val_f1_score: 0.3787\n"
     ]
    }
   ],
   "source": [
    "#1h\n",
    "input_shape = X_train_reshaped.shape[1:]\n",
    "output_shape = len(np.unique(y_train))\n",
    "hidden_size = 64\n",
    "num_layers = 4\n",
    "dropout_rate = 0.1\n",
    "num_heads = 4\n",
    "\n",
    "attention_layers = [MultiHeadAttention(num_heads=num_heads, key_dim=hidden_size) for _ in range(num_layers)]\n",
    "attention_norm_layers = [LayerNormalization() for _ in range(num_layers)]\n",
    "\n",
    "ffn_layers = [TimeDistributed(Dense(hidden_size * 4, activation='relu')) for _ in range(num_layers)]\n",
    "ffn_layers += [TimeDistributed(Dense(hidden_size * 4, activation='relu')) for _ in range(num_layers)]\n",
    "ffn_layers += [TimeDistributed(Dense(input_shape[1])) for _ in range(num_layers)]\n",
    "ffn_norm_layers = [LayerNormalization() for _ in range(num_layers)]\n",
    "\n",
    "# Definir la forma de entrada\n",
    "inputs = Input(shape=input_shape)\n",
    "# Agregar capas convolucionales 1D\n",
    "conv1 = layers.Conv1D(32, 3, activation='relu')(inputs)\n",
    "conv1 = layers.MaxPooling1D(2)(conv1)\n",
    "conv2 = layers.Conv1D(64, 3, activation='relu')(conv1)\n",
    "conv2 = layers.MaxPooling1D(2)(conv2)\n",
    "conv3 = layers.Conv1D(128, 3, activation='relu')(conv2)\n",
    "conv3 = layers.MaxPooling1D(2)(conv3)\n",
    "x =  conv3\n",
    "for i in range(num_layers):\n",
    "    # Capas de atención multi-cabeza\n",
    "    attention = attention_layers[i](x, x)\n",
    "    x = attention_norm_layers[i](x + Dropout(dropout_rate)(attention))\n",
    "\n",
    "    # Capas feedforward\n",
    "    ffn = ffn_layers[i](x)\n",
    "    ffn = ffn_layers[i + num_layers](ffn)\n",
    "    ffn = ffn_layers[i + num_layers*2](ffn)\n",
    "    x = ffn_norm_layers[i](x + Dropout(dropout_rate)(ffn))\n",
    "\n",
    "\n",
    "# Agregar capas densas\n",
    "flatten = layers.Flatten()(x)\n",
    "dense1 = layers.Dense(256, activation='relu')(flatten)\n",
    "dense1=layers.Dropout(0.1)(dense1)\n",
    "dense2 = layers.Dense(128, activation='relu')(dense1)\n",
    "dense2=layers.Dropout(0.1)(dense2)\n",
    "dense3 = layers.Dense(64, activation='relu')(dense2)\n",
    "dense3=layers.Dropout(0.1)(dense3)\n",
    "dense4 = layers.Dense(32, activation='relu')(dense3)\n",
    "dense4=layers.Dropout(0.1)(dense4)\n",
    "# Capa de salida\n",
    "outputs = layers.Dense(5, activation='softmax')(dense4)\n",
    "\n",
    "# Crear modelo\n",
    "model =Model(inputs=inputs, outputs=outputs)\n",
    "\n",
    "model.compile(optimizer='adam', loss='sparse_categorical_crossentropy', metrics=[f1_score])\n",
    "\n",
    "# Entrenamiento del modelo\n",
    "history = model.fit(X_train_reshaped, y_train, batch_size=1024, epochs=9, validation_split=0.1)"
   ]
  },
  {
   "cell_type": "code",
   "execution_count": null,
   "metadata": {},
   "outputs": [],
   "source": [
    "inputs = Input(shape=input_shape)\n",
    "# Agregar capas convolucionales 1D\n",
    "conv1 = layers.Conv1D(32, 3, activation='relu')(inputs)\n",
    "conv1 = layers.MaxPooling1D(2)(conv1)\n",
    "conv2 = layers.Conv1D(64, 3, activation='relu')(conv1)\n",
    "conv2 = layers.MaxPooling1D(2)(conv2)\n",
    "conv3 = layers.Conv1D(128, 3, activation='relu')(conv2)\n",
    "conv3 = layers.MaxPooling1D(2)(conv3)\n",
    "# Agregar capa de atención\n",
    "attention = layers.MultiHeadAttention(num_heads=4, key_dim=64)(conv3, conv3)\n",
    "attention = layers.Dropout(0.1)(attention)\n",
    "attention = layers.LayerNormalization(epsilon=1e-6)(attention)\n",
    "\n",
    "# Agregar capas densas\n",
    "flatten = layers.Flatten()(attention)\n",
    "dense1 = layers.Dense(256, activation='relu')(flatten)\n",
    "dense1=layers.Dropout(0.1)(dense1)\n",
    "dense2 = layers.Dense(128, activation='relu')(dense1)\n",
    "dense2=layers.Dropout(0.1)(dense2)\n",
    "dense3 = layers.Dense(64, activation='relu')(dense2)\n",
    "dense3=layers.Dropout(0.1)(dense3)\n",
    "dense4 = layers.Dense(64, activation='relu')(dense3)\n",
    "dense4=layers.Dropout(0.1)(dense4)\n",
    "# Capa de salida\n",
    "outputs = layers.Dense(5, activation='softmax')(dense3)\n",
    "\n",
    "# Crear modelo\n",
    "model =Model(inputs=inputs, outputs=outputs)\n",
    "\n",
    "model.compile(optimizer='adam', loss='sparse_categorical_crossentropy', metrics=[f1_score])\n",
    "\n",
    "# Entrenamiento del modelo\n",
    "history = model.fit(X_train_reshaped, y_train, batch_size=1024, epochs=9, validation_split=0.1)"
   ]
  },
  {
   "cell_type": "markdown",
   "metadata": {},
   "source": [
    "SVM"
   ]
  },
  {
   "cell_type": "code",
   "execution_count": null,
   "metadata": {
    "scrolled": true
   },
   "outputs": [
    {
     "name": "stdout",
     "output_type": "stream",
     "text": [
      "Fitting 3 folds for each of 24 candidates, totalling 72 fits\n",
      "Mejores hiperparámetros: {'C': 10, 'degree': 4, 'kernel': 'poly'}\n",
      "Puntaje F1: 0.8358507547151555\n"
     ]
    }
   ],
   "source": [
    "svc = SVC(decision_function_shape='ovr')\n",
    "param_grid = {'C': [0.5, 1, 3,10],'degree': [2,4,5],'kernel':['poly','rbf']}\n",
    "scorer = make_scorer(f1, average='weighted')\n",
    "\n",
    "grid_search = GridSearchCV(\n",
    "    svc,\n",
    "    param_grid,\n",
    "    scoring=scorer,\n",
    "    cv=3,\n",
    "    verbose=1,\n",
    ")\n",
    "grid_search.fit(X_train, y_train)\n",
    "\n",
    "print(\"Mejores hiperparámetros:\", grid_search.best_params_)\n",
    "print(\"Puntaje F1:\", grid_search.best_score_)"
   ]
  },
  {
   "cell_type": "code",
   "execution_count": null,
   "metadata": {},
   "outputs": [
    {
     "data": {
      "text/html": [
       "<style>#sk-container-id-1 {color: black;background-color: white;}#sk-container-id-1 pre{padding: 0;}#sk-container-id-1 div.sk-toggleable {background-color: white;}#sk-container-id-1 label.sk-toggleable__label {cursor: pointer;display: block;width: 100%;margin-bottom: 0;padding: 0.3em;box-sizing: border-box;text-align: center;}#sk-container-id-1 label.sk-toggleable__label-arrow:before {content: \"▸\";float: left;margin-right: 0.25em;color: #696969;}#sk-container-id-1 label.sk-toggleable__label-arrow:hover:before {color: black;}#sk-container-id-1 div.sk-estimator:hover label.sk-toggleable__label-arrow:before {color: black;}#sk-container-id-1 div.sk-toggleable__content {max-height: 0;max-width: 0;overflow: hidden;text-align: left;background-color: #f0f8ff;}#sk-container-id-1 div.sk-toggleable__content pre {margin: 0.2em;color: black;border-radius: 0.25em;background-color: #f0f8ff;}#sk-container-id-1 input.sk-toggleable__control:checked~div.sk-toggleable__content {max-height: 200px;max-width: 100%;overflow: auto;}#sk-container-id-1 input.sk-toggleable__control:checked~label.sk-toggleable__label-arrow:before {content: \"▾\";}#sk-container-id-1 div.sk-estimator input.sk-toggleable__control:checked~label.sk-toggleable__label {background-color: #d4ebff;}#sk-container-id-1 div.sk-label input.sk-toggleable__control:checked~label.sk-toggleable__label {background-color: #d4ebff;}#sk-container-id-1 input.sk-hidden--visually {border: 0;clip: rect(1px 1px 1px 1px);clip: rect(1px, 1px, 1px, 1px);height: 1px;margin: -1px;overflow: hidden;padding: 0;position: absolute;width: 1px;}#sk-container-id-1 div.sk-estimator {font-family: monospace;background-color: #f0f8ff;border: 1px dotted black;border-radius: 0.25em;box-sizing: border-box;margin-bottom: 0.5em;}#sk-container-id-1 div.sk-estimator:hover {background-color: #d4ebff;}#sk-container-id-1 div.sk-parallel-item::after {content: \"\";width: 100%;border-bottom: 1px solid gray;flex-grow: 1;}#sk-container-id-1 div.sk-label:hover label.sk-toggleable__label {background-color: #d4ebff;}#sk-container-id-1 div.sk-serial::before {content: \"\";position: absolute;border-left: 1px solid gray;box-sizing: border-box;top: 0;bottom: 0;left: 50%;z-index: 0;}#sk-container-id-1 div.sk-serial {display: flex;flex-direction: column;align-items: center;background-color: white;padding-right: 0.2em;padding-left: 0.2em;position: relative;}#sk-container-id-1 div.sk-item {position: relative;z-index: 1;}#sk-container-id-1 div.sk-parallel {display: flex;align-items: stretch;justify-content: center;background-color: white;position: relative;}#sk-container-id-1 div.sk-item::before, #sk-container-id-1 div.sk-parallel-item::before {content: \"\";position: absolute;border-left: 1px solid gray;box-sizing: border-box;top: 0;bottom: 0;left: 50%;z-index: -1;}#sk-container-id-1 div.sk-parallel-item {display: flex;flex-direction: column;z-index: 1;position: relative;background-color: white;}#sk-container-id-1 div.sk-parallel-item:first-child::after {align-self: flex-end;width: 50%;}#sk-container-id-1 div.sk-parallel-item:last-child::after {align-self: flex-start;width: 50%;}#sk-container-id-1 div.sk-parallel-item:only-child::after {width: 0;}#sk-container-id-1 div.sk-dashed-wrapped {border: 1px dashed gray;margin: 0 0.4em 0.5em 0.4em;box-sizing: border-box;padding-bottom: 0.4em;background-color: white;}#sk-container-id-1 div.sk-label label {font-family: monospace;font-weight: bold;display: inline-block;line-height: 1.2em;}#sk-container-id-1 div.sk-label-container {text-align: center;}#sk-container-id-1 div.sk-container {/* jupyter's `normalize.less` sets `[hidden] { display: none; }` but bootstrap.min.css set `[hidden] { display: none !important; }` so we also need the `!important` here to be able to override the default hidden behavior on the sphinx rendered scikit-learn.org. See: https://github.com/scikit-learn/scikit-learn/issues/21755 */display: inline-block !important;position: relative;}#sk-container-id-1 div.sk-text-repr-fallback {display: none;}</style><div id=\"sk-container-id-1\" class=\"sk-top-container\"><div class=\"sk-text-repr-fallback\"><pre>SVC(C=4, degree=10, kernel=&#x27;poly&#x27;)</pre><b>In a Jupyter environment, please rerun this cell to show the HTML representation or trust the notebook. <br />On GitHub, the HTML representation is unable to render, please try loading this page with nbviewer.org.</b></div><div class=\"sk-container\" hidden><div class=\"sk-item\"><div class=\"sk-estimator sk-toggleable\"><input class=\"sk-toggleable__control sk-hidden--visually\" id=\"sk-estimator-id-1\" type=\"checkbox\" checked><label for=\"sk-estimator-id-1\" class=\"sk-toggleable__label sk-toggleable__label-arrow\">SVC</label><div class=\"sk-toggleable__content\"><pre>SVC(C=4, degree=10, kernel=&#x27;poly&#x27;)</pre></div></div></div></div></div>"
      ],
      "text/plain": [
       "SVC(C=4, degree=10, kernel='poly')"
      ]
     },
     "execution_count": 55,
     "metadata": {},
     "output_type": "execute_result"
    }
   ],
   "source": [
    "svc = SVC(decision_function_shape='ovr',kernel='poly',degree=10,C=4)\n",
    "svc.fit(X_train, y_train)"
   ]
  },
  {
   "cell_type": "code",
   "execution_count": null,
   "metadata": {},
   "outputs": [
    {
     "name": "stdout",
     "output_type": "stream",
     "text": [
      "0.0    18148\n",
      "4.0     1544\n",
      "2.0     1513\n",
      "1.0      483\n",
      "3.0      204\n",
      "dtype: int64\n"
     ]
    },
    {
     "data": {
      "image/png": "[encoded data removed]",
      "text/plain": [
       "<Figure size 432x288 with 1 Axes>"
      ]
     },
     "metadata": {
      "needs_background": "light"
     },
     "output_type": "display_data"
    }
   ],
   "source": [
    "# prediction = grid_search.best_estimator_.predict(X_test)\n",
    "myprediction=svc.predict(X_test)\n",
    "counts=pd.Series(myprediction).value_counts()\n",
    "unique_labels=pd.Series(myprediction).value_counts().index\n",
    "plt.bar(unique_labels,counts)\n",
    "print(pd.Series(myprediction).value_counts())"
   ]
  },
  {
   "cell_type": "code",
   "execution_count": null,
   "metadata": {
    "id": "ncxq4BhXJw-t"
   },
   "outputs": [],
   "source": [
    "ruta_modelo = \"/content/drive/My Drive/redes_neuronales/transformer.h5\"\n",
    "model.save(ruta_modelo)\n"
   ]
  },
  {
   "cell_type": "code",
   "execution_count": null,
   "metadata": {
    "id": "3WGlTuo-31WK"
   },
   "outputs": [],
   "source": [
    "ruta_archivo = '/content/drive/My Drive/redes_neuronales/RNNHalf.h5'\n",
    "model = load_model(ruta_archivo, custom_objects={\"f1_score\": f1_score })"
   ]
  },
  {
   "cell_type": "code",
   "execution_count": null,
   "metadata": {},
   "outputs": [
    {
     "data": {
      "text/plain": [
       "(21892, 187)"
      ]
     },
     "execution_count": 18,
     "metadata": {},
     "output_type": "execute_result"
    }
   ],
   "source": [
    "X_test.shape"
   ]
  },
  {
   "cell_type": "code",
   "execution_count": null,
   "metadata": {
    "colab": {
     "base_uri": "https://localhost:8080/",
     "height": 558
    },
    "id": "wyesl6umkHAO",
    "outputId": "b9c16b14-a9a7-4517-bb9b-719674bca596",
    "scrolled": true
   },
   "outputs": [
    {
     "name": "stdout",
     "output_type": "stream",
     "text": [
      "0    17916\n",
      "4     1644\n",
      "2     1570\n",
      "1      552\n",
      "3      210\n",
      "dtype: int64\n"
     ]
    },
    {
     "data": {
      "image/png": "[encoded data removed]",
      "text/plain": [
       "<Figure size 432x288 with 1 Axes>"
      ]
     },
     "metadata": {
      "needs_background": "light"
     },
     "output_type": "display_data"
    }
   ],
   "source": [
    "myprediction=plotResults(model,X_test_reshaped)"
   ]
  },
  {
   "cell_type": "code",
   "execution_count": null,
   "metadata": {
    "id": "CDPHO8DIfSzD"
   },
   "outputs": [],
   "source": [
    "solutions=pd.DataFrame({'ID':[i for i in range(21892)],'Pred_Class':+myprediction})\n",
    "solutions.to_csv('solution.csv', index=False)"
   ]
  },
  {
   "cell_type": "markdown",
   "metadata": {},
   "source": [
    "Ensambled"
   ]
  },
  {
   "cell_type": "code",
   "execution_count": null,
   "metadata": {},
   "outputs": [],
   "source": [
    "CNNnoise_pred = pd.read_csv('solutions88CNNnoise.csv')\n",
    "previous_pred= pd.read_csv('solutionCNN87noise13.csv')"
   ]
  },
  {
   "cell_type": "code",
   "execution_count": null,
   "metadata": {
    "scrolled": true
   },
   "outputs": [],
   "source": [
    "Allpredictions=[CNNnoise_pred.loc[:,'Pred_Class'].values,DNN_pred.loc[:,'Pred_Class'].values,previous_pred.loc[:,'Pred_Class'].values]\n",
    "my_final_prediction=mode(Allpredictions)"
   ]
  },
  {
   "cell_type": "code",
   "execution_count": null,
   "metadata": {},
   "outputs": [],
   "source": [
    "myprediction=list(my_final_prediction.values())\n",
    "index=list(my_final_prediction.keys())\n",
    "solutions=pd.DataFrame({'ID':index,'Pred_Class':myprediction})\n",
    "solutions.to_csv('solutions.csv', index=False)"
   ]
  },
  {
   "cell_type": "markdown",
   "metadata": {
    "id": "b5n3ys9szdJl"
   },
   "source": [
    "# 5. Save"
   ]
  },
  {
   "cell_type": "code",
   "execution_count": null,
   "metadata": {
    "id": "PEcuZgcizfKg"
   },
   "outputs": [],
   "source": [
    "performance=np.load('/content/drive/My Drive/redes_neuronales/resultadosModelos.npy',allow_pickle=True)\n",
    "performance=pd.DataFrame(performance)\n",
    "performance.columns=['model','train loss', 'test loss', 'train accuracy', 'test accuracy']\n",
    "\n",
    "performance = pd.concat([performance, new_row], ignore_index=True)\n",
    "performance"
   ]
  },
  {
   "cell_type": "code",
   "execution_count": null,
   "metadata": {
    "id": "2Ei3UvgDznKb"
   },
   "outputs": [],
   "source": [
    "# Definir la ruta y el nombre del archivo donde se guardará la matriz\n",
    "ruta_archivo = '/content/drive/My Drive/redes_neuronales/resultadosModelos.npy'\n",
    "\n",
    "# Guardar la matriz en el archivo .npy en la ruta especificada\n",
    "np.save(ruta_archivo, performance)"
   ]
  }
 ],
 "metadata": {
  "colab": {
   "provenance": [],
   "toc_visible": true
  },
  "kernelspec": {
   "display_name": "Python 3 (ipykernel)",
   "language": "python",
   "name": "python3"
  },
  "language_info": {
   "codemirror_mode": {
    "name": "ipython",
    "version": 3
   },
   "file_extension": ".py",
   "mimetype": "text/x-python",
   "name": "python",
   "nbconvert_exporter": "python",
   "pygments_lexer": "ipython3",
   "version": "3.11.7"
  }
 },
 "nbformat": 4,
 "nbformat_minor": 1
}
